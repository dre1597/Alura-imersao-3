{
  "nbformat": 4,
  "nbformat_minor": 0,
  "metadata": {
    "colab": {
      "name": "Alura - Imersão dados.ipynb",
      "provenance": [],
      "authorship_tag": "ABX9TyMBIo4PY/GnUjHJFi6DOx+2",
      "include_colab_link": true
    },
    "kernelspec": {
      "name": "python3",
      "display_name": "Python 3"
    },
    "language_info": {
      "name": "python"
    }
  },
  "cells": [
    {
      "cell_type": "markdown",
      "metadata": {
        "id": "view-in-github",
        "colab_type": "text"
      },
      "source": [
        "<a href=\"https://colab.research.google.com/github/dre1597/Alura-imersao-3/blob/main/Alura_Imers%C3%A3o_dados.ipynb\" target=\"_parent\"><img src=\"https://colab.research.google.com/assets/colab-badge.svg\" alt=\"Open In Colab\"/></a>"
      ]
    },
    {
      "cell_type": "markdown",
      "metadata": {
        "id": "B-ZD8ldK6DS4"
      },
      "source": [
        "##Imports"
      ]
    },
    {
      "cell_type": "code",
      "metadata": {
        "id": "rGFXv0Y5-zoX"
      },
      "source": [
        "import pandas as pd\n",
        "import matplotlib.pyplot as plt\n",
        "import seaborn as sns\n",
        "import numpy as np \n",
        "\n",
        "url_dados = 'https://github.com/alura-cursos/imersaodados3/blob/main/dados/dados_experimentos.zip?raw=true'\n",
        "dados = pd.read_csv(url_dados, compression = 'zip')\n",
        "dados_resultados = pd.read_csv('https://github.com/alura-cursos/imersaodados3/blob/main/dados/dados_resultados.csv?raw=true')"
      ],
      "execution_count": null,
      "outputs": []
    },
    {
      "cell_type": "code",
      "metadata": {
        "id": "kj4k8sQs76yb"
      },
      "source": [
        "contagem_moa = dados_resultados.drop('id', axis=1).sum().sort_values(ascending=False)\n",
        "dados_resultados.drop('id', axis=1).sum(axis=1)\n",
        "dados_resultados['n_moa'] = dados_resultados.drop('id', axis=1).sum(axis=1)\n",
        "dados_resultados['ativo_moa'] = (dados_resultados['n_moa'] != 0)\n",
        "dados_combinados = pd.merge(dados, dados_resultados[['id','n_moa', 'ativo_moa']], on='id')"
      ],
      "execution_count": null,
      "outputs": []
    },
    {
      "cell_type": "markdown",
      "metadata": {
        "id": "T9EGUdT121sY"
      },
      "source": [
        "#Aula 01"
      ]
    },
    {
      "cell_type": "markdown",
      "metadata": {
        "id": "44nvjkxQ3Bhw"
      },
      "source": [
        "##Leitura dos dados"
      ]
    },
    {
      "cell_type": "markdown",
      "metadata": {
        "id": "-vdepFtr-_C9"
      },
      "source": [
        "Utilizamos a biblioteca pandas para trabalhar com os dados, logo, devemos importa-la utilizando o comando abaixo"
      ]
    },
    {
      "cell_type": "code",
      "metadata": {
        "id": "ywSIaYfy_E_I"
      },
      "source": [
        "import pandas as pd"
      ],
      "execution_count": null,
      "outputs": []
    },
    {
      "cell_type": "markdown",
      "metadata": {
        "id": "BEyPHMAr_Gvy"
      },
      "source": [
        "Foi disponibilizado a URL de um zip com os dados, ele está no formato csv, utlizando o pandas podemos utilizar o comando abaixo para conseguirmos transformamos desse formato para um dataset do pandas\n",
        "\n",
        "Devemos lembrar de colocar o parâmetro adicional: comprission = 'zip', para descompactar"
      ]
    },
    {
      "cell_type": "code",
      "metadata": {
        "id": "9juD3hs-ZXRN"
      },
      "source": [
        "url_dados = 'https://github.com/alura-cursos/imersaodados3/blob/main/dados/dados_experimentos.zip?raw=true'\n",
        "dados = pd.read_csv(url_dados, compression = 'zip')\n",
        "\n",
        "dados"
      ],
      "execution_count": null,
      "outputs": []
    },
    {
      "cell_type": "markdown",
      "metadata": {
        "id": "QhwbtGa73Jye"
      },
      "source": [
        "###Pegando o ínicio do database"
      ]
    },
    {
      "cell_type": "markdown",
      "metadata": {
        "id": "pZ98RNWF_c8m"
      },
      "source": [
        "Como nossa base de dados é muito grande, para olharmos, por exemplo, só as colunas, podemos imprimir uma versão menor desse dataframe, apenas com os 5 primeiros itens: "
      ]
    },
    {
      "cell_type": "code",
      "metadata": {
        "id": "HTwH7l4IZkB9"
      },
      "source": [
        "dados.head()"
      ],
      "execution_count": null,
      "outputs": []
    },
    {
      "cell_type": "markdown",
      "metadata": {
        "id": "ydOFfnqD3Mi_"
      },
      "source": [
        "##Pegando o número de linhas e colunas"
      ]
    },
    {
      "cell_type": "markdown",
      "metadata": {
        "id": "F6WwrPmT_t8d"
      },
      "source": [
        "Para sabermos a \"forma\" do nosso dataset, ou seja, o número de linhas e colunas, utilizamos o comando abaixo: "
      ]
    },
    {
      "cell_type": "code",
      "metadata": {
        "colab": {
          "base_uri": "https://localhost:8080/"
        },
        "id": "UyeKmeWFcECN",
        "outputId": "b0cf45ad-bc63-47fa-9a42-7fd9a8cf723d"
      },
      "source": [
        "dados.shape"
      ],
      "execution_count": null,
      "outputs": [
        {
          "output_type": "execute_result",
          "data": {
            "text/plain": [
              "(23814, 877)"
            ]
          },
          "metadata": {
            "tags": []
          },
          "execution_count": 7
        }
      ]
    },
    {
      "cell_type": "markdown",
      "metadata": {
        "id": "v81KJm1L3QY3"
      },
      "source": [
        "##Selecionando as colunas"
      ]
    },
    {
      "cell_type": "markdown",
      "metadata": {
        "id": "m_sj2l0fAEpV"
      },
      "source": [
        "Para selecionarmos as colunas, podemos utilizar a famosa notação ponto (primeiro exemplo) ou podemos utilizar essa notação abaixo, que é parecida com a notação para listas(vetores, arrays)"
      ]
    },
    {
      "cell_type": "code",
      "metadata": {
        "colab": {
          "base_uri": "https://localhost:8080/"
        },
        "id": "BAOTlClKAGMY",
        "outputId": "b237f28a-e1fe-4f34-df95-d0516e3d95df"
      },
      "source": [
        "dados.tratamento"
      ],
      "execution_count": null,
      "outputs": [
        {
          "output_type": "execute_result",
          "data": {
            "text/plain": [
              "0           com_droga\n",
              "1           com_droga\n",
              "2           com_droga\n",
              "3           com_droga\n",
              "4           com_droga\n",
              "             ...     \n",
              "23809       com_droga\n",
              "23810       com_droga\n",
              "23811    com_controle\n",
              "23812       com_droga\n",
              "23813       com_droga\n",
              "Name: tratamento, Length: 23814, dtype: object"
            ]
          },
          "metadata": {
            "tags": []
          },
          "execution_count": 3
        }
      ]
    },
    {
      "cell_type": "code",
      "metadata": {
        "colab": {
          "base_uri": "https://localhost:8080/"
        },
        "id": "B0DayiOx2SEg",
        "outputId": "cdb27b41-4422-415b-ce17-6426826ac444"
      },
      "source": [
        "dados['tratamento']"
      ],
      "execution_count": null,
      "outputs": [
        {
          "output_type": "execute_result",
          "data": {
            "text/plain": [
              "0           com_droga\n",
              "1           com_droga\n",
              "2           com_droga\n",
              "3           com_droga\n",
              "4           com_droga\n",
              "             ...     \n",
              "23809       com_droga\n",
              "23810       com_droga\n",
              "23811    com_controle\n",
              "23812       com_droga\n",
              "23813       com_droga\n",
              "Name: tratamento, Length: 23814, dtype: object"
            ]
          },
          "metadata": {
            "tags": []
          },
          "execution_count": 4
        }
      ]
    },
    {
      "cell_type": "markdown",
      "metadata": {
        "id": "2iBE_NYJAaDH"
      },
      "source": [
        "## Valores únicos"
      ]
    },
    {
      "cell_type": "markdown",
      "metadata": {
        "id": "VpHSqTd0AnCA"
      },
      "source": [
        "Podemos verificar quais são os valores únicos de determinada coluna, utlizando o método unique()."
      ]
    },
    {
      "cell_type": "code",
      "metadata": {
        "colab": {
          "base_uri": "https://localhost:8080/"
        },
        "id": "vsBxyxFo2Wh4",
        "outputId": "63b81192-055d-4ea9-efaa-dc02616f8956"
      },
      "source": [
        "dados['tratamento'].unique()"
      ],
      "execution_count": null,
      "outputs": [
        {
          "output_type": "execute_result",
          "data": {
            "text/plain": [
              "array(['com_droga', 'com_controle'], dtype=object)"
            ]
          },
          "metadata": {
            "tags": []
          },
          "execution_count": 9
        }
      ]
    },
    {
      "cell_type": "markdown",
      "metadata": {
        "id": "DnK-qkRf3UEW"
      },
      "source": [
        "Detalhes: Com droga - sobre o efeito do que foi testado // Com Controle - o grupo de controle sem o efeito do que foi testado"
      ]
    },
    {
      "cell_type": "code",
      "metadata": {
        "colab": {
          "base_uri": "https://localhost:8080/"
        },
        "id": "tfZ6ilEN3rbk",
        "outputId": "b77538c4-b9e6-4fd7-aefe-8e93cc657a6f"
      },
      "source": [
        "dados['tempo'].unique()"
      ],
      "execution_count": null,
      "outputs": [
        {
          "output_type": "execute_result",
          "data": {
            "text/plain": [
              "array([24, 72, 48])"
            ]
          },
          "metadata": {
            "tags": []
          },
          "execution_count": 12
        }
      ]
    },
    {
      "cell_type": "markdown",
      "metadata": {
        "id": "mslv_xKg3ovM"
      },
      "source": [
        "Detalhes: Tempo dado em hrs"
      ]
    },
    {
      "cell_type": "code",
      "metadata": {
        "colab": {
          "base_uri": "https://localhost:8080/"
        },
        "id": "w7CsOvDR38aP",
        "outputId": "4d838eda-aebd-4c95-e436-92bbfd146df9"
      },
      "source": [
        "dados['dose'].unique()"
      ],
      "execution_count": null,
      "outputs": [
        {
          "output_type": "execute_result",
          "data": {
            "text/plain": [
              "array(['D1', 'D2'], dtype=object)"
            ]
          },
          "metadata": {
            "tags": []
          },
          "execution_count": 13
        }
      ]
    },
    {
      "cell_type": "markdown",
      "metadata": {
        "id": "jyLs68P44UJk"
      },
      "source": [
        "Detalhes: Duas doses diferentes D1 e D2\n",
        "\n",
        "\n"
      ]
    },
    {
      "cell_type": "code",
      "metadata": {
        "colab": {
          "base_uri": "https://localhost:8080/"
        },
        "id": "4C7P6T0y4Nuy",
        "outputId": "87078294-2629-4250-ccf4-508dd3557994"
      },
      "source": [
        "dados['droga'].unique()"
      ],
      "execution_count": null,
      "outputs": [
        {
          "output_type": "execute_result",
          "data": {
            "text/plain": [
              "array(['b68db1d53', 'df89a8e5a', '18bb41b2c', ..., '573c787a2',\n",
              "       'b2fe3eca7', 'dd4a96d16'], dtype=object)"
            ]
          },
          "metadata": {
            "tags": []
          },
          "execution_count": 14
        }
      ]
    },
    {
      "cell_type": "markdown",
      "metadata": {
        "id": "63Vli5cX4aYJ"
      },
      "source": [
        "Detalhes: Provavelmente o nome das drogas usadas ou algo do tipo ( criptografado )"
      ]
    },
    {
      "cell_type": "code",
      "metadata": {
        "colab": {
          "base_uri": "https://localhost:8080/"
        },
        "id": "cAYi0UGn4ZGM",
        "outputId": "87f76d57-6993-4f72-9fe6-51255ab6ef2d"
      },
      "source": [
        "dados['g-0'].unique()"
      ],
      "execution_count": null,
      "outputs": [
        {
          "output_type": "execute_result",
          "data": {
            "text/plain": [
              "array([ 1.062 ,  0.0743,  0.628 , ...,  0.3942,  0.666 , -0.8598])"
            ]
          },
          "metadata": {
            "tags": []
          },
          "execution_count": 15
        }
      ]
    },
    {
      "cell_type": "markdown",
      "metadata": {
        "id": "i2Dk9m1G6bFS"
      },
      "source": [
        "Detalhes: Provavelmente uma classificação para os genes identificados ou esperados ( normalizado ) "
      ]
    },
    {
      "cell_type": "markdown",
      "metadata": {
        "id": "ts2xbbKF6oZr"
      },
      "source": [
        "##Contando os valores"
      ]
    },
    {
      "cell_type": "markdown",
      "metadata": {
        "id": "z4VjVaD2At10"
      },
      "source": [
        "Para contar quantos desses valores únicos nós temos, podemos usar o método value_counts()"
      ]
    },
    {
      "cell_type": "code",
      "metadata": {
        "colab": {
          "base_uri": "https://localhost:8080/"
        },
        "id": "2iODQtXb6Viw",
        "outputId": "140c2a1e-a782-4735-c891-26d6afc1c6dd"
      },
      "source": [
        "dados['tratamento'].value_counts()"
      ],
      "execution_count": null,
      "outputs": [
        {
          "output_type": "execute_result",
          "data": {
            "text/plain": [
              "com_droga       21948\n",
              "com_controle     1866\n",
              "Name: tratamento, dtype: int64"
            ]
          },
          "metadata": {
            "tags": []
          },
          "execution_count": 16
        }
      ]
    },
    {
      "cell_type": "markdown",
      "metadata": {
        "id": "Oas2n_UPA5DU"
      },
      "source": [
        "Além disso, podemos passar um paramêtro nesse método para retornar os valores de forma normalizada, em vez de valores brutos."
      ]
    },
    {
      "cell_type": "code",
      "metadata": {
        "colab": {
          "base_uri": "https://localhost:8080/"
        },
        "id": "-S4e5Kx4Eo6q",
        "outputId": "e4924a05-efa9-406c-f46c-cd693958c0b7"
      },
      "source": [
        "dados['tratamento'].value_counts(normalize=True)"
      ],
      "execution_count": null,
      "outputs": [
        {
          "output_type": "execute_result",
          "data": {
            "text/plain": [
              "com_droga       0.921643\n",
              "com_controle    0.078357\n",
              "Name: tratamento, dtype: float64"
            ]
          },
          "metadata": {
            "tags": []
          },
          "execution_count": 32
        }
      ]
    },
    {
      "cell_type": "markdown",
      "metadata": {
        "id": "eywsiTVk8Bms"
      },
      "source": [
        "##Gráficos"
      ]
    },
    {
      "cell_type": "markdown",
      "metadata": {
        "id": "CYWr6485CQzp"
      },
      "source": [
        "Para um simples gráfico de pizza."
      ]
    },
    {
      "cell_type": "code",
      "metadata": {
        "id": "lHOy1h6SEvAH"
      },
      "source": [
        "dados['tratamento'].value_counts().plot.pie()"
      ],
      "execution_count": null,
      "outputs": []
    },
    {
      "cell_type": "markdown",
      "metadata": {
        "id": "nWLAVRJLCTV3"
      },
      "source": [
        "Para um simples gráfico de barras"
      ]
    },
    {
      "cell_type": "code",
      "metadata": {
        "id": "5t6f67GKFIY3"
      },
      "source": [
        "dados['tratamento'].value_counts().plot.bar()"
      ],
      "execution_count": null,
      "outputs": []
    },
    {
      "cell_type": "code",
      "metadata": {
        "id": "IehWfqmzFNt2"
      },
      "source": [
        "dados['tempo'].value_counts().plot.bar()"
      ],
      "execution_count": null,
      "outputs": []
    },
    {
      "cell_type": "markdown",
      "metadata": {
        "id": "zfQza3SCCWL-"
      },
      "source": [
        "Utilizando um filtro básico"
      ]
    },
    {
      "cell_type": "code",
      "metadata": {
        "id": "JHf1z7BdF6Ef"
      },
      "source": [
        "dados_filtrados = dados[dados['g-0'] > 0]\n",
        "dados_filtrados.head()"
      ],
      "execution_count": null,
      "outputs": []
    },
    {
      "cell_type": "markdown",
      "metadata": {
        "id": "fipJM8oT8-5r"
      },
      "source": [
        "#Desafios Aula 01"
      ]
    },
    {
      "cell_type": "markdown",
      "metadata": {
        "id": "IRTdfIen7Kp5"
      },
      "source": [
        "Documentação do pandas: \n",
        "https://pandas.pydata.org/docs/reference/index.html#api\n",
        "\n",
        "Documentação do matplotlib:\n",
        "https://matplotlib.org/stable/api/_as_gen/matplotlib.pyplot.html"
      ]
    },
    {
      "cell_type": "markdown",
      "metadata": {
        "id": "UuAW1Jk4do7_"
      },
      "source": [
        "##Desafio 01: Investigar por que a classe tratamento é tão desbalanceada"
      ]
    },
    {
      "cell_type": "markdown",
      "metadata": {
        "id": "ROaBA9AXCwqP"
      },
      "source": [
        "Pela coluna tratamento conseguimos verificar que aparentemente temos 2 tipos de valores: com_droga e com_controle"
      ]
    },
    {
      "cell_type": "code",
      "metadata": {
        "id": "193sNzCFpOkQ"
      },
      "source": [
        "dados['tratamento']"
      ],
      "execution_count": null,
      "outputs": []
    },
    {
      "cell_type": "markdown",
      "metadata": {
        "id": "S5A8KXfSC3sm"
      },
      "source": [
        "Podemos confirmar se são apenas 2 mesmo, utilizando o método unique()"
      ]
    },
    {
      "cell_type": "code",
      "metadata": {
        "id": "GBLuoHJspPu2"
      },
      "source": [
        "dados['tratamento'].unique()"
      ],
      "execution_count": null,
      "outputs": []
    },
    {
      "cell_type": "markdown",
      "metadata": {
        "id": "SeFuZvaMC8rh"
      },
      "source": [
        "Confirmado que são penas 2 valores, vamos entender o que eles significam: \n",
        "\n",
        "Em boa parte dos experimentos cientificos, se não todos, temos um grupo chamado \"grupo de controle\", que seria o grupo que está nas mesmas condições que os outros, com exceção do que queremos medir.\n",
        "\n",
        "No nosso caso, temos os grupos que receberam os compostos e um grupo que não recebeu composto algum, sendo esse grup, o grupo de controle, onde teremos um comparativo do que seria o fluxo natural se não tivessemos utilizando nenhum composto."
      ]
    },
    {
      "cell_type": "markdown",
      "metadata": {
        "id": "7-HRme-aDxLe"
      },
      "source": [
        "Além disso, percebemos pelos valores brutos, que há uma diferença enorme entre a quantidade de linhas que contém o valor 'com_droga' e a quantidade de linhas que contém o valor 'com_controle'."
      ]
    },
    {
      "cell_type": "code",
      "metadata": {
        "id": "z9QHqRd0pRQH"
      },
      "source": [
        "dados['tratamento'].value_counts()"
      ],
      "execution_count": null,
      "outputs": []
    },
    {
      "cell_type": "markdown",
      "metadata": {
        "id": "7BlbG7v9Eqoj"
      },
      "source": [
        "Podemos ver essa diferença gráficamente também."
      ]
    },
    {
      "cell_type": "code",
      "metadata": {
        "id": "qXeGbvLy9KqM"
      },
      "source": [
        "import matplotlib.pyplot as plt\n",
        "\n",
        "plt.bar(dados['tratamento'].unique(), list(dados['tratamento'].value_counts()))\n",
        "plt.title('Tipos de tratamento utilizados')\n",
        "plt.ylabel('Número de observações')\n",
        "plt.xlabel('Tratamentos')\n",
        "plt.show()\n"
      ],
      "execution_count": null,
      "outputs": []
    },
    {
      "cell_type": "markdown",
      "metadata": {
        "id": "56bNXg-fEBre"
      },
      "source": [
        "Normalizando essa contagem, chegamos a 92.2% de tratamentos com drogas e 0.08% no grupo de controle."
      ]
    },
    {
      "cell_type": "code",
      "metadata": {
        "id": "xQkkF8xdJLh5",
        "colab": {
          "base_uri": "https://localhost:8080/"
        },
        "outputId": "e38617e9-d3db-4e8a-d75e-ed8b9add2ca9"
      },
      "source": [
        "dados['tratamento'].value_counts(normalize=True)"
      ],
      "execution_count": null,
      "outputs": [
        {
          "output_type": "execute_result",
          "data": {
            "text/plain": [
              "com_droga       0.921643\n",
              "com_controle    0.078357\n",
              "Name: tratamento, dtype: float64"
            ]
          },
          "metadata": {
            "tags": []
          },
          "execution_count": 13
        }
      ]
    },
    {
      "cell_type": "markdown",
      "metadata": {
        "id": "Q5hXqgUhE0KW"
      },
      "source": [
        "Vamos dividir nosso olhar, apenas par os tratamentos com o valor 'com_controle'"
      ]
    },
    {
      "cell_type": "code",
      "metadata": {
        "colab": {
          "base_uri": "https://localhost:8080/",
          "height": 439
        },
        "id": "VDGU7dkdKAUG",
        "outputId": "861be23d-b682-4170-9038-347f1c1dc975"
      },
      "source": [
        "tratamento_com_controle = dados.query('tratamento == \"com_controle\"')\n",
        "tratamento_com_controle"
      ],
      "execution_count": null,
      "outputs": [
        {
          "output_type": "execute_result",
          "data": {
            "text/html": [
              "<div>\n",
              "<style scoped>\n",
              "    .dataframe tbody tr th:only-of-type {\n",
              "        vertical-align: middle;\n",
              "    }\n",
              "\n",
              "    .dataframe tbody tr th {\n",
              "        vertical-align: top;\n",
              "    }\n",
              "\n",
              "    .dataframe thead th {\n",
              "        text-align: right;\n",
              "    }\n",
              "</style>\n",
              "<table border=\"1\" class=\"dataframe\">\n",
              "  <thead>\n",
              "    <tr style=\"text-align: right;\">\n",
              "      <th></th>\n",
              "      <th>id</th>\n",
              "      <th>tratamento</th>\n",
              "      <th>tempo</th>\n",
              "      <th>dose</th>\n",
              "      <th>droga</th>\n",
              "      <th>g-0</th>\n",
              "      <th>g-1</th>\n",
              "      <th>g-2</th>\n",
              "      <th>g-3</th>\n",
              "      <th>g-4</th>\n",
              "      <th>g-5</th>\n",
              "      <th>g-6</th>\n",
              "      <th>g-7</th>\n",
              "      <th>g-8</th>\n",
              "      <th>g-9</th>\n",
              "      <th>g-10</th>\n",
              "      <th>g-11</th>\n",
              "      <th>g-12</th>\n",
              "      <th>g-13</th>\n",
              "      <th>g-14</th>\n",
              "      <th>g-15</th>\n",
              "      <th>g-16</th>\n",
              "      <th>g-17</th>\n",
              "      <th>g-18</th>\n",
              "      <th>g-19</th>\n",
              "      <th>g-20</th>\n",
              "      <th>g-21</th>\n",
              "      <th>g-22</th>\n",
              "      <th>g-23</th>\n",
              "      <th>g-24</th>\n",
              "      <th>g-25</th>\n",
              "      <th>g-26</th>\n",
              "      <th>g-27</th>\n",
              "      <th>g-28</th>\n",
              "      <th>g-29</th>\n",
              "      <th>g-30</th>\n",
              "      <th>g-31</th>\n",
              "      <th>g-32</th>\n",
              "      <th>g-33</th>\n",
              "      <th>g-34</th>\n",
              "      <th>...</th>\n",
              "      <th>c-60</th>\n",
              "      <th>c-61</th>\n",
              "      <th>c-62</th>\n",
              "      <th>c-63</th>\n",
              "      <th>c-64</th>\n",
              "      <th>c-65</th>\n",
              "      <th>c-66</th>\n",
              "      <th>c-67</th>\n",
              "      <th>c-68</th>\n",
              "      <th>c-69</th>\n",
              "      <th>c-70</th>\n",
              "      <th>c-71</th>\n",
              "      <th>c-72</th>\n",
              "      <th>c-73</th>\n",
              "      <th>c-74</th>\n",
              "      <th>c-75</th>\n",
              "      <th>c-76</th>\n",
              "      <th>c-77</th>\n",
              "      <th>c-78</th>\n",
              "      <th>c-79</th>\n",
              "      <th>c-80</th>\n",
              "      <th>c-81</th>\n",
              "      <th>c-82</th>\n",
              "      <th>c-83</th>\n",
              "      <th>c-84</th>\n",
              "      <th>c-85</th>\n",
              "      <th>c-86</th>\n",
              "      <th>c-87</th>\n",
              "      <th>c-88</th>\n",
              "      <th>c-89</th>\n",
              "      <th>c-90</th>\n",
              "      <th>c-91</th>\n",
              "      <th>c-92</th>\n",
              "      <th>c-93</th>\n",
              "      <th>c-94</th>\n",
              "      <th>c-95</th>\n",
              "      <th>c-96</th>\n",
              "      <th>c-97</th>\n",
              "      <th>c-98</th>\n",
              "      <th>c-99</th>\n",
              "    </tr>\n",
              "  </thead>\n",
              "  <tbody>\n",
              "    <tr>\n",
              "      <th>25</th>\n",
              "      <td>id_0054388ec</td>\n",
              "      <td>com_controle</td>\n",
              "      <td>48</td>\n",
              "      <td>D1</td>\n",
              "      <td>cacb2b860</td>\n",
              "      <td>-0.6696</td>\n",
              "      <td>-0.2718</td>\n",
              "      <td>-1.2230</td>\n",
              "      <td>-0.6226</td>\n",
              "      <td>-0.7220</td>\n",
              "      <td>0.1588</td>\n",
              "      <td>0.7785</td>\n",
              "      <td>0.7062</td>\n",
              "      <td>-0.7951</td>\n",
              "      <td>1.3770</td>\n",
              "      <td>0.2856</td>\n",
              "      <td>-0.8331</td>\n",
              "      <td>0.3879</td>\n",
              "      <td>1.3290</td>\n",
              "      <td>-0.4746</td>\n",
              "      <td>0.0857</td>\n",
              "      <td>-0.2745</td>\n",
              "      <td>-0.1093</td>\n",
              "      <td>0.2603</td>\n",
              "      <td>0.7386</td>\n",
              "      <td>-0.6665</td>\n",
              "      <td>-1.6520</td>\n",
              "      <td>-0.9262</td>\n",
              "      <td>0.0000</td>\n",
              "      <td>1.6310</td>\n",
              "      <td>-0.2933</td>\n",
              "      <td>0.2043</td>\n",
              "      <td>-2.2070</td>\n",
              "      <td>0.1383</td>\n",
              "      <td>-0.4966</td>\n",
              "      <td>0.6922</td>\n",
              "      <td>-0.4077</td>\n",
              "      <td>0.2303</td>\n",
              "      <td>-0.0456</td>\n",
              "      <td>-0.7447</td>\n",
              "      <td>...</td>\n",
              "      <td>0.6976</td>\n",
              "      <td>-0.0178</td>\n",
              "      <td>0.3768</td>\n",
              "      <td>0.4318</td>\n",
              "      <td>-0.1051</td>\n",
              "      <td>0.3933</td>\n",
              "      <td>-0.3189</td>\n",
              "      <td>0.4128</td>\n",
              "      <td>-0.2116</td>\n",
              "      <td>-1.0410</td>\n",
              "      <td>0.7798</td>\n",
              "      <td>0.1579</td>\n",
              "      <td>1.7250</td>\n",
              "      <td>1.4490</td>\n",
              "      <td>0.9117</td>\n",
              "      <td>-0.0754</td>\n",
              "      <td>-0.8396</td>\n",
              "      <td>0.7640</td>\n",
              "      <td>1.2080</td>\n",
              "      <td>1.1890</td>\n",
              "      <td>0.2114</td>\n",
              "      <td>0.6335</td>\n",
              "      <td>0.3265</td>\n",
              "      <td>-0.1056</td>\n",
              "      <td>0.5478</td>\n",
              "      <td>0.7477</td>\n",
              "      <td>1.2340</td>\n",
              "      <td>0.5035</td>\n",
              "      <td>-0.6591</td>\n",
              "      <td>0.3023</td>\n",
              "      <td>0.6171</td>\n",
              "      <td>0.6405</td>\n",
              "      <td>0.5429</td>\n",
              "      <td>0.3562</td>\n",
              "      <td>1.3290</td>\n",
              "      <td>0.5573</td>\n",
              "      <td>0.8837</td>\n",
              "      <td>0.5534</td>\n",
              "      <td>0.8976</td>\n",
              "      <td>1.0050</td>\n",
              "    </tr>\n",
              "    <tr>\n",
              "      <th>38</th>\n",
              "      <td>id_0079af0fb</td>\n",
              "      <td>com_controle</td>\n",
              "      <td>24</td>\n",
              "      <td>D1</td>\n",
              "      <td>cacb2b860</td>\n",
              "      <td>-0.1636</td>\n",
              "      <td>-1.8230</td>\n",
              "      <td>-0.5211</td>\n",
              "      <td>0.3054</td>\n",
              "      <td>-1.1280</td>\n",
              "      <td>0.6041</td>\n",
              "      <td>0.3856</td>\n",
              "      <td>-0.1670</td>\n",
              "      <td>-0.5400</td>\n",
              "      <td>0.2721</td>\n",
              "      <td>-0.2479</td>\n",
              "      <td>0.0761</td>\n",
              "      <td>-0.4054</td>\n",
              "      <td>2.9760</td>\n",
              "      <td>-0.7679</td>\n",
              "      <td>0.6995</td>\n",
              "      <td>0.0752</td>\n",
              "      <td>0.5943</td>\n",
              "      <td>0.4266</td>\n",
              "      <td>0.0000</td>\n",
              "      <td>1.0410</td>\n",
              "      <td>-0.1131</td>\n",
              "      <td>0.6593</td>\n",
              "      <td>-0.6890</td>\n",
              "      <td>0.5115</td>\n",
              "      <td>-0.2512</td>\n",
              "      <td>-0.8775</td>\n",
              "      <td>-1.3810</td>\n",
              "      <td>0.1419</td>\n",
              "      <td>-0.0363</td>\n",
              "      <td>0.2559</td>\n",
              "      <td>2.5290</td>\n",
              "      <td>0.2853</td>\n",
              "      <td>1.4690</td>\n",
              "      <td>-0.3626</td>\n",
              "      <td>...</td>\n",
              "      <td>-0.3420</td>\n",
              "      <td>0.2815</td>\n",
              "      <td>-0.7493</td>\n",
              "      <td>-0.2701</td>\n",
              "      <td>0.1205</td>\n",
              "      <td>0.2396</td>\n",
              "      <td>0.3506</td>\n",
              "      <td>-0.9233</td>\n",
              "      <td>0.2490</td>\n",
              "      <td>-0.0824</td>\n",
              "      <td>0.4841</td>\n",
              "      <td>1.1940</td>\n",
              "      <td>-1.1650</td>\n",
              "      <td>-0.4853</td>\n",
              "      <td>1.1080</td>\n",
              "      <td>-0.5979</td>\n",
              "      <td>0.7438</td>\n",
              "      <td>0.2050</td>\n",
              "      <td>-0.2761</td>\n",
              "      <td>-0.1748</td>\n",
              "      <td>0.3385</td>\n",
              "      <td>-0.3500</td>\n",
              "      <td>-0.0309</td>\n",
              "      <td>-0.0409</td>\n",
              "      <td>-0.0735</td>\n",
              "      <td>0.2732</td>\n",
              "      <td>-1.2100</td>\n",
              "      <td>0.0089</td>\n",
              "      <td>0.0317</td>\n",
              "      <td>0.4721</td>\n",
              "      <td>-0.3880</td>\n",
              "      <td>-0.6828</td>\n",
              "      <td>-0.6594</td>\n",
              "      <td>-0.2043</td>\n",
              "      <td>0.3571</td>\n",
              "      <td>-0.1319</td>\n",
              "      <td>0.2187</td>\n",
              "      <td>0.0737</td>\n",
              "      <td>0.6498</td>\n",
              "      <td>-1.4820</td>\n",
              "    </tr>\n",
              "    <tr>\n",
              "      <th>40</th>\n",
              "      <td>id_007bfbb91</td>\n",
              "      <td>com_controle</td>\n",
              "      <td>24</td>\n",
              "      <td>D2</td>\n",
              "      <td>cacb2b860</td>\n",
              "      <td>-1.3200</td>\n",
              "      <td>-1.7340</td>\n",
              "      <td>-0.0741</td>\n",
              "      <td>1.5440</td>\n",
              "      <td>-1.8290</td>\n",
              "      <td>-0.0951</td>\n",
              "      <td>0.3829</td>\n",
              "      <td>-1.8700</td>\n",
              "      <td>-0.0324</td>\n",
              "      <td>2.7670</td>\n",
              "      <td>-0.0438</td>\n",
              "      <td>-0.0147</td>\n",
              "      <td>0.1276</td>\n",
              "      <td>0.2968</td>\n",
              "      <td>-0.0704</td>\n",
              "      <td>-0.3767</td>\n",
              "      <td>2.5790</td>\n",
              "      <td>0.4069</td>\n",
              "      <td>-0.3868</td>\n",
              "      <td>-0.2782</td>\n",
              "      <td>1.8180</td>\n",
              "      <td>-2.9390</td>\n",
              "      <td>-0.1150</td>\n",
              "      <td>-0.8009</td>\n",
              "      <td>-1.4440</td>\n",
              "      <td>0.5412</td>\n",
              "      <td>-0.0804</td>\n",
              "      <td>-0.4444</td>\n",
              "      <td>2.9230</td>\n",
              "      <td>2.8270</td>\n",
              "      <td>-0.3437</td>\n",
              "      <td>1.6570</td>\n",
              "      <td>-1.9200</td>\n",
              "      <td>0.3442</td>\n",
              "      <td>1.7160</td>\n",
              "      <td>...</td>\n",
              "      <td>0.4009</td>\n",
              "      <td>0.7649</td>\n",
              "      <td>0.2789</td>\n",
              "      <td>0.4465</td>\n",
              "      <td>0.9492</td>\n",
              "      <td>0.6385</td>\n",
              "      <td>1.5510</td>\n",
              "      <td>-0.1220</td>\n",
              "      <td>0.6688</td>\n",
              "      <td>0.4396</td>\n",
              "      <td>0.6947</td>\n",
              "      <td>0.9761</td>\n",
              "      <td>1.2430</td>\n",
              "      <td>1.4770</td>\n",
              "      <td>-0.0081</td>\n",
              "      <td>1.0040</td>\n",
              "      <td>1.4420</td>\n",
              "      <td>-0.3482</td>\n",
              "      <td>0.3297</td>\n",
              "      <td>1.2070</td>\n",
              "      <td>0.0524</td>\n",
              "      <td>0.5346</td>\n",
              "      <td>0.7643</td>\n",
              "      <td>0.4067</td>\n",
              "      <td>0.3817</td>\n",
              "      <td>0.4566</td>\n",
              "      <td>0.7736</td>\n",
              "      <td>0.5316</td>\n",
              "      <td>0.2790</td>\n",
              "      <td>0.9735</td>\n",
              "      <td>0.7412</td>\n",
              "      <td>1.0340</td>\n",
              "      <td>0.7393</td>\n",
              "      <td>1.1020</td>\n",
              "      <td>0.3786</td>\n",
              "      <td>0.2636</td>\n",
              "      <td>-0.5751</td>\n",
              "      <td>0.3362</td>\n",
              "      <td>0.8543</td>\n",
              "      <td>0.9180</td>\n",
              "    </tr>\n",
              "    <tr>\n",
              "      <th>47</th>\n",
              "      <td>id_008a986b7</td>\n",
              "      <td>com_controle</td>\n",
              "      <td>48</td>\n",
              "      <td>D2</td>\n",
              "      <td>cacb2b860</td>\n",
              "      <td>0.4860</td>\n",
              "      <td>0.1430</td>\n",
              "      <td>0.5281</td>\n",
              "      <td>-0.0022</td>\n",
              "      <td>-0.2334</td>\n",
              "      <td>-0.6607</td>\n",
              "      <td>0.6459</td>\n",
              "      <td>-0.0109</td>\n",
              "      <td>1.0120</td>\n",
              "      <td>-0.0864</td>\n",
              "      <td>-0.3817</td>\n",
              "      <td>-1.0600</td>\n",
              "      <td>0.9435</td>\n",
              "      <td>0.6296</td>\n",
              "      <td>0.3864</td>\n",
              "      <td>0.1420</td>\n",
              "      <td>0.9834</td>\n",
              "      <td>0.4189</td>\n",
              "      <td>0.7980</td>\n",
              "      <td>-0.2132</td>\n",
              "      <td>0.7651</td>\n",
              "      <td>-1.2410</td>\n",
              "      <td>0.0747</td>\n",
              "      <td>-1.5750</td>\n",
              "      <td>0.1535</td>\n",
              "      <td>-0.0840</td>\n",
              "      <td>0.6705</td>\n",
              "      <td>-0.7517</td>\n",
              "      <td>-0.2756</td>\n",
              "      <td>-1.0920</td>\n",
              "      <td>-0.8683</td>\n",
              "      <td>0.3021</td>\n",
              "      <td>-0.3164</td>\n",
              "      <td>-0.2074</td>\n",
              "      <td>0.4587</td>\n",
              "      <td>...</td>\n",
              "      <td>-0.2189</td>\n",
              "      <td>-0.5262</td>\n",
              "      <td>-0.2982</td>\n",
              "      <td>-0.2491</td>\n",
              "      <td>-0.6373</td>\n",
              "      <td>-1.0040</td>\n",
              "      <td>-0.6726</td>\n",
              "      <td>-0.0321</td>\n",
              "      <td>-0.5398</td>\n",
              "      <td>-0.7518</td>\n",
              "      <td>0.0370</td>\n",
              "      <td>0.7213</td>\n",
              "      <td>-0.3466</td>\n",
              "      <td>0.2354</td>\n",
              "      <td>-0.4432</td>\n",
              "      <td>-0.1020</td>\n",
              "      <td>-0.9391</td>\n",
              "      <td>-1.1970</td>\n",
              "      <td>0.1365</td>\n",
              "      <td>-0.9264</td>\n",
              "      <td>0.5828</td>\n",
              "      <td>-0.7379</td>\n",
              "      <td>-0.4354</td>\n",
              "      <td>0.6077</td>\n",
              "      <td>-0.3771</td>\n",
              "      <td>-0.6525</td>\n",
              "      <td>-0.4169</td>\n",
              "      <td>-1.0640</td>\n",
              "      <td>-0.3331</td>\n",
              "      <td>-0.5761</td>\n",
              "      <td>-0.3085</td>\n",
              "      <td>-0.1866</td>\n",
              "      <td>0.7629</td>\n",
              "      <td>0.3288</td>\n",
              "      <td>-0.9915</td>\n",
              "      <td>-0.3694</td>\n",
              "      <td>-0.4979</td>\n",
              "      <td>0.5281</td>\n",
              "      <td>-0.9245</td>\n",
              "      <td>-0.9367</td>\n",
              "    </tr>\n",
              "    <tr>\n",
              "      <th>63</th>\n",
              "      <td>id_009d8340f</td>\n",
              "      <td>com_controle</td>\n",
              "      <td>24</td>\n",
              "      <td>D2</td>\n",
              "      <td>cacb2b860</td>\n",
              "      <td>0.4471</td>\n",
              "      <td>-0.0839</td>\n",
              "      <td>-0.3864</td>\n",
              "      <td>0.3196</td>\n",
              "      <td>0.2584</td>\n",
              "      <td>-0.3156</td>\n",
              "      <td>-0.1187</td>\n",
              "      <td>1.1610</td>\n",
              "      <td>0.5838</td>\n",
              "      <td>-0.2996</td>\n",
              "      <td>-0.3995</td>\n",
              "      <td>1.0700</td>\n",
              "      <td>0.2969</td>\n",
              "      <td>-0.2785</td>\n",
              "      <td>0.9678</td>\n",
              "      <td>-0.1409</td>\n",
              "      <td>1.0850</td>\n",
              "      <td>-0.0656</td>\n",
              "      <td>-0.6502</td>\n",
              "      <td>0.3527</td>\n",
              "      <td>0.1998</td>\n",
              "      <td>0.0975</td>\n",
              "      <td>0.0563</td>\n",
              "      <td>-0.3578</td>\n",
              "      <td>-0.0657</td>\n",
              "      <td>0.5316</td>\n",
              "      <td>0.6573</td>\n",
              "      <td>-0.5355</td>\n",
              "      <td>1.2380</td>\n",
              "      <td>-0.4994</td>\n",
              "      <td>-0.8140</td>\n",
              "      <td>0.2567</td>\n",
              "      <td>-0.8155</td>\n",
              "      <td>1.1180</td>\n",
              "      <td>-0.2501</td>\n",
              "      <td>...</td>\n",
              "      <td>0.2427</td>\n",
              "      <td>0.5214</td>\n",
              "      <td>0.0587</td>\n",
              "      <td>-0.5903</td>\n",
              "      <td>0.1332</td>\n",
              "      <td>-0.3517</td>\n",
              "      <td>-0.3276</td>\n",
              "      <td>-0.4955</td>\n",
              "      <td>0.1359</td>\n",
              "      <td>-0.3010</td>\n",
              "      <td>0.5725</td>\n",
              "      <td>-0.1126</td>\n",
              "      <td>-0.0874</td>\n",
              "      <td>1.2220</td>\n",
              "      <td>-0.0641</td>\n",
              "      <td>0.0246</td>\n",
              "      <td>-0.5659</td>\n",
              "      <td>-0.7402</td>\n",
              "      <td>1.1170</td>\n",
              "      <td>-0.0612</td>\n",
              "      <td>-1.3040</td>\n",
              "      <td>-0.4025</td>\n",
              "      <td>0.3760</td>\n",
              "      <td>-0.0873</td>\n",
              "      <td>0.8064</td>\n",
              "      <td>-0.0170</td>\n",
              "      <td>0.3092</td>\n",
              "      <td>0.2671</td>\n",
              "      <td>0.3311</td>\n",
              "      <td>-0.4572</td>\n",
              "      <td>0.4795</td>\n",
              "      <td>0.3939</td>\n",
              "      <td>0.7665</td>\n",
              "      <td>0.7932</td>\n",
              "      <td>-0.6804</td>\n",
              "      <td>-0.0435</td>\n",
              "      <td>0.0949</td>\n",
              "      <td>0.2000</td>\n",
              "      <td>-0.4326</td>\n",
              "      <td>0.9364</td>\n",
              "    </tr>\n",
              "    <tr>\n",
              "      <th>...</th>\n",
              "      <td>...</td>\n",
              "      <td>...</td>\n",
              "      <td>...</td>\n",
              "      <td>...</td>\n",
              "      <td>...</td>\n",
              "      <td>...</td>\n",
              "      <td>...</td>\n",
              "      <td>...</td>\n",
              "      <td>...</td>\n",
              "      <td>...</td>\n",
              "      <td>...</td>\n",
              "      <td>...</td>\n",
              "      <td>...</td>\n",
              "      <td>...</td>\n",
              "      <td>...</td>\n",
              "      <td>...</td>\n",
              "      <td>...</td>\n",
              "      <td>...</td>\n",
              "      <td>...</td>\n",
              "      <td>...</td>\n",
              "      <td>...</td>\n",
              "      <td>...</td>\n",
              "      <td>...</td>\n",
              "      <td>...</td>\n",
              "      <td>...</td>\n",
              "      <td>...</td>\n",
              "      <td>...</td>\n",
              "      <td>...</td>\n",
              "      <td>...</td>\n",
              "      <td>...</td>\n",
              "      <td>...</td>\n",
              "      <td>...</td>\n",
              "      <td>...</td>\n",
              "      <td>...</td>\n",
              "      <td>...</td>\n",
              "      <td>...</td>\n",
              "      <td>...</td>\n",
              "      <td>...</td>\n",
              "      <td>...</td>\n",
              "      <td>...</td>\n",
              "      <td>...</td>\n",
              "      <td>...</td>\n",
              "      <td>...</td>\n",
              "      <td>...</td>\n",
              "      <td>...</td>\n",
              "      <td>...</td>\n",
              "      <td>...</td>\n",
              "      <td>...</td>\n",
              "      <td>...</td>\n",
              "      <td>...</td>\n",
              "      <td>...</td>\n",
              "      <td>...</td>\n",
              "      <td>...</td>\n",
              "      <td>...</td>\n",
              "      <td>...</td>\n",
              "      <td>...</td>\n",
              "      <td>...</td>\n",
              "      <td>...</td>\n",
              "      <td>...</td>\n",
              "      <td>...</td>\n",
              "      <td>...</td>\n",
              "      <td>...</td>\n",
              "      <td>...</td>\n",
              "      <td>...</td>\n",
              "      <td>...</td>\n",
              "      <td>...</td>\n",
              "      <td>...</td>\n",
              "      <td>...</td>\n",
              "      <td>...</td>\n",
              "      <td>...</td>\n",
              "      <td>...</td>\n",
              "      <td>...</td>\n",
              "      <td>...</td>\n",
              "      <td>...</td>\n",
              "      <td>...</td>\n",
              "      <td>...</td>\n",
              "      <td>...</td>\n",
              "      <td>...</td>\n",
              "      <td>...</td>\n",
              "      <td>...</td>\n",
              "      <td>...</td>\n",
              "    </tr>\n",
              "    <tr>\n",
              "      <th>23729</th>\n",
              "      <td>id_ff1f9e5fc</td>\n",
              "      <td>com_controle</td>\n",
              "      <td>24</td>\n",
              "      <td>D1</td>\n",
              "      <td>cacb2b860</td>\n",
              "      <td>0.0465</td>\n",
              "      <td>0.6430</td>\n",
              "      <td>-0.2453</td>\n",
              "      <td>0.3521</td>\n",
              "      <td>0.6195</td>\n",
              "      <td>-0.6659</td>\n",
              "      <td>0.8263</td>\n",
              "      <td>0.5933</td>\n",
              "      <td>0.1388</td>\n",
              "      <td>-0.2246</td>\n",
              "      <td>-0.6127</td>\n",
              "      <td>-0.1687</td>\n",
              "      <td>1.5170</td>\n",
              "      <td>0.6243</td>\n",
              "      <td>-0.8399</td>\n",
              "      <td>-0.1881</td>\n",
              "      <td>-0.1583</td>\n",
              "      <td>0.0622</td>\n",
              "      <td>-0.1170</td>\n",
              "      <td>0.7722</td>\n",
              "      <td>0.0063</td>\n",
              "      <td>0.7347</td>\n",
              "      <td>-0.4820</td>\n",
              "      <td>0.0000</td>\n",
              "      <td>0.0938</td>\n",
              "      <td>-0.6062</td>\n",
              "      <td>0.6108</td>\n",
              "      <td>-0.4900</td>\n",
              "      <td>0.1075</td>\n",
              "      <td>0.3029</td>\n",
              "      <td>-0.1369</td>\n",
              "      <td>0.1946</td>\n",
              "      <td>0.1745</td>\n",
              "      <td>1.1030</td>\n",
              "      <td>0.3444</td>\n",
              "      <td>...</td>\n",
              "      <td>-0.4342</td>\n",
              "      <td>0.0541</td>\n",
              "      <td>0.9346</td>\n",
              "      <td>0.7595</td>\n",
              "      <td>-0.0139</td>\n",
              "      <td>0.2990</td>\n",
              "      <td>-0.7176</td>\n",
              "      <td>0.8572</td>\n",
              "      <td>0.2990</td>\n",
              "      <td>-0.2060</td>\n",
              "      <td>0.9029</td>\n",
              "      <td>0.4144</td>\n",
              "      <td>0.0802</td>\n",
              "      <td>0.0686</td>\n",
              "      <td>-0.3934</td>\n",
              "      <td>0.2344</td>\n",
              "      <td>1.0940</td>\n",
              "      <td>0.0144</td>\n",
              "      <td>-1.0080</td>\n",
              "      <td>0.8748</td>\n",
              "      <td>1.2900</td>\n",
              "      <td>0.5188</td>\n",
              "      <td>0.5824</td>\n",
              "      <td>0.0182</td>\n",
              "      <td>0.7578</td>\n",
              "      <td>1.1910</td>\n",
              "      <td>-0.3264</td>\n",
              "      <td>0.6882</td>\n",
              "      <td>0.7486</td>\n",
              "      <td>0.6438</td>\n",
              "      <td>0.6085</td>\n",
              "      <td>0.1621</td>\n",
              "      <td>-0.2065</td>\n",
              "      <td>0.8314</td>\n",
              "      <td>-0.1891</td>\n",
              "      <td>-0.0074</td>\n",
              "      <td>0.2131</td>\n",
              "      <td>-0.1419</td>\n",
              "      <td>-0.2422</td>\n",
              "      <td>0.0457</td>\n",
              "    </tr>\n",
              "    <tr>\n",
              "      <th>23747</th>\n",
              "      <td>id_ff469c482</td>\n",
              "      <td>com_controle</td>\n",
              "      <td>72</td>\n",
              "      <td>D1</td>\n",
              "      <td>cacb2b860</td>\n",
              "      <td>-0.6204</td>\n",
              "      <td>-1.3800</td>\n",
              "      <td>-1.1880</td>\n",
              "      <td>-0.6573</td>\n",
              "      <td>-0.8408</td>\n",
              "      <td>-0.2447</td>\n",
              "      <td>1.3490</td>\n",
              "      <td>-0.5155</td>\n",
              "      <td>1.2610</td>\n",
              "      <td>-0.1790</td>\n",
              "      <td>-0.7182</td>\n",
              "      <td>-0.7885</td>\n",
              "      <td>0.3022</td>\n",
              "      <td>2.0140</td>\n",
              "      <td>0.1667</td>\n",
              "      <td>-0.7325</td>\n",
              "      <td>-0.1553</td>\n",
              "      <td>0.8400</td>\n",
              "      <td>-0.1069</td>\n",
              "      <td>-0.7247</td>\n",
              "      <td>1.3430</td>\n",
              "      <td>1.5010</td>\n",
              "      <td>-1.3370</td>\n",
              "      <td>0.7190</td>\n",
              "      <td>-0.0843</td>\n",
              "      <td>0.4841</td>\n",
              "      <td>-0.9104</td>\n",
              "      <td>1.3990</td>\n",
              "      <td>0.7447</td>\n",
              "      <td>-1.2110</td>\n",
              "      <td>0.6562</td>\n",
              "      <td>0.1265</td>\n",
              "      <td>0.3036</td>\n",
              "      <td>2.2600</td>\n",
              "      <td>-1.3770</td>\n",
              "      <td>...</td>\n",
              "      <td>0.9633</td>\n",
              "      <td>-0.4057</td>\n",
              "      <td>-0.2206</td>\n",
              "      <td>0.5111</td>\n",
              "      <td>-0.8666</td>\n",
              "      <td>0.4692</td>\n",
              "      <td>0.8903</td>\n",
              "      <td>0.6648</td>\n",
              "      <td>0.2922</td>\n",
              "      <td>0.2440</td>\n",
              "      <td>1.0960</td>\n",
              "      <td>1.2420</td>\n",
              "      <td>1.0430</td>\n",
              "      <td>1.4310</td>\n",
              "      <td>1.0040</td>\n",
              "      <td>1.0320</td>\n",
              "      <td>0.7345</td>\n",
              "      <td>0.8025</td>\n",
              "      <td>0.7174</td>\n",
              "      <td>0.1932</td>\n",
              "      <td>-0.2609</td>\n",
              "      <td>0.3501</td>\n",
              "      <td>0.5916</td>\n",
              "      <td>0.9193</td>\n",
              "      <td>0.1398</td>\n",
              "      <td>0.0243</td>\n",
              "      <td>0.4820</td>\n",
              "      <td>-0.4428</td>\n",
              "      <td>-0.1235</td>\n",
              "      <td>0.4166</td>\n",
              "      <td>0.8209</td>\n",
              "      <td>0.7366</td>\n",
              "      <td>0.5468</td>\n",
              "      <td>1.1450</td>\n",
              "      <td>0.5254</td>\n",
              "      <td>0.6224</td>\n",
              "      <td>-0.9630</td>\n",
              "      <td>0.8872</td>\n",
              "      <td>-0.0742</td>\n",
              "      <td>-0.6777</td>\n",
              "    </tr>\n",
              "    <tr>\n",
              "      <th>23768</th>\n",
              "      <td>id_ff89331ca</td>\n",
              "      <td>com_controle</td>\n",
              "      <td>72</td>\n",
              "      <td>D2</td>\n",
              "      <td>cacb2b860</td>\n",
              "      <td>-0.1051</td>\n",
              "      <td>0.4335</td>\n",
              "      <td>0.3648</td>\n",
              "      <td>-0.0525</td>\n",
              "      <td>-0.3632</td>\n",
              "      <td>-0.3228</td>\n",
              "      <td>-2.3190</td>\n",
              "      <td>-0.5294</td>\n",
              "      <td>0.1878</td>\n",
              "      <td>0.5047</td>\n",
              "      <td>1.3820</td>\n",
              "      <td>0.6107</td>\n",
              "      <td>2.4790</td>\n",
              "      <td>0.4347</td>\n",
              "      <td>0.9422</td>\n",
              "      <td>-0.1042</td>\n",
              "      <td>-0.2611</td>\n",
              "      <td>1.5760</td>\n",
              "      <td>-0.0232</td>\n",
              "      <td>-0.2455</td>\n",
              "      <td>0.8058</td>\n",
              "      <td>-2.4180</td>\n",
              "      <td>-0.5838</td>\n",
              "      <td>-0.1626</td>\n",
              "      <td>-0.8609</td>\n",
              "      <td>-0.2021</td>\n",
              "      <td>0.1494</td>\n",
              "      <td>0.6618</td>\n",
              "      <td>1.3080</td>\n",
              "      <td>-0.7822</td>\n",
              "      <td>0.3923</td>\n",
              "      <td>-0.4608</td>\n",
              "      <td>-1.7090</td>\n",
              "      <td>0.3173</td>\n",
              "      <td>0.7622</td>\n",
              "      <td>...</td>\n",
              "      <td>1.2340</td>\n",
              "      <td>-0.1665</td>\n",
              "      <td>-0.0318</td>\n",
              "      <td>0.8694</td>\n",
              "      <td>0.4048</td>\n",
              "      <td>0.1281</td>\n",
              "      <td>0.0164</td>\n",
              "      <td>1.0670</td>\n",
              "      <td>1.5790</td>\n",
              "      <td>0.2428</td>\n",
              "      <td>1.1330</td>\n",
              "      <td>-1.2310</td>\n",
              "      <td>0.3626</td>\n",
              "      <td>-0.4737</td>\n",
              "      <td>0.2937</td>\n",
              "      <td>0.1638</td>\n",
              "      <td>-0.1554</td>\n",
              "      <td>0.9236</td>\n",
              "      <td>0.0937</td>\n",
              "      <td>0.9598</td>\n",
              "      <td>0.4738</td>\n",
              "      <td>-0.2608</td>\n",
              "      <td>0.3577</td>\n",
              "      <td>-1.2040</td>\n",
              "      <td>0.8125</td>\n",
              "      <td>1.4260</td>\n",
              "      <td>0.2223</td>\n",
              "      <td>0.3079</td>\n",
              "      <td>1.1490</td>\n",
              "      <td>1.7320</td>\n",
              "      <td>-0.1219</td>\n",
              "      <td>0.4885</td>\n",
              "      <td>0.4963</td>\n",
              "      <td>0.9434</td>\n",
              "      <td>-0.4779</td>\n",
              "      <td>0.6951</td>\n",
              "      <td>0.9517</td>\n",
              "      <td>-0.8110</td>\n",
              "      <td>-0.1748</td>\n",
              "      <td>-0.3626</td>\n",
              "    </tr>\n",
              "    <tr>\n",
              "      <th>23793</th>\n",
              "      <td>id_ffd26f361</td>\n",
              "      <td>com_controle</td>\n",
              "      <td>48</td>\n",
              "      <td>D2</td>\n",
              "      <td>cacb2b860</td>\n",
              "      <td>0.6008</td>\n",
              "      <td>0.2781</td>\n",
              "      <td>-0.3319</td>\n",
              "      <td>-0.8782</td>\n",
              "      <td>0.9281</td>\n",
              "      <td>0.7535</td>\n",
              "      <td>0.5971</td>\n",
              "      <td>1.6350</td>\n",
              "      <td>-0.3146</td>\n",
              "      <td>0.4984</td>\n",
              "      <td>-1.1890</td>\n",
              "      <td>0.3772</td>\n",
              "      <td>-0.8196</td>\n",
              "      <td>0.1083</td>\n",
              "      <td>-2.0350</td>\n",
              "      <td>0.4135</td>\n",
              "      <td>0.7586</td>\n",
              "      <td>-0.4024</td>\n",
              "      <td>-0.0449</td>\n",
              "      <td>0.3335</td>\n",
              "      <td>0.2358</td>\n",
              "      <td>0.7919</td>\n",
              "      <td>-0.8775</td>\n",
              "      <td>0.4232</td>\n",
              "      <td>1.8460</td>\n",
              "      <td>-2.0940</td>\n",
              "      <td>0.1438</td>\n",
              "      <td>-0.6604</td>\n",
              "      <td>0.7243</td>\n",
              "      <td>0.0338</td>\n",
              "      <td>-0.0182</td>\n",
              "      <td>-0.2022</td>\n",
              "      <td>0.8827</td>\n",
              "      <td>0.3147</td>\n",
              "      <td>-0.9263</td>\n",
              "      <td>...</td>\n",
              "      <td>0.1934</td>\n",
              "      <td>1.2240</td>\n",
              "      <td>-0.1178</td>\n",
              "      <td>0.1459</td>\n",
              "      <td>-0.1242</td>\n",
              "      <td>0.3106</td>\n",
              "      <td>-0.7959</td>\n",
              "      <td>0.5681</td>\n",
              "      <td>0.3663</td>\n",
              "      <td>0.4874</td>\n",
              "      <td>-0.0548</td>\n",
              "      <td>0.1810</td>\n",
              "      <td>1.3470</td>\n",
              "      <td>1.6210</td>\n",
              "      <td>-0.8260</td>\n",
              "      <td>0.3377</td>\n",
              "      <td>0.3264</td>\n",
              "      <td>0.9241</td>\n",
              "      <td>0.3012</td>\n",
              "      <td>1.2980</td>\n",
              "      <td>-0.2789</td>\n",
              "      <td>0.7019</td>\n",
              "      <td>-0.3528</td>\n",
              "      <td>0.7383</td>\n",
              "      <td>1.0300</td>\n",
              "      <td>0.6527</td>\n",
              "      <td>1.6750</td>\n",
              "      <td>-0.5046</td>\n",
              "      <td>0.2942</td>\n",
              "      <td>0.2950</td>\n",
              "      <td>1.2470</td>\n",
              "      <td>0.9569</td>\n",
              "      <td>-0.2065</td>\n",
              "      <td>-0.4918</td>\n",
              "      <td>0.7863</td>\n",
              "      <td>0.0504</td>\n",
              "      <td>0.8813</td>\n",
              "      <td>0.7757</td>\n",
              "      <td>-0.5272</td>\n",
              "      <td>0.7082</td>\n",
              "    </tr>\n",
              "    <tr>\n",
              "      <th>23811</th>\n",
              "      <td>id_fffc1c3f4</td>\n",
              "      <td>com_controle</td>\n",
              "      <td>48</td>\n",
              "      <td>D2</td>\n",
              "      <td>cacb2b860</td>\n",
              "      <td>0.3942</td>\n",
              "      <td>0.3756</td>\n",
              "      <td>0.3109</td>\n",
              "      <td>-0.7389</td>\n",
              "      <td>0.5505</td>\n",
              "      <td>-0.0159</td>\n",
              "      <td>-0.2541</td>\n",
              "      <td>0.1745</td>\n",
              "      <td>-0.0340</td>\n",
              "      <td>0.4865</td>\n",
              "      <td>-0.1854</td>\n",
              "      <td>0.0716</td>\n",
              "      <td>0.1729</td>\n",
              "      <td>-0.0434</td>\n",
              "      <td>0.1542</td>\n",
              "      <td>-0.2192</td>\n",
              "      <td>-0.0302</td>\n",
              "      <td>-0.4218</td>\n",
              "      <td>0.4057</td>\n",
              "      <td>-0.5372</td>\n",
              "      <td>0.1521</td>\n",
              "      <td>-0.2651</td>\n",
              "      <td>0.2310</td>\n",
              "      <td>-0.8101</td>\n",
              "      <td>0.4943</td>\n",
              "      <td>0.6905</td>\n",
              "      <td>-0.3720</td>\n",
              "      <td>-1.4110</td>\n",
              "      <td>0.4516</td>\n",
              "      <td>1.2300</td>\n",
              "      <td>-0.1949</td>\n",
              "      <td>-1.3280</td>\n",
              "      <td>-0.4276</td>\n",
              "      <td>-0.0040</td>\n",
              "      <td>-0.3086</td>\n",
              "      <td>...</td>\n",
              "      <td>0.6845</td>\n",
              "      <td>0.7127</td>\n",
              "      <td>0.7294</td>\n",
              "      <td>0.4718</td>\n",
              "      <td>-0.2020</td>\n",
              "      <td>0.2783</td>\n",
              "      <td>0.4934</td>\n",
              "      <td>0.4144</td>\n",
              "      <td>0.5449</td>\n",
              "      <td>1.4690</td>\n",
              "      <td>-0.6142</td>\n",
              "      <td>0.6068</td>\n",
              "      <td>0.3434</td>\n",
              "      <td>0.9880</td>\n",
              "      <td>-0.0468</td>\n",
              "      <td>-0.1882</td>\n",
              "      <td>-0.0087</td>\n",
              "      <td>-0.0356</td>\n",
              "      <td>0.5718</td>\n",
              "      <td>0.4971</td>\n",
              "      <td>0.1057</td>\n",
              "      <td>0.2111</td>\n",
              "      <td>0.6992</td>\n",
              "      <td>0.0708</td>\n",
              "      <td>0.6169</td>\n",
              "      <td>0.2248</td>\n",
              "      <td>0.5994</td>\n",
              "      <td>0.2689</td>\n",
              "      <td>0.0305</td>\n",
              "      <td>1.2320</td>\n",
              "      <td>0.5409</td>\n",
              "      <td>0.3755</td>\n",
              "      <td>0.7343</td>\n",
              "      <td>0.2807</td>\n",
              "      <td>0.4116</td>\n",
              "      <td>0.6422</td>\n",
              "      <td>0.2256</td>\n",
              "      <td>0.7592</td>\n",
              "      <td>0.6656</td>\n",
              "      <td>0.3808</td>\n",
              "    </tr>\n",
              "  </tbody>\n",
              "</table>\n",
              "<p>1866 rows × 877 columns</p>\n",
              "</div>"
            ],
            "text/plain": [
              "                 id    tratamento  tempo dose  ...    c-96    c-97    c-98    c-99\n",
              "25     id_0054388ec  com_controle     48   D1  ...  0.8837  0.5534  0.8976  1.0050\n",
              "38     id_0079af0fb  com_controle     24   D1  ...  0.2187  0.0737  0.6498 -1.4820\n",
              "40     id_007bfbb91  com_controle     24   D2  ... -0.5751  0.3362  0.8543  0.9180\n",
              "47     id_008a986b7  com_controle     48   D2  ... -0.4979  0.5281 -0.9245 -0.9367\n",
              "63     id_009d8340f  com_controle     24   D2  ...  0.0949  0.2000 -0.4326  0.9364\n",
              "...             ...           ...    ...  ...  ...     ...     ...     ...     ...\n",
              "23729  id_ff1f9e5fc  com_controle     24   D1  ...  0.2131 -0.1419 -0.2422  0.0457\n",
              "23747  id_ff469c482  com_controle     72   D1  ... -0.9630  0.8872 -0.0742 -0.6777\n",
              "23768  id_ff89331ca  com_controle     72   D2  ...  0.9517 -0.8110 -0.1748 -0.3626\n",
              "23793  id_ffd26f361  com_controle     48   D2  ...  0.8813  0.7757 -0.5272  0.7082\n",
              "23811  id_fffc1c3f4  com_controle     48   D2  ...  0.2256  0.7592  0.6656  0.3808\n",
              "\n",
              "[1866 rows x 877 columns]"
            ]
          },
          "metadata": {
            "tags": []
          },
          "execution_count": 11
        }
      ]
    },
    {
      "cell_type": "markdown",
      "metadata": {
        "id": "N0ySLG-7JY0G"
      },
      "source": [
        "Aparentemente temos apenas uma droga no grupo de controle, ao menos pelas que aparecem na parte mostrada acima. Podemos verificar isso com o método unique()"
      ]
    },
    {
      "cell_type": "code",
      "metadata": {
        "id": "PJr0yKvuKNa9",
        "colab": {
          "base_uri": "https://localhost:8080/"
        },
        "outputId": "5977c5b3-8abc-41e7-ecf0-41c5397819ad"
      },
      "source": [
        "tratamento_com_controle['droga'].unique()"
      ],
      "execution_count": null,
      "outputs": [
        {
          "output_type": "execute_result",
          "data": {
            "text/plain": [
              "array(['cacb2b860'], dtype=object)"
            ]
          },
          "metadata": {
            "tags": []
          },
          "execution_count": 12
        }
      ]
    },
    {
      "cell_type": "markdown",
      "metadata": {
        "id": "Mv9A8PGeJePS"
      },
      "source": [
        "Observando que temos 3289 drogas únicas, podemos dizer que é o motivo para esse desbalanceamento na coluna 'tratamentos', já que a representação do tratamento 'com_controle' na coluna droga é apenas um valor das 3289 drogas."
      ]
    },
    {
      "cell_type": "code",
      "metadata": {
        "id": "t9bRZVJ0zqhh",
        "colab": {
          "base_uri": "https://localhost:8080/"
        },
        "outputId": "6ed00e3e-f54a-4c21-ca0f-45c7b639d225"
      },
      "source": [
        "len(dados['droga'].unique())"
      ],
      "execution_count": null,
      "outputs": [
        {
          "output_type": "execute_result",
          "data": {
            "text/plain": [
              "3289"
            ]
          },
          "metadata": {
            "tags": []
          },
          "execution_count": 14
        }
      ]
    },
    {
      "cell_type": "markdown",
      "metadata": {
        "id": "HKl5QxXtCDG4"
      },
      "source": [
        "##Desafio 02: Plotar as 5 últimas linhas da tabela"
      ]
    },
    {
      "cell_type": "markdown",
      "metadata": {
        "id": "Z-XRw8QkMfO_"
      },
      "source": [
        "Basta utilizar o método:"
      ]
    },
    {
      "cell_type": "code",
      "metadata": {
        "id": "xUEcdquDCFG_"
      },
      "source": [
        "dados.tail()"
      ],
      "execution_count": null,
      "outputs": []
    },
    {
      "cell_type": "markdown",
      "metadata": {
        "id": "2oUZ-cMhCJkR"
      },
      "source": [
        "##Desafio 03: Verificar a proporção dos dados da coluna tratamento"
      ]
    },
    {
      "cell_type": "markdown",
      "metadata": {
        "id": "AWCEZrGlMm0a"
      },
      "source": [
        "Basta utilizar o parâmetro normalize com o valor True, no método value_counts."
      ]
    },
    {
      "cell_type": "code",
      "metadata": {
        "id": "K0gzBzXPCG85"
      },
      "source": [
        "dados['tratamento'].value_counts(normalize=True)"
      ],
      "execution_count": null,
      "outputs": []
    },
    {
      "cell_type": "markdown",
      "metadata": {
        "id": "WKnv9Ox4CInV"
      },
      "source": [
        "##Desafio 04: Buscar quantas tipos de drogas foram investigadas"
      ]
    },
    {
      "cell_type": "markdown",
      "metadata": {
        "id": "0ex9_NtVMvQ4"
      },
      "source": [
        "Basta calcular o length do método unique() usado na coluna 'droga'"
      ]
    },
    {
      "cell_type": "code",
      "metadata": {
        "id": "86Qb1Vh1D1Zl"
      },
      "source": [
        "len(dados['droga'].unique())"
      ],
      "execution_count": null,
      "outputs": []
    },
    {
      "cell_type": "markdown",
      "metadata": {
        "id": "WmA3j9UbHGsf"
      },
      "source": [
        "##Desafio 05: Procurar na documentação o método query(pandas)."
      ]
    },
    {
      "cell_type": "markdown",
      "metadata": {
        "id": "oPz3Kzvn7cMi"
      },
      "source": [
        "Documentação do método query: https://pandas.pydata.org/docs/reference/api/pandas.DataFrame.query.html\n"
      ]
    },
    {
      "cell_type": "code",
      "metadata": {
        "id": "7UXeZ6I5HQa3"
      },
      "source": [
        "#Exemplo 1:\n",
        "\n",
        "dados.query('dose == \"D1\"')\n"
      ],
      "execution_count": null,
      "outputs": []
    },
    {
      "cell_type": "code",
      "metadata": {
        "id": "zliFe2yt7iRE"
      },
      "source": [
        "#Exemplo 2:\n",
        "\n",
        "dados.query('tempo == 24')"
      ],
      "execution_count": null,
      "outputs": []
    },
    {
      "cell_type": "code",
      "metadata": {
        "id": "aVZC8ZCq7o77"
      },
      "source": [
        "#Exemplo 3:\n",
        "\n",
        "dados.query('droga == \"b68db1d53\"')"
      ],
      "execution_count": null,
      "outputs": []
    },
    {
      "cell_type": "markdown",
      "metadata": {
        "id": "1Xmbbs-kHLdb"
      },
      "source": [
        "##Desafio 06: Adicionar titulos e labels no gráficos.(matplotlib.pyplot)"
      ]
    },
    {
      "cell_type": "code",
      "metadata": {
        "colab": {
          "base_uri": "https://localhost:8080/",
          "height": 295
        },
        "id": "lbg2wNyBHQ6m",
        "outputId": "8962016f-1649-4f2c-f4b2-3ffa843d76c9"
      },
      "source": [
        "dados['tempo'].value_counts().plot.bar()\n",
        "plt.title('Tempo - em horas')\n",
        "plt.xlabel('Tempo')\n",
        "plt.ylabel('Quantidade de experimentos')\n",
        "plt.xticks(rotation = 0)\n",
        "plt.show()"
      ],
      "execution_count": null,
      "outputs": [
        {
          "output_type": "display_data",
          "data": {
            "image/png": "[encoded data removed]",
            "text/plain": [
              "<Figure size 432x288 with 1 Axes>"
            ]
          },
          "metadata": {
            "tags": [],
            "needs_background": "light"
          }
        }
      ]
    },
    {
      "cell_type": "markdown",
      "metadata": {
        "id": "p2ww7gE4HM7k"
      },
      "source": [
        "##Desafio 07: Renomear as colunas tirando o hífen."
      ]
    },
    {
      "cell_type": "code",
      "metadata": {
        "id": "HhHiFdB8HRXV"
      },
      "source": [
        "def rename_columns(dados):\n",
        "    for i, elem in enumerate(dados.columns.values):\n",
        "        if '-' in elem:\n",
        "            novo_nome = elem.replace('-','')\n",
        "            dados.columns.values[i] = novo_nome"
      ],
      "execution_count": null,
      "outputs": []
    },
    {
      "cell_type": "code",
      "metadata": {
        "id": "wnmAwudUBUbJ"
      },
      "source": [
        "rename_columns(dados)\n",
        "dados.head()"
      ],
      "execution_count": null,
      "outputs": []
    },
    {
      "cell_type": "markdown",
      "metadata": {
        "id": "DE3zKnJyHOQm"
      },
      "source": [
        "##Desafio 08: Resumo do que foi aprendido com os dados."
      ]
    },
    {
      "cell_type": "markdown",
      "metadata": {
        "id": "95hQhNcMg2yb"
      },
      "source": [
        "###Lista das observações"
      ]
    },
    {
      "cell_type": "markdown",
      "metadata": {
        "id": "6XhzTErAfNFo"
      },
      "source": [
        "1.  Temos uma coluna descrita como \"id\", que contém identificadores únicos para cada experimento(linha do database).\n",
        "2.   Temos uma coluna descrita como \"tratamento\", que indica se o experimento fazia parte do grupo que recebeu o tratamento com a droga ou do grupo de controle, que recebeu tudo que o grupo com a droga recebeu, menos a droga em si.\n",
        "3.   Temos uma coluna descrita como \"tempo\", com o tempo que durou cada experimento, medido em horas.\n",
        "4.  Temos uma coluna descrita como \"dose\", que provavalmente indica 2 tipos de doses diferentes classificadas como D1 e D2(podendo aqui serem doses com métodos de aplicações diferentes, quantidades diferentes, etc)\n",
        "5.  Temos uma coluna descrita como \"droga\", que provavelmente indica os nomes das drogas utilizadas, mas criptografadas, possivelmente para que nem mesmo quem aplica as doses saiba qual está aplicando, como uma forma de diminuir a interferencia das ações e conclusões que poderiam já ocorrer só de saber o nome da droga aplicada.\n",
        "6.  Temos colunas com nomes do tipo \"g-n\" e \"c-n\", onde n são numeros inteiros e ainda não temos muitas informações sobre.\n",
        "\n",
        "\n",
        "\n"
      ]
    },
    {
      "cell_type": "markdown",
      "metadata": {
        "id": "TREbFLjSmOEI"
      },
      "source": [
        "###Detalhes das observações"
      ]
    },
    {
      "cell_type": "markdown",
      "metadata": {
        "id": "XMXRmDQamTXC"
      },
      "source": [
        "####1 - Coluna 'id'"
      ]
    },
    {
      "cell_type": "code",
      "metadata": {
        "id": "dqTbAqi0ok9l"
      },
      "source": [
        "dados.shape"
      ],
      "execution_count": null,
      "outputs": []
    },
    {
      "cell_type": "code",
      "metadata": {
        "id": "bRYvRnM-5NJI"
      },
      "source": [
        "dados['id']"
      ],
      "execution_count": null,
      "outputs": []
    },
    {
      "cell_type": "code",
      "metadata": {
        "id": "WXFpj04ZorSV"
      },
      "source": [
        "dados['id'].shape"
      ],
      "execution_count": null,
      "outputs": []
    },
    {
      "cell_type": "code",
      "metadata": {
        "id": "o5pHRWPDfOLh"
      },
      "source": [
        "dados.shape[0] == dados['id'].shape[0]"
      ],
      "execution_count": null,
      "outputs": []
    },
    {
      "cell_type": "markdown",
      "metadata": {
        "id": "uKfZrg7kmz3X"
      },
      "source": [
        "Podemos verificar que os ids sao únicos comparando o numero de linhas do dataframe geral de dados com o numero de linhas da série gerada pela coluna id"
      ]
    },
    {
      "cell_type": "markdown",
      "metadata": {
        "id": "2Wo_bi1ln2Xx"
      },
      "source": [
        "####2 - Coluna 'tratamento'"
      ]
    },
    {
      "cell_type": "code",
      "metadata": {
        "id": "D03c_sHqmgvu"
      },
      "source": [
        "dados['tratamento']"
      ],
      "execution_count": null,
      "outputs": []
    },
    {
      "cell_type": "code",
      "metadata": {
        "id": "VZ3XA2TT5L4V"
      },
      "source": [
        "dados['tratamento'].unique()"
      ],
      "execution_count": null,
      "outputs": []
    },
    {
      "cell_type": "markdown",
      "metadata": {
        "id": "ezdIah3y5eay"
      },
      "source": [
        "Temos 2 tipos de tratamento, com droga e com controle, sendo com o controle com as mesmas condições do tratamento com droga, exceto a droga em si."
      ]
    },
    {
      "cell_type": "code",
      "metadata": {
        "id": "LRz2qwHA5eI7"
      },
      "source": [
        "dados['tratamento'].value_counts(normalize=True)"
      ],
      "execution_count": null,
      "outputs": []
    },
    {
      "cell_type": "markdown",
      "metadata": {
        "id": "Z7yIGray57SM"
      },
      "source": [
        "Além disso podemos verificar que a proporção entre esses 2 tipos é desbalanceada, como vimos no Desafio 1."
      ]
    },
    {
      "cell_type": "markdown",
      "metadata": {
        "id": "83O3Q75s6Mlk"
      },
      "source": [
        "####3 - Coluna 'tempo'"
      ]
    },
    {
      "cell_type": "code",
      "metadata": {
        "id": "DBqee2ys6Red"
      },
      "source": [
        "dados['tempo']"
      ],
      "execution_count": null,
      "outputs": []
    },
    {
      "cell_type": "code",
      "metadata": {
        "colab": {
          "base_uri": "https://localhost:8080/"
        },
        "id": "EM56SdwT6YvL",
        "outputId": "0cf9c6e0-493f-4739-9049-7667091ab2f3"
      },
      "source": [
        "dados['tempo'].unique()"
      ],
      "execution_count": null,
      "outputs": [
        {
          "output_type": "execute_result",
          "data": {
            "text/plain": [
              "array([24, 72, 48])"
            ]
          },
          "metadata": {
            "tags": []
          },
          "execution_count": 100
        }
      ]
    },
    {
      "cell_type": "markdown",
      "metadata": {
        "id": "9tZLQqrQ6gAM"
      },
      "source": [
        "Temos 3 valores para o tempo de experimento, 24, 48 e 72, dados em horas."
      ]
    },
    {
      "cell_type": "code",
      "metadata": {
        "colab": {
          "base_uri": "https://localhost:8080/"
        },
        "id": "hxqzO_6k6aw4",
        "outputId": "83bd3f4b-14b3-4b78-dd0d-99cb288c0aa5"
      },
      "source": [
        "dados['tempo'].value_counts(normalize=True)"
      ],
      "execution_count": null,
      "outputs": [
        {
          "output_type": "execute_result",
          "data": {
            "text/plain": [
              "48    0.346435\n",
              "72    0.327202\n",
              "24    0.326363\n",
              "Name: tempo, dtype: float64"
            ]
          },
          "metadata": {
            "tags": []
          },
          "execution_count": 101
        }
      ]
    },
    {
      "cell_type": "markdown",
      "metadata": {
        "id": "pOyn4Aq861b0"
      },
      "source": [
        "E podemos ver que que a proporção desses valores foi bem distribuída."
      ]
    },
    {
      "cell_type": "markdown",
      "metadata": {
        "id": "rvMrXGuj7F8d"
      },
      "source": [
        "####4 - Coluna 'dose'"
      ]
    },
    {
      "cell_type": "code",
      "metadata": {
        "id": "e9w4OHeL60PR"
      },
      "source": [
        "dados['dose']"
      ],
      "execution_count": null,
      "outputs": []
    },
    {
      "cell_type": "code",
      "metadata": {
        "colab": {
          "base_uri": "https://localhost:8080/"
        },
        "id": "EYb5n_yY7O_e",
        "outputId": "d597b6dc-815c-470e-d3a9-e94d2969aa16"
      },
      "source": [
        "dados['dose'].unique()"
      ],
      "execution_count": null,
      "outputs": [
        {
          "output_type": "execute_result",
          "data": {
            "text/plain": [
              "array(['D1', 'D2'], dtype=object)"
            ]
          },
          "metadata": {
            "tags": []
          },
          "execution_count": 103
        }
      ]
    },
    {
      "cell_type": "markdown",
      "metadata": {
        "id": "Q8EfnXX47Utp"
      },
      "source": [
        "Temos 2 valores para as doses, provavelmente 2 doses diferentes, sejam em quantidade, aplicação, etc"
      ]
    },
    {
      "cell_type": "code",
      "metadata": {
        "colab": {
          "base_uri": "https://localhost:8080/"
        },
        "id": "QCXTEbXY7RuX",
        "outputId": "6bcb04f5-7d07-4839-bb88-001836e26eeb"
      },
      "source": [
        "dados['dose'].value_counts(normalize=True)"
      ],
      "execution_count": null,
      "outputs": [
        {
          "output_type": "execute_result",
          "data": {
            "text/plain": [
              "D1    0.510078\n",
              "D2    0.489922\n",
              "Name: dose, dtype: float64"
            ]
          },
          "metadata": {
            "tags": []
          },
          "execution_count": 104
        }
      ]
    },
    {
      "cell_type": "markdown",
      "metadata": {
        "id": "Fw_urkuk7nIj"
      },
      "source": [
        "Vemos novamente uma proporção bem distruída."
      ]
    },
    {
      "cell_type": "markdown",
      "metadata": {
        "id": "TBXnk48u7v-f"
      },
      "source": [
        "####5 - Coluna 'droga'"
      ]
    },
    {
      "cell_type": "code",
      "metadata": {
        "id": "C-JE4dAg7l9i"
      },
      "source": [
        "dados['droga']"
      ],
      "execution_count": null,
      "outputs": []
    },
    {
      "cell_type": "code",
      "metadata": {
        "id": "W0yLtbTD8Gok"
      },
      "source": [
        "dados['droga'].value_counts(normalize=True)"
      ],
      "execution_count": null,
      "outputs": []
    },
    {
      "cell_type": "markdown",
      "metadata": {
        "id": "wvsqYTii8PMb"
      },
      "source": [
        "Podemos ver que a droga 'cacb2b860' aparece numa proporção maior que as outras, basicamente pois é a droga que está nos dois tipos de tratamento."
      ]
    },
    {
      "cell_type": "markdown",
      "metadata": {
        "id": "yBRk0BqC_gu2"
      },
      "source": [
        "E temos 3229 drogas diferentes nos experimentos."
      ]
    },
    {
      "cell_type": "markdown",
      "metadata": {
        "id": "mbiePyQB_xLQ"
      },
      "source": [
        "####6 - Outras colunas"
      ]
    },
    {
      "cell_type": "markdown",
      "metadata": {
        "id": "POUjCo0QCd5-"
      },
      "source": [
        "Sobre as outras colunas ainda não temos muitas informações, apenas que provavelmente são informações sobre alguma medição referente aos genes ou outros objetivos dos experimentos. Além disso esses dados estão normalizados."
      ]
    },
    {
      "cell_type": "markdown",
      "metadata": {
        "id": "htZtbepx0jO0"
      },
      "source": [
        "#Aula 02"
      ]
    },
    {
      "cell_type": "markdown",
      "metadata": {
        "id": "zoj0H9hx0wbn"
      },
      "source": [
        "##Mudando a coluna droga para composto"
      ]
    },
    {
      "cell_type": "markdown",
      "metadata": {
        "id": "_tQ2e9wS0yq6"
      },
      "source": [
        "Como não temos drogas exatamente, talvez no máximo futuras drogas, mas por enquanto pequenos compostos pra testar nos experimentos, podemos trocar o nome da coluna 'droga', para 'composto'"
      ]
    },
    {
      "cell_type": "code",
      "metadata": {
        "id": "uFGEsD-X0Vs0"
      },
      "source": [
        "mapa = {'droga': 'composto'}\n",
        "dados.rename(columns=mapa, inplace=True)"
      ],
      "execution_count": null,
      "outputs": []
    },
    {
      "cell_type": "markdown",
      "metadata": {
        "id": "-TNY93Hf0175"
      },
      "source": [
        "Para que troque de fato nos dados, temos que colocar o parâmetro inplace como True. Temos que tomar cuidado nessa troca, pois agora as células acima não funcionam, caso usem o nome anterior."
      ]
    },
    {
      "cell_type": "code",
      "metadata": {
        "id": "hBP9q3hg0zQ5"
      },
      "source": [
        "dados.head()"
      ],
      "execution_count": null,
      "outputs": []
    },
    {
      "cell_type": "code",
      "metadata": {
        "colab": {
          "base_uri": "https://localhost:8080/"
        },
        "id": "78DGmCC806JH",
        "outputId": "1991c344-770f-4365-bc2f-afaa6e278bc8"
      },
      "source": [
        "compostos_head = dados['composto'].value_counts()[0:5]\n",
        "compostos_head"
      ],
      "execution_count": null,
      "outputs": [
        {
          "output_type": "execute_result",
          "data": {
            "text/plain": [
              "cacb2b860    1866\n",
              "87d714366     718\n",
              "9f80f3f77     246\n",
              "8b87a7a83     203\n",
              "5628cb3ee     202\n",
              "Name: composto, dtype: int64"
            ]
          },
          "metadata": {
            "tags": []
          },
          "execution_count": 3
        }
      ]
    },
    {
      "cell_type": "code",
      "metadata": {
        "colab": {
          "base_uri": "https://localhost:8080/"
        },
        "id": "nJc8x-Sk1EwC",
        "outputId": "151cad74-d889-4e32-ba50-2a811ccdc60a"
      },
      "source": [
        "cod_compostos = compostos_head.index\n",
        "cod_compostos"
      ],
      "execution_count": null,
      "outputs": [
        {
          "output_type": "execute_result",
          "data": {
            "text/plain": [
              "Index(['cacb2b860', '87d714366', '9f80f3f77', '8b87a7a83', '5628cb3ee'], dtype='object')"
            ]
          },
          "metadata": {
            "tags": []
          },
          "execution_count": 10
        }
      ]
    },
    {
      "cell_type": "markdown",
      "metadata": {
        "id": "ufYy1k_J1SLN"
      },
      "source": [
        "##Plotando os top 5 compostos"
      ]
    },
    {
      "cell_type": "code",
      "metadata": {
        "colab": {
          "base_uri": "https://localhost:8080/",
          "height": 439
        },
        "id": "WojCEIIj1QJI",
        "outputId": "9305847d-523f-46cf-ac69-3ec98d2b411a"
      },
      "source": [
        "dados.query('composto in @cod_compostos')"
      ],
      "execution_count": null,
      "outputs": [
        {
          "output_type": "execute_result",
          "data": {
            "text/html": [
              "<div>\n",
              "<style scoped>\n",
              "    .dataframe tbody tr th:only-of-type {\n",
              "        vertical-align: middle;\n",
              "    }\n",
              "\n",
              "    .dataframe tbody tr th {\n",
              "        vertical-align: top;\n",
              "    }\n",
              "\n",
              "    .dataframe thead th {\n",
              "        text-align: right;\n",
              "    }\n",
              "</style>\n",
              "<table border=\"1\" class=\"dataframe\">\n",
              "  <thead>\n",
              "    <tr style=\"text-align: right;\">\n",
              "      <th></th>\n",
              "      <th>id</th>\n",
              "      <th>tratamento</th>\n",
              "      <th>tempo</th>\n",
              "      <th>dose</th>\n",
              "      <th>composto</th>\n",
              "      <th>g-0</th>\n",
              "      <th>g-1</th>\n",
              "      <th>g-2</th>\n",
              "      <th>g-3</th>\n",
              "      <th>g-4</th>\n",
              "      <th>g-5</th>\n",
              "      <th>g-6</th>\n",
              "      <th>g-7</th>\n",
              "      <th>g-8</th>\n",
              "      <th>g-9</th>\n",
              "      <th>g-10</th>\n",
              "      <th>g-11</th>\n",
              "      <th>g-12</th>\n",
              "      <th>g-13</th>\n",
              "      <th>g-14</th>\n",
              "      <th>g-15</th>\n",
              "      <th>g-16</th>\n",
              "      <th>g-17</th>\n",
              "      <th>g-18</th>\n",
              "      <th>g-19</th>\n",
              "      <th>g-20</th>\n",
              "      <th>g-21</th>\n",
              "      <th>g-22</th>\n",
              "      <th>g-23</th>\n",
              "      <th>g-24</th>\n",
              "      <th>g-25</th>\n",
              "      <th>g-26</th>\n",
              "      <th>g-27</th>\n",
              "      <th>g-28</th>\n",
              "      <th>g-29</th>\n",
              "      <th>g-30</th>\n",
              "      <th>g-31</th>\n",
              "      <th>g-32</th>\n",
              "      <th>g-33</th>\n",
              "      <th>g-34</th>\n",
              "      <th>...</th>\n",
              "      <th>c-60</th>\n",
              "      <th>c-61</th>\n",
              "      <th>c-62</th>\n",
              "      <th>c-63</th>\n",
              "      <th>c-64</th>\n",
              "      <th>c-65</th>\n",
              "      <th>c-66</th>\n",
              "      <th>c-67</th>\n",
              "      <th>c-68</th>\n",
              "      <th>c-69</th>\n",
              "      <th>c-70</th>\n",
              "      <th>c-71</th>\n",
              "      <th>c-72</th>\n",
              "      <th>c-73</th>\n",
              "      <th>c-74</th>\n",
              "      <th>c-75</th>\n",
              "      <th>c-76</th>\n",
              "      <th>c-77</th>\n",
              "      <th>c-78</th>\n",
              "      <th>c-79</th>\n",
              "      <th>c-80</th>\n",
              "      <th>c-81</th>\n",
              "      <th>c-82</th>\n",
              "      <th>c-83</th>\n",
              "      <th>c-84</th>\n",
              "      <th>c-85</th>\n",
              "      <th>c-86</th>\n",
              "      <th>c-87</th>\n",
              "      <th>c-88</th>\n",
              "      <th>c-89</th>\n",
              "      <th>c-90</th>\n",
              "      <th>c-91</th>\n",
              "      <th>c-92</th>\n",
              "      <th>c-93</th>\n",
              "      <th>c-94</th>\n",
              "      <th>c-95</th>\n",
              "      <th>c-96</th>\n",
              "      <th>c-97</th>\n",
              "      <th>c-98</th>\n",
              "      <th>c-99</th>\n",
              "    </tr>\n",
              "  </thead>\n",
              "  <tbody>\n",
              "    <tr>\n",
              "      <th>7</th>\n",
              "      <td>id_0020d0484</td>\n",
              "      <td>com_droga</td>\n",
              "      <td>48</td>\n",
              "      <td>D1</td>\n",
              "      <td>8b87a7a83</td>\n",
              "      <td>0.2711</td>\n",
              "      <td>0.5133</td>\n",
              "      <td>-0.1327</td>\n",
              "      <td>2.5950</td>\n",
              "      <td>0.6980</td>\n",
              "      <td>0.5846</td>\n",
              "      <td>-0.2633</td>\n",
              "      <td>-2.1490</td>\n",
              "      <td>0.4881</td>\n",
              "      <td>1.4750</td>\n",
              "      <td>-0.0488</td>\n",
              "      <td>-0.0561</td>\n",
              "      <td>0.1641</td>\n",
              "      <td>0.1749</td>\n",
              "      <td>-0.3464</td>\n",
              "      <td>-0.1811</td>\n",
              "      <td>0.5685</td>\n",
              "      <td>1.2970</td>\n",
              "      <td>1.0510</td>\n",
              "      <td>-0.9585</td>\n",
              "      <td>0.7911</td>\n",
              "      <td>-0.2991</td>\n",
              "      <td>2.7420</td>\n",
              "      <td>-0.5979</td>\n",
              "      <td>-1.0240</td>\n",
              "      <td>0.7268</td>\n",
              "      <td>0.1590</td>\n",
              "      <td>-1.9730</td>\n",
              "      <td>1.1340</td>\n",
              "      <td>-2.5720</td>\n",
              "      <td>0.2068</td>\n",
              "      <td>0.9992</td>\n",
              "      <td>-0.1958</td>\n",
              "      <td>0.2262</td>\n",
              "      <td>1.0140</td>\n",
              "      <td>...</td>\n",
              "      <td>-0.2623</td>\n",
              "      <td>-0.5500</td>\n",
              "      <td>-0.0530</td>\n",
              "      <td>0.2077</td>\n",
              "      <td>-0.0825</td>\n",
              "      <td>0.2156</td>\n",
              "      <td>0.8142</td>\n",
              "      <td>1.0990</td>\n",
              "      <td>1.0860</td>\n",
              "      <td>0.4011</td>\n",
              "      <td>-0.1342</td>\n",
              "      <td>0.4653</td>\n",
              "      <td>-0.1104</td>\n",
              "      <td>0.3935</td>\n",
              "      <td>1.2370</td>\n",
              "      <td>-0.5072</td>\n",
              "      <td>0.0351</td>\n",
              "      <td>0.5084</td>\n",
              "      <td>-0.1248</td>\n",
              "      <td>0.4351</td>\n",
              "      <td>0.1389</td>\n",
              "      <td>0.6726</td>\n",
              "      <td>0.6070</td>\n",
              "      <td>0.3431</td>\n",
              "      <td>-0.4116</td>\n",
              "      <td>0.1194</td>\n",
              "      <td>0.3420</td>\n",
              "      <td>0.1331</td>\n",
              "      <td>0.8541</td>\n",
              "      <td>0.6282</td>\n",
              "      <td>0.3230</td>\n",
              "      <td>-0.4140</td>\n",
              "      <td>0.2532</td>\n",
              "      <td>0.0513</td>\n",
              "      <td>0.8600</td>\n",
              "      <td>1.4250</td>\n",
              "      <td>0.6633</td>\n",
              "      <td>0.4562</td>\n",
              "      <td>-0.9622</td>\n",
              "      <td>0.0260</td>\n",
              "    </tr>\n",
              "    <tr>\n",
              "      <th>16</th>\n",
              "      <td>id_002fb9c19</td>\n",
              "      <td>com_droga</td>\n",
              "      <td>48</td>\n",
              "      <td>D1</td>\n",
              "      <td>87d714366</td>\n",
              "      <td>8.7380</td>\n",
              "      <td>0.1914</td>\n",
              "      <td>2.4380</td>\n",
              "      <td>-0.2930</td>\n",
              "      <td>3.2010</td>\n",
              "      <td>1.4910</td>\n",
              "      <td>5.3920</td>\n",
              "      <td>-1.0420</td>\n",
              "      <td>-8.4860</td>\n",
              "      <td>-2.5790</td>\n",
              "      <td>-6.7470</td>\n",
              "      <td>3.6150</td>\n",
              "      <td>-1.4510</td>\n",
              "      <td>0.6909</td>\n",
              "      <td>-0.7623</td>\n",
              "      <td>-2.9400</td>\n",
              "      <td>-9.2850</td>\n",
              "      <td>-6.7110</td>\n",
              "      <td>-0.4195</td>\n",
              "      <td>1.1600</td>\n",
              "      <td>-1.3180</td>\n",
              "      <td>1.3660</td>\n",
              "      <td>-1.4020</td>\n",
              "      <td>-2.6220</td>\n",
              "      <td>0.7204</td>\n",
              "      <td>-2.5930</td>\n",
              "      <td>-4.0630</td>\n",
              "      <td>-0.8282</td>\n",
              "      <td>-3.5000</td>\n",
              "      <td>0.9206</td>\n",
              "      <td>-5.1450</td>\n",
              "      <td>9.8040</td>\n",
              "      <td>-2.6840</td>\n",
              "      <td>-2.4390</td>\n",
              "      <td>-0.1427</td>\n",
              "      <td>...</td>\n",
              "      <td>-10.0000</td>\n",
              "      <td>-9.5910</td>\n",
              "      <td>-10.0000</td>\n",
              "      <td>-10.0000</td>\n",
              "      <td>-8.5110</td>\n",
              "      <td>-10.0000</td>\n",
              "      <td>-10.0000</td>\n",
              "      <td>-10.0000</td>\n",
              "      <td>-10.0000</td>\n",
              "      <td>-8.8870</td>\n",
              "      <td>-10.0000</td>\n",
              "      <td>-10.0000</td>\n",
              "      <td>-10.0000</td>\n",
              "      <td>-10.0000</td>\n",
              "      <td>-4.9020</td>\n",
              "      <td>-9.9840</td>\n",
              "      <td>-5.5520</td>\n",
              "      <td>-9.9840</td>\n",
              "      <td>-9.9840</td>\n",
              "      <td>-9.9840</td>\n",
              "      <td>-9.9840</td>\n",
              "      <td>-9.9840</td>\n",
              "      <td>-9.9840</td>\n",
              "      <td>-9.9840</td>\n",
              "      <td>-9.9840</td>\n",
              "      <td>-9.9840</td>\n",
              "      <td>-9.7960</td>\n",
              "      <td>-8.1770</td>\n",
              "      <td>-9.8990</td>\n",
              "      <td>-9.9840</td>\n",
              "      <td>-9.9840</td>\n",
              "      <td>-9.9840</td>\n",
              "      <td>-9.9840</td>\n",
              "      <td>-9.9840</td>\n",
              "      <td>-9.9840</td>\n",
              "      <td>-9.9840</td>\n",
              "      <td>-9.9840</td>\n",
              "      <td>-9.9840</td>\n",
              "      <td>-9.9840</td>\n",
              "      <td>-6.7840</td>\n",
              "    </tr>\n",
              "    <tr>\n",
              "      <th>25</th>\n",
              "      <td>id_0054388ec</td>\n",
              "      <td>com_controle</td>\n",
              "      <td>48</td>\n",
              "      <td>D1</td>\n",
              "      <td>cacb2b860</td>\n",
              "      <td>-0.6696</td>\n",
              "      <td>-0.2718</td>\n",
              "      <td>-1.2230</td>\n",
              "      <td>-0.6226</td>\n",
              "      <td>-0.7220</td>\n",
              "      <td>0.1588</td>\n",
              "      <td>0.7785</td>\n",
              "      <td>0.7062</td>\n",
              "      <td>-0.7951</td>\n",
              "      <td>1.3770</td>\n",
              "      <td>0.2856</td>\n",
              "      <td>-0.8331</td>\n",
              "      <td>0.3879</td>\n",
              "      <td>1.3290</td>\n",
              "      <td>-0.4746</td>\n",
              "      <td>0.0857</td>\n",
              "      <td>-0.2745</td>\n",
              "      <td>-0.1093</td>\n",
              "      <td>0.2603</td>\n",
              "      <td>0.7386</td>\n",
              "      <td>-0.6665</td>\n",
              "      <td>-1.6520</td>\n",
              "      <td>-0.9262</td>\n",
              "      <td>0.0000</td>\n",
              "      <td>1.6310</td>\n",
              "      <td>-0.2933</td>\n",
              "      <td>0.2043</td>\n",
              "      <td>-2.2070</td>\n",
              "      <td>0.1383</td>\n",
              "      <td>-0.4966</td>\n",
              "      <td>0.6922</td>\n",
              "      <td>-0.4077</td>\n",
              "      <td>0.2303</td>\n",
              "      <td>-0.0456</td>\n",
              "      <td>-0.7447</td>\n",
              "      <td>...</td>\n",
              "      <td>0.6976</td>\n",
              "      <td>-0.0178</td>\n",
              "      <td>0.3768</td>\n",
              "      <td>0.4318</td>\n",
              "      <td>-0.1051</td>\n",
              "      <td>0.3933</td>\n",
              "      <td>-0.3189</td>\n",
              "      <td>0.4128</td>\n",
              "      <td>-0.2116</td>\n",
              "      <td>-1.0410</td>\n",
              "      <td>0.7798</td>\n",
              "      <td>0.1579</td>\n",
              "      <td>1.7250</td>\n",
              "      <td>1.4490</td>\n",
              "      <td>0.9117</td>\n",
              "      <td>-0.0754</td>\n",
              "      <td>-0.8396</td>\n",
              "      <td>0.7640</td>\n",
              "      <td>1.2080</td>\n",
              "      <td>1.1890</td>\n",
              "      <td>0.2114</td>\n",
              "      <td>0.6335</td>\n",
              "      <td>0.3265</td>\n",
              "      <td>-0.1056</td>\n",
              "      <td>0.5478</td>\n",
              "      <td>0.7477</td>\n",
              "      <td>1.2340</td>\n",
              "      <td>0.5035</td>\n",
              "      <td>-0.6591</td>\n",
              "      <td>0.3023</td>\n",
              "      <td>0.6171</td>\n",
              "      <td>0.6405</td>\n",
              "      <td>0.5429</td>\n",
              "      <td>0.3562</td>\n",
              "      <td>1.3290</td>\n",
              "      <td>0.5573</td>\n",
              "      <td>0.8837</td>\n",
              "      <td>0.5534</td>\n",
              "      <td>0.8976</td>\n",
              "      <td>1.0050</td>\n",
              "    </tr>\n",
              "    <tr>\n",
              "      <th>38</th>\n",
              "      <td>id_0079af0fb</td>\n",
              "      <td>com_controle</td>\n",
              "      <td>24</td>\n",
              "      <td>D1</td>\n",
              "      <td>cacb2b860</td>\n",
              "      <td>-0.1636</td>\n",
              "      <td>-1.8230</td>\n",
              "      <td>-0.5211</td>\n",
              "      <td>0.3054</td>\n",
              "      <td>-1.1280</td>\n",
              "      <td>0.6041</td>\n",
              "      <td>0.3856</td>\n",
              "      <td>-0.1670</td>\n",
              "      <td>-0.5400</td>\n",
              "      <td>0.2721</td>\n",
              "      <td>-0.2479</td>\n",
              "      <td>0.0761</td>\n",
              "      <td>-0.4054</td>\n",
              "      <td>2.9760</td>\n",
              "      <td>-0.7679</td>\n",
              "      <td>0.6995</td>\n",
              "      <td>0.0752</td>\n",
              "      <td>0.5943</td>\n",
              "      <td>0.4266</td>\n",
              "      <td>0.0000</td>\n",
              "      <td>1.0410</td>\n",
              "      <td>-0.1131</td>\n",
              "      <td>0.6593</td>\n",
              "      <td>-0.6890</td>\n",
              "      <td>0.5115</td>\n",
              "      <td>-0.2512</td>\n",
              "      <td>-0.8775</td>\n",
              "      <td>-1.3810</td>\n",
              "      <td>0.1419</td>\n",
              "      <td>-0.0363</td>\n",
              "      <td>0.2559</td>\n",
              "      <td>2.5290</td>\n",
              "      <td>0.2853</td>\n",
              "      <td>1.4690</td>\n",
              "      <td>-0.3626</td>\n",
              "      <td>...</td>\n",
              "      <td>-0.3420</td>\n",
              "      <td>0.2815</td>\n",
              "      <td>-0.7493</td>\n",
              "      <td>-0.2701</td>\n",
              "      <td>0.1205</td>\n",
              "      <td>0.2396</td>\n",
              "      <td>0.3506</td>\n",
              "      <td>-0.9233</td>\n",
              "      <td>0.2490</td>\n",
              "      <td>-0.0824</td>\n",
              "      <td>0.4841</td>\n",
              "      <td>1.1940</td>\n",
              "      <td>-1.1650</td>\n",
              "      <td>-0.4853</td>\n",
              "      <td>1.1080</td>\n",
              "      <td>-0.5979</td>\n",
              "      <td>0.7438</td>\n",
              "      <td>0.2050</td>\n",
              "      <td>-0.2761</td>\n",
              "      <td>-0.1748</td>\n",
              "      <td>0.3385</td>\n",
              "      <td>-0.3500</td>\n",
              "      <td>-0.0309</td>\n",
              "      <td>-0.0409</td>\n",
              "      <td>-0.0735</td>\n",
              "      <td>0.2732</td>\n",
              "      <td>-1.2100</td>\n",
              "      <td>0.0089</td>\n",
              "      <td>0.0317</td>\n",
              "      <td>0.4721</td>\n",
              "      <td>-0.3880</td>\n",
              "      <td>-0.6828</td>\n",
              "      <td>-0.6594</td>\n",
              "      <td>-0.2043</td>\n",
              "      <td>0.3571</td>\n",
              "      <td>-0.1319</td>\n",
              "      <td>0.2187</td>\n",
              "      <td>0.0737</td>\n",
              "      <td>0.6498</td>\n",
              "      <td>-1.4820</td>\n",
              "    </tr>\n",
              "    <tr>\n",
              "      <th>40</th>\n",
              "      <td>id_007bfbb91</td>\n",
              "      <td>com_controle</td>\n",
              "      <td>24</td>\n",
              "      <td>D2</td>\n",
              "      <td>cacb2b860</td>\n",
              "      <td>-1.3200</td>\n",
              "      <td>-1.7340</td>\n",
              "      <td>-0.0741</td>\n",
              "      <td>1.5440</td>\n",
              "      <td>-1.8290</td>\n",
              "      <td>-0.0951</td>\n",
              "      <td>0.3829</td>\n",
              "      <td>-1.8700</td>\n",
              "      <td>-0.0324</td>\n",
              "      <td>2.7670</td>\n",
              "      <td>-0.0438</td>\n",
              "      <td>-0.0147</td>\n",
              "      <td>0.1276</td>\n",
              "      <td>0.2968</td>\n",
              "      <td>-0.0704</td>\n",
              "      <td>-0.3767</td>\n",
              "      <td>2.5790</td>\n",
              "      <td>0.4069</td>\n",
              "      <td>-0.3868</td>\n",
              "      <td>-0.2782</td>\n",
              "      <td>1.8180</td>\n",
              "      <td>-2.9390</td>\n",
              "      <td>-0.1150</td>\n",
              "      <td>-0.8009</td>\n",
              "      <td>-1.4440</td>\n",
              "      <td>0.5412</td>\n",
              "      <td>-0.0804</td>\n",
              "      <td>-0.4444</td>\n",
              "      <td>2.9230</td>\n",
              "      <td>2.8270</td>\n",
              "      <td>-0.3437</td>\n",
              "      <td>1.6570</td>\n",
              "      <td>-1.9200</td>\n",
              "      <td>0.3442</td>\n",
              "      <td>1.7160</td>\n",
              "      <td>...</td>\n",
              "      <td>0.4009</td>\n",
              "      <td>0.7649</td>\n",
              "      <td>0.2789</td>\n",
              "      <td>0.4465</td>\n",
              "      <td>0.9492</td>\n",
              "      <td>0.6385</td>\n",
              "      <td>1.5510</td>\n",
              "      <td>-0.1220</td>\n",
              "      <td>0.6688</td>\n",
              "      <td>0.4396</td>\n",
              "      <td>0.6947</td>\n",
              "      <td>0.9761</td>\n",
              "      <td>1.2430</td>\n",
              "      <td>1.4770</td>\n",
              "      <td>-0.0081</td>\n",
              "      <td>1.0040</td>\n",
              "      <td>1.4420</td>\n",
              "      <td>-0.3482</td>\n",
              "      <td>0.3297</td>\n",
              "      <td>1.2070</td>\n",
              "      <td>0.0524</td>\n",
              "      <td>0.5346</td>\n",
              "      <td>0.7643</td>\n",
              "      <td>0.4067</td>\n",
              "      <td>0.3817</td>\n",
              "      <td>0.4566</td>\n",
              "      <td>0.7736</td>\n",
              "      <td>0.5316</td>\n",
              "      <td>0.2790</td>\n",
              "      <td>0.9735</td>\n",
              "      <td>0.7412</td>\n",
              "      <td>1.0340</td>\n",
              "      <td>0.7393</td>\n",
              "      <td>1.1020</td>\n",
              "      <td>0.3786</td>\n",
              "      <td>0.2636</td>\n",
              "      <td>-0.5751</td>\n",
              "      <td>0.3362</td>\n",
              "      <td>0.8543</td>\n",
              "      <td>0.9180</td>\n",
              "    </tr>\n",
              "    <tr>\n",
              "      <th>...</th>\n",
              "      <td>...</td>\n",
              "      <td>...</td>\n",
              "      <td>...</td>\n",
              "      <td>...</td>\n",
              "      <td>...</td>\n",
              "      <td>...</td>\n",
              "      <td>...</td>\n",
              "      <td>...</td>\n",
              "      <td>...</td>\n",
              "      <td>...</td>\n",
              "      <td>...</td>\n",
              "      <td>...</td>\n",
              "      <td>...</td>\n",
              "      <td>...</td>\n",
              "      <td>...</td>\n",
              "      <td>...</td>\n",
              "      <td>...</td>\n",
              "      <td>...</td>\n",
              "      <td>...</td>\n",
              "      <td>...</td>\n",
              "      <td>...</td>\n",
              "      <td>...</td>\n",
              "      <td>...</td>\n",
              "      <td>...</td>\n",
              "      <td>...</td>\n",
              "      <td>...</td>\n",
              "      <td>...</td>\n",
              "      <td>...</td>\n",
              "      <td>...</td>\n",
              "      <td>...</td>\n",
              "      <td>...</td>\n",
              "      <td>...</td>\n",
              "      <td>...</td>\n",
              "      <td>...</td>\n",
              "      <td>...</td>\n",
              "      <td>...</td>\n",
              "      <td>...</td>\n",
              "      <td>...</td>\n",
              "      <td>...</td>\n",
              "      <td>...</td>\n",
              "      <td>...</td>\n",
              "      <td>...</td>\n",
              "      <td>...</td>\n",
              "      <td>...</td>\n",
              "      <td>...</td>\n",
              "      <td>...</td>\n",
              "      <td>...</td>\n",
              "      <td>...</td>\n",
              "      <td>...</td>\n",
              "      <td>...</td>\n",
              "      <td>...</td>\n",
              "      <td>...</td>\n",
              "      <td>...</td>\n",
              "      <td>...</td>\n",
              "      <td>...</td>\n",
              "      <td>...</td>\n",
              "      <td>...</td>\n",
              "      <td>...</td>\n",
              "      <td>...</td>\n",
              "      <td>...</td>\n",
              "      <td>...</td>\n",
              "      <td>...</td>\n",
              "      <td>...</td>\n",
              "      <td>...</td>\n",
              "      <td>...</td>\n",
              "      <td>...</td>\n",
              "      <td>...</td>\n",
              "      <td>...</td>\n",
              "      <td>...</td>\n",
              "      <td>...</td>\n",
              "      <td>...</td>\n",
              "      <td>...</td>\n",
              "      <td>...</td>\n",
              "      <td>...</td>\n",
              "      <td>...</td>\n",
              "      <td>...</td>\n",
              "      <td>...</td>\n",
              "      <td>...</td>\n",
              "      <td>...</td>\n",
              "      <td>...</td>\n",
              "      <td>...</td>\n",
              "    </tr>\n",
              "    <tr>\n",
              "      <th>23793</th>\n",
              "      <td>id_ffd26f361</td>\n",
              "      <td>com_controle</td>\n",
              "      <td>48</td>\n",
              "      <td>D2</td>\n",
              "      <td>cacb2b860</td>\n",
              "      <td>0.6008</td>\n",
              "      <td>0.2781</td>\n",
              "      <td>-0.3319</td>\n",
              "      <td>-0.8782</td>\n",
              "      <td>0.9281</td>\n",
              "      <td>0.7535</td>\n",
              "      <td>0.5971</td>\n",
              "      <td>1.6350</td>\n",
              "      <td>-0.3146</td>\n",
              "      <td>0.4984</td>\n",
              "      <td>-1.1890</td>\n",
              "      <td>0.3772</td>\n",
              "      <td>-0.8196</td>\n",
              "      <td>0.1083</td>\n",
              "      <td>-2.0350</td>\n",
              "      <td>0.4135</td>\n",
              "      <td>0.7586</td>\n",
              "      <td>-0.4024</td>\n",
              "      <td>-0.0449</td>\n",
              "      <td>0.3335</td>\n",
              "      <td>0.2358</td>\n",
              "      <td>0.7919</td>\n",
              "      <td>-0.8775</td>\n",
              "      <td>0.4232</td>\n",
              "      <td>1.8460</td>\n",
              "      <td>-2.0940</td>\n",
              "      <td>0.1438</td>\n",
              "      <td>-0.6604</td>\n",
              "      <td>0.7243</td>\n",
              "      <td>0.0338</td>\n",
              "      <td>-0.0182</td>\n",
              "      <td>-0.2022</td>\n",
              "      <td>0.8827</td>\n",
              "      <td>0.3147</td>\n",
              "      <td>-0.9263</td>\n",
              "      <td>...</td>\n",
              "      <td>0.1934</td>\n",
              "      <td>1.2240</td>\n",
              "      <td>-0.1178</td>\n",
              "      <td>0.1459</td>\n",
              "      <td>-0.1242</td>\n",
              "      <td>0.3106</td>\n",
              "      <td>-0.7959</td>\n",
              "      <td>0.5681</td>\n",
              "      <td>0.3663</td>\n",
              "      <td>0.4874</td>\n",
              "      <td>-0.0548</td>\n",
              "      <td>0.1810</td>\n",
              "      <td>1.3470</td>\n",
              "      <td>1.6210</td>\n",
              "      <td>-0.8260</td>\n",
              "      <td>0.3377</td>\n",
              "      <td>0.3264</td>\n",
              "      <td>0.9241</td>\n",
              "      <td>0.3012</td>\n",
              "      <td>1.2980</td>\n",
              "      <td>-0.2789</td>\n",
              "      <td>0.7019</td>\n",
              "      <td>-0.3528</td>\n",
              "      <td>0.7383</td>\n",
              "      <td>1.0300</td>\n",
              "      <td>0.6527</td>\n",
              "      <td>1.6750</td>\n",
              "      <td>-0.5046</td>\n",
              "      <td>0.2942</td>\n",
              "      <td>0.2950</td>\n",
              "      <td>1.2470</td>\n",
              "      <td>0.9569</td>\n",
              "      <td>-0.2065</td>\n",
              "      <td>-0.4918</td>\n",
              "      <td>0.7863</td>\n",
              "      <td>0.0504</td>\n",
              "      <td>0.8813</td>\n",
              "      <td>0.7757</td>\n",
              "      <td>-0.5272</td>\n",
              "      <td>0.7082</td>\n",
              "    </tr>\n",
              "    <tr>\n",
              "      <th>23802</th>\n",
              "      <td>id_fff3976bd</td>\n",
              "      <td>com_droga</td>\n",
              "      <td>24</td>\n",
              "      <td>D1</td>\n",
              "      <td>87d714366</td>\n",
              "      <td>3.2890</td>\n",
              "      <td>2.1270</td>\n",
              "      <td>0.9770</td>\n",
              "      <td>2.0490</td>\n",
              "      <td>2.3170</td>\n",
              "      <td>-0.5355</td>\n",
              "      <td>-0.6357</td>\n",
              "      <td>-6.9060</td>\n",
              "      <td>-4.4830</td>\n",
              "      <td>-2.8400</td>\n",
              "      <td>-5.3310</td>\n",
              "      <td>0.6547</td>\n",
              "      <td>-2.2080</td>\n",
              "      <td>3.6030</td>\n",
              "      <td>0.6380</td>\n",
              "      <td>-2.1280</td>\n",
              "      <td>-3.1680</td>\n",
              "      <td>-4.2180</td>\n",
              "      <td>-0.3170</td>\n",
              "      <td>0.2140</td>\n",
              "      <td>-1.7660</td>\n",
              "      <td>-1.9700</td>\n",
              "      <td>-1.4820</td>\n",
              "      <td>-1.3710</td>\n",
              "      <td>-0.2628</td>\n",
              "      <td>-0.5276</td>\n",
              "      <td>-2.4160</td>\n",
              "      <td>-0.4638</td>\n",
              "      <td>-3.8630</td>\n",
              "      <td>-0.8880</td>\n",
              "      <td>-1.9850</td>\n",
              "      <td>2.0530</td>\n",
              "      <td>-1.4700</td>\n",
              "      <td>-3.3220</td>\n",
              "      <td>1.8800</td>\n",
              "      <td>...</td>\n",
              "      <td>-9.9170</td>\n",
              "      <td>-4.0200</td>\n",
              "      <td>-6.7560</td>\n",
              "      <td>-9.9170</td>\n",
              "      <td>-4.1240</td>\n",
              "      <td>-8.5110</td>\n",
              "      <td>-5.7500</td>\n",
              "      <td>-8.4760</td>\n",
              "      <td>-6.9470</td>\n",
              "      <td>-4.7650</td>\n",
              "      <td>-9.7690</td>\n",
              "      <td>-5.7900</td>\n",
              "      <td>-9.9170</td>\n",
              "      <td>-5.7450</td>\n",
              "      <td>-2.3570</td>\n",
              "      <td>-9.1190</td>\n",
              "      <td>-4.5980</td>\n",
              "      <td>-8.7760</td>\n",
              "      <td>-7.7980</td>\n",
              "      <td>-4.1620</td>\n",
              "      <td>-6.1510</td>\n",
              "      <td>-5.7400</td>\n",
              "      <td>-6.8700</td>\n",
              "      <td>-9.1000</td>\n",
              "      <td>-3.3360</td>\n",
              "      <td>-6.6420</td>\n",
              "      <td>-2.2750</td>\n",
              "      <td>-3.4720</td>\n",
              "      <td>-6.2670</td>\n",
              "      <td>-6.3980</td>\n",
              "      <td>-8.6300</td>\n",
              "      <td>-8.1490</td>\n",
              "      <td>-6.2900</td>\n",
              "      <td>-8.0970</td>\n",
              "      <td>-8.7330</td>\n",
              "      <td>-2.3780</td>\n",
              "      <td>-8.4480</td>\n",
              "      <td>-4.4550</td>\n",
              "      <td>-5.7930</td>\n",
              "      <td>-3.7000</td>\n",
              "    </tr>\n",
              "    <tr>\n",
              "      <th>23805</th>\n",
              "      <td>id_fff6df1c5</td>\n",
              "      <td>com_droga</td>\n",
              "      <td>48</td>\n",
              "      <td>D2</td>\n",
              "      <td>5628cb3ee</td>\n",
              "      <td>1.7380</td>\n",
              "      <td>-1.2900</td>\n",
              "      <td>-0.4533</td>\n",
              "      <td>-1.1640</td>\n",
              "      <td>-0.4841</td>\n",
              "      <td>-0.2392</td>\n",
              "      <td>-0.1774</td>\n",
              "      <td>-1.3980</td>\n",
              "      <td>-0.4059</td>\n",
              "      <td>0.1553</td>\n",
              "      <td>0.1083</td>\n",
              "      <td>-0.8020</td>\n",
              "      <td>-0.5039</td>\n",
              "      <td>-0.7167</td>\n",
              "      <td>-0.5016</td>\n",
              "      <td>-0.9369</td>\n",
              "      <td>-0.5864</td>\n",
              "      <td>-0.1009</td>\n",
              "      <td>0.8987</td>\n",
              "      <td>0.3389</td>\n",
              "      <td>-1.3460</td>\n",
              "      <td>-0.5087</td>\n",
              "      <td>-0.0892</td>\n",
              "      <td>-0.6559</td>\n",
              "      <td>0.0864</td>\n",
              "      <td>-0.6251</td>\n",
              "      <td>0.2471</td>\n",
              "      <td>-0.4523</td>\n",
              "      <td>-0.0389</td>\n",
              "      <td>1.0340</td>\n",
              "      <td>0.0796</td>\n",
              "      <td>-0.2560</td>\n",
              "      <td>-0.7851</td>\n",
              "      <td>-0.1687</td>\n",
              "      <td>-1.2890</td>\n",
              "      <td>...</td>\n",
              "      <td>0.2866</td>\n",
              "      <td>0.3854</td>\n",
              "      <td>-0.4986</td>\n",
              "      <td>0.2883</td>\n",
              "      <td>0.5843</td>\n",
              "      <td>0.0907</td>\n",
              "      <td>-0.9303</td>\n",
              "      <td>0.1981</td>\n",
              "      <td>0.6515</td>\n",
              "      <td>0.2877</td>\n",
              "      <td>0.4389</td>\n",
              "      <td>-0.3859</td>\n",
              "      <td>0.5203</td>\n",
              "      <td>-1.1070</td>\n",
              "      <td>2.3870</td>\n",
              "      <td>0.1820</td>\n",
              "      <td>-0.6434</td>\n",
              "      <td>-0.9722</td>\n",
              "      <td>-0.4200</td>\n",
              "      <td>-0.5693</td>\n",
              "      <td>1.0700</td>\n",
              "      <td>1.1110</td>\n",
              "      <td>-0.5117</td>\n",
              "      <td>-1.2130</td>\n",
              "      <td>0.3769</td>\n",
              "      <td>0.5296</td>\n",
              "      <td>1.0400</td>\n",
              "      <td>0.0587</td>\n",
              "      <td>1.0150</td>\n",
              "      <td>-0.7669</td>\n",
              "      <td>0.2865</td>\n",
              "      <td>0.5974</td>\n",
              "      <td>-0.2727</td>\n",
              "      <td>0.1188</td>\n",
              "      <td>1.0770</td>\n",
              "      <td>-1.0250</td>\n",
              "      <td>0.1516</td>\n",
              "      <td>0.4503</td>\n",
              "      <td>-0.6312</td>\n",
              "      <td>-0.8302</td>\n",
              "    </tr>\n",
              "    <tr>\n",
              "      <th>23811</th>\n",
              "      <td>id_fffc1c3f4</td>\n",
              "      <td>com_controle</td>\n",
              "      <td>48</td>\n",
              "      <td>D2</td>\n",
              "      <td>cacb2b860</td>\n",
              "      <td>0.3942</td>\n",
              "      <td>0.3756</td>\n",
              "      <td>0.3109</td>\n",
              "      <td>-0.7389</td>\n",
              "      <td>0.5505</td>\n",
              "      <td>-0.0159</td>\n",
              "      <td>-0.2541</td>\n",
              "      <td>0.1745</td>\n",
              "      <td>-0.0340</td>\n",
              "      <td>0.4865</td>\n",
              "      <td>-0.1854</td>\n",
              "      <td>0.0716</td>\n",
              "      <td>0.1729</td>\n",
              "      <td>-0.0434</td>\n",
              "      <td>0.1542</td>\n",
              "      <td>-0.2192</td>\n",
              "      <td>-0.0302</td>\n",
              "      <td>-0.4218</td>\n",
              "      <td>0.4057</td>\n",
              "      <td>-0.5372</td>\n",
              "      <td>0.1521</td>\n",
              "      <td>-0.2651</td>\n",
              "      <td>0.2310</td>\n",
              "      <td>-0.8101</td>\n",
              "      <td>0.4943</td>\n",
              "      <td>0.6905</td>\n",
              "      <td>-0.3720</td>\n",
              "      <td>-1.4110</td>\n",
              "      <td>0.4516</td>\n",
              "      <td>1.2300</td>\n",
              "      <td>-0.1949</td>\n",
              "      <td>-1.3280</td>\n",
              "      <td>-0.4276</td>\n",
              "      <td>-0.0040</td>\n",
              "      <td>-0.3086</td>\n",
              "      <td>...</td>\n",
              "      <td>0.6845</td>\n",
              "      <td>0.7127</td>\n",
              "      <td>0.7294</td>\n",
              "      <td>0.4718</td>\n",
              "      <td>-0.2020</td>\n",
              "      <td>0.2783</td>\n",
              "      <td>0.4934</td>\n",
              "      <td>0.4144</td>\n",
              "      <td>0.5449</td>\n",
              "      <td>1.4690</td>\n",
              "      <td>-0.6142</td>\n",
              "      <td>0.6068</td>\n",
              "      <td>0.3434</td>\n",
              "      <td>0.9880</td>\n",
              "      <td>-0.0468</td>\n",
              "      <td>-0.1882</td>\n",
              "      <td>-0.0087</td>\n",
              "      <td>-0.0356</td>\n",
              "      <td>0.5718</td>\n",
              "      <td>0.4971</td>\n",
              "      <td>0.1057</td>\n",
              "      <td>0.2111</td>\n",
              "      <td>0.6992</td>\n",
              "      <td>0.0708</td>\n",
              "      <td>0.6169</td>\n",
              "      <td>0.2248</td>\n",
              "      <td>0.5994</td>\n",
              "      <td>0.2689</td>\n",
              "      <td>0.0305</td>\n",
              "      <td>1.2320</td>\n",
              "      <td>0.5409</td>\n",
              "      <td>0.3755</td>\n",
              "      <td>0.7343</td>\n",
              "      <td>0.2807</td>\n",
              "      <td>0.4116</td>\n",
              "      <td>0.6422</td>\n",
              "      <td>0.2256</td>\n",
              "      <td>0.7592</td>\n",
              "      <td>0.6656</td>\n",
              "      <td>0.3808</td>\n",
              "    </tr>\n",
              "    <tr>\n",
              "      <th>23812</th>\n",
              "      <td>id_fffcb9e7c</td>\n",
              "      <td>com_droga</td>\n",
              "      <td>24</td>\n",
              "      <td>D1</td>\n",
              "      <td>8b87a7a83</td>\n",
              "      <td>0.6660</td>\n",
              "      <td>0.2324</td>\n",
              "      <td>0.4392</td>\n",
              "      <td>0.2044</td>\n",
              "      <td>0.8531</td>\n",
              "      <td>-0.0343</td>\n",
              "      <td>0.0323</td>\n",
              "      <td>0.0463</td>\n",
              "      <td>0.4299</td>\n",
              "      <td>-0.7985</td>\n",
              "      <td>0.5742</td>\n",
              "      <td>0.1421</td>\n",
              "      <td>2.2700</td>\n",
              "      <td>0.2046</td>\n",
              "      <td>0.5363</td>\n",
              "      <td>-1.7330</td>\n",
              "      <td>0.1450</td>\n",
              "      <td>0.6097</td>\n",
              "      <td>0.2024</td>\n",
              "      <td>0.9865</td>\n",
              "      <td>-0.7805</td>\n",
              "      <td>0.9608</td>\n",
              "      <td>0.3440</td>\n",
              "      <td>2.7650</td>\n",
              "      <td>0.4925</td>\n",
              "      <td>0.6698</td>\n",
              "      <td>0.2374</td>\n",
              "      <td>-0.3372</td>\n",
              "      <td>0.8771</td>\n",
              "      <td>-2.6560</td>\n",
              "      <td>-0.2000</td>\n",
              "      <td>-0.2043</td>\n",
              "      <td>0.6797</td>\n",
              "      <td>-0.0248</td>\n",
              "      <td>-0.0927</td>\n",
              "      <td>...</td>\n",
              "      <td>0.3360</td>\n",
              "      <td>-0.6136</td>\n",
              "      <td>0.5011</td>\n",
              "      <td>0.9261</td>\n",
              "      <td>0.4419</td>\n",
              "      <td>0.0295</td>\n",
              "      <td>0.4220</td>\n",
              "      <td>0.4677</td>\n",
              "      <td>-0.1184</td>\n",
              "      <td>0.4524</td>\n",
              "      <td>0.4135</td>\n",
              "      <td>0.1356</td>\n",
              "      <td>-0.5801</td>\n",
              "      <td>0.0411</td>\n",
              "      <td>1.0240</td>\n",
              "      <td>1.0340</td>\n",
              "      <td>-0.0270</td>\n",
              "      <td>-0.4194</td>\n",
              "      <td>0.7403</td>\n",
              "      <td>-0.6793</td>\n",
              "      <td>-0.1423</td>\n",
              "      <td>0.7307</td>\n",
              "      <td>0.7946</td>\n",
              "      <td>-0.0650</td>\n",
              "      <td>0.9038</td>\n",
              "      <td>0.2324</td>\n",
              "      <td>0.9676</td>\n",
              "      <td>1.0940</td>\n",
              "      <td>0.4290</td>\n",
              "      <td>0.5187</td>\n",
              "      <td>-0.1105</td>\n",
              "      <td>0.4258</td>\n",
              "      <td>-0.2012</td>\n",
              "      <td>0.1506</td>\n",
              "      <td>1.5230</td>\n",
              "      <td>0.7101</td>\n",
              "      <td>0.1732</td>\n",
              "      <td>0.7015</td>\n",
              "      <td>-0.6290</td>\n",
              "      <td>0.0740</td>\n",
              "    </tr>\n",
              "  </tbody>\n",
              "</table>\n",
              "<p>3235 rows × 877 columns</p>\n",
              "</div>"
            ],
            "text/plain": [
              "                 id    tratamento  tempo dose  ...    c-96    c-97    c-98    c-99\n",
              "7      id_0020d0484     com_droga     48   D1  ...  0.6633  0.4562 -0.9622  0.0260\n",
              "16     id_002fb9c19     com_droga     48   D1  ... -9.9840 -9.9840 -9.9840 -6.7840\n",
              "25     id_0054388ec  com_controle     48   D1  ...  0.8837  0.5534  0.8976  1.0050\n",
              "38     id_0079af0fb  com_controle     24   D1  ...  0.2187  0.0737  0.6498 -1.4820\n",
              "40     id_007bfbb91  com_controle     24   D2  ... -0.5751  0.3362  0.8543  0.9180\n",
              "...             ...           ...    ...  ...  ...     ...     ...     ...     ...\n",
              "23793  id_ffd26f361  com_controle     48   D2  ...  0.8813  0.7757 -0.5272  0.7082\n",
              "23802  id_fff3976bd     com_droga     24   D1  ... -8.4480 -4.4550 -5.7930 -3.7000\n",
              "23805  id_fff6df1c5     com_droga     48   D2  ...  0.1516  0.4503 -0.6312 -0.8302\n",
              "23811  id_fffc1c3f4  com_controle     48   D2  ...  0.2256  0.7592  0.6656  0.3808\n",
              "23812  id_fffcb9e7c     com_droga     24   D1  ...  0.1732  0.7015 -0.6290  0.0740\n",
              "\n",
              "[3235 rows x 877 columns]"
            ]
          },
          "metadata": {
            "tags": []
          },
          "execution_count": 11
        }
      ]
    },
    {
      "cell_type": "code",
      "metadata": {
        "colab": {
          "base_uri": "https://localhost:8080/",
          "height": 518
        },
        "id": "iZUKRXFP1fWA",
        "outputId": "6996dcf6-95ad-4dfb-99b7-87774c5f2363"
      },
      "source": [
        "sns.set()\n",
        "plt.figure(figsize=(10, 8))\n",
        "\n",
        "ax = sns.countplot(x = 'composto', data=dados.query('composto in @cod_compostos'))\n",
        "ax.set_title('Top 5 Compostos')\n",
        "plt.show()"
      ],
      "execution_count": null,
      "outputs": [
        {
          "output_type": "display_data",
          "data": {
            "image/png": "[encoded data removed]",
            "text/plain": [
              "<Figure size 720x576 with 1 Axes>"
            ]
          },
          "metadata": {
            "tags": []
          }
        }
      ]
    },
    {
      "cell_type": "markdown",
      "metadata": {
        "id": "0A50JoZx1hBQ"
      },
      "source": [
        "### Trabalhando com as colunas gn e cn"
      ]
    },
    {
      "cell_type": "markdown",
      "metadata": {
        "id": "IxDbSfFz1zsD"
      },
      "source": [
        "Quantidade de valores únicos"
      ]
    },
    {
      "cell_type": "code",
      "metadata": {
        "colab": {
          "base_uri": "https://localhost:8080/"
        },
        "id": "DW-rCzTL1x5k",
        "outputId": "3fb5b1e6-befe-4cf7-c856-137af99cc0c9"
      },
      "source": [
        "len(dados['g-0'].unique())"
      ],
      "execution_count": null,
      "outputs": [
        {
          "output_type": "execute_result",
          "data": {
            "text/plain": [
              "14367"
            ]
          },
          "metadata": {
            "tags": []
          },
          "execution_count": 13
        }
      ]
    },
    {
      "cell_type": "markdown",
      "metadata": {
        "id": "3pWZyha213hV"
      },
      "source": [
        "Valor mínimo"
      ]
    },
    {
      "cell_type": "code",
      "metadata": {
        "colab": {
          "base_uri": "https://localhost:8080/"
        },
        "id": "i6_JNOfo17J4",
        "outputId": "d524cc2d-30c7-4642-d7c6-a289f02e71c7"
      },
      "source": [
        "dados['g-0'].min()"
      ],
      "execution_count": null,
      "outputs": [
        {
          "output_type": "execute_result",
          "data": {
            "text/plain": [
              "-5.513"
            ]
          },
          "metadata": {
            "tags": []
          },
          "execution_count": 14
        }
      ]
    },
    {
      "cell_type": "markdown",
      "metadata": {
        "id": "Um7pfqn117ii"
      },
      "source": [
        "Valor máximo"
      ]
    },
    {
      "cell_type": "code",
      "metadata": {
        "colab": {
          "base_uri": "https://localhost:8080/"
        },
        "id": "wxLlgj3Z18-X",
        "outputId": "977d3620-334a-480a-d79d-1fff8d9804da"
      },
      "source": [
        "dados['g-0'].max()"
      ],
      "execution_count": null,
      "outputs": [
        {
          "output_type": "execute_result",
          "data": {
            "text/plain": [
              "10.0"
            ]
          },
          "metadata": {
            "tags": []
          },
          "execution_count": 15
        }
      ]
    },
    {
      "cell_type": "markdown",
      "metadata": {
        "id": "txPAEUMn1-lB"
      },
      "source": [
        "Plotando um histograma"
      ]
    },
    {
      "cell_type": "code",
      "metadata": {
        "colab": {
          "base_uri": "https://localhost:8080/",
          "height": 285
        },
        "id": "ZSucx2cr2ArQ",
        "outputId": "e8edff68-0dba-4178-a588-23167573ff55"
      },
      "source": [
        "dados['g-0'].hist(bins=50)"
      ],
      "execution_count": null,
      "outputs": [
        {
          "output_type": "execute_result",
          "data": {
            "text/plain": [
              "<matplotlib.axes._subplots.AxesSubplot at 0x7efd8a17c290>"
            ]
          },
          "metadata": {
            "tags": []
          },
          "execution_count": 16
        },
        {
          "output_type": "display_data",
          "data": {
            "image/png": "[encoded data removed]",
            "text/plain": [
              "<Figure size 432x288 with 1 Axes>"
            ]
          },
          "metadata": {
            "tags": []
          }
        }
      ]
    },
    {
      "cell_type": "code",
      "metadata": {
        "colab": {
          "base_uri": "https://localhost:8080/",
          "height": 285
        },
        "id": "hFVSpnga2CZx",
        "outputId": "040a21db-1dfd-461d-c06f-f5c3fa730e38"
      },
      "source": [
        "dados['g-10'].hist(bins=50)"
      ],
      "execution_count": null,
      "outputs": [
        {
          "output_type": "execute_result",
          "data": {
            "text/plain": [
              "<matplotlib.axes._subplots.AxesSubplot at 0x7efd8a08fc50>"
            ]
          },
          "metadata": {
            "tags": []
          },
          "execution_count": 17
        },
        {
          "output_type": "display_data",
          "data": {
            "image/png": "[encoded data removed]",
            "text/plain": [
              "<Figure size 432x288 with 1 Axes>"
            ]
          },
          "metadata": {
            "tags": []
          }
        }
      ]
    },
    {
      "cell_type": "markdown",
      "metadata": {
        "id": "8g1ucX232nKo"
      },
      "source": [
        "Pegando a média "
      ]
    },
    {
      "cell_type": "code",
      "metadata": {
        "colab": {
          "base_uri": "https://localhost:8080/"
        },
        "id": "1j7wye3C2DiX",
        "outputId": "fe453cb0-7786-448f-9d24-bb772e4a4ff6"
      },
      "source": [
        "dados['g-0'].mean()"
      ],
      "execution_count": null,
      "outputs": [
        {
          "output_type": "execute_result",
          "data": {
            "text/plain": [
              "0.24836629293692816"
            ]
          },
          "metadata": {
            "tags": []
          },
          "execution_count": 18
        }
      ]
    },
    {
      "cell_type": "markdown",
      "metadata": {
        "id": "Ay_RyHed2oma"
      },
      "source": [
        "Pegando, além da média, os principais dados estatísticos"
      ]
    },
    {
      "cell_type": "code",
      "metadata": {
        "colab": {
          "base_uri": "https://localhost:8080/",
          "height": 346
        },
        "id": "4HfOkXJq2E1F",
        "outputId": "81793aa5-96fa-44db-dd5d-b32242ad618d"
      },
      "source": [
        "dados.describe()"
      ],
      "execution_count": null,
      "outputs": [
        {
          "output_type": "execute_result",
          "data": {
            "text/html": [
              "<div>\n",
              "<style scoped>\n",
              "    .dataframe tbody tr th:only-of-type {\n",
              "        vertical-align: middle;\n",
              "    }\n",
              "\n",
              "    .dataframe tbody tr th {\n",
              "        vertical-align: top;\n",
              "    }\n",
              "\n",
              "    .dataframe thead th {\n",
              "        text-align: right;\n",
              "    }\n",
              "</style>\n",
              "<table border=\"1\" class=\"dataframe\">\n",
              "  <thead>\n",
              "    <tr style=\"text-align: right;\">\n",
              "      <th></th>\n",
              "      <th>tempo</th>\n",
              "      <th>g-0</th>\n",
              "      <th>g-1</th>\n",
              "      <th>g-2</th>\n",
              "      <th>g-3</th>\n",
              "      <th>g-4</th>\n",
              "      <th>g-5</th>\n",
              "      <th>g-6</th>\n",
              "      <th>g-7</th>\n",
              "      <th>g-8</th>\n",
              "      <th>g-9</th>\n",
              "      <th>g-10</th>\n",
              "      <th>g-11</th>\n",
              "      <th>g-12</th>\n",
              "      <th>g-13</th>\n",
              "      <th>g-14</th>\n",
              "      <th>g-15</th>\n",
              "      <th>g-16</th>\n",
              "      <th>g-17</th>\n",
              "      <th>g-18</th>\n",
              "      <th>g-19</th>\n",
              "      <th>g-20</th>\n",
              "      <th>g-21</th>\n",
              "      <th>g-22</th>\n",
              "      <th>g-23</th>\n",
              "      <th>g-24</th>\n",
              "      <th>g-25</th>\n",
              "      <th>g-26</th>\n",
              "      <th>g-27</th>\n",
              "      <th>g-28</th>\n",
              "      <th>g-29</th>\n",
              "      <th>g-30</th>\n",
              "      <th>g-31</th>\n",
              "      <th>g-32</th>\n",
              "      <th>g-33</th>\n",
              "      <th>g-34</th>\n",
              "      <th>g-35</th>\n",
              "      <th>g-36</th>\n",
              "      <th>g-37</th>\n",
              "      <th>g-38</th>\n",
              "      <th>...</th>\n",
              "      <th>c-60</th>\n",
              "      <th>c-61</th>\n",
              "      <th>c-62</th>\n",
              "      <th>c-63</th>\n",
              "      <th>c-64</th>\n",
              "      <th>c-65</th>\n",
              "      <th>c-66</th>\n",
              "      <th>c-67</th>\n",
              "      <th>c-68</th>\n",
              "      <th>c-69</th>\n",
              "      <th>c-70</th>\n",
              "      <th>c-71</th>\n",
              "      <th>c-72</th>\n",
              "      <th>c-73</th>\n",
              "      <th>c-74</th>\n",
              "      <th>c-75</th>\n",
              "      <th>c-76</th>\n",
              "      <th>c-77</th>\n",
              "      <th>c-78</th>\n",
              "      <th>c-79</th>\n",
              "      <th>c-80</th>\n",
              "      <th>c-81</th>\n",
              "      <th>c-82</th>\n",
              "      <th>c-83</th>\n",
              "      <th>c-84</th>\n",
              "      <th>c-85</th>\n",
              "      <th>c-86</th>\n",
              "      <th>c-87</th>\n",
              "      <th>c-88</th>\n",
              "      <th>c-89</th>\n",
              "      <th>c-90</th>\n",
              "      <th>c-91</th>\n",
              "      <th>c-92</th>\n",
              "      <th>c-93</th>\n",
              "      <th>c-94</th>\n",
              "      <th>c-95</th>\n",
              "      <th>c-96</th>\n",
              "      <th>c-97</th>\n",
              "      <th>c-98</th>\n",
              "      <th>c-99</th>\n",
              "    </tr>\n",
              "  </thead>\n",
              "  <tbody>\n",
              "    <tr>\n",
              "      <th>count</th>\n",
              "      <td>23814.000000</td>\n",
              "      <td>23814.000000</td>\n",
              "      <td>23814.000000</td>\n",
              "      <td>23814.000000</td>\n",
              "      <td>23814.000000</td>\n",
              "      <td>23814.000000</td>\n",
              "      <td>23814.000000</td>\n",
              "      <td>23814.000000</td>\n",
              "      <td>23814.000000</td>\n",
              "      <td>23814.000000</td>\n",
              "      <td>23814.000000</td>\n",
              "      <td>23814.000000</td>\n",
              "      <td>23814.000000</td>\n",
              "      <td>23814.000000</td>\n",
              "      <td>23814.000000</td>\n",
              "      <td>23814.000000</td>\n",
              "      <td>23814.000000</td>\n",
              "      <td>23814.000000</td>\n",
              "      <td>23814.000000</td>\n",
              "      <td>23814.000000</td>\n",
              "      <td>23814.000000</td>\n",
              "      <td>23814.000000</td>\n",
              "      <td>23814.000000</td>\n",
              "      <td>23814.000000</td>\n",
              "      <td>23814.000000</td>\n",
              "      <td>23814.000000</td>\n",
              "      <td>23814.000000</td>\n",
              "      <td>23814.000000</td>\n",
              "      <td>23814.000000</td>\n",
              "      <td>23814.000000</td>\n",
              "      <td>23814.000000</td>\n",
              "      <td>23814.000000</td>\n",
              "      <td>23814.000000</td>\n",
              "      <td>23814.000000</td>\n",
              "      <td>23814.000000</td>\n",
              "      <td>23814.000000</td>\n",
              "      <td>23814.000000</td>\n",
              "      <td>23814.000000</td>\n",
              "      <td>23814.000000</td>\n",
              "      <td>23814.000000</td>\n",
              "      <td>...</td>\n",
              "      <td>23814.000000</td>\n",
              "      <td>23814.000000</td>\n",
              "      <td>23814.000000</td>\n",
              "      <td>23814.000000</td>\n",
              "      <td>23814.000000</td>\n",
              "      <td>23814.000000</td>\n",
              "      <td>23814.000000</td>\n",
              "      <td>23814.000000</td>\n",
              "      <td>23814.000000</td>\n",
              "      <td>23814.000000</td>\n",
              "      <td>23814.000000</td>\n",
              "      <td>23814.000000</td>\n",
              "      <td>23814.000000</td>\n",
              "      <td>23814.000000</td>\n",
              "      <td>23814.000000</td>\n",
              "      <td>23814.000000</td>\n",
              "      <td>23814.000000</td>\n",
              "      <td>23814.000000</td>\n",
              "      <td>23814.000000</td>\n",
              "      <td>23814.000000</td>\n",
              "      <td>23814.000000</td>\n",
              "      <td>23814.000000</td>\n",
              "      <td>23814.000000</td>\n",
              "      <td>23814.000000</td>\n",
              "      <td>23814.000000</td>\n",
              "      <td>23814.000000</td>\n",
              "      <td>23814.000000</td>\n",
              "      <td>23814.000000</td>\n",
              "      <td>23814.000000</td>\n",
              "      <td>23814.000000</td>\n",
              "      <td>23814.000000</td>\n",
              "      <td>23814.000000</td>\n",
              "      <td>23814.000000</td>\n",
              "      <td>23814.000000</td>\n",
              "      <td>23814.000000</td>\n",
              "      <td>23814.000000</td>\n",
              "      <td>23814.000000</td>\n",
              "      <td>23814.000000</td>\n",
              "      <td>23814.000000</td>\n",
              "      <td>23814.000000</td>\n",
              "    </tr>\n",
              "    <tr>\n",
              "      <th>mean</th>\n",
              "      <td>48.020156</td>\n",
              "      <td>0.248366</td>\n",
              "      <td>-0.095684</td>\n",
              "      <td>0.152253</td>\n",
              "      <td>0.081971</td>\n",
              "      <td>0.057347</td>\n",
              "      <td>-0.138836</td>\n",
              "      <td>0.035961</td>\n",
              "      <td>-0.202651</td>\n",
              "      <td>-0.190083</td>\n",
              "      <td>0.119905</td>\n",
              "      <td>-0.123321</td>\n",
              "      <td>0.182307</td>\n",
              "      <td>0.143203</td>\n",
              "      <td>0.209402</td>\n",
              "      <td>-0.173884</td>\n",
              "      <td>-0.024432</td>\n",
              "      <td>0.126823</td>\n",
              "      <td>-0.146663</td>\n",
              "      <td>0.087687</td>\n",
              "      <td>-0.082982</td>\n",
              "      <td>-0.111908</td>\n",
              "      <td>-0.087379</td>\n",
              "      <td>0.047548</td>\n",
              "      <td>-0.117474</td>\n",
              "      <td>-0.113212</td>\n",
              "      <td>-0.052746</td>\n",
              "      <td>-0.091055</td>\n",
              "      <td>0.112176</td>\n",
              "      <td>-0.046458</td>\n",
              "      <td>-0.076239</td>\n",
              "      <td>-0.197699</td>\n",
              "      <td>0.382177</td>\n",
              "      <td>-0.189432</td>\n",
              "      <td>0.078791</td>\n",
              "      <td>-0.093312</td>\n",
              "      <td>0.135729</td>\n",
              "      <td>-0.188616</td>\n",
              "      <td>-0.606710</td>\n",
              "      <td>0.534425</td>\n",
              "      <td>...</td>\n",
              "      <td>-0.517397</td>\n",
              "      <td>-0.360770</td>\n",
              "      <td>-0.435752</td>\n",
              "      <td>-0.613591</td>\n",
              "      <td>-0.402083</td>\n",
              "      <td>-0.619682</td>\n",
              "      <td>-0.452265</td>\n",
              "      <td>-0.497164</td>\n",
              "      <td>-0.413836</td>\n",
              "      <td>-0.277029</td>\n",
              "      <td>-0.547845</td>\n",
              "      <td>-0.358611</td>\n",
              "      <td>-0.442906</td>\n",
              "      <td>-0.475194</td>\n",
              "      <td>-0.010404</td>\n",
              "      <td>-0.467001</td>\n",
              "      <td>-0.276963</td>\n",
              "      <td>-0.455848</td>\n",
              "      <td>-0.412918</td>\n",
              "      <td>-0.456404</td>\n",
              "      <td>-0.472514</td>\n",
              "      <td>-0.505481</td>\n",
              "      <td>-0.492735</td>\n",
              "      <td>-0.446836</td>\n",
              "      <td>-0.463029</td>\n",
              "      <td>-0.409310</td>\n",
              "      <td>-0.333124</td>\n",
              "      <td>-0.295009</td>\n",
              "      <td>-0.328342</td>\n",
              "      <td>-0.401615</td>\n",
              "      <td>-0.469244</td>\n",
              "      <td>-0.461411</td>\n",
              "      <td>-0.513256</td>\n",
              "      <td>-0.500142</td>\n",
              "      <td>-0.507093</td>\n",
              "      <td>-0.353726</td>\n",
              "      <td>-0.463485</td>\n",
              "      <td>-0.378241</td>\n",
              "      <td>-0.470252</td>\n",
              "      <td>-0.301505</td>\n",
              "    </tr>\n",
              "    <tr>\n",
              "      <th>std</th>\n",
              "      <td>19.402807</td>\n",
              "      <td>1.393399</td>\n",
              "      <td>0.812363</td>\n",
              "      <td>1.035731</td>\n",
              "      <td>0.950012</td>\n",
              "      <td>1.032091</td>\n",
              "      <td>1.179388</td>\n",
              "      <td>0.882395</td>\n",
              "      <td>1.125494</td>\n",
              "      <td>1.749885</td>\n",
              "      <td>1.087180</td>\n",
              "      <td>1.291501</td>\n",
              "      <td>1.253604</td>\n",
              "      <td>1.234590</td>\n",
              "      <td>1.273068</td>\n",
              "      <td>1.247178</td>\n",
              "      <td>0.659839</td>\n",
              "      <td>1.418997</td>\n",
              "      <td>1.179688</td>\n",
              "      <td>0.743301</td>\n",
              "      <td>0.844796</td>\n",
              "      <td>1.219529</td>\n",
              "      <td>0.824401</td>\n",
              "      <td>0.924838</td>\n",
              "      <td>0.760159</td>\n",
              "      <td>1.203186</td>\n",
              "      <td>0.866977</td>\n",
              "      <td>1.103765</td>\n",
              "      <td>1.001687</td>\n",
              "      <td>1.027758</td>\n",
              "      <td>1.279399</td>\n",
              "      <td>1.302567</td>\n",
              "      <td>1.559174</td>\n",
              "      <td>0.933514</td>\n",
              "      <td>1.172270</td>\n",
              "      <td>1.174325</td>\n",
              "      <td>1.061719</td>\n",
              "      <td>1.397677</td>\n",
              "      <td>2.200277</td>\n",
              "      <td>2.003317</td>\n",
              "      <td>...</td>\n",
              "      <td>2.122318</td>\n",
              "      <td>1.710725</td>\n",
              "      <td>1.898871</td>\n",
              "      <td>2.307820</td>\n",
              "      <td>1.785055</td>\n",
              "      <td>2.225596</td>\n",
              "      <td>1.991021</td>\n",
              "      <td>2.063896</td>\n",
              "      <td>1.887001</td>\n",
              "      <td>1.459639</td>\n",
              "      <td>2.187835</td>\n",
              "      <td>1.730634</td>\n",
              "      <td>1.924716</td>\n",
              "      <td>2.021927</td>\n",
              "      <td>1.029820</td>\n",
              "      <td>2.004317</td>\n",
              "      <td>1.429340</td>\n",
              "      <td>1.924263</td>\n",
              "      <td>1.888788</td>\n",
              "      <td>1.832863</td>\n",
              "      <td>2.011396</td>\n",
              "      <td>2.091353</td>\n",
              "      <td>2.055624</td>\n",
              "      <td>1.987476</td>\n",
              "      <td>2.014045</td>\n",
              "      <td>1.883974</td>\n",
              "      <td>1.647241</td>\n",
              "      <td>1.634073</td>\n",
              "      <td>1.663170</td>\n",
              "      <td>1.832794</td>\n",
              "      <td>2.000488</td>\n",
              "      <td>2.042475</td>\n",
              "      <td>2.001714</td>\n",
              "      <td>2.107105</td>\n",
              "      <td>2.159589</td>\n",
              "      <td>1.629291</td>\n",
              "      <td>2.059725</td>\n",
              "      <td>1.703615</td>\n",
              "      <td>1.834828</td>\n",
              "      <td>1.407918</td>\n",
              "    </tr>\n",
              "    <tr>\n",
              "      <th>min</th>\n",
              "      <td>24.000000</td>\n",
              "      <td>-5.513000</td>\n",
              "      <td>-5.737000</td>\n",
              "      <td>-9.104000</td>\n",
              "      <td>-5.998000</td>\n",
              "      <td>-6.369000</td>\n",
              "      <td>-10.000000</td>\n",
              "      <td>-10.000000</td>\n",
              "      <td>-10.000000</td>\n",
              "      <td>-10.000000</td>\n",
              "      <td>-8.337000</td>\n",
              "      <td>-10.000000</td>\n",
              "      <td>-5.870000</td>\n",
              "      <td>-8.587000</td>\n",
              "      <td>-5.018000</td>\n",
              "      <td>-10.000000</td>\n",
              "      <td>-10.000000</td>\n",
              "      <td>-10.000000</td>\n",
              "      <td>-10.000000</td>\n",
              "      <td>-4.226000</td>\n",
              "      <td>-10.000000</td>\n",
              "      <td>-10.000000</td>\n",
              "      <td>-5.700000</td>\n",
              "      <td>-10.000000</td>\n",
              "      <td>-10.000000</td>\n",
              "      <td>-10.000000</td>\n",
              "      <td>-8.272000</td>\n",
              "      <td>-8.184000</td>\n",
              "      <td>-4.835000</td>\n",
              "      <td>-7.913000</td>\n",
              "      <td>-10.000000</td>\n",
              "      <td>-10.000000</td>\n",
              "      <td>-2.956000</td>\n",
              "      <td>-8.356000</td>\n",
              "      <td>-7.182000</td>\n",
              "      <td>-10.000000</td>\n",
              "      <td>-9.261000</td>\n",
              "      <td>-10.000000</td>\n",
              "      <td>-10.000000</td>\n",
              "      <td>-10.000000</td>\n",
              "      <td>...</td>\n",
              "      <td>-10.000000</td>\n",
              "      <td>-10.000000</td>\n",
              "      <td>-10.000000</td>\n",
              "      <td>-10.000000</td>\n",
              "      <td>-10.000000</td>\n",
              "      <td>-10.000000</td>\n",
              "      <td>-10.000000</td>\n",
              "      <td>-10.000000</td>\n",
              "      <td>-10.000000</td>\n",
              "      <td>-9.839000</td>\n",
              "      <td>-10.000000</td>\n",
              "      <td>-10.000000</td>\n",
              "      <td>-10.000000</td>\n",
              "      <td>-10.000000</td>\n",
              "      <td>-6.452000</td>\n",
              "      <td>-10.000000</td>\n",
              "      <td>-9.938000</td>\n",
              "      <td>-10.000000</td>\n",
              "      <td>-10.000000</td>\n",
              "      <td>-10.000000</td>\n",
              "      <td>-10.000000</td>\n",
              "      <td>-10.000000</td>\n",
              "      <td>-10.000000</td>\n",
              "      <td>-10.000000</td>\n",
              "      <td>-10.000000</td>\n",
              "      <td>-10.000000</td>\n",
              "      <td>-10.000000</td>\n",
              "      <td>-10.000000</td>\n",
              "      <td>-10.000000</td>\n",
              "      <td>-10.000000</td>\n",
              "      <td>-10.000000</td>\n",
              "      <td>-10.000000</td>\n",
              "      <td>-10.000000</td>\n",
              "      <td>-10.000000</td>\n",
              "      <td>-10.000000</td>\n",
              "      <td>-10.000000</td>\n",
              "      <td>-10.000000</td>\n",
              "      <td>-10.000000</td>\n",
              "      <td>-10.000000</td>\n",
              "      <td>-10.000000</td>\n",
              "    </tr>\n",
              "    <tr>\n",
              "      <th>25%</th>\n",
              "      <td>24.000000</td>\n",
              "      <td>-0.473075</td>\n",
              "      <td>-0.562200</td>\n",
              "      <td>-0.437750</td>\n",
              "      <td>-0.429575</td>\n",
              "      <td>-0.470925</td>\n",
              "      <td>-0.602225</td>\n",
              "      <td>-0.493900</td>\n",
              "      <td>-0.525175</td>\n",
              "      <td>-0.511675</td>\n",
              "      <td>-0.360200</td>\n",
              "      <td>-0.511475</td>\n",
              "      <td>-0.489675</td>\n",
              "      <td>-0.447500</td>\n",
              "      <td>-0.481200</td>\n",
              "      <td>-0.607975</td>\n",
              "      <td>-0.404150</td>\n",
              "      <td>-0.391950</td>\n",
              "      <td>-0.513775</td>\n",
              "      <td>-0.272200</td>\n",
              "      <td>-0.488675</td>\n",
              "      <td>-0.524600</td>\n",
              "      <td>-0.538900</td>\n",
              "      <td>-0.440375</td>\n",
              "      <td>-0.508900</td>\n",
              "      <td>-0.533900</td>\n",
              "      <td>-0.497700</td>\n",
              "      <td>-0.512875</td>\n",
              "      <td>-0.467800</td>\n",
              "      <td>-0.378300</td>\n",
              "      <td>-0.505750</td>\n",
              "      <td>-0.457975</td>\n",
              "      <td>-0.328200</td>\n",
              "      <td>-0.600500</td>\n",
              "      <td>-0.478700</td>\n",
              "      <td>-0.570525</td>\n",
              "      <td>-0.481800</td>\n",
              "      <td>-0.541950</td>\n",
              "      <td>-0.604100</td>\n",
              "      <td>-0.470250</td>\n",
              "      <td>...</td>\n",
              "      <td>-0.588075</td>\n",
              "      <td>-0.564025</td>\n",
              "      <td>-0.561000</td>\n",
              "      <td>-0.583250</td>\n",
              "      <td>-0.566500</td>\n",
              "      <td>-0.603200</td>\n",
              "      <td>-0.541575</td>\n",
              "      <td>-0.560825</td>\n",
              "      <td>-0.555200</td>\n",
              "      <td>-0.534500</td>\n",
              "      <td>-0.569100</td>\n",
              "      <td>-0.558300</td>\n",
              "      <td>-0.573350</td>\n",
              "      <td>-0.594275</td>\n",
              "      <td>-0.389925</td>\n",
              "      <td>-0.551200</td>\n",
              "      <td>-0.544150</td>\n",
              "      <td>-0.575075</td>\n",
              "      <td>-0.568275</td>\n",
              "      <td>-0.582650</td>\n",
              "      <td>-0.558575</td>\n",
              "      <td>-0.562375</td>\n",
              "      <td>-0.572800</td>\n",
              "      <td>-0.561225</td>\n",
              "      <td>-0.560675</td>\n",
              "      <td>-0.560100</td>\n",
              "      <td>-0.533700</td>\n",
              "      <td>-0.504575</td>\n",
              "      <td>-0.544275</td>\n",
              "      <td>-0.569150</td>\n",
              "      <td>-0.566175</td>\n",
              "      <td>-0.565975</td>\n",
              "      <td>-0.589975</td>\n",
              "      <td>-0.568700</td>\n",
              "      <td>-0.563775</td>\n",
              "      <td>-0.567975</td>\n",
              "      <td>-0.552575</td>\n",
              "      <td>-0.561000</td>\n",
              "      <td>-0.592600</td>\n",
              "      <td>-0.562900</td>\n",
              "    </tr>\n",
              "    <tr>\n",
              "      <th>50%</th>\n",
              "      <td>48.000000</td>\n",
              "      <td>-0.008850</td>\n",
              "      <td>-0.046600</td>\n",
              "      <td>0.075200</td>\n",
              "      <td>0.008050</td>\n",
              "      <td>-0.026900</td>\n",
              "      <td>-0.015650</td>\n",
              "      <td>-0.000650</td>\n",
              "      <td>-0.017900</td>\n",
              "      <td>0.010000</td>\n",
              "      <td>0.160450</td>\n",
              "      <td>0.038550</td>\n",
              "      <td>0.013800</td>\n",
              "      <td>0.060250</td>\n",
              "      <td>0.009800</td>\n",
              "      <td>-0.030100</td>\n",
              "      <td>0.000000</td>\n",
              "      <td>0.149400</td>\n",
              "      <td>-0.002200</td>\n",
              "      <td>0.000000</td>\n",
              "      <td>-0.027800</td>\n",
              "      <td>-0.002800</td>\n",
              "      <td>-0.069350</td>\n",
              "      <td>-0.011800</td>\n",
              "      <td>0.000000</td>\n",
              "      <td>0.018300</td>\n",
              "      <td>-0.011650</td>\n",
              "      <td>0.016100</td>\n",
              "      <td>0.037600</td>\n",
              "      <td>0.003750</td>\n",
              "      <td>0.021750</td>\n",
              "      <td>0.027000</td>\n",
              "      <td>0.019100</td>\n",
              "      <td>-0.054000</td>\n",
              "      <td>0.023350</td>\n",
              "      <td>0.003350</td>\n",
              "      <td>-0.000600</td>\n",
              "      <td>0.015350</td>\n",
              "      <td>-0.000700</td>\n",
              "      <td>0.005800</td>\n",
              "      <td>...</td>\n",
              "      <td>-0.017650</td>\n",
              "      <td>-0.041550</td>\n",
              "      <td>-0.002950</td>\n",
              "      <td>-0.012650</td>\n",
              "      <td>-0.005600</td>\n",
              "      <td>0.007650</td>\n",
              "      <td>0.004950</td>\n",
              "      <td>0.000000</td>\n",
              "      <td>-0.023800</td>\n",
              "      <td>-0.011450</td>\n",
              "      <td>-0.007100</td>\n",
              "      <td>-0.019500</td>\n",
              "      <td>-0.019500</td>\n",
              "      <td>-0.009300</td>\n",
              "      <td>0.081550</td>\n",
              "      <td>-0.006900</td>\n",
              "      <td>0.018400</td>\n",
              "      <td>-0.014650</td>\n",
              "      <td>-0.014350</td>\n",
              "      <td>0.005300</td>\n",
              "      <td>-0.005300</td>\n",
              "      <td>-0.004050</td>\n",
              "      <td>0.003300</td>\n",
              "      <td>-0.007900</td>\n",
              "      <td>-0.004600</td>\n",
              "      <td>-0.002400</td>\n",
              "      <td>0.007850</td>\n",
              "      <td>-0.005600</td>\n",
              "      <td>-0.020600</td>\n",
              "      <td>-0.030000</td>\n",
              "      <td>-0.009900</td>\n",
              "      <td>0.003250</td>\n",
              "      <td>-0.009100</td>\n",
              "      <td>-0.013750</td>\n",
              "      <td>-0.003300</td>\n",
              "      <td>-0.010250</td>\n",
              "      <td>-0.001250</td>\n",
              "      <td>-0.006800</td>\n",
              "      <td>0.014000</td>\n",
              "      <td>-0.019500</td>\n",
              "    </tr>\n",
              "    <tr>\n",
              "      <th>75%</th>\n",
              "      <td>72.000000</td>\n",
              "      <td>0.525700</td>\n",
              "      <td>0.403075</td>\n",
              "      <td>0.663925</td>\n",
              "      <td>0.463400</td>\n",
              "      <td>0.465375</td>\n",
              "      <td>0.510425</td>\n",
              "      <td>0.528725</td>\n",
              "      <td>0.411900</td>\n",
              "      <td>0.549225</td>\n",
              "      <td>0.697775</td>\n",
              "      <td>0.525400</td>\n",
              "      <td>0.575275</td>\n",
              "      <td>0.604450</td>\n",
              "      <td>0.575825</td>\n",
              "      <td>0.457975</td>\n",
              "      <td>0.382475</td>\n",
              "      <td>0.829500</td>\n",
              "      <td>0.494775</td>\n",
              "      <td>0.327800</td>\n",
              "      <td>0.400600</td>\n",
              "      <td>0.492400</td>\n",
              "      <td>0.414875</td>\n",
              "      <td>0.433400</td>\n",
              "      <td>0.329250</td>\n",
              "      <td>0.527700</td>\n",
              "      <td>0.461650</td>\n",
              "      <td>0.508425</td>\n",
              "      <td>0.586450</td>\n",
              "      <td>0.431275</td>\n",
              "      <td>0.507600</td>\n",
              "      <td>0.458075</td>\n",
              "      <td>0.471075</td>\n",
              "      <td>0.391950</td>\n",
              "      <td>0.551300</td>\n",
              "      <td>0.503725</td>\n",
              "      <td>0.564875</td>\n",
              "      <td>0.517025</td>\n",
              "      <td>0.460500</td>\n",
              "      <td>0.642300</td>\n",
              "      <td>...</td>\n",
              "      <td>0.452675</td>\n",
              "      <td>0.427675</td>\n",
              "      <td>0.462175</td>\n",
              "      <td>0.447975</td>\n",
              "      <td>0.447150</td>\n",
              "      <td>0.441250</td>\n",
              "      <td>0.470600</td>\n",
              "      <td>0.458550</td>\n",
              "      <td>0.441000</td>\n",
              "      <td>0.460075</td>\n",
              "      <td>0.460950</td>\n",
              "      <td>0.449975</td>\n",
              "      <td>0.445200</td>\n",
              "      <td>0.473200</td>\n",
              "      <td>0.563575</td>\n",
              "      <td>0.456350</td>\n",
              "      <td>0.493400</td>\n",
              "      <td>0.448375</td>\n",
              "      <td>0.451975</td>\n",
              "      <td>0.463075</td>\n",
              "      <td>0.447675</td>\n",
              "      <td>0.462000</td>\n",
              "      <td>0.468900</td>\n",
              "      <td>0.452375</td>\n",
              "      <td>0.460475</td>\n",
              "      <td>0.461675</td>\n",
              "      <td>0.465950</td>\n",
              "      <td>0.463400</td>\n",
              "      <td>0.450075</td>\n",
              "      <td>0.430875</td>\n",
              "      <td>0.457750</td>\n",
              "      <td>0.461500</td>\n",
              "      <td>0.445675</td>\n",
              "      <td>0.452900</td>\n",
              "      <td>0.470900</td>\n",
              "      <td>0.444750</td>\n",
              "      <td>0.465225</td>\n",
              "      <td>0.446400</td>\n",
              "      <td>0.461275</td>\n",
              "      <td>0.438650</td>\n",
              "    </tr>\n",
              "    <tr>\n",
              "      <th>max</th>\n",
              "      <td>72.000000</td>\n",
              "      <td>10.000000</td>\n",
              "      <td>5.039000</td>\n",
              "      <td>8.257000</td>\n",
              "      <td>10.000000</td>\n",
              "      <td>10.000000</td>\n",
              "      <td>7.282000</td>\n",
              "      <td>7.333000</td>\n",
              "      <td>5.473000</td>\n",
              "      <td>8.887000</td>\n",
              "      <td>6.433000</td>\n",
              "      <td>10.000000</td>\n",
              "      <td>10.000000</td>\n",
              "      <td>10.000000</td>\n",
              "      <td>10.000000</td>\n",
              "      <td>10.000000</td>\n",
              "      <td>4.134000</td>\n",
              "      <td>6.418000</td>\n",
              "      <td>4.750000</td>\n",
              "      <td>8.872000</td>\n",
              "      <td>4.081000</td>\n",
              "      <td>9.842000</td>\n",
              "      <td>5.248000</td>\n",
              "      <td>5.942000</td>\n",
              "      <td>5.201000</td>\n",
              "      <td>10.000000</td>\n",
              "      <td>8.494000</td>\n",
              "      <td>10.000000</td>\n",
              "      <td>10.000000</td>\n",
              "      <td>10.000000</td>\n",
              "      <td>9.416000</td>\n",
              "      <td>10.000000</td>\n",
              "      <td>10.000000</td>\n",
              "      <td>6.796000</td>\n",
              "      <td>10.000000</td>\n",
              "      <td>10.000000</td>\n",
              "      <td>10.000000</td>\n",
              "      <td>5.834000</td>\n",
              "      <td>5.602000</td>\n",
              "      <td>10.000000</td>\n",
              "      <td>...</td>\n",
              "      <td>3.888000</td>\n",
              "      <td>3.596000</td>\n",
              "      <td>4.857000</td>\n",
              "      <td>3.549000</td>\n",
              "      <td>3.382000</td>\n",
              "      <td>3.328000</td>\n",
              "      <td>4.157000</td>\n",
              "      <td>3.736000</td>\n",
              "      <td>3.582000</td>\n",
              "      <td>3.119000</td>\n",
              "      <td>3.323000</td>\n",
              "      <td>5.014000</td>\n",
              "      <td>2.898000</td>\n",
              "      <td>4.185000</td>\n",
              "      <td>3.170000</td>\n",
              "      <td>3.276000</td>\n",
              "      <td>4.992000</td>\n",
              "      <td>3.770000</td>\n",
              "      <td>2.851000</td>\n",
              "      <td>3.211000</td>\n",
              "      <td>4.534000</td>\n",
              "      <td>3.890000</td>\n",
              "      <td>3.994000</td>\n",
              "      <td>4.321000</td>\n",
              "      <td>4.020000</td>\n",
              "      <td>3.738000</td>\n",
              "      <td>3.252000</td>\n",
              "      <td>5.406000</td>\n",
              "      <td>3.110000</td>\n",
              "      <td>3.320000</td>\n",
              "      <td>4.069000</td>\n",
              "      <td>3.960000</td>\n",
              "      <td>3.927000</td>\n",
              "      <td>3.596000</td>\n",
              "      <td>3.747000</td>\n",
              "      <td>2.814000</td>\n",
              "      <td>3.505000</td>\n",
              "      <td>2.924000</td>\n",
              "      <td>3.111000</td>\n",
              "      <td>3.805000</td>\n",
              "    </tr>\n",
              "  </tbody>\n",
              "</table>\n",
              "<p>8 rows × 873 columns</p>\n",
              "</div>"
            ],
            "text/plain": [
              "              tempo           g-0  ...          c-98          c-99\n",
              "count  23814.000000  23814.000000  ...  23814.000000  23814.000000\n",
              "mean      48.020156      0.248366  ...     -0.470252     -0.301505\n",
              "std       19.402807      1.393399  ...      1.834828      1.407918\n",
              "min       24.000000     -5.513000  ...    -10.000000    -10.000000\n",
              "25%       24.000000     -0.473075  ...     -0.592600     -0.562900\n",
              "50%       48.000000     -0.008850  ...      0.014000     -0.019500\n",
              "75%       72.000000      0.525700  ...      0.461275      0.438650\n",
              "max       72.000000     10.000000  ...      3.111000      3.805000\n",
              "\n",
              "[8 rows x 873 columns]"
            ]
          },
          "metadata": {
            "tags": []
          },
          "execution_count": 19
        }
      ]
    },
    {
      "cell_type": "markdown",
      "metadata": {
        "id": "ZLzGo-5-2w9x"
      },
      "source": [
        "Separando só as colunas gn"
      ]
    },
    {
      "cell_type": "code",
      "metadata": {
        "colab": {
          "base_uri": "https://localhost:8080/",
          "height": 346
        },
        "id": "muQOe0rv2F8x",
        "outputId": "898f21c1-c5ea-4d16-fe69-05e0c2ee4fb2"
      },
      "source": [
        "dados.loc[:, 'g-0':'g-771'].describe()"
      ],
      "execution_count": null,
      "outputs": [
        {
          "output_type": "execute_result",
          "data": {
            "text/html": [
              "<div>\n",
              "<style scoped>\n",
              "    .dataframe tbody tr th:only-of-type {\n",
              "        vertical-align: middle;\n",
              "    }\n",
              "\n",
              "    .dataframe tbody tr th {\n",
              "        vertical-align: top;\n",
              "    }\n",
              "\n",
              "    .dataframe thead th {\n",
              "        text-align: right;\n",
              "    }\n",
              "</style>\n",
              "<table border=\"1\" class=\"dataframe\">\n",
              "  <thead>\n",
              "    <tr style=\"text-align: right;\">\n",
              "      <th></th>\n",
              "      <th>g-0</th>\n",
              "      <th>g-1</th>\n",
              "      <th>g-2</th>\n",
              "      <th>g-3</th>\n",
              "      <th>g-4</th>\n",
              "      <th>g-5</th>\n",
              "      <th>g-6</th>\n",
              "      <th>g-7</th>\n",
              "      <th>g-8</th>\n",
              "      <th>g-9</th>\n",
              "      <th>g-10</th>\n",
              "      <th>g-11</th>\n",
              "      <th>g-12</th>\n",
              "      <th>g-13</th>\n",
              "      <th>g-14</th>\n",
              "      <th>g-15</th>\n",
              "      <th>g-16</th>\n",
              "      <th>g-17</th>\n",
              "      <th>g-18</th>\n",
              "      <th>g-19</th>\n",
              "      <th>g-20</th>\n",
              "      <th>g-21</th>\n",
              "      <th>g-22</th>\n",
              "      <th>g-23</th>\n",
              "      <th>g-24</th>\n",
              "      <th>g-25</th>\n",
              "      <th>g-26</th>\n",
              "      <th>g-27</th>\n",
              "      <th>g-28</th>\n",
              "      <th>g-29</th>\n",
              "      <th>g-30</th>\n",
              "      <th>g-31</th>\n",
              "      <th>g-32</th>\n",
              "      <th>g-33</th>\n",
              "      <th>g-34</th>\n",
              "      <th>g-35</th>\n",
              "      <th>g-36</th>\n",
              "      <th>g-37</th>\n",
              "      <th>g-38</th>\n",
              "      <th>g-39</th>\n",
              "      <th>...</th>\n",
              "      <th>g-732</th>\n",
              "      <th>g-733</th>\n",
              "      <th>g-734</th>\n",
              "      <th>g-735</th>\n",
              "      <th>g-736</th>\n",
              "      <th>g-737</th>\n",
              "      <th>g-738</th>\n",
              "      <th>g-739</th>\n",
              "      <th>g-740</th>\n",
              "      <th>g-741</th>\n",
              "      <th>g-742</th>\n",
              "      <th>g-743</th>\n",
              "      <th>g-744</th>\n",
              "      <th>g-745</th>\n",
              "      <th>g-746</th>\n",
              "      <th>g-747</th>\n",
              "      <th>g-748</th>\n",
              "      <th>g-749</th>\n",
              "      <th>g-750</th>\n",
              "      <th>g-751</th>\n",
              "      <th>g-752</th>\n",
              "      <th>g-753</th>\n",
              "      <th>g-754</th>\n",
              "      <th>g-755</th>\n",
              "      <th>g-756</th>\n",
              "      <th>g-757</th>\n",
              "      <th>g-758</th>\n",
              "      <th>g-759</th>\n",
              "      <th>g-760</th>\n",
              "      <th>g-761</th>\n",
              "      <th>g-762</th>\n",
              "      <th>g-763</th>\n",
              "      <th>g-764</th>\n",
              "      <th>g-765</th>\n",
              "      <th>g-766</th>\n",
              "      <th>g-767</th>\n",
              "      <th>g-768</th>\n",
              "      <th>g-769</th>\n",
              "      <th>g-770</th>\n",
              "      <th>g-771</th>\n",
              "    </tr>\n",
              "  </thead>\n",
              "  <tbody>\n",
              "    <tr>\n",
              "      <th>count</th>\n",
              "      <td>23814.000000</td>\n",
              "      <td>23814.000000</td>\n",
              "      <td>23814.000000</td>\n",
              "      <td>23814.000000</td>\n",
              "      <td>23814.000000</td>\n",
              "      <td>23814.000000</td>\n",
              "      <td>23814.000000</td>\n",
              "      <td>23814.000000</td>\n",
              "      <td>23814.000000</td>\n",
              "      <td>23814.000000</td>\n",
              "      <td>23814.000000</td>\n",
              "      <td>23814.000000</td>\n",
              "      <td>23814.000000</td>\n",
              "      <td>23814.000000</td>\n",
              "      <td>23814.000000</td>\n",
              "      <td>23814.000000</td>\n",
              "      <td>23814.000000</td>\n",
              "      <td>23814.000000</td>\n",
              "      <td>23814.000000</td>\n",
              "      <td>23814.000000</td>\n",
              "      <td>23814.000000</td>\n",
              "      <td>23814.000000</td>\n",
              "      <td>23814.000000</td>\n",
              "      <td>23814.000000</td>\n",
              "      <td>23814.000000</td>\n",
              "      <td>23814.000000</td>\n",
              "      <td>23814.000000</td>\n",
              "      <td>23814.000000</td>\n",
              "      <td>23814.000000</td>\n",
              "      <td>23814.000000</td>\n",
              "      <td>23814.000000</td>\n",
              "      <td>23814.000000</td>\n",
              "      <td>23814.000000</td>\n",
              "      <td>23814.000000</td>\n",
              "      <td>23814.000000</td>\n",
              "      <td>23814.000000</td>\n",
              "      <td>23814.000000</td>\n",
              "      <td>23814.000000</td>\n",
              "      <td>23814.000000</td>\n",
              "      <td>23814.000000</td>\n",
              "      <td>...</td>\n",
              "      <td>23814.000000</td>\n",
              "      <td>23814.000000</td>\n",
              "      <td>23814.000000</td>\n",
              "      <td>23814.000000</td>\n",
              "      <td>23814.000000</td>\n",
              "      <td>23814.000000</td>\n",
              "      <td>23814.000000</td>\n",
              "      <td>23814.000000</td>\n",
              "      <td>23814.000000</td>\n",
              "      <td>23814.000000</td>\n",
              "      <td>23814.000000</td>\n",
              "      <td>23814.000000</td>\n",
              "      <td>23814.000000</td>\n",
              "      <td>23814.000000</td>\n",
              "      <td>23814.000000</td>\n",
              "      <td>23814.000000</td>\n",
              "      <td>23814.000000</td>\n",
              "      <td>23814.000000</td>\n",
              "      <td>23814.000000</td>\n",
              "      <td>23814.000000</td>\n",
              "      <td>23814.000000</td>\n",
              "      <td>23814.000000</td>\n",
              "      <td>23814.000000</td>\n",
              "      <td>23814.000000</td>\n",
              "      <td>23814.000000</td>\n",
              "      <td>23814.000000</td>\n",
              "      <td>23814.000000</td>\n",
              "      <td>23814.000000</td>\n",
              "      <td>23814.000000</td>\n",
              "      <td>23814.000000</td>\n",
              "      <td>23814.000000</td>\n",
              "      <td>23814.000000</td>\n",
              "      <td>23814.000000</td>\n",
              "      <td>23814.000000</td>\n",
              "      <td>23814.000000</td>\n",
              "      <td>23814.000000</td>\n",
              "      <td>23814.000000</td>\n",
              "      <td>23814.000000</td>\n",
              "      <td>23814.000000</td>\n",
              "      <td>23814.000000</td>\n",
              "    </tr>\n",
              "    <tr>\n",
              "      <th>mean</th>\n",
              "      <td>0.248366</td>\n",
              "      <td>-0.095684</td>\n",
              "      <td>0.152253</td>\n",
              "      <td>0.081971</td>\n",
              "      <td>0.057347</td>\n",
              "      <td>-0.138836</td>\n",
              "      <td>0.035961</td>\n",
              "      <td>-0.202651</td>\n",
              "      <td>-0.190083</td>\n",
              "      <td>0.119905</td>\n",
              "      <td>-0.123321</td>\n",
              "      <td>0.182307</td>\n",
              "      <td>0.143203</td>\n",
              "      <td>0.209402</td>\n",
              "      <td>-0.173884</td>\n",
              "      <td>-0.024432</td>\n",
              "      <td>0.126823</td>\n",
              "      <td>-0.146663</td>\n",
              "      <td>0.087687</td>\n",
              "      <td>-0.082982</td>\n",
              "      <td>-0.111908</td>\n",
              "      <td>-0.087379</td>\n",
              "      <td>0.047548</td>\n",
              "      <td>-0.117474</td>\n",
              "      <td>-0.113212</td>\n",
              "      <td>-0.052746</td>\n",
              "      <td>-0.091055</td>\n",
              "      <td>0.112176</td>\n",
              "      <td>-0.046458</td>\n",
              "      <td>-0.076239</td>\n",
              "      <td>-0.197699</td>\n",
              "      <td>0.382177</td>\n",
              "      <td>-0.189432</td>\n",
              "      <td>0.078791</td>\n",
              "      <td>-0.093312</td>\n",
              "      <td>0.135729</td>\n",
              "      <td>-0.188616</td>\n",
              "      <td>-0.606710</td>\n",
              "      <td>0.534425</td>\n",
              "      <td>0.132026</td>\n",
              "      <td>...</td>\n",
              "      <td>0.263569</td>\n",
              "      <td>-0.242638</td>\n",
              "      <td>0.110180</td>\n",
              "      <td>-0.039868</td>\n",
              "      <td>-0.064056</td>\n",
              "      <td>0.193629</td>\n",
              "      <td>0.004470</td>\n",
              "      <td>-0.187085</td>\n",
              "      <td>0.067186</td>\n",
              "      <td>0.006159</td>\n",
              "      <td>-0.201189</td>\n",
              "      <td>-0.243317</td>\n",
              "      <td>0.548903</td>\n",
              "      <td>0.247065</td>\n",
              "      <td>0.085950</td>\n",
              "      <td>0.090544</td>\n",
              "      <td>0.215525</td>\n",
              "      <td>-0.007705</td>\n",
              "      <td>0.236954</td>\n",
              "      <td>0.022785</td>\n",
              "      <td>0.103224</td>\n",
              "      <td>0.048402</td>\n",
              "      <td>0.109367</td>\n",
              "      <td>-0.103262</td>\n",
              "      <td>0.004129</td>\n",
              "      <td>0.066211</td>\n",
              "      <td>0.072773</td>\n",
              "      <td>-0.033051</td>\n",
              "      <td>-0.400643</td>\n",
              "      <td>-0.338978</td>\n",
              "      <td>0.207299</td>\n",
              "      <td>0.009161</td>\n",
              "      <td>0.171027</td>\n",
              "      <td>0.002316</td>\n",
              "      <td>-0.209799</td>\n",
              "      <td>-0.076251</td>\n",
              "      <td>0.134162</td>\n",
              "      <td>-0.128018</td>\n",
              "      <td>-0.219210</td>\n",
              "      <td>0.101524</td>\n",
              "    </tr>\n",
              "    <tr>\n",
              "      <th>std</th>\n",
              "      <td>1.393399</td>\n",
              "      <td>0.812363</td>\n",
              "      <td>1.035731</td>\n",
              "      <td>0.950012</td>\n",
              "      <td>1.032091</td>\n",
              "      <td>1.179388</td>\n",
              "      <td>0.882395</td>\n",
              "      <td>1.125494</td>\n",
              "      <td>1.749885</td>\n",
              "      <td>1.087180</td>\n",
              "      <td>1.291501</td>\n",
              "      <td>1.253604</td>\n",
              "      <td>1.234590</td>\n",
              "      <td>1.273068</td>\n",
              "      <td>1.247178</td>\n",
              "      <td>0.659839</td>\n",
              "      <td>1.418997</td>\n",
              "      <td>1.179688</td>\n",
              "      <td>0.743301</td>\n",
              "      <td>0.844796</td>\n",
              "      <td>1.219529</td>\n",
              "      <td>0.824401</td>\n",
              "      <td>0.924838</td>\n",
              "      <td>0.760159</td>\n",
              "      <td>1.203186</td>\n",
              "      <td>0.866977</td>\n",
              "      <td>1.103765</td>\n",
              "      <td>1.001687</td>\n",
              "      <td>1.027758</td>\n",
              "      <td>1.279399</td>\n",
              "      <td>1.302567</td>\n",
              "      <td>1.559174</td>\n",
              "      <td>0.933514</td>\n",
              "      <td>1.172270</td>\n",
              "      <td>1.174325</td>\n",
              "      <td>1.061719</td>\n",
              "      <td>1.397677</td>\n",
              "      <td>2.200277</td>\n",
              "      <td>2.003317</td>\n",
              "      <td>0.990477</td>\n",
              "      <td>...</td>\n",
              "      <td>1.075809</td>\n",
              "      <td>1.309482</td>\n",
              "      <td>0.881283</td>\n",
              "      <td>0.917119</td>\n",
              "      <td>1.186966</td>\n",
              "      <td>1.212621</td>\n",
              "      <td>1.175611</td>\n",
              "      <td>1.182180</td>\n",
              "      <td>1.057292</td>\n",
              "      <td>0.996940</td>\n",
              "      <td>1.029370</td>\n",
              "      <td>1.378815</td>\n",
              "      <td>2.023791</td>\n",
              "      <td>1.639307</td>\n",
              "      <td>1.238753</td>\n",
              "      <td>0.961212</td>\n",
              "      <td>1.293783</td>\n",
              "      <td>0.966213</td>\n",
              "      <td>1.284074</td>\n",
              "      <td>1.015557</td>\n",
              "      <td>1.035968</td>\n",
              "      <td>1.048645</td>\n",
              "      <td>0.856080</td>\n",
              "      <td>1.175372</td>\n",
              "      <td>0.701031</td>\n",
              "      <td>0.996914</td>\n",
              "      <td>1.077310</td>\n",
              "      <td>1.579948</td>\n",
              "      <td>1.913468</td>\n",
              "      <td>1.701554</td>\n",
              "      <td>1.096488</td>\n",
              "      <td>1.200395</td>\n",
              "      <td>1.357701</td>\n",
              "      <td>1.052771</td>\n",
              "      <td>1.201918</td>\n",
              "      <td>1.115477</td>\n",
              "      <td>0.951264</td>\n",
              "      <td>1.230636</td>\n",
              "      <td>1.326193</td>\n",
              "      <td>1.417674</td>\n",
              "    </tr>\n",
              "    <tr>\n",
              "      <th>min</th>\n",
              "      <td>-5.513000</td>\n",
              "      <td>-5.737000</td>\n",
              "      <td>-9.104000</td>\n",
              "      <td>-5.998000</td>\n",
              "      <td>-6.369000</td>\n",
              "      <td>-10.000000</td>\n",
              "      <td>-10.000000</td>\n",
              "      <td>-10.000000</td>\n",
              "      <td>-10.000000</td>\n",
              "      <td>-8.337000</td>\n",
              "      <td>-10.000000</td>\n",
              "      <td>-5.870000</td>\n",
              "      <td>-8.587000</td>\n",
              "      <td>-5.018000</td>\n",
              "      <td>-10.000000</td>\n",
              "      <td>-10.000000</td>\n",
              "      <td>-10.000000</td>\n",
              "      <td>-10.000000</td>\n",
              "      <td>-4.226000</td>\n",
              "      <td>-10.000000</td>\n",
              "      <td>-10.000000</td>\n",
              "      <td>-5.700000</td>\n",
              "      <td>-10.000000</td>\n",
              "      <td>-10.000000</td>\n",
              "      <td>-10.000000</td>\n",
              "      <td>-8.272000</td>\n",
              "      <td>-8.184000</td>\n",
              "      <td>-4.835000</td>\n",
              "      <td>-7.913000</td>\n",
              "      <td>-10.000000</td>\n",
              "      <td>-10.000000</td>\n",
              "      <td>-2.956000</td>\n",
              "      <td>-8.356000</td>\n",
              "      <td>-7.182000</td>\n",
              "      <td>-10.000000</td>\n",
              "      <td>-9.261000</td>\n",
              "      <td>-10.000000</td>\n",
              "      <td>-10.000000</td>\n",
              "      <td>-10.000000</td>\n",
              "      <td>-4.223000</td>\n",
              "      <td>...</td>\n",
              "      <td>-5.504000</td>\n",
              "      <td>-10.000000</td>\n",
              "      <td>-3.790000</td>\n",
              "      <td>-10.000000</td>\n",
              "      <td>-10.000000</td>\n",
              "      <td>-10.000000</td>\n",
              "      <td>-7.920000</td>\n",
              "      <td>-10.000000</td>\n",
              "      <td>-9.462000</td>\n",
              "      <td>-6.634000</td>\n",
              "      <td>-10.000000</td>\n",
              "      <td>-10.000000</td>\n",
              "      <td>-2.912000</td>\n",
              "      <td>-9.833000</td>\n",
              "      <td>-7.227000</td>\n",
              "      <td>-5.561000</td>\n",
              "      <td>-8.393000</td>\n",
              "      <td>-5.790000</td>\n",
              "      <td>-4.915000</td>\n",
              "      <td>-10.000000</td>\n",
              "      <td>-10.000000</td>\n",
              "      <td>-7.918000</td>\n",
              "      <td>-5.255000</td>\n",
              "      <td>-10.000000</td>\n",
              "      <td>-6.264000</td>\n",
              "      <td>-10.000000</td>\n",
              "      <td>-5.505000</td>\n",
              "      <td>-10.000000</td>\n",
              "      <td>-10.000000</td>\n",
              "      <td>-10.000000</td>\n",
              "      <td>-8.193000</td>\n",
              "      <td>-10.000000</td>\n",
              "      <td>-9.795000</td>\n",
              "      <td>-8.180000</td>\n",
              "      <td>-10.000000</td>\n",
              "      <td>-10.000000</td>\n",
              "      <td>-4.269000</td>\n",
              "      <td>-10.000000</td>\n",
              "      <td>-10.000000</td>\n",
              "      <td>-10.000000</td>\n",
              "    </tr>\n",
              "    <tr>\n",
              "      <th>25%</th>\n",
              "      <td>-0.473075</td>\n",
              "      <td>-0.562200</td>\n",
              "      <td>-0.437750</td>\n",
              "      <td>-0.429575</td>\n",
              "      <td>-0.470925</td>\n",
              "      <td>-0.602225</td>\n",
              "      <td>-0.493900</td>\n",
              "      <td>-0.525175</td>\n",
              "      <td>-0.511675</td>\n",
              "      <td>-0.360200</td>\n",
              "      <td>-0.511475</td>\n",
              "      <td>-0.489675</td>\n",
              "      <td>-0.447500</td>\n",
              "      <td>-0.481200</td>\n",
              "      <td>-0.607975</td>\n",
              "      <td>-0.404150</td>\n",
              "      <td>-0.391950</td>\n",
              "      <td>-0.513775</td>\n",
              "      <td>-0.272200</td>\n",
              "      <td>-0.488675</td>\n",
              "      <td>-0.524600</td>\n",
              "      <td>-0.538900</td>\n",
              "      <td>-0.440375</td>\n",
              "      <td>-0.508900</td>\n",
              "      <td>-0.533900</td>\n",
              "      <td>-0.497700</td>\n",
              "      <td>-0.512875</td>\n",
              "      <td>-0.467800</td>\n",
              "      <td>-0.378300</td>\n",
              "      <td>-0.505750</td>\n",
              "      <td>-0.457975</td>\n",
              "      <td>-0.328200</td>\n",
              "      <td>-0.600500</td>\n",
              "      <td>-0.478700</td>\n",
              "      <td>-0.570525</td>\n",
              "      <td>-0.481800</td>\n",
              "      <td>-0.541950</td>\n",
              "      <td>-0.604100</td>\n",
              "      <td>-0.470250</td>\n",
              "      <td>-0.401700</td>\n",
              "      <td>...</td>\n",
              "      <td>-0.390700</td>\n",
              "      <td>-0.565075</td>\n",
              "      <td>-0.433275</td>\n",
              "      <td>-0.498650</td>\n",
              "      <td>-0.526300</td>\n",
              "      <td>-0.430750</td>\n",
              "      <td>-0.488775</td>\n",
              "      <td>-0.593125</td>\n",
              "      <td>-0.498275</td>\n",
              "      <td>-0.489800</td>\n",
              "      <td>-0.564100</td>\n",
              "      <td>-0.538000</td>\n",
              "      <td>-0.464000</td>\n",
              "      <td>-0.521975</td>\n",
              "      <td>-0.488600</td>\n",
              "      <td>-0.442925</td>\n",
              "      <td>-0.457200</td>\n",
              "      <td>-0.477900</td>\n",
              "      <td>-0.458175</td>\n",
              "      <td>-0.479075</td>\n",
              "      <td>-0.478825</td>\n",
              "      <td>-0.489300</td>\n",
              "      <td>-0.327500</td>\n",
              "      <td>-0.576775</td>\n",
              "      <td>-0.278275</td>\n",
              "      <td>-0.492700</td>\n",
              "      <td>-0.501575</td>\n",
              "      <td>-0.526450</td>\n",
              "      <td>-0.507375</td>\n",
              "      <td>-0.559175</td>\n",
              "      <td>-0.433875</td>\n",
              "      <td>-0.502250</td>\n",
              "      <td>-0.537075</td>\n",
              "      <td>-0.508775</td>\n",
              "      <td>-0.606175</td>\n",
              "      <td>-0.506200</td>\n",
              "      <td>-0.353100</td>\n",
              "      <td>-0.544600</td>\n",
              "      <td>-0.554400</td>\n",
              "      <td>-0.523800</td>\n",
              "    </tr>\n",
              "    <tr>\n",
              "      <th>50%</th>\n",
              "      <td>-0.008850</td>\n",
              "      <td>-0.046600</td>\n",
              "      <td>0.075200</td>\n",
              "      <td>0.008050</td>\n",
              "      <td>-0.026900</td>\n",
              "      <td>-0.015650</td>\n",
              "      <td>-0.000650</td>\n",
              "      <td>-0.017900</td>\n",
              "      <td>0.010000</td>\n",
              "      <td>0.160450</td>\n",
              "      <td>0.038550</td>\n",
              "      <td>0.013800</td>\n",
              "      <td>0.060250</td>\n",
              "      <td>0.009800</td>\n",
              "      <td>-0.030100</td>\n",
              "      <td>0.000000</td>\n",
              "      <td>0.149400</td>\n",
              "      <td>-0.002200</td>\n",
              "      <td>0.000000</td>\n",
              "      <td>-0.027800</td>\n",
              "      <td>-0.002800</td>\n",
              "      <td>-0.069350</td>\n",
              "      <td>-0.011800</td>\n",
              "      <td>0.000000</td>\n",
              "      <td>0.018300</td>\n",
              "      <td>-0.011650</td>\n",
              "      <td>0.016100</td>\n",
              "      <td>0.037600</td>\n",
              "      <td>0.003750</td>\n",
              "      <td>0.021750</td>\n",
              "      <td>0.027000</td>\n",
              "      <td>0.019100</td>\n",
              "      <td>-0.054000</td>\n",
              "      <td>0.023350</td>\n",
              "      <td>0.003350</td>\n",
              "      <td>-0.000600</td>\n",
              "      <td>0.015350</td>\n",
              "      <td>-0.000700</td>\n",
              "      <td>0.005800</td>\n",
              "      <td>0.007400</td>\n",
              "      <td>...</td>\n",
              "      <td>0.065650</td>\n",
              "      <td>-0.014100</td>\n",
              "      <td>0.030850</td>\n",
              "      <td>-0.001800</td>\n",
              "      <td>-0.008400</td>\n",
              "      <td>0.101400</td>\n",
              "      <td>0.033400</td>\n",
              "      <td>-0.001600</td>\n",
              "      <td>0.000850</td>\n",
              "      <td>0.014800</td>\n",
              "      <td>-0.044000</td>\n",
              "      <td>0.017400</td>\n",
              "      <td>0.000850</td>\n",
              "      <td>-0.015550</td>\n",
              "      <td>0.025350</td>\n",
              "      <td>0.017750</td>\n",
              "      <td>0.053450</td>\n",
              "      <td>0.027700</td>\n",
              "      <td>-0.002100</td>\n",
              "      <td>0.009500</td>\n",
              "      <td>-0.004450</td>\n",
              "      <td>-0.000050</td>\n",
              "      <td>0.002400</td>\n",
              "      <td>0.024250</td>\n",
              "      <td>0.000000</td>\n",
              "      <td>0.005300</td>\n",
              "      <td>0.013600</td>\n",
              "      <td>0.001350</td>\n",
              "      <td>0.007350</td>\n",
              "      <td>0.038700</td>\n",
              "      <td>0.059600</td>\n",
              "      <td>-0.005900</td>\n",
              "      <td>-0.013600</td>\n",
              "      <td>-0.027700</td>\n",
              "      <td>-0.011850</td>\n",
              "      <td>0.009900</td>\n",
              "      <td>0.005400</td>\n",
              "      <td>0.000600</td>\n",
              "      <td>0.028700</td>\n",
              "      <td>-0.006500</td>\n",
              "    </tr>\n",
              "    <tr>\n",
              "      <th>75%</th>\n",
              "      <td>0.525700</td>\n",
              "      <td>0.403075</td>\n",
              "      <td>0.663925</td>\n",
              "      <td>0.463400</td>\n",
              "      <td>0.465375</td>\n",
              "      <td>0.510425</td>\n",
              "      <td>0.528725</td>\n",
              "      <td>0.411900</td>\n",
              "      <td>0.549225</td>\n",
              "      <td>0.697775</td>\n",
              "      <td>0.525400</td>\n",
              "      <td>0.575275</td>\n",
              "      <td>0.604450</td>\n",
              "      <td>0.575825</td>\n",
              "      <td>0.457975</td>\n",
              "      <td>0.382475</td>\n",
              "      <td>0.829500</td>\n",
              "      <td>0.494775</td>\n",
              "      <td>0.327800</td>\n",
              "      <td>0.400600</td>\n",
              "      <td>0.492400</td>\n",
              "      <td>0.414875</td>\n",
              "      <td>0.433400</td>\n",
              "      <td>0.329250</td>\n",
              "      <td>0.527700</td>\n",
              "      <td>0.461650</td>\n",
              "      <td>0.508425</td>\n",
              "      <td>0.586450</td>\n",
              "      <td>0.431275</td>\n",
              "      <td>0.507600</td>\n",
              "      <td>0.458075</td>\n",
              "      <td>0.471075</td>\n",
              "      <td>0.391950</td>\n",
              "      <td>0.551300</td>\n",
              "      <td>0.503725</td>\n",
              "      <td>0.564875</td>\n",
              "      <td>0.517025</td>\n",
              "      <td>0.460500</td>\n",
              "      <td>0.642300</td>\n",
              "      <td>0.439400</td>\n",
              "      <td>...</td>\n",
              "      <td>0.646900</td>\n",
              "      <td>0.467900</td>\n",
              "      <td>0.543400</td>\n",
              "      <td>0.477200</td>\n",
              "      <td>0.497400</td>\n",
              "      <td>0.846400</td>\n",
              "      <td>0.573875</td>\n",
              "      <td>0.501675</td>\n",
              "      <td>0.519825</td>\n",
              "      <td>0.515000</td>\n",
              "      <td>0.412375</td>\n",
              "      <td>0.479400</td>\n",
              "      <td>0.646325</td>\n",
              "      <td>0.565200</td>\n",
              "      <td>0.610075</td>\n",
              "      <td>0.506975</td>\n",
              "      <td>0.671725</td>\n",
              "      <td>0.514175</td>\n",
              "      <td>0.524175</td>\n",
              "      <td>0.501325</td>\n",
              "      <td>0.516975</td>\n",
              "      <td>0.517475</td>\n",
              "      <td>0.375275</td>\n",
              "      <td>0.572250</td>\n",
              "      <td>0.251600</td>\n",
              "      <td>0.540950</td>\n",
              "      <td>0.530900</td>\n",
              "      <td>0.527900</td>\n",
              "      <td>0.475275</td>\n",
              "      <td>0.522075</td>\n",
              "      <td>0.648500</td>\n",
              "      <td>0.492150</td>\n",
              "      <td>0.522500</td>\n",
              "      <td>0.457000</td>\n",
              "      <td>0.483000</td>\n",
              "      <td>0.511175</td>\n",
              "      <td>0.409075</td>\n",
              "      <td>0.498500</td>\n",
              "      <td>0.496400</td>\n",
              "      <td>0.536950</td>\n",
              "    </tr>\n",
              "    <tr>\n",
              "      <th>max</th>\n",
              "      <td>10.000000</td>\n",
              "      <td>5.039000</td>\n",
              "      <td>8.257000</td>\n",
              "      <td>10.000000</td>\n",
              "      <td>10.000000</td>\n",
              "      <td>7.282000</td>\n",
              "      <td>7.333000</td>\n",
              "      <td>5.473000</td>\n",
              "      <td>8.887000</td>\n",
              "      <td>6.433000</td>\n",
              "      <td>10.000000</td>\n",
              "      <td>10.000000</td>\n",
              "      <td>10.000000</td>\n",
              "      <td>10.000000</td>\n",
              "      <td>10.000000</td>\n",
              "      <td>4.134000</td>\n",
              "      <td>6.418000</td>\n",
              "      <td>4.750000</td>\n",
              "      <td>8.872000</td>\n",
              "      <td>4.081000</td>\n",
              "      <td>9.842000</td>\n",
              "      <td>5.248000</td>\n",
              "      <td>5.942000</td>\n",
              "      <td>5.201000</td>\n",
              "      <td>10.000000</td>\n",
              "      <td>8.494000</td>\n",
              "      <td>10.000000</td>\n",
              "      <td>10.000000</td>\n",
              "      <td>10.000000</td>\n",
              "      <td>9.416000</td>\n",
              "      <td>10.000000</td>\n",
              "      <td>10.000000</td>\n",
              "      <td>6.796000</td>\n",
              "      <td>10.000000</td>\n",
              "      <td>10.000000</td>\n",
              "      <td>10.000000</td>\n",
              "      <td>5.834000</td>\n",
              "      <td>5.602000</td>\n",
              "      <td>10.000000</td>\n",
              "      <td>10.000000</td>\n",
              "      <td>...</td>\n",
              "      <td>10.000000</td>\n",
              "      <td>5.444000</td>\n",
              "      <td>10.000000</td>\n",
              "      <td>4.889000</td>\n",
              "      <td>10.000000</td>\n",
              "      <td>7.635000</td>\n",
              "      <td>10.000000</td>\n",
              "      <td>6.664000</td>\n",
              "      <td>9.566000</td>\n",
              "      <td>10.000000</td>\n",
              "      <td>3.497000</td>\n",
              "      <td>6.911000</td>\n",
              "      <td>10.000000</td>\n",
              "      <td>10.000000</td>\n",
              "      <td>10.000000</td>\n",
              "      <td>10.000000</td>\n",
              "      <td>10.000000</td>\n",
              "      <td>10.000000</td>\n",
              "      <td>10.000000</td>\n",
              "      <td>10.000000</td>\n",
              "      <td>10.000000</td>\n",
              "      <td>10.000000</td>\n",
              "      <td>10.000000</td>\n",
              "      <td>5.323000</td>\n",
              "      <td>10.000000</td>\n",
              "      <td>6.533000</td>\n",
              "      <td>10.000000</td>\n",
              "      <td>10.000000</td>\n",
              "      <td>4.008000</td>\n",
              "      <td>5.900000</td>\n",
              "      <td>10.000000</td>\n",
              "      <td>9.552000</td>\n",
              "      <td>10.000000</td>\n",
              "      <td>8.346000</td>\n",
              "      <td>5.444000</td>\n",
              "      <td>6.317000</td>\n",
              "      <td>10.000000</td>\n",
              "      <td>5.911000</td>\n",
              "      <td>10.000000</td>\n",
              "      <td>10.000000</td>\n",
              "    </tr>\n",
              "  </tbody>\n",
              "</table>\n",
              "<p>8 rows × 772 columns</p>\n",
              "</div>"
            ],
            "text/plain": [
              "                g-0           g-1  ...         g-770         g-771\n",
              "count  23814.000000  23814.000000  ...  23814.000000  23814.000000\n",
              "mean       0.248366     -0.095684  ...     -0.219210      0.101524\n",
              "std        1.393399      0.812363  ...      1.326193      1.417674\n",
              "min       -5.513000     -5.737000  ...    -10.000000    -10.000000\n",
              "25%       -0.473075     -0.562200  ...     -0.554400     -0.523800\n",
              "50%       -0.008850     -0.046600  ...      0.028700     -0.006500\n",
              "75%        0.525700      0.403075  ...      0.496400      0.536950\n",
              "max       10.000000      5.039000  ...     10.000000     10.000000\n",
              "\n",
              "[8 rows x 772 columns]"
            ]
          },
          "metadata": {
            "tags": []
          },
          "execution_count": 20
        }
      ]
    },
    {
      "cell_type": "markdown",
      "metadata": {
        "id": "EXsoQiML3A1f"
      },
      "source": [
        "Pegando a matriz transposta da coluna gn"
      ]
    },
    {
      "cell_type": "code",
      "metadata": {
        "colab": {
          "base_uri": "https://localhost:8080/",
          "height": 419
        },
        "id": "rxuqwdaW2HPp",
        "outputId": "5e5d2a5a-e7a7-4ff6-969d-d681960161b1"
      },
      "source": [
        "dados.loc[:, 'g-0':'g-771'].describe().T"
      ],
      "execution_count": null,
      "outputs": [
        {
          "output_type": "execute_result",
          "data": {
            "text/html": [
              "<div>\n",
              "<style scoped>\n",
              "    .dataframe tbody tr th:only-of-type {\n",
              "        vertical-align: middle;\n",
              "    }\n",
              "\n",
              "    .dataframe tbody tr th {\n",
              "        vertical-align: top;\n",
              "    }\n",
              "\n",
              "    .dataframe thead th {\n",
              "        text-align: right;\n",
              "    }\n",
              "</style>\n",
              "<table border=\"1\" class=\"dataframe\">\n",
              "  <thead>\n",
              "    <tr style=\"text-align: right;\">\n",
              "      <th></th>\n",
              "      <th>count</th>\n",
              "      <th>mean</th>\n",
              "      <th>std</th>\n",
              "      <th>min</th>\n",
              "      <th>25%</th>\n",
              "      <th>50%</th>\n",
              "      <th>75%</th>\n",
              "      <th>max</th>\n",
              "    </tr>\n",
              "  </thead>\n",
              "  <tbody>\n",
              "    <tr>\n",
              "      <th>g-0</th>\n",
              "      <td>23814.0</td>\n",
              "      <td>0.248366</td>\n",
              "      <td>1.393399</td>\n",
              "      <td>-5.513</td>\n",
              "      <td>-0.473075</td>\n",
              "      <td>-0.00885</td>\n",
              "      <td>0.525700</td>\n",
              "      <td>10.000</td>\n",
              "    </tr>\n",
              "    <tr>\n",
              "      <th>g-1</th>\n",
              "      <td>23814.0</td>\n",
              "      <td>-0.095684</td>\n",
              "      <td>0.812363</td>\n",
              "      <td>-5.737</td>\n",
              "      <td>-0.562200</td>\n",
              "      <td>-0.04660</td>\n",
              "      <td>0.403075</td>\n",
              "      <td>5.039</td>\n",
              "    </tr>\n",
              "    <tr>\n",
              "      <th>g-2</th>\n",
              "      <td>23814.0</td>\n",
              "      <td>0.152253</td>\n",
              "      <td>1.035731</td>\n",
              "      <td>-9.104</td>\n",
              "      <td>-0.437750</td>\n",
              "      <td>0.07520</td>\n",
              "      <td>0.663925</td>\n",
              "      <td>8.257</td>\n",
              "    </tr>\n",
              "    <tr>\n",
              "      <th>g-3</th>\n",
              "      <td>23814.0</td>\n",
              "      <td>0.081971</td>\n",
              "      <td>0.950012</td>\n",
              "      <td>-5.998</td>\n",
              "      <td>-0.429575</td>\n",
              "      <td>0.00805</td>\n",
              "      <td>0.463400</td>\n",
              "      <td>10.000</td>\n",
              "    </tr>\n",
              "    <tr>\n",
              "      <th>g-4</th>\n",
              "      <td>23814.0</td>\n",
              "      <td>0.057347</td>\n",
              "      <td>1.032091</td>\n",
              "      <td>-6.369</td>\n",
              "      <td>-0.470925</td>\n",
              "      <td>-0.02690</td>\n",
              "      <td>0.465375</td>\n",
              "      <td>10.000</td>\n",
              "    </tr>\n",
              "    <tr>\n",
              "      <th>...</th>\n",
              "      <td>...</td>\n",
              "      <td>...</td>\n",
              "      <td>...</td>\n",
              "      <td>...</td>\n",
              "      <td>...</td>\n",
              "      <td>...</td>\n",
              "      <td>...</td>\n",
              "      <td>...</td>\n",
              "    </tr>\n",
              "    <tr>\n",
              "      <th>g-767</th>\n",
              "      <td>23814.0</td>\n",
              "      <td>-0.076251</td>\n",
              "      <td>1.115477</td>\n",
              "      <td>-10.000</td>\n",
              "      <td>-0.506200</td>\n",
              "      <td>0.00990</td>\n",
              "      <td>0.511175</td>\n",
              "      <td>6.317</td>\n",
              "    </tr>\n",
              "    <tr>\n",
              "      <th>g-768</th>\n",
              "      <td>23814.0</td>\n",
              "      <td>0.134162</td>\n",
              "      <td>0.951264</td>\n",
              "      <td>-4.269</td>\n",
              "      <td>-0.353100</td>\n",
              "      <td>0.00540</td>\n",
              "      <td>0.409075</td>\n",
              "      <td>10.000</td>\n",
              "    </tr>\n",
              "    <tr>\n",
              "      <th>g-769</th>\n",
              "      <td>23814.0</td>\n",
              "      <td>-0.128018</td>\n",
              "      <td>1.230636</td>\n",
              "      <td>-10.000</td>\n",
              "      <td>-0.544600</td>\n",
              "      <td>0.00060</td>\n",
              "      <td>0.498500</td>\n",
              "      <td>5.911</td>\n",
              "    </tr>\n",
              "    <tr>\n",
              "      <th>g-770</th>\n",
              "      <td>23814.0</td>\n",
              "      <td>-0.219210</td>\n",
              "      <td>1.326193</td>\n",
              "      <td>-10.000</td>\n",
              "      <td>-0.554400</td>\n",
              "      <td>0.02870</td>\n",
              "      <td>0.496400</td>\n",
              "      <td>10.000</td>\n",
              "    </tr>\n",
              "    <tr>\n",
              "      <th>g-771</th>\n",
              "      <td>23814.0</td>\n",
              "      <td>0.101524</td>\n",
              "      <td>1.417674</td>\n",
              "      <td>-10.000</td>\n",
              "      <td>-0.523800</td>\n",
              "      <td>-0.00650</td>\n",
              "      <td>0.536950</td>\n",
              "      <td>10.000</td>\n",
              "    </tr>\n",
              "  </tbody>\n",
              "</table>\n",
              "<p>772 rows × 8 columns</p>\n",
              "</div>"
            ],
            "text/plain": [
              "         count      mean       std     min       25%      50%       75%     max\n",
              "g-0    23814.0  0.248366  1.393399  -5.513 -0.473075 -0.00885  0.525700  10.000\n",
              "g-1    23814.0 -0.095684  0.812363  -5.737 -0.562200 -0.04660  0.403075   5.039\n",
              "g-2    23814.0  0.152253  1.035731  -9.104 -0.437750  0.07520  0.663925   8.257\n",
              "g-3    23814.0  0.081971  0.950012  -5.998 -0.429575  0.00805  0.463400  10.000\n",
              "g-4    23814.0  0.057347  1.032091  -6.369 -0.470925 -0.02690  0.465375  10.000\n",
              "...        ...       ...       ...     ...       ...      ...       ...     ...\n",
              "g-767  23814.0 -0.076251  1.115477 -10.000 -0.506200  0.00990  0.511175   6.317\n",
              "g-768  23814.0  0.134162  0.951264  -4.269 -0.353100  0.00540  0.409075  10.000\n",
              "g-769  23814.0 -0.128018  1.230636 -10.000 -0.544600  0.00060  0.498500   5.911\n",
              "g-770  23814.0 -0.219210  1.326193 -10.000 -0.554400  0.02870  0.496400  10.000\n",
              "g-771  23814.0  0.101524  1.417674 -10.000 -0.523800 -0.00650  0.536950  10.000\n",
              "\n",
              "[772 rows x 8 columns]"
            ]
          },
          "metadata": {
            "tags": []
          },
          "execution_count": 21
        }
      ]
    },
    {
      "cell_type": "markdown",
      "metadata": {
        "id": "N9QkqZQk3FeO"
      },
      "source": [
        "Fazendo um histograma só das médias"
      ]
    },
    {
      "cell_type": "code",
      "metadata": {
        "colab": {
          "base_uri": "https://localhost:8080/",
          "height": 285
        },
        "id": "n4sHuXAI2JK-",
        "outputId": "27e7d98a-abac-41ed-c3de-1b98df12b68b"
      },
      "source": [
        "dados.loc[:, 'c-0':'c-99'].describe().T['mean'].hist(bins=50)"
      ],
      "execution_count": null,
      "outputs": [
        {
          "output_type": "execute_result",
          "data": {
            "text/plain": [
              "<matplotlib.axes._subplots.AxesSubplot at 0x7efd8a187110>"
            ]
          },
          "metadata": {
            "tags": []
          },
          "execution_count": 22
        },
        {
          "output_type": "display_data",
          "data": {
            "image/png": "[encoded data removed]",
            "text/plain": [
              "<Figure size 432x288 with 1 Axes>"
            ]
          },
          "metadata": {
            "tags": []
          }
        }
      ]
    },
    {
      "cell_type": "markdown",
      "metadata": {
        "id": "I0l66DPz3J1T"
      },
      "source": [
        "Plotando um boxplot da coluna g0"
      ]
    },
    {
      "cell_type": "code",
      "metadata": {
        "colab": {
          "base_uri": "https://localhost:8080/",
          "height": 302
        },
        "id": "PuyG8Zkw2KiN",
        "outputId": "207f9434-8594-4cfd-e5c6-708a9c65acd6"
      },
      "source": [
        "sns.boxplot(x='g-0' , data=dados)"
      ],
      "execution_count": null,
      "outputs": [
        {
          "output_type": "execute_result",
          "data": {
            "text/plain": [
              "<matplotlib.axes._subplots.AxesSubplot at 0x7efd89f226d0>"
            ]
          },
          "metadata": {
            "tags": []
          },
          "execution_count": 23
        },
        {
          "output_type": "display_data",
          "data": {
            "image/png": "[encoded data removed]",
            "text/plain": [
              "<Figure size 432x288 with 1 Axes>"
            ]
          },
          "metadata": {
            "tags": []
          }
        }
      ]
    },
    {
      "cell_type": "markdown",
      "metadata": {
        "id": "cgEyS3Qk3MRU"
      },
      "source": [
        "Plotando um boxplot da coluna tratamento"
      ]
    },
    {
      "cell_type": "code",
      "metadata": {
        "colab": {
          "base_uri": "https://localhost:8080/",
          "height": 520
        },
        "id": "O65P6oGY2L1w",
        "outputId": "4d193fbb-7b13-4222-a606-8a3bddfd2588"
      },
      "source": [
        "dados.loc[:, 'c0':'c99'].describe().T['mean'].hist(bins=50)"
      ],
      "execution_count": null,
      "outputs": [
        {
          "output_type": "execute_result",
          "data": {
            "text/plain": [
              "<matplotlib.axes._subplots.AxesSubplot at 0x7efd89d2af90>"
            ]
          },
          "metadata": {
            "tags": []
          },
          "execution_count": 24
        },
        {
          "output_type": "display_data",
          "data": {
            "image/png": "[encoded data removed]",
            "text/plain": [
              "<Figure size 720x576 with 1 Axes>"
            ]
          },
          "metadata": {
            "tags": []
          }
        }
      ]
    },
    {
      "cell_type": "markdown",
      "metadata": {
        "id": "YZLVDUsl2QsK"
      },
      "source": [
        "#Desafios Aula 02"
      ]
    },
    {
      "cell_type": "markdown",
      "metadata": {
        "id": "UW3h_c4W2UfO"
      },
      "source": [
        "##Desafio 01: Ordernar o gráfico countplot"
      ]
    },
    {
      "cell_type": "markdown",
      "metadata": {
        "id": "LvwbaKCxPZ6_"
      },
      "source": [
        "Podemos utilizar o parâmetro order para isso com o valor dos cod_compostos que já estão ordendados, no aso o slice [::-1] é para que pegue a ordem inversa."
      ]
    },
    {
      "cell_type": "code",
      "metadata": {
        "colab": {
          "base_uri": "https://localhost:8080/"
        },
        "id": "_kbB_Ag3m3AY",
        "outputId": "1acea84e-08de-4aa4-fa83-7cb479cb16cb"
      },
      "source": [
        "sns.set()\n",
        "plt.figure(figsize=(10, 8))\n",
        "\n",
        "ax = sns.countplot(x = 'composto', data=dados.query('composto in @cod_compostos'), order=cod_compostos[::-1])\n",
        "ax.set_title('Top 5 Compostos')\n",
        "plt.show()"
      ],
      "execution_count": null,
      "outputs": [
        {
          "output_type": "display_data",
          "data": {
            "image/png": "[encoded data removed]",
            "text/plain": [
              "<Figure size 720x576 with 1 Axes>"
            ]
          },
          "metadata": {
            "tags": []
          }
        }
      ]
    },
    {
      "cell_type": "markdown",
      "metadata": {
        "id": "dkAd4sQu2XPe"
      },
      "source": [
        "##Desafio 02: Melhorar a visualização, alterando o tamanho da fonte, mudando os labels e afins"
      ]
    },
    {
      "cell_type": "code",
      "metadata": {
        "colab": {
          "base_uri": "https://localhost:8080/"
        },
        "id": "9fcZAHGym5GY",
        "outputId": "3acef586-7af6-4777-97e4-cdf927e07c9a"
      },
      "source": [
        "sns.set()\n",
        "sns.set_theme(font_scale=1.50)\n",
        "plt.figure(figsize=(10, 8))\n",
        "\n",
        "ax = sns.countplot(x = 'composto', data=dados.query('composto in @cod_compostos'), order=cod_compostos[::-1])\n",
        "ax.set_title('Top 5 Compostos')\n",
        "ax.set_ylabel('Frequência', fontsize=18)\n",
        "ax.set_xlabel('Composto', fontsize=18)\n",
        "plt.show()"
      ],
      "execution_count": null,
      "outputs": [
        {
          "output_type": "display_data",
          "data": {
            "image/png": "[encoded data removed]",
            "text/plain": [
              "<Figure size 720x576 with 1 Axes>"
            ]
          },
          "metadata": {
            "tags": []
          }
        }
      ]
    },
    {
      "cell_type": "markdown",
      "metadata": {
        "id": "3dTwNnm62Ywq"
      },
      "source": [
        "##Desafio 03 e 04: Plotar 2 gráficos em um só. Plotar os histogramas com seaborn"
      ]
    },
    {
      "cell_type": "code",
      "metadata": {
        "colab": {
          "base_uri": "https://localhost:8080/"
        },
        "id": "-GMoHAiPp1ZX",
        "outputId": "00c0ca15-23d2-42dc-aff3-d1dd78b30682"
      },
      "source": [
        "genes = dados.loc[:, 'g-0':'g-771'].describe().T\n",
        "celulas = dados.loc[:, 'c-0':'c-99'].describe().T\n",
        "fig, (ax1, ax2) = plt.subplots(nrows=1, ncols=2, figsize=(15,7))\n",
        "\n",
        "ax1.set_title('Genes')\n",
        "ax1.set_ylabel('Frequência')\n",
        "ax1.set_xlabel('Desvio padrão')\n",
        "sns.histplot(genes['std'], ax=ax1, bins=30)\n",
        "\n",
        "ax2.set_title('Células')\n",
        "ax2.set_ylabel('Frequências')\n",
        "ax2.set_xlabel('Desvio padrão')\n",
        "sns.histplot(celulas['std'], ax=ax2, bins=30)\n",
        "\n",
        "fig.suptitle('Desvio padrão das colunas de genes e das colunas de células', fontsize=20)\n",
        "\n",
        "plt.show()"
      ],
      "execution_count": null,
      "outputs": [
        {
          "output_type": "display_data",
          "data": {
            "image/png": "[encoded data removed]",
            "text/plain": [
              "<Figure size 1080x504 with 2 Axes>"
            ]
          },
          "metadata": {
            "tags": []
          }
        }
      ]
    },
    {
      "cell_type": "markdown",
      "metadata": {
        "id": "jz6buGe92dlC"
      },
      "source": [
        "##Desafio 05: Estudar sobre as estatísticas retornadas no describe()"
      ]
    },
    {
      "cell_type": "code",
      "metadata": {
        "id": "79k0T_cFm7Ns"
      },
      "source": [
        "dados.describe()"
      ],
      "execution_count": null,
      "outputs": []
    },
    {
      "cell_type": "markdown",
      "metadata": {
        "id": "gs2SPW7Nm8gH"
      },
      "source": [
        "count - conta o número de elementos da serie/database<br>\n",
        "mean - média dos valores<br>\n",
        "std - desvio padrão dos valores<br>\n",
        "25%, 50%, 75% - o valor que está exatamente nessas porcentagens.<br>\n",
        "Exemplo: Se temos uma lista de valores entre 0 e 1, 25% seria 0.25, 50% seria 0.50 e 75% seria 0.75 <br>\n",
        "min - valor mínimo<br>\n",
        "max - valor máximo<br>"
      ]
    },
    {
      "cell_type": "code",
      "metadata": {
        "colab": {
          "base_uri": "https://localhost:8080/"
        },
        "id": "TFsxdkuzm-On",
        "outputId": "d2d5f0a9-82a4-4889-ae45-b49f580c6429"
      },
      "source": [
        "dados['composto'].describe()"
      ],
      "execution_count": null,
      "outputs": [
        {
          "output_type": "execute_result",
          "data": {
            "text/plain": [
              "count         23814\n",
              "unique         3289\n",
              "top       cacb2b860\n",
              "freq           1866\n",
              "Name: composto, dtype: object"
            ]
          },
          "metadata": {
            "tags": []
          },
          "execution_count": 48
        }
      ]
    },
    {
      "cell_type": "markdown",
      "metadata": {
        "id": "JgiGNm9InAb0"
      },
      "source": [
        "count - conta o número de elemntos da serie/database<br>\n",
        "unique - conta o número de elementos únicos<br>\n",
        "top - o elemento de maior frequencia<br>\n",
        "freq - a frenquencia desse valor dado no 'top'<br>"
      ]
    },
    {
      "cell_type": "markdown",
      "metadata": {
        "id": "eixSzml62fd5"
      },
      "source": [
        "##Desafio 06: Refletir sobre a manipulação dos tamanhos das visualizações"
      ]
    },
    {
      "cell_type": "markdown",
      "metadata": {
        "id": "bZTjPTcMDHz7"
      },
      "source": [
        "O tamanho das visualizações depende muito do dispositivo na qual está sendo visualizado e principalmente qual informação você quer destacar. <br>\n",
        "Muitas vezes um gráfico com um grande número de informações acaba não sendo efetivo se a pessoa que o está vendo busca uma informação mais específica, assim como um gráfico com apenas uma informação pode não ser suficiente para se entender algo.<br>\n",
        "\n",
        "\n"
      ]
    },
    {
      "cell_type": "markdown",
      "metadata": {
        "id": "4ICAm_aF2heH"
      },
      "source": [
        "##Desafio 07: Fazer outras analises com o boxplot e o histograma. "
      ]
    },
    {
      "cell_type": "markdown",
      "metadata": {
        "id": "EuHb4R5uWiql"
      },
      "source": [
        "Continuando a analise na coluna g-0"
      ]
    },
    {
      "cell_type": "code",
      "metadata": {
        "colab": {
          "base_uri": "https://localhost:8080/",
          "height": 515
        },
        "id": "XyNP0dnq2Amp",
        "outputId": "801fcff1-44c5-4aa5-9491-736ca3c27c58"
      },
      "source": [
        "plt.figure(figsize=(10, 8))\n",
        "sns.boxplot(y='g-0', x='tempo', data=dados)\n",
        "plt.show()"
      ],
      "execution_count": null,
      "outputs": [
        {
          "output_type": "display_data",
          "data": {
            "image/png": "[encoded data removed]",
            "text/plain": [
              "<Figure size 720x576 with 1 Axes>"
            ]
          },
          "metadata": {
            "tags": []
          }
        }
      ]
    },
    {
      "cell_type": "markdown",
      "metadata": {
        "id": "gsvA4TMFTeGO"
      },
      "source": [
        "Podemos ver que mesmo para horas diferentes também tem uma grande concentração de resultados em torno do 0, assim como acontenceu com o tipo de tratamento."
      ]
    },
    {
      "cell_type": "code",
      "metadata": {
        "colab": {
          "base_uri": "https://localhost:8080/",
          "height": 515
        },
        "id": "q-yfSWMuStI-",
        "outputId": "63780855-a6df-442f-ab8a-7242b20381d6"
      },
      "source": [
        "plt.figure(figsize=(10, 8))\n",
        "sns.boxplot(y='g-0', x='dose', data=dados)\n",
        "plt.show()"
      ],
      "execution_count": null,
      "outputs": [
        {
          "output_type": "display_data",
          "data": {
            "image/png": "[encoded data removed]",
            "text/plain": [
              "<Figure size 720x576 with 1 Axes>"
            ]
          },
          "metadata": {
            "tags": []
          }
        }
      ]
    },
    {
      "cell_type": "markdown",
      "metadata": {
        "id": "ozfo75Pzdsf8"
      },
      "source": [
        "Podemos verificar esse comportamento também em diferentes doses. Aparentemente, pelos dados serem normalizados, temos algo mais próximo de uma distribuição normal."
      ]
    },
    {
      "cell_type": "code",
      "metadata": {
        "colab": {
          "base_uri": "https://localhost:8080/",
          "height": 315
        },
        "id": "O6N4q0JNX8RR",
        "outputId": "60f8cb95-bf17-4ab2-8a56-f0b32b243c1e"
      },
      "source": [
        "sns.histplot(x='g-0', bins=30, data=dados)\n",
        "plt.show"
      ],
      "execution_count": null,
      "outputs": [
        {
          "output_type": "execute_result",
          "data": {
            "text/plain": [
              "<function matplotlib.pyplot.show>"
            ]
          },
          "metadata": {
            "tags": []
          },
          "execution_count": 67
        },
        {
          "output_type": "display_data",
          "data": {
            "image/png": "[encoded data removed]",
            "text/plain": [
              "<Figure size 432x288 with 1 Axes>"
            ]
          },
          "metadata": {
            "tags": []
          }
        }
      ]
    },
    {
      "cell_type": "markdown",
      "metadata": {
        "id": "dJrdW3u5bLi9"
      },
      "source": [
        "Uma coisa interessante de se notar, é que no nosso caso de experimentos testando drogas, os outlines podem acabar tendo um peso muito importante e vemos até um grupo bem grande de outlines, o que pode indicar um comportamento até que mais frequente do que em outros tipos de analise de dados, onde os outlines são realmente pontos fora da curva, no nosso caso pode ser que uma reação mais útil de ser analisado até do que os comportamentos mais frequentes."
      ]
    },
    {
      "cell_type": "markdown",
      "metadata": {
        "id": "15fTRja4cerc"
      },
      "source": [
        "##Desafio 08: Resumo do que foi aprendido com os dados"
      ]
    },
    {
      "cell_type": "markdown",
      "metadata": {
        "id": "4-j4gCl3ckcM"
      },
      "source": [
        "*  Aprendemos melhor o significado das drogas, não serem exatamente drogas, mas compostos que podem se tornar futuras drogas e um pouco do significado das colunas g-n e c-n.\n",
        "*  Aprendemos sobre a importancia da visualização de dados e que a parte estética dos gráficos não é apenas estética, ela nos induz um destaque de alguma informação ou nos impede de ver alguma informação exatamente e se mal feita e utlizada pode acabar até induzindo algumas informações equivocadas.\n",
        "*  Além dos histogramas, temos os boxplots que são outra forma de visualização gráfica de dados, contendo mais informações sobre áreas do gráfico, com um foco maior nos outlines."
      ]
    },
    {
      "cell_type": "markdown",
      "metadata": {
        "id": "n6zK-2v4f4MF"
      },
      "source": [
        "#Aula 03"
      ]
    },
    {
      "cell_type": "markdown",
      "metadata": {
        "id": "elsfySMMSJCl"
      },
      "source": [
        "Documentação do crosstab: https://pandas.pydata.org/docs/reference/api/pandas.crosstab.html"
      ]
    },
    {
      "cell_type": "code",
      "metadata": {
        "id": "B5WjvEQLf7YS"
      },
      "source": [
        "pd.crosstab(dados['dose'], dados['tempo'])"
      ],
      "execution_count": null,
      "outputs": []
    },
    {
      "cell_type": "code",
      "metadata": {
        "id": "xyhpGGoigEXi"
      },
      "source": [
        "pd.crosstab([dados['dose'], dados['tempo']], dados['tratamento'])"
      ],
      "execution_count": null,
      "outputs": []
    },
    {
      "cell_type": "code",
      "metadata": {
        "id": "LJlAAeeohW0C"
      },
      "source": [
        "pd.crosstab([dados['dose'], dados['tempo']], dados['tratamento'],  normalize='index')"
      ],
      "execution_count": null,
      "outputs": []
    },
    {
      "cell_type": "code",
      "metadata": {
        "id": "vY5LNCpthrG2"
      },
      "source": [
        "pd.crosstab([dados['dose'], dados['tempo']], dados['tratamento'], values=dados['g-0'], aggfunc='mean')"
      ],
      "execution_count": null,
      "outputs": []
    },
    {
      "cell_type": "markdown",
      "metadata": {
        "id": "jOaz66ZTScEK"
      },
      "source": [
        "Para esse tipo de gráfico é mais ideal um scatterplot"
      ]
    },
    {
      "cell_type": "code",
      "metadata": {
        "id": "PocH1W4Vjbqn"
      },
      "source": [
        "sns.scatterplot(x='g-0', y='g-3', data=dados)"
      ],
      "execution_count": null,
      "outputs": []
    },
    {
      "cell_type": "code",
      "metadata": {
        "id": "j3D2FXeonNet"
      },
      "source": [
        "dados[['g-0', 'g-3']]"
      ],
      "execution_count": null,
      "outputs": []
    },
    {
      "cell_type": "code",
      "metadata": {
        "id": "GBoPOdoPn3yv"
      },
      "source": [
        "sns.scatterplot(x='g-0', y='g-8', data=dados)"
      ],
      "execution_count": null,
      "outputs": []
    },
    {
      "cell_type": "code",
      "metadata": {
        "id": "b3hd48kdn90-"
      },
      "source": [
        "sns.lmplot(x='g-0', y='g-8', data=dados, line_kws={'color': 'red'})"
      ],
      "execution_count": null,
      "outputs": []
    },
    {
      "cell_type": "code",
      "metadata": {
        "id": "CESp2zN7oUGB",
        "colab": {
          "base_uri": "https://localhost:8080/",
          "height": 1000
        },
        "outputId": "0c26fbc0-4d28-4eb7-ab59-e516298258c8"
      },
      "source": [
        "sns.lmplot(x='g-0', y='g-8', data=dados, line_kws={'color': 'red'}, col='tratamento', row=\"tempo\")"
      ],
      "execution_count": null,
      "outputs": [
        {
          "output_type": "execute_result",
          "data": {
            "text/plain": [
              "<seaborn.axisgrid.FacetGrid at 0x7f37e6194e90>"
            ]
          },
          "metadata": {
            "tags": []
          },
          "execution_count": 2
        },
        {
          "output_type": "display_data",
          "data": {
            "image/png": "[encoded data removed]",
            "text/plain": [
              "<Figure size 720x1080 with 6 Axes>"
            ]
          },
          "metadata": {
            "tags": [],
            "needs_background": "light"
          }
        }
      ]
    },
    {
      "cell_type": "markdown",
      "metadata": {
        "id": "wwCOuV8FSvng"
      },
      "source": [
        "Uma outra forma de vermos tendências nos nossos dados é utilizando o método corr()"
      ]
    },
    {
      "cell_type": "code",
      "metadata": {
        "id": "j_i9lHlFpAj5"
      },
      "source": [
        "dados.loc[ : , 'g-0':'g-771'].corr()"
      ],
      "execution_count": null,
      "outputs": []
    },
    {
      "cell_type": "code",
      "metadata": {
        "id": "Dw6_HRekvGIO"
      },
      "source": [
        "corr = dados.loc[ : , 'g-0':'g-50'].corr()"
      ],
      "execution_count": null,
      "outputs": []
    },
    {
      "cell_type": "code",
      "metadata": {
        "id": "lCQwgvbHumte"
      },
      "source": [
        "# Generate a mask for the upper triangle\n",
        "mask = np.triu(np.ones_like(corr, dtype=bool))\n",
        "\n",
        "# Set up the matplotlib figure\n",
        "f, ax = plt.subplots(figsize=(20, 20))\n",
        "\n",
        "# Generate a custom diverging colormap\n",
        "cmap = sns.diverging_palette(230, 20, as_cmap=True)\n",
        "\n",
        "# Draw the heatmap with the mask and correct aspect ratio\n",
        "sns.heatmap(corr, mask=mask, cmap=cmap, center=0,\n",
        "            square=True, linewidths=.5, cbar_kws={\"shrink\": .5})"
      ],
      "execution_count": null,
      "outputs": []
    },
    {
      "cell_type": "code",
      "metadata": {
        "id": "4nV-rVlKv3yf"
      },
      "source": [
        "corr = dados.loc[ : , 'c-0':'c-50'].corr()"
      ],
      "execution_count": null,
      "outputs": []
    },
    {
      "cell_type": "code",
      "metadata": {
        "id": "e8Bhg7Q7v3b8"
      },
      "source": [
        "\n",
        "# Generate a mask for the upper triangle\n",
        "mask = np.triu(np.ones_like(corr, dtype=bool))\n",
        "\n",
        "# Set up the matplotlib figure\n",
        "f, ax = plt.subplots(figsize=(11, 9))\n",
        "\n",
        "# Generate a custom diverging colormap\n",
        "cmap = sns.diverging_palette(230, 20, as_cmap=True)\n",
        "\n",
        "# Draw the heatmap with the mask and correct aspect ratio\n",
        "sns.heatmap(corr, mask=mask, cmap=cmap, center=0,\n",
        "            square=True, linewidths=.5, cbar_kws={\"shrink\": .5})"
      ],
      "execution_count": null,
      "outputs": []
    },
    {
      "cell_type": "markdown",
      "metadata": {
        "id": "bvlyKnBmiCWk"
      },
      "source": [
        "#Desafios Aula 03"
      ]
    },
    {
      "cell_type": "markdown",
      "metadata": {
        "id": "wFIG6y3siEq1"
      },
      "source": [
        "## Desafio 01: Criar tabelas de frequência com pandas.groupby()"
      ]
    },
    {
      "cell_type": "code",
      "metadata": {
        "colab": {
          "base_uri": "https://localhost:8080/",
          "height": 142
        },
        "id": "L74uDOYIBgtS",
        "outputId": "95156463-6252-4c20-8d96-d4bc4a8d3a6a"
      },
      "source": [
        "dados.groupby(['dose', 'tempo']).size()"
      ],
      "execution_count": null,
      "outputs": [
        {
          "output_type": "execute_result",
          "data": {
            "text/html": [
              "<div>\n",
              "<style scoped>\n",
              "    .dataframe tbody tr th:only-of-type {\n",
              "        vertical-align: middle;\n",
              "    }\n",
              "\n",
              "    .dataframe tbody tr th {\n",
              "        vertical-align: top;\n",
              "    }\n",
              "\n",
              "    .dataframe thead th {\n",
              "        text-align: right;\n",
              "    }\n",
              "</style>\n",
              "<table border=\"1\" class=\"dataframe\">\n",
              "  <thead>\n",
              "    <tr style=\"text-align: right;\">\n",
              "      <th>tempo</th>\n",
              "      <th>24</th>\n",
              "      <th>48</th>\n",
              "      <th>72</th>\n",
              "    </tr>\n",
              "    <tr>\n",
              "      <th>dose</th>\n",
              "      <th></th>\n",
              "      <th></th>\n",
              "      <th></th>\n",
              "    </tr>\n",
              "  </thead>\n",
              "  <tbody>\n",
              "    <tr>\n",
              "      <th>D1</th>\n",
              "      <td>3886</td>\n",
              "      <td>4354</td>\n",
              "      <td>3907</td>\n",
              "    </tr>\n",
              "    <tr>\n",
              "      <th>D2</th>\n",
              "      <td>3886</td>\n",
              "      <td>3896</td>\n",
              "      <td>3885</td>\n",
              "    </tr>\n",
              "  </tbody>\n",
              "</table>\n",
              "</div>"
            ],
            "text/plain": [
              "tempo    24    48    72\n",
              "dose                   \n",
              "D1     3886  4354  3907\n",
              "D2     3886  3896  3885"
            ]
          },
          "metadata": {
            "tags": []
          },
          "execution_count": 9
        }
      ]
    },
    {
      "cell_type": "code",
      "metadata": {
        "colab": {
          "base_uri": "https://localhost:8080/",
          "height": 142
        },
        "id": "ecSylfjnRGg8",
        "outputId": "ae58e615-366a-4e92-b430-01294dbcc040"
      },
      "source": [
        "dados.groupby(['dose', 'tempo']).size().unstack(1)"
      ],
      "execution_count": null,
      "outputs": [
        {
          "output_type": "execute_result",
          "data": {
            "text/html": [
              "<div>\n",
              "<style scoped>\n",
              "    .dataframe tbody tr th:only-of-type {\n",
              "        vertical-align: middle;\n",
              "    }\n",
              "\n",
              "    .dataframe tbody tr th {\n",
              "        vertical-align: top;\n",
              "    }\n",
              "\n",
              "    .dataframe thead th {\n",
              "        text-align: right;\n",
              "    }\n",
              "</style>\n",
              "<table border=\"1\" class=\"dataframe\">\n",
              "  <thead>\n",
              "    <tr style=\"text-align: right;\">\n",
              "      <th>tempo</th>\n",
              "      <th>24</th>\n",
              "      <th>48</th>\n",
              "      <th>72</th>\n",
              "    </tr>\n",
              "    <tr>\n",
              "      <th>dose</th>\n",
              "      <th></th>\n",
              "      <th></th>\n",
              "      <th></th>\n",
              "    </tr>\n",
              "  </thead>\n",
              "  <tbody>\n",
              "    <tr>\n",
              "      <th>D1</th>\n",
              "      <td>3886</td>\n",
              "      <td>4354</td>\n",
              "      <td>3907</td>\n",
              "    </tr>\n",
              "    <tr>\n",
              "      <th>D2</th>\n",
              "      <td>3886</td>\n",
              "      <td>3896</td>\n",
              "      <td>3885</td>\n",
              "    </tr>\n",
              "  </tbody>\n",
              "</table>\n",
              "</div>"
            ],
            "text/plain": [
              "tempo    24    48    72\n",
              "dose                   \n",
              "D1     3886  4354  3907\n",
              "D2     3886  3896  3885"
            ]
          },
          "metadata": {
            "tags": []
          },
          "execution_count": 30
        }
      ]
    },
    {
      "cell_type": "markdown",
      "metadata": {
        "id": "861MHqw4iTHH"
      },
      "source": [
        "## Desafio 02: Normalizar o crosstab pela coluna"
      ]
    },
    {
      "cell_type": "code",
      "metadata": {
        "colab": {
          "base_uri": "https://localhost:8080/",
          "height": 266
        },
        "id": "FjcdamCpgWYv",
        "outputId": "2fe61188-232c-404f-c230-b819846125b3"
      },
      "source": [
        "pd.crosstab([dados['dose'], dados['tempo']], dados['tratamento'], normalize='columns')"
      ],
      "execution_count": null,
      "outputs": [
        {
          "output_type": "execute_result",
          "data": {
            "text/html": [
              "<div>\n",
              "<style scoped>\n",
              "    .dataframe tbody tr th:only-of-type {\n",
              "        vertical-align: middle;\n",
              "    }\n",
              "\n",
              "    .dataframe tbody tr th {\n",
              "        vertical-align: top;\n",
              "    }\n",
              "\n",
              "    .dataframe thead th {\n",
              "        text-align: right;\n",
              "    }\n",
              "</style>\n",
              "<table border=\"1\" class=\"dataframe\">\n",
              "  <thead>\n",
              "    <tr style=\"text-align: right;\">\n",
              "      <th></th>\n",
              "      <th>tratamento</th>\n",
              "      <th>com_controle</th>\n",
              "      <th>com_droga</th>\n",
              "    </tr>\n",
              "    <tr>\n",
              "      <th>dose</th>\n",
              "      <th>tempo</th>\n",
              "      <th></th>\n",
              "      <th></th>\n",
              "    </tr>\n",
              "  </thead>\n",
              "  <tbody>\n",
              "    <tr>\n",
              "      <th rowspan=\"3\" valign=\"top\">D1</th>\n",
              "      <th>24</th>\n",
              "      <td>0.161308</td>\n",
              "      <td>0.163341</td>\n",
              "    </tr>\n",
              "    <tr>\n",
              "      <th>48</th>\n",
              "      <td>0.183816</td>\n",
              "      <td>0.182750</td>\n",
              "    </tr>\n",
              "    <tr>\n",
              "      <th>72</th>\n",
              "      <td>0.164523</td>\n",
              "      <td>0.164024</td>\n",
              "    </tr>\n",
              "    <tr>\n",
              "      <th rowspan=\"3\" valign=\"top\">D2</th>\n",
              "      <th>24</th>\n",
              "      <td>0.163451</td>\n",
              "      <td>0.163158</td>\n",
              "    </tr>\n",
              "    <tr>\n",
              "      <th>48</th>\n",
              "      <td>0.163451</td>\n",
              "      <td>0.163614</td>\n",
              "    </tr>\n",
              "    <tr>\n",
              "      <th>72</th>\n",
              "      <td>0.163451</td>\n",
              "      <td>0.163113</td>\n",
              "    </tr>\n",
              "  </tbody>\n",
              "</table>\n",
              "</div>"
            ],
            "text/plain": [
              "tratamento  com_controle  com_droga\n",
              "dose tempo                         \n",
              "D1   24         0.161308   0.163341\n",
              "     48         0.183816   0.182750\n",
              "     72         0.164523   0.164024\n",
              "D2   24         0.163451   0.163158\n",
              "     48         0.163451   0.163614\n",
              "     72         0.163451   0.163113"
            ]
          },
          "metadata": {
            "tags": []
          },
          "execution_count": 31
        }
      ]
    },
    {
      "cell_type": "markdown",
      "metadata": {
        "id": "mNWrfNMgjAIp"
      },
      "source": [
        "## Desafio 03: Explorar outros agregadores"
      ]
    },
    {
      "cell_type": "code",
      "metadata": {
        "id": "zQmfnXka5j7Z"
      },
      "source": [
        "pd.crosstab([dados['dose'], dados['tempo']], dados['tratamento'], values=dados['g-0'], aggfunc='max')"
      ],
      "execution_count": null,
      "outputs": []
    },
    {
      "cell_type": "code",
      "metadata": {
        "colab": {
          "base_uri": "https://localhost:8080/",
          "height": 266
        },
        "id": "Pluela7-5raQ",
        "outputId": "4869e57f-ae4e-4fba-b834-3599317cea39"
      },
      "source": [
        "pd.crosstab([dados['dose'], dados['tempo']], dados['tratamento'], values=dados['g-0'], aggfunc='min')"
      ],
      "execution_count": null,
      "outputs": [
        {
          "output_type": "execute_result",
          "data": {
            "text/html": [
              "<div>\n",
              "<style scoped>\n",
              "    .dataframe tbody tr th:only-of-type {\n",
              "        vertical-align: middle;\n",
              "    }\n",
              "\n",
              "    .dataframe tbody tr th {\n",
              "        vertical-align: top;\n",
              "    }\n",
              "\n",
              "    .dataframe thead th {\n",
              "        text-align: right;\n",
              "    }\n",
              "</style>\n",
              "<table border=\"1\" class=\"dataframe\">\n",
              "  <thead>\n",
              "    <tr style=\"text-align: right;\">\n",
              "      <th></th>\n",
              "      <th>tratamento</th>\n",
              "      <th>com_controle</th>\n",
              "      <th>com_droga</th>\n",
              "    </tr>\n",
              "    <tr>\n",
              "      <th>dose</th>\n",
              "      <th>tempo</th>\n",
              "      <th></th>\n",
              "      <th></th>\n",
              "    </tr>\n",
              "  </thead>\n",
              "  <tbody>\n",
              "    <tr>\n",
              "      <th rowspan=\"3\" valign=\"top\">D1</th>\n",
              "      <th>24</th>\n",
              "      <td>-2.370</td>\n",
              "      <td>-5.183</td>\n",
              "    </tr>\n",
              "    <tr>\n",
              "      <th>48</th>\n",
              "      <td>-3.276</td>\n",
              "      <td>-5.420</td>\n",
              "    </tr>\n",
              "    <tr>\n",
              "      <th>72</th>\n",
              "      <td>-2.086</td>\n",
              "      <td>-5.261</td>\n",
              "    </tr>\n",
              "    <tr>\n",
              "      <th rowspan=\"3\" valign=\"top\">D2</th>\n",
              "      <th>24</th>\n",
              "      <td>-2.135</td>\n",
              "      <td>-5.233</td>\n",
              "    </tr>\n",
              "    <tr>\n",
              "      <th>48</th>\n",
              "      <td>-4.859</td>\n",
              "      <td>-4.567</td>\n",
              "    </tr>\n",
              "    <tr>\n",
              "      <th>72</th>\n",
              "      <td>-1.909</td>\n",
              "      <td>-5.513</td>\n",
              "    </tr>\n",
              "  </tbody>\n",
              "</table>\n",
              "</div>"
            ],
            "text/plain": [
              "tratamento  com_controle  com_droga\n",
              "dose tempo                         \n",
              "D1   24           -2.370     -5.183\n",
              "     48           -3.276     -5.420\n",
              "     72           -2.086     -5.261\n",
              "D2   24           -2.135     -5.233\n",
              "     48           -4.859     -4.567\n",
              "     72           -1.909     -5.513"
            ]
          },
          "metadata": {
            "tags": []
          },
          "execution_count": 42
        }
      ]
    },
    {
      "cell_type": "code",
      "metadata": {
        "colab": {
          "base_uri": "https://localhost:8080/",
          "height": 266
        },
        "id": "KG5qIE4P5wVl",
        "outputId": "27181fb1-14e6-46df-d996-0396e81ed767"
      },
      "source": [
        "pd.crosstab([dados['dose'], dados['tempo']], dados['tratamento'], values=dados['g-0'], aggfunc='std')"
      ],
      "execution_count": null,
      "outputs": [
        {
          "output_type": "execute_result",
          "data": {
            "text/html": [
              "<div>\n",
              "<style scoped>\n",
              "    .dataframe tbody tr th:only-of-type {\n",
              "        vertical-align: middle;\n",
              "    }\n",
              "\n",
              "    .dataframe tbody tr th {\n",
              "        vertical-align: top;\n",
              "    }\n",
              "\n",
              "    .dataframe thead th {\n",
              "        text-align: right;\n",
              "    }\n",
              "</style>\n",
              "<table border=\"1\" class=\"dataframe\">\n",
              "  <thead>\n",
              "    <tr style=\"text-align: right;\">\n",
              "      <th></th>\n",
              "      <th>tratamento</th>\n",
              "      <th>com_controle</th>\n",
              "      <th>com_droga</th>\n",
              "    </tr>\n",
              "    <tr>\n",
              "      <th>dose</th>\n",
              "      <th>tempo</th>\n",
              "      <th></th>\n",
              "      <th></th>\n",
              "    </tr>\n",
              "  </thead>\n",
              "  <tbody>\n",
              "    <tr>\n",
              "      <th rowspan=\"3\" valign=\"top\">D1</th>\n",
              "      <th>24</th>\n",
              "      <td>0.751395</td>\n",
              "      <td>1.461954</td>\n",
              "    </tr>\n",
              "    <tr>\n",
              "      <th>48</th>\n",
              "      <td>0.853396</td>\n",
              "      <td>1.693903</td>\n",
              "    </tr>\n",
              "    <tr>\n",
              "      <th>72</th>\n",
              "      <td>0.769294</td>\n",
              "      <td>1.458600</td>\n",
              "    </tr>\n",
              "    <tr>\n",
              "      <th rowspan=\"3\" valign=\"top\">D2</th>\n",
              "      <th>24</th>\n",
              "      <td>0.836626</td>\n",
              "      <td>1.044999</td>\n",
              "    </tr>\n",
              "    <tr>\n",
              "      <th>48</th>\n",
              "      <td>0.836845</td>\n",
              "      <td>1.315476</td>\n",
              "    </tr>\n",
              "    <tr>\n",
              "      <th>72</th>\n",
              "      <td>0.878041</td>\n",
              "      <td>1.451532</td>\n",
              "    </tr>\n",
              "  </tbody>\n",
              "</table>\n",
              "</div>"
            ],
            "text/plain": [
              "tratamento  com_controle  com_droga\n",
              "dose tempo                         \n",
              "D1   24         0.751395   1.461954\n",
              "     48         0.853396   1.693903\n",
              "     72         0.769294   1.458600\n",
              "D2   24         0.836626   1.044999\n",
              "     48         0.836845   1.315476\n",
              "     72         0.878041   1.451532"
            ]
          },
          "metadata": {
            "tags": []
          },
          "execution_count": 43
        }
      ]
    },
    {
      "cell_type": "code",
      "metadata": {
        "colab": {
          "base_uri": "https://localhost:8080/",
          "height": 266
        },
        "id": "RekNRjM152g_",
        "outputId": "06500df0-f1ae-48f2-dd2c-f6d23d8f8361"
      },
      "source": [
        "pd.crosstab([dados['dose'], dados['tempo']], dados['tratamento'], values=dados['g-0'], aggfunc='count')"
      ],
      "execution_count": null,
      "outputs": [
        {
          "output_type": "execute_result",
          "data": {
            "text/html": [
              "<div>\n",
              "<style scoped>\n",
              "    .dataframe tbody tr th:only-of-type {\n",
              "        vertical-align: middle;\n",
              "    }\n",
              "\n",
              "    .dataframe tbody tr th {\n",
              "        vertical-align: top;\n",
              "    }\n",
              "\n",
              "    .dataframe thead th {\n",
              "        text-align: right;\n",
              "    }\n",
              "</style>\n",
              "<table border=\"1\" class=\"dataframe\">\n",
              "  <thead>\n",
              "    <tr style=\"text-align: right;\">\n",
              "      <th></th>\n",
              "      <th>tratamento</th>\n",
              "      <th>com_controle</th>\n",
              "      <th>com_droga</th>\n",
              "    </tr>\n",
              "    <tr>\n",
              "      <th>dose</th>\n",
              "      <th>tempo</th>\n",
              "      <th></th>\n",
              "      <th></th>\n",
              "    </tr>\n",
              "  </thead>\n",
              "  <tbody>\n",
              "    <tr>\n",
              "      <th rowspan=\"3\" valign=\"top\">D1</th>\n",
              "      <th>24</th>\n",
              "      <td>301</td>\n",
              "      <td>3585</td>\n",
              "    </tr>\n",
              "    <tr>\n",
              "      <th>48</th>\n",
              "      <td>343</td>\n",
              "      <td>4011</td>\n",
              "    </tr>\n",
              "    <tr>\n",
              "      <th>72</th>\n",
              "      <td>307</td>\n",
              "      <td>3600</td>\n",
              "    </tr>\n",
              "    <tr>\n",
              "      <th rowspan=\"3\" valign=\"top\">D2</th>\n",
              "      <th>24</th>\n",
              "      <td>305</td>\n",
              "      <td>3581</td>\n",
              "    </tr>\n",
              "    <tr>\n",
              "      <th>48</th>\n",
              "      <td>305</td>\n",
              "      <td>3591</td>\n",
              "    </tr>\n",
              "    <tr>\n",
              "      <th>72</th>\n",
              "      <td>305</td>\n",
              "      <td>3580</td>\n",
              "    </tr>\n",
              "  </tbody>\n",
              "</table>\n",
              "</div>"
            ],
            "text/plain": [
              "tratamento  com_controle  com_droga\n",
              "dose tempo                         \n",
              "D1   24              301       3585\n",
              "     48              343       4011\n",
              "     72              307       3600\n",
              "D2   24              305       3581\n",
              "     48              305       3591\n",
              "     72              305       3580"
            ]
          },
          "metadata": {
            "tags": []
          },
          "execution_count": 44
        }
      ]
    },
    {
      "cell_type": "markdown",
      "metadata": {
        "id": "vVWzXbByjJvD"
      },
      "source": [
        "## Desafio 04: Explorar o Melt"
      ]
    },
    {
      "cell_type": "markdown",
      "metadata": {
        "id": "2mhWsoeMTAhU"
      },
      "source": [
        "Documentação do melt: https://pandas.pydata.org/docs/reference/api/pandas.melt.html"
      ]
    },
    {
      "cell_type": "code",
      "metadata": {
        "id": "HW_BIUHyUDq5"
      },
      "source": [
        "dados.melt"
      ],
      "execution_count": null,
      "outputs": []
    },
    {
      "cell_type": "code",
      "metadata": {
        "id": "EVjYrXPgUTFv"
      },
      "source": [
        "dados.melt(id_vars='tratamento')"
      ],
      "execution_count": null,
      "outputs": []
    },
    {
      "cell_type": "code",
      "metadata": {
        "id": "aKSl8l4yfl6v"
      },
      "source": [
        "dados.melt(id_vars='tratamento', value_vars='tempo')"
      ],
      "execution_count": null,
      "outputs": []
    },
    {
      "cell_type": "code",
      "metadata": {
        "id": "T96XTJEcfrWw"
      },
      "source": [
        "dados.melt(id_vars='tratamento', value_vars='tempo', var_name='tempo')"
      ],
      "execution_count": null,
      "outputs": []
    },
    {
      "cell_type": "code",
      "metadata": {
        "id": "K0j2wqagfu9d"
      },
      "source": [
        "dados.melt(id_vars='tratamento', value_vars='tempo', var_name='tempo', value_name='em hrs')"
      ],
      "execution_count": null,
      "outputs": []
    },
    {
      "cell_type": "markdown",
      "metadata": {
        "id": "32gXDEKvw9zu"
      },
      "source": [
        "##Desafio 05: Calcular e analisar a correlação entre os gn e cn. Refletir sobre os efeitos biológicos"
      ]
    },
    {
      "cell_type": "markdown",
      "metadata": {
        "id": "bng11vaqCxcV"
      },
      "source": [
        "Verificando essa correlação nos dados do grupo de controle.\n"
      ]
    },
    {
      "cell_type": "code",
      "metadata": {
        "id": "yrKtJSxvIg7k",
        "colab": {
          "base_uri": "https://localhost:8080/"
        },
        "outputId": "dd1697fd-72e7-4f25-d5b4-736a2bf48ee3"
      },
      "source": [
        "dados_controle = dados[dados['droga'] == 'cacb2b860']\n",
        "dados_controle['tratamento'].unique()"
      ],
      "execution_count": null,
      "outputs": [
        {
          "output_type": "execute_result",
          "data": {
            "text/plain": [
              "array(['com_controle'], dtype=object)"
            ]
          },
          "metadata": {
            "tags": []
          },
          "execution_count": 3
        }
      ]
    },
    {
      "cell_type": "code",
      "metadata": {
        "id": "8GgdIfdK0g0o",
        "colab": {
          "base_uri": "https://localhost:8080/",
          "height": 439
        },
        "outputId": "79a03a62-8b83-4aeb-c749-905b066af505"
      },
      "source": [
        "g_filtrado = dados[dados['droga'] == 'cacb2b860'].loc[:,'g-0':'g-30']\n",
        "c_filtrado = dados[dados['droga'] == 'cacb2b860'].loc[:,'c-0':'c-30']\n",
        "concatenado = pd.concat([g_filtrado, c_filtrado], axis = 1)\n",
        "concatenado"
      ],
      "execution_count": null,
      "outputs": [
        {
          "output_type": "execute_result",
          "data": {
            "text/html": [
              "<div>\n",
              "<style scoped>\n",
              "    .dataframe tbody tr th:only-of-type {\n",
              "        vertical-align: middle;\n",
              "    }\n",
              "\n",
              "    .dataframe tbody tr th {\n",
              "        vertical-align: top;\n",
              "    }\n",
              "\n",
              "    .dataframe thead th {\n",
              "        text-align: right;\n",
              "    }\n",
              "</style>\n",
              "<table border=\"1\" class=\"dataframe\">\n",
              "  <thead>\n",
              "    <tr style=\"text-align: right;\">\n",
              "      <th></th>\n",
              "      <th>g-0</th>\n",
              "      <th>g-1</th>\n",
              "      <th>g-2</th>\n",
              "      <th>g-3</th>\n",
              "      <th>g-4</th>\n",
              "      <th>g-5</th>\n",
              "      <th>g-6</th>\n",
              "      <th>g-7</th>\n",
              "      <th>g-8</th>\n",
              "      <th>g-9</th>\n",
              "      <th>g-10</th>\n",
              "      <th>g-11</th>\n",
              "      <th>g-12</th>\n",
              "      <th>g-13</th>\n",
              "      <th>g-14</th>\n",
              "      <th>g-15</th>\n",
              "      <th>g-16</th>\n",
              "      <th>g-17</th>\n",
              "      <th>g-18</th>\n",
              "      <th>g-19</th>\n",
              "      <th>g-20</th>\n",
              "      <th>g-21</th>\n",
              "      <th>g-22</th>\n",
              "      <th>g-23</th>\n",
              "      <th>g-24</th>\n",
              "      <th>g-25</th>\n",
              "      <th>g-26</th>\n",
              "      <th>g-27</th>\n",
              "      <th>g-28</th>\n",
              "      <th>g-29</th>\n",
              "      <th>g-30</th>\n",
              "      <th>c-0</th>\n",
              "      <th>c-1</th>\n",
              "      <th>c-2</th>\n",
              "      <th>c-3</th>\n",
              "      <th>c-4</th>\n",
              "      <th>c-5</th>\n",
              "      <th>c-6</th>\n",
              "      <th>c-7</th>\n",
              "      <th>c-8</th>\n",
              "      <th>c-9</th>\n",
              "      <th>c-10</th>\n",
              "      <th>c-11</th>\n",
              "      <th>c-12</th>\n",
              "      <th>c-13</th>\n",
              "      <th>c-14</th>\n",
              "      <th>c-15</th>\n",
              "      <th>c-16</th>\n",
              "      <th>c-17</th>\n",
              "      <th>c-18</th>\n",
              "      <th>c-19</th>\n",
              "      <th>c-20</th>\n",
              "      <th>c-21</th>\n",
              "      <th>c-22</th>\n",
              "      <th>c-23</th>\n",
              "      <th>c-24</th>\n",
              "      <th>c-25</th>\n",
              "      <th>c-26</th>\n",
              "      <th>c-27</th>\n",
              "      <th>c-28</th>\n",
              "      <th>c-29</th>\n",
              "      <th>c-30</th>\n",
              "    </tr>\n",
              "  </thead>\n",
              "  <tbody>\n",
              "    <tr>\n",
              "      <th>25</th>\n",
              "      <td>-0.6696</td>\n",
              "      <td>-0.2718</td>\n",
              "      <td>-1.2230</td>\n",
              "      <td>-0.6226</td>\n",
              "      <td>-0.7220</td>\n",
              "      <td>0.1588</td>\n",
              "      <td>0.7785</td>\n",
              "      <td>0.7062</td>\n",
              "      <td>-0.7951</td>\n",
              "      <td>1.3770</td>\n",
              "      <td>0.2856</td>\n",
              "      <td>-0.8331</td>\n",
              "      <td>0.3879</td>\n",
              "      <td>1.3290</td>\n",
              "      <td>-0.4746</td>\n",
              "      <td>0.0857</td>\n",
              "      <td>-0.2745</td>\n",
              "      <td>-0.1093</td>\n",
              "      <td>0.2603</td>\n",
              "      <td>0.7386</td>\n",
              "      <td>-0.6665</td>\n",
              "      <td>-1.6520</td>\n",
              "      <td>-0.9262</td>\n",
              "      <td>0.0000</td>\n",
              "      <td>1.6310</td>\n",
              "      <td>-0.2933</td>\n",
              "      <td>0.2043</td>\n",
              "      <td>-2.2070</td>\n",
              "      <td>0.1383</td>\n",
              "      <td>-0.4966</td>\n",
              "      <td>0.6922</td>\n",
              "      <td>0.4665</td>\n",
              "      <td>0.2532</td>\n",
              "      <td>0.7212</td>\n",
              "      <td>-0.4467</td>\n",
              "      <td>0.7621</td>\n",
              "      <td>0.2687</td>\n",
              "      <td>-0.1338</td>\n",
              "      <td>0.6366</td>\n",
              "      <td>0.6220</td>\n",
              "      <td>-0.3014</td>\n",
              "      <td>0.7567</td>\n",
              "      <td>1.2480</td>\n",
              "      <td>0.6420</td>\n",
              "      <td>1.5370</td>\n",
              "      <td>0.8386</td>\n",
              "      <td>0.8053</td>\n",
              "      <td>0.1935</td>\n",
              "      <td>1.3500</td>\n",
              "      <td>0.4042</td>\n",
              "      <td>1.5230</td>\n",
              "      <td>0.0741</td>\n",
              "      <td>0.2019</td>\n",
              "      <td>0.3635</td>\n",
              "      <td>0.3103</td>\n",
              "      <td>0.8123</td>\n",
              "      <td>0.4770</td>\n",
              "      <td>0.4972</td>\n",
              "      <td>0.4685</td>\n",
              "      <td>0.4348</td>\n",
              "      <td>0.5421</td>\n",
              "      <td>0.4056</td>\n",
              "    </tr>\n",
              "    <tr>\n",
              "      <th>38</th>\n",
              "      <td>-0.1636</td>\n",
              "      <td>-1.8230</td>\n",
              "      <td>-0.5211</td>\n",
              "      <td>0.3054</td>\n",
              "      <td>-1.1280</td>\n",
              "      <td>0.6041</td>\n",
              "      <td>0.3856</td>\n",
              "      <td>-0.1670</td>\n",
              "      <td>-0.5400</td>\n",
              "      <td>0.2721</td>\n",
              "      <td>-0.2479</td>\n",
              "      <td>0.0761</td>\n",
              "      <td>-0.4054</td>\n",
              "      <td>2.9760</td>\n",
              "      <td>-0.7679</td>\n",
              "      <td>0.6995</td>\n",
              "      <td>0.0752</td>\n",
              "      <td>0.5943</td>\n",
              "      <td>0.4266</td>\n",
              "      <td>0.0000</td>\n",
              "      <td>1.0410</td>\n",
              "      <td>-0.1131</td>\n",
              "      <td>0.6593</td>\n",
              "      <td>-0.6890</td>\n",
              "      <td>0.5115</td>\n",
              "      <td>-0.2512</td>\n",
              "      <td>-0.8775</td>\n",
              "      <td>-1.3810</td>\n",
              "      <td>0.1419</td>\n",
              "      <td>-0.0363</td>\n",
              "      <td>0.2559</td>\n",
              "      <td>0.1431</td>\n",
              "      <td>-0.1254</td>\n",
              "      <td>-0.0740</td>\n",
              "      <td>0.0288</td>\n",
              "      <td>-0.7198</td>\n",
              "      <td>-1.0040</td>\n",
              "      <td>0.3443</td>\n",
              "      <td>-0.6593</td>\n",
              "      <td>0.1020</td>\n",
              "      <td>-0.1742</td>\n",
              "      <td>0.0873</td>\n",
              "      <td>0.0208</td>\n",
              "      <td>0.1540</td>\n",
              "      <td>-0.6229</td>\n",
              "      <td>-0.3923</td>\n",
              "      <td>0.0964</td>\n",
              "      <td>-1.0500</td>\n",
              "      <td>0.9068</td>\n",
              "      <td>-0.0658</td>\n",
              "      <td>-0.1852</td>\n",
              "      <td>0.0576</td>\n",
              "      <td>0.5113</td>\n",
              "      <td>-0.3795</td>\n",
              "      <td>0.1957</td>\n",
              "      <td>-0.3674</td>\n",
              "      <td>0.1904</td>\n",
              "      <td>-0.1540</td>\n",
              "      <td>0.4123</td>\n",
              "      <td>-0.8581</td>\n",
              "      <td>-0.2263</td>\n",
              "      <td>0.7330</td>\n",
              "    </tr>\n",
              "    <tr>\n",
              "      <th>40</th>\n",
              "      <td>-1.3200</td>\n",
              "      <td>-1.7340</td>\n",
              "      <td>-0.0741</td>\n",
              "      <td>1.5440</td>\n",
              "      <td>-1.8290</td>\n",
              "      <td>-0.0951</td>\n",
              "      <td>0.3829</td>\n",
              "      <td>-1.8700</td>\n",
              "      <td>-0.0324</td>\n",
              "      <td>2.7670</td>\n",
              "      <td>-0.0438</td>\n",
              "      <td>-0.0147</td>\n",
              "      <td>0.1276</td>\n",
              "      <td>0.2968</td>\n",
              "      <td>-0.0704</td>\n",
              "      <td>-0.3767</td>\n",
              "      <td>2.5790</td>\n",
              "      <td>0.4069</td>\n",
              "      <td>-0.3868</td>\n",
              "      <td>-0.2782</td>\n",
              "      <td>1.8180</td>\n",
              "      <td>-2.9390</td>\n",
              "      <td>-0.1150</td>\n",
              "      <td>-0.8009</td>\n",
              "      <td>-1.4440</td>\n",
              "      <td>0.5412</td>\n",
              "      <td>-0.0804</td>\n",
              "      <td>-0.4444</td>\n",
              "      <td>2.9230</td>\n",
              "      <td>2.8270</td>\n",
              "      <td>-0.3437</td>\n",
              "      <td>0.8107</td>\n",
              "      <td>0.7110</td>\n",
              "      <td>-0.0797</td>\n",
              "      <td>0.1703</td>\n",
              "      <td>1.7100</td>\n",
              "      <td>-0.0436</td>\n",
              "      <td>-0.2968</td>\n",
              "      <td>0.8906</td>\n",
              "      <td>-0.5218</td>\n",
              "      <td>1.2530</td>\n",
              "      <td>0.8287</td>\n",
              "      <td>0.9787</td>\n",
              "      <td>1.1110</td>\n",
              "      <td>-0.2813</td>\n",
              "      <td>0.3524</td>\n",
              "      <td>0.6322</td>\n",
              "      <td>1.4640</td>\n",
              "      <td>0.4940</td>\n",
              "      <td>0.4516</td>\n",
              "      <td>1.0320</td>\n",
              "      <td>0.8206</td>\n",
              "      <td>-0.0691</td>\n",
              "      <td>1.0970</td>\n",
              "      <td>0.2771</td>\n",
              "      <td>0.4753</td>\n",
              "      <td>0.2259</td>\n",
              "      <td>1.0160</td>\n",
              "      <td>0.4358</td>\n",
              "      <td>0.0752</td>\n",
              "      <td>0.9084</td>\n",
              "      <td>0.7651</td>\n",
              "    </tr>\n",
              "    <tr>\n",
              "      <th>47</th>\n",
              "      <td>0.4860</td>\n",
              "      <td>0.1430</td>\n",
              "      <td>0.5281</td>\n",
              "      <td>-0.0022</td>\n",
              "      <td>-0.2334</td>\n",
              "      <td>-0.6607</td>\n",
              "      <td>0.6459</td>\n",
              "      <td>-0.0109</td>\n",
              "      <td>1.0120</td>\n",
              "      <td>-0.0864</td>\n",
              "      <td>-0.3817</td>\n",
              "      <td>-1.0600</td>\n",
              "      <td>0.9435</td>\n",
              "      <td>0.6296</td>\n",
              "      <td>0.3864</td>\n",
              "      <td>0.1420</td>\n",
              "      <td>0.9834</td>\n",
              "      <td>0.4189</td>\n",
              "      <td>0.7980</td>\n",
              "      <td>-0.2132</td>\n",
              "      <td>0.7651</td>\n",
              "      <td>-1.2410</td>\n",
              "      <td>0.0747</td>\n",
              "      <td>-1.5750</td>\n",
              "      <td>0.1535</td>\n",
              "      <td>-0.0840</td>\n",
              "      <td>0.6705</td>\n",
              "      <td>-0.7517</td>\n",
              "      <td>-0.2756</td>\n",
              "      <td>-1.0920</td>\n",
              "      <td>-0.8683</td>\n",
              "      <td>-0.6666</td>\n",
              "      <td>0.3619</td>\n",
              "      <td>-0.4816</td>\n",
              "      <td>0.3545</td>\n",
              "      <td>0.0480</td>\n",
              "      <td>-0.1306</td>\n",
              "      <td>0.3623</td>\n",
              "      <td>-1.4190</td>\n",
              "      <td>0.1975</td>\n",
              "      <td>-0.2137</td>\n",
              "      <td>-0.3358</td>\n",
              "      <td>-0.9395</td>\n",
              "      <td>-0.1191</td>\n",
              "      <td>0.5055</td>\n",
              "      <td>-0.2079</td>\n",
              "      <td>0.1760</td>\n",
              "      <td>-0.5248</td>\n",
              "      <td>0.0266</td>\n",
              "      <td>-0.1298</td>\n",
              "      <td>-0.5139</td>\n",
              "      <td>-0.4645</td>\n",
              "      <td>-0.5434</td>\n",
              "      <td>-0.7326</td>\n",
              "      <td>-0.3624</td>\n",
              "      <td>-0.1764</td>\n",
              "      <td>-0.4371</td>\n",
              "      <td>-0.6318</td>\n",
              "      <td>0.5859</td>\n",
              "      <td>0.9494</td>\n",
              "      <td>-0.7306</td>\n",
              "      <td>0.2834</td>\n",
              "    </tr>\n",
              "    <tr>\n",
              "      <th>63</th>\n",
              "      <td>0.4471</td>\n",
              "      <td>-0.0839</td>\n",
              "      <td>-0.3864</td>\n",
              "      <td>0.3196</td>\n",
              "      <td>0.2584</td>\n",
              "      <td>-0.3156</td>\n",
              "      <td>-0.1187</td>\n",
              "      <td>1.1610</td>\n",
              "      <td>0.5838</td>\n",
              "      <td>-0.2996</td>\n",
              "      <td>-0.3995</td>\n",
              "      <td>1.0700</td>\n",
              "      <td>0.2969</td>\n",
              "      <td>-0.2785</td>\n",
              "      <td>0.9678</td>\n",
              "      <td>-0.1409</td>\n",
              "      <td>1.0850</td>\n",
              "      <td>-0.0656</td>\n",
              "      <td>-0.6502</td>\n",
              "      <td>0.3527</td>\n",
              "      <td>0.1998</td>\n",
              "      <td>0.0975</td>\n",
              "      <td>0.0563</td>\n",
              "      <td>-0.3578</td>\n",
              "      <td>-0.0657</td>\n",
              "      <td>0.5316</td>\n",
              "      <td>0.6573</td>\n",
              "      <td>-0.5355</td>\n",
              "      <td>1.2380</td>\n",
              "      <td>-0.4994</td>\n",
              "      <td>-0.8140</td>\n",
              "      <td>0.8432</td>\n",
              "      <td>0.4478</td>\n",
              "      <td>-0.8843</td>\n",
              "      <td>-0.6954</td>\n",
              "      <td>0.4762</td>\n",
              "      <td>0.9160</td>\n",
              "      <td>0.1785</td>\n",
              "      <td>0.2807</td>\n",
              "      <td>1.3500</td>\n",
              "      <td>0.1766</td>\n",
              "      <td>-0.1137</td>\n",
              "      <td>1.4910</td>\n",
              "      <td>-0.6229</td>\n",
              "      <td>-0.9833</td>\n",
              "      <td>-0.1895</td>\n",
              "      <td>0.5661</td>\n",
              "      <td>0.6124</td>\n",
              "      <td>-0.1581</td>\n",
              "      <td>0.3927</td>\n",
              "      <td>0.8244</td>\n",
              "      <td>0.5313</td>\n",
              "      <td>0.4941</td>\n",
              "      <td>-0.6869</td>\n",
              "      <td>0.0460</td>\n",
              "      <td>0.4194</td>\n",
              "      <td>0.5550</td>\n",
              "      <td>1.1300</td>\n",
              "      <td>-0.2166</td>\n",
              "      <td>0.6102</td>\n",
              "      <td>0.3593</td>\n",
              "      <td>-0.4806</td>\n",
              "    </tr>\n",
              "    <tr>\n",
              "      <th>...</th>\n",
              "      <td>...</td>\n",
              "      <td>...</td>\n",
              "      <td>...</td>\n",
              "      <td>...</td>\n",
              "      <td>...</td>\n",
              "      <td>...</td>\n",
              "      <td>...</td>\n",
              "      <td>...</td>\n",
              "      <td>...</td>\n",
              "      <td>...</td>\n",
              "      <td>...</td>\n",
              "      <td>...</td>\n",
              "      <td>...</td>\n",
              "      <td>...</td>\n",
              "      <td>...</td>\n",
              "      <td>...</td>\n",
              "      <td>...</td>\n",
              "      <td>...</td>\n",
              "      <td>...</td>\n",
              "      <td>...</td>\n",
              "      <td>...</td>\n",
              "      <td>...</td>\n",
              "      <td>...</td>\n",
              "      <td>...</td>\n",
              "      <td>...</td>\n",
              "      <td>...</td>\n",
              "      <td>...</td>\n",
              "      <td>...</td>\n",
              "      <td>...</td>\n",
              "      <td>...</td>\n",
              "      <td>...</td>\n",
              "      <td>...</td>\n",
              "      <td>...</td>\n",
              "      <td>...</td>\n",
              "      <td>...</td>\n",
              "      <td>...</td>\n",
              "      <td>...</td>\n",
              "      <td>...</td>\n",
              "      <td>...</td>\n",
              "      <td>...</td>\n",
              "      <td>...</td>\n",
              "      <td>...</td>\n",
              "      <td>...</td>\n",
              "      <td>...</td>\n",
              "      <td>...</td>\n",
              "      <td>...</td>\n",
              "      <td>...</td>\n",
              "      <td>...</td>\n",
              "      <td>...</td>\n",
              "      <td>...</td>\n",
              "      <td>...</td>\n",
              "      <td>...</td>\n",
              "      <td>...</td>\n",
              "      <td>...</td>\n",
              "      <td>...</td>\n",
              "      <td>...</td>\n",
              "      <td>...</td>\n",
              "      <td>...</td>\n",
              "      <td>...</td>\n",
              "      <td>...</td>\n",
              "      <td>...</td>\n",
              "      <td>...</td>\n",
              "    </tr>\n",
              "    <tr>\n",
              "      <th>23729</th>\n",
              "      <td>0.0465</td>\n",
              "      <td>0.6430</td>\n",
              "      <td>-0.2453</td>\n",
              "      <td>0.3521</td>\n",
              "      <td>0.6195</td>\n",
              "      <td>-0.6659</td>\n",
              "      <td>0.8263</td>\n",
              "      <td>0.5933</td>\n",
              "      <td>0.1388</td>\n",
              "      <td>-0.2246</td>\n",
              "      <td>-0.6127</td>\n",
              "      <td>-0.1687</td>\n",
              "      <td>1.5170</td>\n",
              "      <td>0.6243</td>\n",
              "      <td>-0.8399</td>\n",
              "      <td>-0.1881</td>\n",
              "      <td>-0.1583</td>\n",
              "      <td>0.0622</td>\n",
              "      <td>-0.1170</td>\n",
              "      <td>0.7722</td>\n",
              "      <td>0.0063</td>\n",
              "      <td>0.7347</td>\n",
              "      <td>-0.4820</td>\n",
              "      <td>0.0000</td>\n",
              "      <td>0.0938</td>\n",
              "      <td>-0.6062</td>\n",
              "      <td>0.6108</td>\n",
              "      <td>-0.4900</td>\n",
              "      <td>0.1075</td>\n",
              "      <td>0.3029</td>\n",
              "      <td>-0.1369</td>\n",
              "      <td>0.6950</td>\n",
              "      <td>0.2731</td>\n",
              "      <td>0.6061</td>\n",
              "      <td>0.2976</td>\n",
              "      <td>0.3948</td>\n",
              "      <td>0.8336</td>\n",
              "      <td>1.1720</td>\n",
              "      <td>0.0790</td>\n",
              "      <td>0.3028</td>\n",
              "      <td>-0.0120</td>\n",
              "      <td>0.0781</td>\n",
              "      <td>0.2334</td>\n",
              "      <td>0.1682</td>\n",
              "      <td>0.3971</td>\n",
              "      <td>0.6605</td>\n",
              "      <td>-0.6505</td>\n",
              "      <td>-0.1283</td>\n",
              "      <td>-0.4924</td>\n",
              "      <td>0.1668</td>\n",
              "      <td>1.2440</td>\n",
              "      <td>-1.6380</td>\n",
              "      <td>0.5628</td>\n",
              "      <td>0.9434</td>\n",
              "      <td>0.9574</td>\n",
              "      <td>0.0359</td>\n",
              "      <td>1.1500</td>\n",
              "      <td>0.8947</td>\n",
              "      <td>-0.9647</td>\n",
              "      <td>-0.6059</td>\n",
              "      <td>0.4703</td>\n",
              "      <td>-0.1513</td>\n",
              "    </tr>\n",
              "    <tr>\n",
              "      <th>23747</th>\n",
              "      <td>-0.6204</td>\n",
              "      <td>-1.3800</td>\n",
              "      <td>-1.1880</td>\n",
              "      <td>-0.6573</td>\n",
              "      <td>-0.8408</td>\n",
              "      <td>-0.2447</td>\n",
              "      <td>1.3490</td>\n",
              "      <td>-0.5155</td>\n",
              "      <td>1.2610</td>\n",
              "      <td>-0.1790</td>\n",
              "      <td>-0.7182</td>\n",
              "      <td>-0.7885</td>\n",
              "      <td>0.3022</td>\n",
              "      <td>2.0140</td>\n",
              "      <td>0.1667</td>\n",
              "      <td>-0.7325</td>\n",
              "      <td>-0.1553</td>\n",
              "      <td>0.8400</td>\n",
              "      <td>-0.1069</td>\n",
              "      <td>-0.7247</td>\n",
              "      <td>1.3430</td>\n",
              "      <td>1.5010</td>\n",
              "      <td>-1.3370</td>\n",
              "      <td>0.7190</td>\n",
              "      <td>-0.0843</td>\n",
              "      <td>0.4841</td>\n",
              "      <td>-0.9104</td>\n",
              "      <td>1.3990</td>\n",
              "      <td>0.7447</td>\n",
              "      <td>-1.2110</td>\n",
              "      <td>0.6562</td>\n",
              "      <td>1.6290</td>\n",
              "      <td>-0.2854</td>\n",
              "      <td>0.2248</td>\n",
              "      <td>-1.4850</td>\n",
              "      <td>0.9749</td>\n",
              "      <td>0.6954</td>\n",
              "      <td>0.9388</td>\n",
              "      <td>0.0511</td>\n",
              "      <td>0.2647</td>\n",
              "      <td>1.0440</td>\n",
              "      <td>0.7449</td>\n",
              "      <td>1.0390</td>\n",
              "      <td>-0.1519</td>\n",
              "      <td>0.6743</td>\n",
              "      <td>1.3460</td>\n",
              "      <td>0.1894</td>\n",
              "      <td>0.7540</td>\n",
              "      <td>0.9674</td>\n",
              "      <td>0.6959</td>\n",
              "      <td>0.2556</td>\n",
              "      <td>1.5190</td>\n",
              "      <td>0.9388</td>\n",
              "      <td>-0.9945</td>\n",
              "      <td>-0.1075</td>\n",
              "      <td>0.9664</td>\n",
              "      <td>0.9317</td>\n",
              "      <td>0.4137</td>\n",
              "      <td>1.3970</td>\n",
              "      <td>-0.5932</td>\n",
              "      <td>0.1369</td>\n",
              "      <td>0.4803</td>\n",
              "    </tr>\n",
              "    <tr>\n",
              "      <th>23768</th>\n",
              "      <td>-0.1051</td>\n",
              "      <td>0.4335</td>\n",
              "      <td>0.3648</td>\n",
              "      <td>-0.0525</td>\n",
              "      <td>-0.3632</td>\n",
              "      <td>-0.3228</td>\n",
              "      <td>-2.3190</td>\n",
              "      <td>-0.5294</td>\n",
              "      <td>0.1878</td>\n",
              "      <td>0.5047</td>\n",
              "      <td>1.3820</td>\n",
              "      <td>0.6107</td>\n",
              "      <td>2.4790</td>\n",
              "      <td>0.4347</td>\n",
              "      <td>0.9422</td>\n",
              "      <td>-0.1042</td>\n",
              "      <td>-0.2611</td>\n",
              "      <td>1.5760</td>\n",
              "      <td>-0.0232</td>\n",
              "      <td>-0.2455</td>\n",
              "      <td>0.8058</td>\n",
              "      <td>-2.4180</td>\n",
              "      <td>-0.5838</td>\n",
              "      <td>-0.1626</td>\n",
              "      <td>-0.8609</td>\n",
              "      <td>-0.2021</td>\n",
              "      <td>0.1494</td>\n",
              "      <td>0.6618</td>\n",
              "      <td>1.3080</td>\n",
              "      <td>-0.7822</td>\n",
              "      <td>0.3923</td>\n",
              "      <td>-0.2068</td>\n",
              "      <td>0.9070</td>\n",
              "      <td>0.7496</td>\n",
              "      <td>0.8065</td>\n",
              "      <td>1.3190</td>\n",
              "      <td>-1.1650</td>\n",
              "      <td>0.4465</td>\n",
              "      <td>1.0640</td>\n",
              "      <td>0.1108</td>\n",
              "      <td>0.4081</td>\n",
              "      <td>-0.1517</td>\n",
              "      <td>0.1468</td>\n",
              "      <td>0.4138</td>\n",
              "      <td>1.2270</td>\n",
              "      <td>0.2365</td>\n",
              "      <td>0.5612</td>\n",
              "      <td>-0.2882</td>\n",
              "      <td>0.2912</td>\n",
              "      <td>0.7443</td>\n",
              "      <td>-0.1137</td>\n",
              "      <td>-1.6780</td>\n",
              "      <td>0.2824</td>\n",
              "      <td>0.7886</td>\n",
              "      <td>0.8374</td>\n",
              "      <td>0.9588</td>\n",
              "      <td>-1.1140</td>\n",
              "      <td>0.9108</td>\n",
              "      <td>0.7460</td>\n",
              "      <td>0.6698</td>\n",
              "      <td>0.4773</td>\n",
              "      <td>-0.9418</td>\n",
              "    </tr>\n",
              "    <tr>\n",
              "      <th>23793</th>\n",
              "      <td>0.6008</td>\n",
              "      <td>0.2781</td>\n",
              "      <td>-0.3319</td>\n",
              "      <td>-0.8782</td>\n",
              "      <td>0.9281</td>\n",
              "      <td>0.7535</td>\n",
              "      <td>0.5971</td>\n",
              "      <td>1.6350</td>\n",
              "      <td>-0.3146</td>\n",
              "      <td>0.4984</td>\n",
              "      <td>-1.1890</td>\n",
              "      <td>0.3772</td>\n",
              "      <td>-0.8196</td>\n",
              "      <td>0.1083</td>\n",
              "      <td>-2.0350</td>\n",
              "      <td>0.4135</td>\n",
              "      <td>0.7586</td>\n",
              "      <td>-0.4024</td>\n",
              "      <td>-0.0449</td>\n",
              "      <td>0.3335</td>\n",
              "      <td>0.2358</td>\n",
              "      <td>0.7919</td>\n",
              "      <td>-0.8775</td>\n",
              "      <td>0.4232</td>\n",
              "      <td>1.8460</td>\n",
              "      <td>-2.0940</td>\n",
              "      <td>0.1438</td>\n",
              "      <td>-0.6604</td>\n",
              "      <td>0.7243</td>\n",
              "      <td>0.0338</td>\n",
              "      <td>-0.0182</td>\n",
              "      <td>-0.1620</td>\n",
              "      <td>-0.2933</td>\n",
              "      <td>0.2926</td>\n",
              "      <td>0.2937</td>\n",
              "      <td>0.6187</td>\n",
              "      <td>-0.2173</td>\n",
              "      <td>-0.3576</td>\n",
              "      <td>1.3070</td>\n",
              "      <td>0.2541</td>\n",
              "      <td>0.1225</td>\n",
              "      <td>0.8766</td>\n",
              "      <td>0.0965</td>\n",
              "      <td>-0.2989</td>\n",
              "      <td>0.8281</td>\n",
              "      <td>1.5280</td>\n",
              "      <td>-0.5219</td>\n",
              "      <td>-0.8771</td>\n",
              "      <td>1.3170</td>\n",
              "      <td>0.7994</td>\n",
              "      <td>1.8880</td>\n",
              "      <td>-0.5529</td>\n",
              "      <td>0.2416</td>\n",
              "      <td>-0.6872</td>\n",
              "      <td>0.1623</td>\n",
              "      <td>0.5389</td>\n",
              "      <td>-0.6451</td>\n",
              "      <td>-0.6476</td>\n",
              "      <td>0.9533</td>\n",
              "      <td>0.0285</td>\n",
              "      <td>0.0211</td>\n",
              "      <td>0.7421</td>\n",
              "    </tr>\n",
              "    <tr>\n",
              "      <th>23811</th>\n",
              "      <td>0.3942</td>\n",
              "      <td>0.3756</td>\n",
              "      <td>0.3109</td>\n",
              "      <td>-0.7389</td>\n",
              "      <td>0.5505</td>\n",
              "      <td>-0.0159</td>\n",
              "      <td>-0.2541</td>\n",
              "      <td>0.1745</td>\n",
              "      <td>-0.0340</td>\n",
              "      <td>0.4865</td>\n",
              "      <td>-0.1854</td>\n",
              "      <td>0.0716</td>\n",
              "      <td>0.1729</td>\n",
              "      <td>-0.0434</td>\n",
              "      <td>0.1542</td>\n",
              "      <td>-0.2192</td>\n",
              "      <td>-0.0302</td>\n",
              "      <td>-0.4218</td>\n",
              "      <td>0.4057</td>\n",
              "      <td>-0.5372</td>\n",
              "      <td>0.1521</td>\n",
              "      <td>-0.2651</td>\n",
              "      <td>0.2310</td>\n",
              "      <td>-0.8101</td>\n",
              "      <td>0.4943</td>\n",
              "      <td>0.6905</td>\n",
              "      <td>-0.3720</td>\n",
              "      <td>-1.4110</td>\n",
              "      <td>0.4516</td>\n",
              "      <td>1.2300</td>\n",
              "      <td>-0.1949</td>\n",
              "      <td>1.0650</td>\n",
              "      <td>0.6329</td>\n",
              "      <td>0.3742</td>\n",
              "      <td>0.1237</td>\n",
              "      <td>0.6147</td>\n",
              "      <td>0.4589</td>\n",
              "      <td>-0.2372</td>\n",
              "      <td>1.1160</td>\n",
              "      <td>0.4623</td>\n",
              "      <td>0.2830</td>\n",
              "      <td>0.6260</td>\n",
              "      <td>-0.2559</td>\n",
              "      <td>0.5093</td>\n",
              "      <td>0.3384</td>\n",
              "      <td>0.8395</td>\n",
              "      <td>0.3992</td>\n",
              "      <td>0.0669</td>\n",
              "      <td>0.9208</td>\n",
              "      <td>-0.1220</td>\n",
              "      <td>-0.1834</td>\n",
              "      <td>0.3320</td>\n",
              "      <td>0.0615</td>\n",
              "      <td>0.6909</td>\n",
              "      <td>0.0788</td>\n",
              "      <td>0.2697</td>\n",
              "      <td>0.6127</td>\n",
              "      <td>0.4435</td>\n",
              "      <td>0.7225</td>\n",
              "      <td>0.8947</td>\n",
              "      <td>0.7414</td>\n",
              "      <td>0.7820</td>\n",
              "    </tr>\n",
              "  </tbody>\n",
              "</table>\n",
              "<p>1866 rows × 62 columns</p>\n",
              "</div>"
            ],
            "text/plain": [
              "          g-0     g-1     g-2     g-3  ...    c-27    c-28    c-29    c-30\n",
              "25    -0.6696 -0.2718 -1.2230 -0.6226  ...  0.4685  0.4348  0.5421  0.4056\n",
              "38    -0.1636 -1.8230 -0.5211  0.3054  ...  0.4123 -0.8581 -0.2263  0.7330\n",
              "40    -1.3200 -1.7340 -0.0741  1.5440  ...  0.4358  0.0752  0.9084  0.7651\n",
              "47     0.4860  0.1430  0.5281 -0.0022  ...  0.5859  0.9494 -0.7306  0.2834\n",
              "63     0.4471 -0.0839 -0.3864  0.3196  ... -0.2166  0.6102  0.3593 -0.4806\n",
              "...       ...     ...     ...     ...  ...     ...     ...     ...     ...\n",
              "23729  0.0465  0.6430 -0.2453  0.3521  ... -0.9647 -0.6059  0.4703 -0.1513\n",
              "23747 -0.6204 -1.3800 -1.1880 -0.6573  ...  1.3970 -0.5932  0.1369  0.4803\n",
              "23768 -0.1051  0.4335  0.3648 -0.0525  ...  0.7460  0.6698  0.4773 -0.9418\n",
              "23793  0.6008  0.2781 -0.3319 -0.8782  ...  0.9533  0.0285  0.0211  0.7421\n",
              "23811  0.3942  0.3756  0.3109 -0.7389  ...  0.7225  0.8947  0.7414  0.7820\n",
              "\n",
              "[1866 rows x 62 columns]"
            ]
          },
          "metadata": {
            "tags": []
          },
          "execution_count": 4
        }
      ]
    },
    {
      "cell_type": "code",
      "metadata": {
        "id": "2Flk_5xJEkFO"
      },
      "source": [
        "concat_corr = concatenado.corr()\n"
      ],
      "execution_count": null,
      "outputs": []
    },
    {
      "cell_type": "code",
      "metadata": {
        "id": "OEZd_gONEzwZ"
      },
      "source": [
        "mask = np.triu(np.ones_like(concat_corr, dtype=bool))\n",
        "f, ax = plt.subplots(figsize=(20, 20))\n",
        "cmap = sns.diverging_palette(230, 20, as_cmap=True)\n",
        "\n",
        "sns.heatmap(concat_corr, mask=mask, cmap=cmap, center=0,\n",
        "            square=True, linewidths=.5,cbar_kws={\"shrink\": .5})"
      ],
      "execution_count": null,
      "outputs": []
    },
    {
      "cell_type": "markdown",
      "metadata": {
        "id": "2uFx-pddFbPY"
      },
      "source": [
        "Podemos ver que que a coorelação entre as celulas em si é bem mais baixa nesse conjunto de dados(apenas os experimentos do grupo de controle) do que no escolhido anteriormente( as 50 primeiras celulas). Enquanto a coorelação entre  os genes em si é bem mais pontual. Por último a coorelação entre os genes e as celulas ja é quase nula. Imagino que essa seja a ideia do grupo de controle, sendo algo mais neutro."
      ]
    },
    {
      "cell_type": "markdown",
      "metadata": {
        "id": "i4zXJmzVxFlG"
      },
      "source": [
        "##Desafio 06: Estudar o código que plota a matriz de correlação (heatmap)"
      ]
    },
    {
      "cell_type": "code",
      "metadata": {
        "colab": {
          "base_uri": "https://localhost:8080/",
          "height": 566
        },
        "id": "bE0hHJdIrSGA",
        "outputId": "1e29e9ac-c864-49fd-e4cf-ce93132760ce"
      },
      "source": [
        "corr = dados.loc[ : , 'c-0':'c-50'].corr()\n",
        "\n",
        "# np.triu = valores de cima do triangulo\n",
        "# Os valores onde a mascara vale não sao mostrados, valores nulos já fazem parte da mascara automaticamente.\n",
        "\n",
        "mask = np.triu(np.ones_like(corr, dtype=bool))\n",
        "\n",
        "# Seta a figura\n",
        "f, ax = plt.subplots(figsize=(11, 9))\n",
        "\n",
        "# Seta o mapa de cres\n",
        "cmap = sns.diverging_palette(230, 20, as_cmap=True)\n",
        "\n",
        "# mapa de calor\n",
        "sns.heatmap(corr, mask=mask, cmap=cmap, center=0,\n",
        "            square=True, linewidths=.5, cbar_kws={\"shrink\": .5})\n",
        "\n",
        "# corr -> correlação \n",
        "# mask ->  mascara\n",
        "# center -> onde fica o centro do mapa de calor\n",
        "# square -> o formato dos pedaços do mapa\n",
        "# linewidth -> o tamanho das linhas\n",
        "# cbar_kws -> valores mandados pra outra camada do grafico feita pelo figure do matplotlib, no caso shrink seria pro tamanho do mapa de cores"
      ],
      "execution_count": null,
      "outputs": [
        {
          "output_type": "execute_result",
          "data": {
            "text/plain": [
              "<matplotlib.axes._subplots.AxesSubplot at 0x7fd635846650>"
            ]
          },
          "metadata": {
            "tags": []
          },
          "execution_count": 36
        },
        {
          "output_type": "display_data",
          "data": {
            "image/png": "[encoded data removed]",
            "text/plain": [
              "<Figure size 792x648 with 2 Axes>"
            ]
          },
          "metadata": {
            "tags": [],
            "needs_background": "light"
          }
        }
      ]
    },
    {
      "cell_type": "markdown",
      "metadata": {
        "id": "wXSnTINnxQDw"
      },
      "source": [
        "##Desafio 07: Resumo do que você aprendeu com os dados"
      ]
    },
    {
      "cell_type": "markdown",
      "metadata": {
        "id": "nImnHK_hTSd6"
      },
      "source": [
        "Pra essa aula não explorei muito os dados, apenas vi algumas coorelações, mas como sempre coorelações não significam causalidade.\n",
        "\n",
        "Mas aprendi sobre alguns agregadores de dados, tabelas de frequências e uma forma automatizada de gerar coorelações em vez de ficar olhando dado a dado da tabela utilizando um mapa de calor."
      ]
    },
    {
      "cell_type": "markdown",
      "metadata": {
        "id": "01X9mDABW3jY"
      },
      "source": [
        "# Aula 04"
      ]
    },
    {
      "cell_type": "code",
      "metadata": {
        "colab": {
          "base_uri": "https://localhost:8080/",
          "height": 270
        },
        "id": "w67wdJMSUScG",
        "outputId": "844c5a74-a372-4c48-f87b-ddf978d4d38b"
      },
      "source": [
        "dados_resultados.head()"
      ],
      "execution_count": null,
      "outputs": [
        {
          "output_type": "execute_result",
          "data": {
            "text/html": [
              "<div>\n",
              "<style scoped>\n",
              "    .dataframe tbody tr th:only-of-type {\n",
              "        vertical-align: middle;\n",
              "    }\n",
              "\n",
              "    .dataframe tbody tr th {\n",
              "        vertical-align: top;\n",
              "    }\n",
              "\n",
              "    .dataframe thead th {\n",
              "        text-align: right;\n",
              "    }\n",
              "</style>\n",
              "<table border=\"1\" class=\"dataframe\">\n",
              "  <thead>\n",
              "    <tr style=\"text-align: right;\">\n",
              "      <th></th>\n",
              "      <th>id</th>\n",
              "      <th>5-alpha_reductase_inhibitor</th>\n",
              "      <th>11-beta-hsd1_inhibitor</th>\n",
              "      <th>acat_inhibitor</th>\n",
              "      <th>acetylcholine_receptor_agonist</th>\n",
              "      <th>acetylcholine_receptor_antagonist</th>\n",
              "      <th>acetylcholinesterase_inhibitor</th>\n",
              "      <th>adenosine_receptor_agonist</th>\n",
              "      <th>adenosine_receptor_antagonist</th>\n",
              "      <th>adenylyl_cyclase_activator</th>\n",
              "      <th>adrenergic_receptor_agonist</th>\n",
              "      <th>adrenergic_receptor_antagonist</th>\n",
              "      <th>akt_inhibitor</th>\n",
              "      <th>aldehyde_dehydrogenase_inhibitor</th>\n",
              "      <th>alk_inhibitor</th>\n",
              "      <th>ampk_activator</th>\n",
              "      <th>analgesic</th>\n",
              "      <th>androgen_receptor_agonist</th>\n",
              "      <th>androgen_receptor_antagonist</th>\n",
              "      <th>anesthetic_-_local</th>\n",
              "      <th>angiogenesis_inhibitor</th>\n",
              "      <th>angiotensin_receptor_antagonist</th>\n",
              "      <th>anti-inflammatory</th>\n",
              "      <th>antiarrhythmic</th>\n",
              "      <th>antibiotic</th>\n",
              "      <th>anticonvulsant</th>\n",
              "      <th>antifungal</th>\n",
              "      <th>antihistamine</th>\n",
              "      <th>antimalarial</th>\n",
              "      <th>antioxidant</th>\n",
              "      <th>antiprotozoal</th>\n",
              "      <th>antiviral</th>\n",
              "      <th>apoptosis_stimulant</th>\n",
              "      <th>aromatase_inhibitor</th>\n",
              "      <th>atm_kinase_inhibitor</th>\n",
              "      <th>atp-sensitive_potassium_channel_antagonist</th>\n",
              "      <th>atp_synthase_inhibitor</th>\n",
              "      <th>atpase_inhibitor</th>\n",
              "      <th>atr_kinase_inhibitor</th>\n",
              "      <th>aurora_kinase_inhibitor</th>\n",
              "      <th>...</th>\n",
              "      <th>protein_synthesis_inhibitor</th>\n",
              "      <th>protein_tyrosine_kinase_inhibitor</th>\n",
              "      <th>radiopaque_medium</th>\n",
              "      <th>raf_inhibitor</th>\n",
              "      <th>ras_gtpase_inhibitor</th>\n",
              "      <th>retinoid_receptor_agonist</th>\n",
              "      <th>retinoid_receptor_antagonist</th>\n",
              "      <th>rho_associated_kinase_inhibitor</th>\n",
              "      <th>ribonucleoside_reductase_inhibitor</th>\n",
              "      <th>rna_polymerase_inhibitor</th>\n",
              "      <th>serotonin_receptor_agonist</th>\n",
              "      <th>serotonin_receptor_antagonist</th>\n",
              "      <th>serotonin_reuptake_inhibitor</th>\n",
              "      <th>sigma_receptor_agonist</th>\n",
              "      <th>sigma_receptor_antagonist</th>\n",
              "      <th>smoothened_receptor_antagonist</th>\n",
              "      <th>sodium_channel_inhibitor</th>\n",
              "      <th>sphingosine_receptor_agonist</th>\n",
              "      <th>src_inhibitor</th>\n",
              "      <th>steroid</th>\n",
              "      <th>syk_inhibitor</th>\n",
              "      <th>tachykinin_antagonist</th>\n",
              "      <th>tgf-beta_receptor_inhibitor</th>\n",
              "      <th>thrombin_inhibitor</th>\n",
              "      <th>thymidylate_synthase_inhibitor</th>\n",
              "      <th>tlr_agonist</th>\n",
              "      <th>tlr_antagonist</th>\n",
              "      <th>tnf_inhibitor</th>\n",
              "      <th>topoisomerase_inhibitor</th>\n",
              "      <th>transient_receptor_potential_channel_antagonist</th>\n",
              "      <th>tropomyosin_receptor_kinase_inhibitor</th>\n",
              "      <th>trpv_agonist</th>\n",
              "      <th>trpv_antagonist</th>\n",
              "      <th>tubulin_inhibitor</th>\n",
              "      <th>tyrosine_kinase_inhibitor</th>\n",
              "      <th>ubiquitin_specific_protease_inhibitor</th>\n",
              "      <th>vegfr_inhibitor</th>\n",
              "      <th>vitamin_b</th>\n",
              "      <th>vitamin_d_receptor_agonist</th>\n",
              "      <th>wnt_inhibitor</th>\n",
              "    </tr>\n",
              "  </thead>\n",
              "  <tbody>\n",
              "    <tr>\n",
              "      <th>0</th>\n",
              "      <td>id_000644bb2</td>\n",
              "      <td>0</td>\n",
              "      <td>0</td>\n",
              "      <td>0</td>\n",
              "      <td>0</td>\n",
              "      <td>0</td>\n",
              "      <td>0</td>\n",
              "      <td>0</td>\n",
              "      <td>0</td>\n",
              "      <td>0</td>\n",
              "      <td>0</td>\n",
              "      <td>0</td>\n",
              "      <td>0</td>\n",
              "      <td>0</td>\n",
              "      <td>0</td>\n",
              "      <td>0</td>\n",
              "      <td>0</td>\n",
              "      <td>0</td>\n",
              "      <td>0</td>\n",
              "      <td>0</td>\n",
              "      <td>0</td>\n",
              "      <td>0</td>\n",
              "      <td>0</td>\n",
              "      <td>0</td>\n",
              "      <td>0</td>\n",
              "      <td>0</td>\n",
              "      <td>0</td>\n",
              "      <td>0</td>\n",
              "      <td>0</td>\n",
              "      <td>0</td>\n",
              "      <td>0</td>\n",
              "      <td>0</td>\n",
              "      <td>0</td>\n",
              "      <td>0</td>\n",
              "      <td>0</td>\n",
              "      <td>0</td>\n",
              "      <td>0</td>\n",
              "      <td>0</td>\n",
              "      <td>0</td>\n",
              "      <td>0</td>\n",
              "      <td>...</td>\n",
              "      <td>0</td>\n",
              "      <td>0</td>\n",
              "      <td>0</td>\n",
              "      <td>0</td>\n",
              "      <td>0</td>\n",
              "      <td>0</td>\n",
              "      <td>0</td>\n",
              "      <td>0</td>\n",
              "      <td>0</td>\n",
              "      <td>0</td>\n",
              "      <td>0</td>\n",
              "      <td>0</td>\n",
              "      <td>0</td>\n",
              "      <td>0</td>\n",
              "      <td>0</td>\n",
              "      <td>0</td>\n",
              "      <td>0</td>\n",
              "      <td>0</td>\n",
              "      <td>0</td>\n",
              "      <td>0</td>\n",
              "      <td>0</td>\n",
              "      <td>0</td>\n",
              "      <td>0</td>\n",
              "      <td>0</td>\n",
              "      <td>0</td>\n",
              "      <td>0</td>\n",
              "      <td>0</td>\n",
              "      <td>0</td>\n",
              "      <td>0</td>\n",
              "      <td>0</td>\n",
              "      <td>0</td>\n",
              "      <td>0</td>\n",
              "      <td>0</td>\n",
              "      <td>0</td>\n",
              "      <td>0</td>\n",
              "      <td>0</td>\n",
              "      <td>0</td>\n",
              "      <td>0</td>\n",
              "      <td>0</td>\n",
              "      <td>0</td>\n",
              "    </tr>\n",
              "    <tr>\n",
              "      <th>1</th>\n",
              "      <td>id_000779bfc</td>\n",
              "      <td>0</td>\n",
              "      <td>0</td>\n",
              "      <td>0</td>\n",
              "      <td>0</td>\n",
              "      <td>0</td>\n",
              "      <td>0</td>\n",
              "      <td>0</td>\n",
              "      <td>0</td>\n",
              "      <td>0</td>\n",
              "      <td>0</td>\n",
              "      <td>0</td>\n",
              "      <td>0</td>\n",
              "      <td>0</td>\n",
              "      <td>0</td>\n",
              "      <td>0</td>\n",
              "      <td>0</td>\n",
              "      <td>0</td>\n",
              "      <td>0</td>\n",
              "      <td>0</td>\n",
              "      <td>0</td>\n",
              "      <td>0</td>\n",
              "      <td>0</td>\n",
              "      <td>0</td>\n",
              "      <td>0</td>\n",
              "      <td>0</td>\n",
              "      <td>0</td>\n",
              "      <td>0</td>\n",
              "      <td>0</td>\n",
              "      <td>0</td>\n",
              "      <td>0</td>\n",
              "      <td>0</td>\n",
              "      <td>0</td>\n",
              "      <td>0</td>\n",
              "      <td>0</td>\n",
              "      <td>0</td>\n",
              "      <td>0</td>\n",
              "      <td>0</td>\n",
              "      <td>0</td>\n",
              "      <td>0</td>\n",
              "      <td>...</td>\n",
              "      <td>0</td>\n",
              "      <td>0</td>\n",
              "      <td>0</td>\n",
              "      <td>0</td>\n",
              "      <td>0</td>\n",
              "      <td>0</td>\n",
              "      <td>0</td>\n",
              "      <td>0</td>\n",
              "      <td>0</td>\n",
              "      <td>0</td>\n",
              "      <td>0</td>\n",
              "      <td>0</td>\n",
              "      <td>0</td>\n",
              "      <td>0</td>\n",
              "      <td>0</td>\n",
              "      <td>0</td>\n",
              "      <td>0</td>\n",
              "      <td>0</td>\n",
              "      <td>0</td>\n",
              "      <td>0</td>\n",
              "      <td>0</td>\n",
              "      <td>0</td>\n",
              "      <td>0</td>\n",
              "      <td>0</td>\n",
              "      <td>0</td>\n",
              "      <td>0</td>\n",
              "      <td>0</td>\n",
              "      <td>0</td>\n",
              "      <td>0</td>\n",
              "      <td>0</td>\n",
              "      <td>0</td>\n",
              "      <td>0</td>\n",
              "      <td>0</td>\n",
              "      <td>0</td>\n",
              "      <td>0</td>\n",
              "      <td>0</td>\n",
              "      <td>0</td>\n",
              "      <td>0</td>\n",
              "      <td>0</td>\n",
              "      <td>0</td>\n",
              "    </tr>\n",
              "    <tr>\n",
              "      <th>2</th>\n",
              "      <td>id_000a6266a</td>\n",
              "      <td>0</td>\n",
              "      <td>0</td>\n",
              "      <td>0</td>\n",
              "      <td>0</td>\n",
              "      <td>0</td>\n",
              "      <td>0</td>\n",
              "      <td>0</td>\n",
              "      <td>0</td>\n",
              "      <td>0</td>\n",
              "      <td>0</td>\n",
              "      <td>0</td>\n",
              "      <td>0</td>\n",
              "      <td>0</td>\n",
              "      <td>0</td>\n",
              "      <td>0</td>\n",
              "      <td>0</td>\n",
              "      <td>0</td>\n",
              "      <td>0</td>\n",
              "      <td>0</td>\n",
              "      <td>0</td>\n",
              "      <td>0</td>\n",
              "      <td>0</td>\n",
              "      <td>0</td>\n",
              "      <td>0</td>\n",
              "      <td>0</td>\n",
              "      <td>0</td>\n",
              "      <td>0</td>\n",
              "      <td>0</td>\n",
              "      <td>0</td>\n",
              "      <td>0</td>\n",
              "      <td>0</td>\n",
              "      <td>0</td>\n",
              "      <td>0</td>\n",
              "      <td>0</td>\n",
              "      <td>0</td>\n",
              "      <td>0</td>\n",
              "      <td>0</td>\n",
              "      <td>0</td>\n",
              "      <td>0</td>\n",
              "      <td>...</td>\n",
              "      <td>0</td>\n",
              "      <td>0</td>\n",
              "      <td>0</td>\n",
              "      <td>0</td>\n",
              "      <td>0</td>\n",
              "      <td>0</td>\n",
              "      <td>0</td>\n",
              "      <td>0</td>\n",
              "      <td>0</td>\n",
              "      <td>0</td>\n",
              "      <td>0</td>\n",
              "      <td>0</td>\n",
              "      <td>0</td>\n",
              "      <td>0</td>\n",
              "      <td>0</td>\n",
              "      <td>0</td>\n",
              "      <td>0</td>\n",
              "      <td>0</td>\n",
              "      <td>0</td>\n",
              "      <td>0</td>\n",
              "      <td>0</td>\n",
              "      <td>0</td>\n",
              "      <td>0</td>\n",
              "      <td>0</td>\n",
              "      <td>0</td>\n",
              "      <td>0</td>\n",
              "      <td>0</td>\n",
              "      <td>0</td>\n",
              "      <td>0</td>\n",
              "      <td>0</td>\n",
              "      <td>0</td>\n",
              "      <td>0</td>\n",
              "      <td>0</td>\n",
              "      <td>0</td>\n",
              "      <td>0</td>\n",
              "      <td>0</td>\n",
              "      <td>0</td>\n",
              "      <td>0</td>\n",
              "      <td>0</td>\n",
              "      <td>0</td>\n",
              "    </tr>\n",
              "    <tr>\n",
              "      <th>3</th>\n",
              "      <td>id_0015fd391</td>\n",
              "      <td>0</td>\n",
              "      <td>0</td>\n",
              "      <td>0</td>\n",
              "      <td>0</td>\n",
              "      <td>0</td>\n",
              "      <td>0</td>\n",
              "      <td>0</td>\n",
              "      <td>0</td>\n",
              "      <td>0</td>\n",
              "      <td>0</td>\n",
              "      <td>0</td>\n",
              "      <td>0</td>\n",
              "      <td>0</td>\n",
              "      <td>0</td>\n",
              "      <td>0</td>\n",
              "      <td>0</td>\n",
              "      <td>0</td>\n",
              "      <td>0</td>\n",
              "      <td>0</td>\n",
              "      <td>0</td>\n",
              "      <td>0</td>\n",
              "      <td>0</td>\n",
              "      <td>0</td>\n",
              "      <td>0</td>\n",
              "      <td>0</td>\n",
              "      <td>0</td>\n",
              "      <td>0</td>\n",
              "      <td>0</td>\n",
              "      <td>0</td>\n",
              "      <td>0</td>\n",
              "      <td>0</td>\n",
              "      <td>0</td>\n",
              "      <td>0</td>\n",
              "      <td>0</td>\n",
              "      <td>0</td>\n",
              "      <td>0</td>\n",
              "      <td>0</td>\n",
              "      <td>0</td>\n",
              "      <td>0</td>\n",
              "      <td>...</td>\n",
              "      <td>0</td>\n",
              "      <td>0</td>\n",
              "      <td>0</td>\n",
              "      <td>0</td>\n",
              "      <td>0</td>\n",
              "      <td>0</td>\n",
              "      <td>0</td>\n",
              "      <td>0</td>\n",
              "      <td>0</td>\n",
              "      <td>0</td>\n",
              "      <td>0</td>\n",
              "      <td>0</td>\n",
              "      <td>0</td>\n",
              "      <td>0</td>\n",
              "      <td>0</td>\n",
              "      <td>0</td>\n",
              "      <td>0</td>\n",
              "      <td>0</td>\n",
              "      <td>0</td>\n",
              "      <td>0</td>\n",
              "      <td>0</td>\n",
              "      <td>0</td>\n",
              "      <td>0</td>\n",
              "      <td>0</td>\n",
              "      <td>0</td>\n",
              "      <td>0</td>\n",
              "      <td>0</td>\n",
              "      <td>0</td>\n",
              "      <td>0</td>\n",
              "      <td>0</td>\n",
              "      <td>0</td>\n",
              "      <td>0</td>\n",
              "      <td>0</td>\n",
              "      <td>0</td>\n",
              "      <td>0</td>\n",
              "      <td>0</td>\n",
              "      <td>0</td>\n",
              "      <td>0</td>\n",
              "      <td>0</td>\n",
              "      <td>0</td>\n",
              "    </tr>\n",
              "    <tr>\n",
              "      <th>4</th>\n",
              "      <td>id_001626bd3</td>\n",
              "      <td>0</td>\n",
              "      <td>0</td>\n",
              "      <td>0</td>\n",
              "      <td>0</td>\n",
              "      <td>0</td>\n",
              "      <td>0</td>\n",
              "      <td>0</td>\n",
              "      <td>0</td>\n",
              "      <td>0</td>\n",
              "      <td>0</td>\n",
              "      <td>0</td>\n",
              "      <td>0</td>\n",
              "      <td>0</td>\n",
              "      <td>0</td>\n",
              "      <td>0</td>\n",
              "      <td>0</td>\n",
              "      <td>0</td>\n",
              "      <td>0</td>\n",
              "      <td>0</td>\n",
              "      <td>0</td>\n",
              "      <td>0</td>\n",
              "      <td>0</td>\n",
              "      <td>0</td>\n",
              "      <td>0</td>\n",
              "      <td>0</td>\n",
              "      <td>0</td>\n",
              "      <td>0</td>\n",
              "      <td>0</td>\n",
              "      <td>0</td>\n",
              "      <td>0</td>\n",
              "      <td>0</td>\n",
              "      <td>0</td>\n",
              "      <td>0</td>\n",
              "      <td>0</td>\n",
              "      <td>0</td>\n",
              "      <td>0</td>\n",
              "      <td>0</td>\n",
              "      <td>0</td>\n",
              "      <td>0</td>\n",
              "      <td>...</td>\n",
              "      <td>0</td>\n",
              "      <td>0</td>\n",
              "      <td>0</td>\n",
              "      <td>0</td>\n",
              "      <td>0</td>\n",
              "      <td>0</td>\n",
              "      <td>0</td>\n",
              "      <td>0</td>\n",
              "      <td>0</td>\n",
              "      <td>0</td>\n",
              "      <td>0</td>\n",
              "      <td>0</td>\n",
              "      <td>0</td>\n",
              "      <td>0</td>\n",
              "      <td>0</td>\n",
              "      <td>0</td>\n",
              "      <td>0</td>\n",
              "      <td>0</td>\n",
              "      <td>0</td>\n",
              "      <td>0</td>\n",
              "      <td>0</td>\n",
              "      <td>0</td>\n",
              "      <td>0</td>\n",
              "      <td>0</td>\n",
              "      <td>0</td>\n",
              "      <td>0</td>\n",
              "      <td>0</td>\n",
              "      <td>0</td>\n",
              "      <td>0</td>\n",
              "      <td>0</td>\n",
              "      <td>0</td>\n",
              "      <td>0</td>\n",
              "      <td>0</td>\n",
              "      <td>0</td>\n",
              "      <td>0</td>\n",
              "      <td>0</td>\n",
              "      <td>0</td>\n",
              "      <td>0</td>\n",
              "      <td>0</td>\n",
              "      <td>0</td>\n",
              "    </tr>\n",
              "  </tbody>\n",
              "</table>\n",
              "<p>5 rows × 207 columns</p>\n",
              "</div>"
            ],
            "text/plain": [
              "             id  ...  wnt_inhibitor\n",
              "0  id_000644bb2  ...              0\n",
              "1  id_000779bfc  ...              0\n",
              "2  id_000a6266a  ...              0\n",
              "3  id_0015fd391  ...              0\n",
              "4  id_001626bd3  ...              0\n",
              "\n",
              "[5 rows x 207 columns]"
            ]
          },
          "metadata": {
            "tags": []
          },
          "execution_count": 14
        }
      ]
    },
    {
      "cell_type": "code",
      "metadata": {
        "id": "jOl_U1faUrCc"
      },
      "source": [
        "dados_resultados['acetylcholine_receptor_agonist'].unique()"
      ],
      "execution_count": null,
      "outputs": []
    },
    {
      "cell_type": "markdown",
      "metadata": {
        "id": "TctqGUo3V5Gh"
      },
      "source": [
        "Os resultados são 0 ou 1, 0 para ativam ou não esse mecânismo de ação"
      ]
    },
    {
      "cell_type": "code",
      "metadata": {
        "colab": {
          "base_uri": "https://localhost:8080/"
        },
        "id": "lb1YJ1u_V3fX",
        "outputId": "56513d74-df63-4370-b68c-98bc7467b063"
      },
      "source": [
        "contagem_moa = dados_resultados.select_dtypes('int64').sum().sort_values(ascending=False)\n",
        "contagem_moa"
      ],
      "execution_count": null,
      "outputs": [
        {
          "output_type": "execute_result",
          "data": {
            "text/plain": [
              "nfkb_inhibitor                                832\n",
              "proteasome_inhibitor                          726\n",
              "cyclooxygenase_inhibitor                      435\n",
              "dopamine_receptor_antagonist                  424\n",
              "serotonin_receptor_antagonist                 404\n",
              "                                             ... \n",
              "protein_phosphatase_inhibitor                   6\n",
              "autotaxin_inhibitor                             6\n",
              "diuretic                                        6\n",
              "erbb2_inhibitor                                 1\n",
              "atp-sensitive_potassium_channel_antagonist      1\n",
              "Length: 206, dtype: int64"
            ]
          },
          "metadata": {
            "tags": []
          },
          "execution_count": 15
        }
      ]
    },
    {
      "cell_type": "markdown",
      "metadata": {
        "id": "Ez-TNC9QWkrK"
      },
      "source": [
        "Forma alternativa"
      ]
    },
    {
      "cell_type": "code",
      "metadata": {
        "id": "7uL9a2XMWO65"
      },
      "source": [
        "contagem_moa = dados_resultados.drop('id', axis=1).sum().sort_values(ascending=False)\n",
        "contagem_moa"
      ],
      "execution_count": null,
      "outputs": []
    },
    {
      "cell_type": "code",
      "metadata": {
        "id": "bTm4rz6WXKeE"
      },
      "source": [
        "dados_resultados.drop('id', axis=1).sum(axis=1)"
      ],
      "execution_count": null,
      "outputs": []
    },
    {
      "cell_type": "code",
      "metadata": {
        "id": "ILRXPUSmYPfj"
      },
      "source": [
        "dados_resultados['n_moa'] = dados_resultados.drop('id', axis=1).sum(axis=1)"
      ],
      "execution_count": null,
      "outputs": []
    },
    {
      "cell_type": "code",
      "metadata": {
        "id": "FVrh5q-xX5HU"
      },
      "source": [
        "dados_resultados['ativo_moa'] = (dados_resultados['n_moa'] != 0)\n",
        "dados_resultados.head()"
      ],
      "execution_count": null,
      "outputs": []
    },
    {
      "cell_type": "code",
      "metadata": {
        "id": "xw2NhmPaYtGr"
      },
      "source": [
        "dados_combinados = pd.merge(dados, dados_resultados[['id','n_moa', 'ativo_moa']], on='id')\n",
        "dados_combinados"
      ],
      "execution_count": null,
      "outputs": []
    },
    {
      "cell_type": "code",
      "metadata": {
        "id": "kaQYgnaOY8sg"
      },
      "source": [
        "dados_combinados.query('tratamento == \"com_controle\"')['ativo_moa'].value_counts()"
      ],
      "execution_count": null,
      "outputs": []
    },
    {
      "cell_type": "code",
      "metadata": {
        "id": "oKThG40QZtHd"
      },
      "source": [
        "dados_combinados.query('tratamento == \"com_droga\"')['ativo_moa'].value_counts()"
      ],
      "execution_count": null,
      "outputs": []
    },
    {
      "cell_type": "code",
      "metadata": {
        "id": "GmZI4O7SZ5yy"
      },
      "source": [
        "compostos_principais = dados_combinados['droga'].value_counts().index[:6]\n",
        "plt.figure(figsize=(12,8))\n",
        "sns.boxplot(data = dados_combinados.query('droga in @compostos_principais'), y = 'g-0', x = 'droga', hue='ativo_moa')"
      ],
      "execution_count": null,
      "outputs": []
    },
    {
      "cell_type": "markdown",
      "metadata": {
        "id": "s0BRPjB-W51x"
      },
      "source": [
        "#Desafios Aula 04"
      ]
    },
    {
      "cell_type": "markdown",
      "metadata": {
        "id": "NppLfgh8W7hC"
      },
      "source": [
        "##Desafio 01: Encontrar o top 10 das ações do MOA(inibidor, agonista...)"
      ]
    },
    {
      "cell_type": "code",
      "metadata": {
        "id": "sGLE9XKoXIik",
        "colab": {
          "base_uri": "https://localhost:8080/"
        },
        "outputId": "38082aff-948b-479f-f50e-248474120e08"
      },
      "source": [
        "top_moa = dados_resultados.drop(['id'], axis=1).sum().sort_values(ascending=False)\n",
        "top_moa"
      ],
      "execution_count": null,
      "outputs": [
        {
          "output_type": "execute_result",
          "data": {
            "text/plain": [
              "nfkb_inhibitor                                832\n",
              "proteasome_inhibitor                          726\n",
              "cyclooxygenase_inhibitor                      435\n",
              "dopamine_receptor_antagonist                  424\n",
              "serotonin_receptor_antagonist                 404\n",
              "                                             ... \n",
              "protein_phosphatase_inhibitor                   6\n",
              "autotaxin_inhibitor                             6\n",
              "diuretic                                        6\n",
              "erbb2_inhibitor                                 1\n",
              "atp-sensitive_potassium_channel_antagonist      1\n",
              "Length: 206, dtype: int64"
            ]
          },
          "metadata": {
            "tags": []
          },
          "execution_count": 22
        }
      ]
    },
    {
      "cell_type": "code",
      "metadata": {
        "id": "sNcBFlLPYDyo"
      },
      "source": [
        "top_moa.filter(like='_inhibitor').head(10)"
      ],
      "execution_count": null,
      "outputs": []
    },
    {
      "cell_type": "code",
      "metadata": {
        "colab": {
          "base_uri": "https://localhost:8080/"
        },
        "id": "bdS-WtBpYT9G",
        "outputId": "e79b0b51-3663-4ae6-fd16-442687fe0644"
      },
      "source": [
        "top_moa.filter(like='_antagonist').head(10)"
      ],
      "execution_count": null,
      "outputs": [
        {
          "output_type": "execute_result",
          "data": {
            "text/plain": [
              "dopamine_receptor_antagonist         424\n",
              "serotonin_receptor_antagonist        404\n",
              "glutamate_receptor_antagonist        367\n",
              "adrenergic_receptor_antagonist       360\n",
              "acetylcholine_receptor_antagonist    301\n",
              "histamine_receptor_antagonist        241\n",
              "gaba_receptor_antagonist             165\n",
              "cc_chemokine_receptor_antagonist     102\n",
              "potassium_channel_antagonist          98\n",
              "adenosine_receptor_antagonist         96\n",
              "dtype: int64"
            ]
          },
          "metadata": {
            "tags": []
          },
          "execution_count": 25
        }
      ]
    },
    {
      "cell_type": "code",
      "metadata": {
        "colab": {
          "base_uri": "https://localhost:8080/"
        },
        "id": "R9u9-tYCYa_z",
        "outputId": "c1430059-ad33-43d9-ebeb-81597e119ec3"
      },
      "source": [
        "top_moa.filter(like='_agonist').head(10)"
      ],
      "execution_count": null,
      "outputs": [
        {
          "output_type": "execute_result",
          "data": {
            "text/plain": [
              "adrenergic_receptor_agonist        270\n",
              "glucocorticoid_receptor_agonist    266\n",
              "serotonin_receptor_agonist         236\n",
              "acetylcholine_receptor_agonist     190\n",
              "estrogen_receptor_agonist          158\n",
              "dopamine_receptor_agonist          121\n",
              "progesterone_receptor_agonist      119\n",
              "ppar_receptor_agonist              115\n",
              "gaba_receptor_agonist              106\n",
              "glutamate_receptor_agonist          74\n",
              "dtype: int64"
            ]
          },
          "metadata": {
            "tags": []
          },
          "execution_count": 26
        }
      ]
    },
    {
      "cell_type": "code",
      "metadata": {
        "colab": {
          "base_uri": "https://localhost:8080/"
        },
        "id": "6tY-inI0Yim9",
        "outputId": "04f56586-3de7-46a2-97cf-e1a71294eae2"
      },
      "source": [
        "top_moa.filter(like='_activator').head(10)"
      ],
      "execution_count": null,
      "outputs": [
        {
          "output_type": "execute_result",
          "data": {
            "text/plain": [
              "potassium_channel_activator    55\n",
              "nrf2_activator                 18\n",
              "caspase_activator              18\n",
              "ampk_activator                 12\n",
              "adenylyl_cyclase_activator     12\n",
              "dtype: int64"
            ]
          },
          "metadata": {
            "tags": []
          },
          "execution_count": 27
        }
      ]
    },
    {
      "cell_type": "code",
      "metadata": {
        "colab": {
          "base_uri": "https://localhost:8080/"
        },
        "id": "jef9C1gkYxUf",
        "outputId": "3ad65b12-44b2-4350-edc2-624602119d5e"
      },
      "source": [
        "top_moa.filter(like='_agent').head(10)"
      ],
      "execution_count": null,
      "outputs": [
        {
          "output_type": "execute_result",
          "data": {
            "text/plain": [
              "chelating_agent         54\n",
              "dna_alkylating_agent    48\n",
              "mucolytic_agent         48\n",
              "dtype: int64"
            ]
          },
          "metadata": {
            "tags": []
          },
          "execution_count": 31
        }
      ]
    },
    {
      "cell_type": "code",
      "metadata": {
        "colab": {
          "base_uri": "https://localhost:8080/"
        },
        "id": "5BOmzOEHZL0T",
        "outputId": "728a6dfb-3e0d-44fa-d338-3689007d0ab8"
      },
      "source": [
        "top_moa.filter(like='_blocker').head(10)"
      ],
      "execution_count": null,
      "outputs": [
        {
          "output_type": "execute_result",
          "data": {
            "text/plain": [
              "calcium_channel_blocker     281\n",
              "chloride_channel_blocker     42\n",
              "dtype: int64"
            ]
          },
          "metadata": {
            "tags": []
          },
          "execution_count": 30
        }
      ]
    },
    {
      "cell_type": "markdown",
      "metadata": {
        "id": "5VkMzj8FZRrx"
      },
      "source": [
        "## Desafio 02: Criar a coluna eh_controle para quando na linha tratamento == com_controle"
      ]
    },
    {
      "cell_type": "code",
      "metadata": {
        "id": "0zUCHfRjZa_2"
      },
      "source": [
        "pd.get_dummies(dados, columns=['tratamento'], dtype=float)"
      ],
      "execution_count": null,
      "outputs": []
    },
    {
      "cell_type": "markdown",
      "metadata": {
        "id": "M-hsJOGEZcPx"
      },
      "source": [
        "## Desafio 03: Criar três colunas para indicar o tempo 24, 48, 72"
      ]
    },
    {
      "cell_type": "code",
      "metadata": {
        "id": "RZHCbThhZfzf"
      },
      "source": [
        "pd.get_dummies(dados, columns=['tempo'], dtype=float)"
      ],
      "execution_count": null,
      "outputs": []
    },
    {
      "cell_type": "markdown",
      "metadata": {
        "id": "DCxTKzFPZlTd"
      },
      "source": [
        "## Desafio 04: Estudar sobre as combinações de DF"
      ]
    },
    {
      "cell_type": "markdown",
      "metadata": {
        "id": "A6tA-k_Xgp1N"
      },
      "source": [
        "Artigo na documentação do pandas sobre Merge, join, concanate and compare https://pandas.pydata.org/pandas-docs/stable/user_guide/merging.html"
      ]
    },
    {
      "cell_type": "markdown",
      "metadata": {
        "id": "ALZrhAcRi1qq"
      },
      "source": [
        "Concat - Concatena os dfs passados por parâmetro via uma lista"
      ]
    },
    {
      "cell_type": "code",
      "metadata": {
        "id": "PmazkxkRjs4K"
      },
      "source": [
        "df1 = pd.DataFrame( {\n",
        "    \"A\": [\"value1\", \"value2\", \"value3\"],\n",
        "    \"B\": [\"value4\", \"value5\", \"value6\"],\n",
        "    \"C\": [\"value7\", \"value8\", \"value9\"],\n",
        "    }\n",
        ")\n",
        "df1"
      ],
      "execution_count": null,
      "outputs": []
    },
    {
      "cell_type": "code",
      "metadata": {
        "id": "HIDxLPpQjsz2"
      },
      "source": [
        "df2 = pd.DataFrame( {\n",
        "    \"A\": [\"value10\", \"value11\", \"value12\"],\n",
        "    \"B\": [\"value13\", \"value14\", \"value15\"],\n",
        "    \"C\": [\"value16\", \"value17\", \"value18\"],\n",
        "    }\n",
        ")\n",
        "df2"
      ],
      "execution_count": null,
      "outputs": []
    },
    {
      "cell_type": "code",
      "metadata": {
        "id": "WSi9q6atjx2f"
      },
      "source": [
        "df3 = pd.DataFrame( {\n",
        "    \"A\": [\"value19\", \"value20\", \"value21\"],\n",
        "    \"B\": [\"value22\", \"value23\", \"value24\"],\n",
        "    \"C\": [\"value25\", \"value26\", \"value27\"],\n",
        "    }\n",
        ")\n",
        "df3"
      ],
      "execution_count": null,
      "outputs": []
    },
    {
      "cell_type": "code",
      "metadata": {
        "id": "QxSsJTfZZnfl"
      },
      "source": [
        "df_concat_result = pd.concat([df1, df2, df3], ignore_index=True)\n",
        "df_concat_result"
      ],
      "execution_count": null,
      "outputs": []
    },
    {
      "cell_type": "markdown",
      "metadata": {
        "id": "eVrWjMpSjEJ4"
      },
      "source": [
        "append - Como o nome diz, adiciona no final a lista de dataframes passada por parâmetro"
      ]
    },
    {
      "cell_type": "code",
      "metadata": {
        "id": "yGoAeyexi-E_"
      },
      "source": [
        "df_append_result = df1.append([df2],  ignore_index=True)\n",
        "df_append_result"
      ],
      "execution_count": null,
      "outputs": []
    },
    {
      "cell_type": "markdown",
      "metadata": {
        "id": "MUiwTjsJmnX2"
      },
      "source": [
        "merge - junta dataframes, se o parâmetro on não for pasado, ele pega a interseção de duas colunas ou series para ser as keys"
      ]
    },
    {
      "cell_type": "code",
      "metadata": {
        "id": "SG4L6RA_kN4Q"
      },
      "source": [
        "df_with_key1 = pd.DataFrame( {\n",
        "    \"key\": [\"key1\", \"key2\", \"key3\"],\n",
        "    \"A\": [\"value1\", \"value2\", \"value3\"],\n",
        "    \"B\": [\"value4\", \"value5\", \"value6\"]\n",
        "})\n",
        "df_with_key1"
      ],
      "execution_count": null,
      "outputs": []
    },
    {
      "cell_type": "code",
      "metadata": {
        "id": "100sqlFjlykT"
      },
      "source": [
        "df_with_key2 = pd.DataFrame( {\n",
        "    \"key\": [\"key1\", \"key2\", \"key3\"],\n",
        "    \"A\": [\"value7\", \"value8\", \"value9\"],\n",
        "    \"B\": [\"value10\", \"value11\", \"value12\"]\n",
        "})\n",
        "df_with_key2"
      ],
      "execution_count": null,
      "outputs": []
    },
    {
      "cell_type": "code",
      "metadata": {
        "colab": {
          "base_uri": "https://localhost:8080/",
          "height": 142
        },
        "id": "3WwypT8GmYkX",
        "outputId": "a7ed1141-7cd3-46c0-b6a0-23a2c7d9a070"
      },
      "source": [
        "df_with_key_result = pd.merge(df_with_key1, df_with_key2, on=\"key\")\n",
        "df_with_key_result"
      ],
      "execution_count": null,
      "outputs": [
        {
          "output_type": "execute_result",
          "data": {
            "text/html": [
              "<div>\n",
              "<style scoped>\n",
              "    .dataframe tbody tr th:only-of-type {\n",
              "        vertical-align: middle;\n",
              "    }\n",
              "\n",
              "    .dataframe tbody tr th {\n",
              "        vertical-align: top;\n",
              "    }\n",
              "\n",
              "    .dataframe thead th {\n",
              "        text-align: right;\n",
              "    }\n",
              "</style>\n",
              "<table border=\"1\" class=\"dataframe\">\n",
              "  <thead>\n",
              "    <tr style=\"text-align: right;\">\n",
              "      <th></th>\n",
              "      <th>key</th>\n",
              "      <th>A_x</th>\n",
              "      <th>B_x</th>\n",
              "      <th>A_y</th>\n",
              "      <th>B_y</th>\n",
              "    </tr>\n",
              "  </thead>\n",
              "  <tbody>\n",
              "    <tr>\n",
              "      <th>0</th>\n",
              "      <td>key1</td>\n",
              "      <td>value1</td>\n",
              "      <td>value4</td>\n",
              "      <td>value7</td>\n",
              "      <td>value10</td>\n",
              "    </tr>\n",
              "    <tr>\n",
              "      <th>1</th>\n",
              "      <td>key2</td>\n",
              "      <td>value2</td>\n",
              "      <td>value5</td>\n",
              "      <td>value8</td>\n",
              "      <td>value11</td>\n",
              "    </tr>\n",
              "    <tr>\n",
              "      <th>2</th>\n",
              "      <td>key3</td>\n",
              "      <td>value3</td>\n",
              "      <td>value6</td>\n",
              "      <td>value9</td>\n",
              "      <td>value12</td>\n",
              "    </tr>\n",
              "  </tbody>\n",
              "</table>\n",
              "</div>"
            ],
            "text/plain": [
              "    key     A_x     B_x     A_y      B_y\n",
              "0  key1  value1  value4  value7  value10\n",
              "1  key2  value2  value5  value8  value11\n",
              "2  key3  value3  value6  value9  value12"
            ]
          },
          "metadata": {
            "tags": []
          },
          "execution_count": 86
        }
      ]
    },
    {
      "cell_type": "markdown",
      "metadata": {
        "id": "ijd2lUDybDjy"
      },
      "source": [
        "## Desafio 05: Fazer análise mais detalhada considerando tempo e dose, para comparar as distribuições( Escolher uma droga e comparar com o controle ) "
      ]
    },
    {
      "cell_type": "code",
      "metadata": {
        "id": "0A-zkT-tbGl1"
      },
      "source": [
        ""
      ],
      "execution_count": null,
      "outputs": []
    },
    {
      "cell_type": "markdown",
      "metadata": {
        "id": "2Jmd5KD3bHNs"
      },
      "source": [
        "## Desafio 06: Descobrir se temos algum composto que dependendo da configuração do experimento, ativa ou não ativa algum MOA"
      ]
    },
    {
      "cell_type": "code",
      "metadata": {
        "id": "2zZ65TKupYTF"
      },
      "source": [
        ""
      ],
      "execution_count": null,
      "outputs": []
    },
    {
      "cell_type": "markdown",
      "metadata": {
        "id": "7zGs0JXGbVpn"
      },
      "source": [
        "## Desafio 07: Descobrir se temos algum composto que dependendo da configuração do experimento, ativa MOAs diferentes"
      ]
    },
    {
      "cell_type": "code",
      "metadata": {
        "id": "pvouzf8_pYsl"
      },
      "source": [
        ""
      ],
      "execution_count": null,
      "outputs": []
    },
    {
      "cell_type": "markdown",
      "metadata": {
        "id": "CM3J_xM0beOL"
      },
      "source": [
        "## Desafio 08: Resumo do que você aprendeu com os dados"
      ]
    },
    {
      "cell_type": "markdown",
      "metadata": {
        "id": "XHFwnuShpZyi"
      },
      "source": [
        ""
      ]
    },
    {
      "cell_type": "markdown",
      "metadata": {
        "id": "kvvKjjDCsT9a"
      },
      "source": [
        "#Aula 05"
      ]
    },
    {
      "cell_type": "code",
      "metadata": {
        "id": "7wva0XLC3uoc"
      },
      "source": [
        "dados_combinados.head()"
      ],
      "execution_count": null,
      "outputs": []
    },
    {
      "cell_type": "code",
      "metadata": {
        "id": "5Lidjjky3vBd"
      },
      "source": [
        "dados_resultados.head()"
      ],
      "execution_count": null,
      "outputs": []
    },
    {
      "cell_type": "code",
      "metadata": {
        "id": "14mVvxHA3wy0"
      },
      "source": [
        "from sklearn.linear_model import LogisticRegression\n",
        "from sklearn.model_selection import train_test_split\n",
        "\n",
        "x = dados_combinados.select_dtypes('float64')\n",
        "y = dados_combinados['ativo_moa'] \n",
        "x_treino, x_teste, y_treino, y_teste = train_test_split(x, y, test_size = 0.2, stratify=y, random_state=376)\n",
        "\n",
        "modelo_rlogistica = LogisticRegression(max_iter=1000)\n",
        "modelo_rlogistica.fit(x_treino, y_treino)\n",
        "modelo_rlogistica.score(x_teste, y_teste)"
      ],
      "execution_count": null,
      "outputs": []
    },
    {
      "cell_type": "code",
      "metadata": {
        "id": "6TzB6skN4Nws"
      },
      "source": [
        "from sklearn.dummy import DummyClassifier\n",
        "from sklearn.metrics import accuracy_score\n",
        "\n",
        "modelo_dummy = DummyClassifier('most_frequent')\n",
        "modelo_dummy.fit(x_treino, y_treino)\n",
        "previsao_dummy = modelo_dummy.predict(x_teste)\n",
        "accuracy_score(y_teste, previsao_dummy)"
      ],
      "execution_count": null,
      "outputs": []
    },
    {
      "cell_type": "code",
      "metadata": {
        "id": "tzt5B4o_4O8C"
      },
      "source": [
        "dados_combinados['ativo_moa'].value_counts(normalize=True)"
      ],
      "execution_count": null,
      "outputs": []
    },
    {
      "cell_type": "code",
      "metadata": {
        "id": "uuVCFQG34QeS"
      },
      "source": [
        "from sklearn.tree import DecisionTreeClassifier\n",
        "\n",
        "\n",
        "x = dados_combinados.select_dtypes('float64')\n",
        "y = dados_combinados['ativo_moa'] \n",
        "x_treino, x_teste, y_treino, y_teste = train_test_split(x, y, test_size = 0.2, stratify=y, random_state=376)\n",
        "\n",
        "modelo_arvore = DecisionTreeClassifier(max_depth = 3)\n",
        "modelo_arvore.fit(x_treino, y_treino)\n",
        "modelo_arvore.score(x_teste, y_teste)"
      ],
      "execution_count": null,
      "outputs": []
    },
    {
      "cell_type": "code",
      "metadata": {
        "id": "obh7uwmY4R2t"
      },
      "source": [
        "from sklearn import tree\n",
        "\n",
        "fig, ax = plt.subplots(figsize=(15, 10), facecolor='k')\n",
        "tree.plot_tree(modelo_arvore,\n",
        "               ax=ax,\n",
        "               fontsize=10,\n",
        "               rounded=True,\n",
        "               filled=True,\n",
        "               feature_names=x_treino.columns,\n",
        "               class_names=['Não Ativado', 'Ativado'])\n",
        "\n",
        "plt.show()"
      ],
      "execution_count": null,
      "outputs": []
    },
    {
      "cell_type": "code",
      "metadata": {
        "id": "8u7qKjZr4TP5"
      },
      "source": [
        "from sklearn.tree import DecisionTreeClassifier\n",
        "\n",
        "\n",
        "x = dados_combinados.select_dtypes('float64')\n",
        "y = dados_combinados['ativo_moa'] \n",
        "x_treino, x_teste, y_treino, y_teste = train_test_split(x, y, test_size = 0.2, stratify=y, random_state=376)\n",
        "\n",
        "teste=[]\n",
        "treino=[]\n",
        "for i in range(1,15):\n",
        "    modelo_arvore = DecisionTreeClassifier(max_depth = i)\n",
        "    modelo_arvore.fit(x_treino, y_treino)\n",
        "    teste.append(modelo_arvore.score(x_teste, y_teste))\n",
        "    treino.append(modelo_arvore.score(x_treino, y_treino))"
      ],
      "execution_count": null,
      "outputs": []
    },
    {
      "cell_type": "code",
      "metadata": {
        "id": "iaqtOe144Ub-"
      },
      "source": [
        "teste"
      ],
      "execution_count": null,
      "outputs": []
    },
    {
      "cell_type": "code",
      "metadata": {
        "id": "SBFp1A1Z4VVZ"
      },
      "source": [
        "treino"
      ],
      "execution_count": null,
      "outputs": []
    },
    {
      "cell_type": "code",
      "metadata": {
        "id": "UKmLO8Mv4Wkf"
      },
      "source": [
        "sns.lineplot(x=range(1,15), y = teste, label='teste')\n",
        "sns.lineplot(x=range(1,15), y = treino, label='treino')"
      ],
      "execution_count": null,
      "outputs": []
    },
    {
      "cell_type": "code",
      "metadata": {
        "id": "eY-vIrAo4XmD"
      },
      "source": [
        "pd.get_dummies(dados_combinados['tratamento'])"
      ],
      "execution_count": null,
      "outputs": []
    },
    {
      "cell_type": "code",
      "metadata": {
        "id": "wuqSgQ-v4ZR4"
      },
      "source": [
        "pd.get_dummies(dados_combinados, columns=['tratamento', 'dose', 'tempo'])"
      ],
      "execution_count": null,
      "outputs": []
    },
    {
      "cell_type": "code",
      "metadata": {
        "id": "G6XFcM7D4atc"
      },
      "source": [
        "dados_combinados.drop(['id', 'n_moa', 'ativo_moa', 'composto'], axis=1)"
      ],
      "execution_count": null,
      "outputs": []
    },
    {
      "cell_type": "code",
      "metadata": {
        "id": "lAGOEpwB4b_K"
      },
      "source": [
        "from sklearn.ensemble import RandomForestClassifier\n",
        "\n",
        "\n",
        "x = dados_combinados.drop(['id', 'n_moa', 'ativo_moa', 'composto'], axis=1)\n",
        "x = pd.get_dummies(x, columns=['tratamento', 'dose', 'tempo'])\n",
        "y = dados_combinados['ativo_moa'] \n",
        "x_treino, x_teste, y_treino, y_teste = train_test_split(x, y, test_size = 0.2, stratify=y, random_state=376)\n",
        "\n",
        "modelo_randomforest = RandomForestClassifier()\n",
        "modelo_randomforest.fit(x_treino, y_treino)\n",
        "modelo_randomforest.score(x_teste, y_teste)"
      ],
      "execution_count": null,
      "outputs": []
    },
    {
      "cell_type": "markdown",
      "metadata": {
        "id": "W51RLxkk8PHg"
      },
      "source": [
        "#Desafios Aula 05"
      ]
    },
    {
      "cell_type": "markdown",
      "metadata": {
        "id": "0e-NT1KC8PHg"
      },
      "source": [
        "## Desafio 01: Tente outros modelos ou mude os parâmetros dos modelos que testamos em aula."
      ]
    },
    {
      "cell_type": "markdown",
      "metadata": {
        "id": "BbSqMnYx8PHh"
      },
      "source": [
        "## Desafio 02: Estude a documentação do Sklearn."
      ]
    },
    {
      "cell_type": "markdown",
      "metadata": {
        "id": "QaOITL3C8PHh"
      },
      "source": [
        "## Desafio 03: Pesquisar o fluxograma 'Escolhendo o melhor modelo' choosing the right estimator "
      ]
    },
    {
      "cell_type": "markdown",
      "metadata": {
        "id": "7SxffLwQ8PHh"
      },
      "source": [
        "## Desafio 04: Teste outras problemas (perguntas). 0, 1 ou +."
      ]
    },
    {
      "cell_type": "markdown",
      "metadata": {
        "id": "jUi-WEOB8PHh"
      },
      "source": [
        "## Desafio 05: Escolha a droga mais utilizada e tente criar um modelo para prever está label. "
      ]
    },
    {
      "cell_type": "markdown",
      "metadata": {
        "id": "PzIr4Vlo8PHh"
      },
      "source": [
        "## Desafio 06: Resumo do que você aprendeu com os dados"
      ]
    }
  ]
}