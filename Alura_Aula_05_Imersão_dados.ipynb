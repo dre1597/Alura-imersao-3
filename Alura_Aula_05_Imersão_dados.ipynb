{
  "nbformat": 4,
  "nbformat_minor": 0,
  "metadata": {
    "colab": {
      "name": "Alura - Aula 05 - Imersão dados.ipynb",
      "provenance": [],
      "toc_visible": true,
      "authorship_tag": "ABX9TyNCYlnNNJ4ZgSj7EkDoR96J",
      "include_colab_link": true
    },
    "kernelspec": {
      "name": "python3",
      "display_name": "Python 3"
    },
    "language_info": {
      "name": "python"
    }
  },
  "cells": [
    {
      "cell_type": "markdown",
      "metadata": {
        "id": "view-in-github",
        "colab_type": "text"
      },
      "source": [
        "<a href=\"https://colab.research.google.com/github/dre1597/Alura-imersao-3/blob/main/Alura_Aula_05_Imers%C3%A3o_dados.ipynb\" target=\"_parent\"><img src=\"https://colab.research.google.com/assets/colab-badge.svg\" alt=\"Open In Colab\"/></a>"
      ]
    },
    {
      "cell_type": "code",
      "metadata": {
        "id": "OkcIYsDKq4Kb"
      },
      "source": [
        "import pandas as pd\n",
        "import seaborn as sns\n",
        "import matplotlib.pyplot as plt\n",
        "import numpy as np                                                                                                                                                                                                                                                                                                                                                                                                                                                                                                                                                                \n",
        "\n",
        "url_dados = 'https://github.com/alura-cursos/imersaodados3/blob/main/dados/dados_experimentos.zip?raw=true'\n",
        "dados = pd.read_csv(url_dados, compression = 'zip')\n",
        "dados_resultados = pd.read_csv('https://github.com/alura-cursos/imersaodados3/blob/main/dados/dados_resultados.csv?raw=true')"
      ],
      "execution_count": 1,
      "outputs": []
    },
    {
      "cell_type": "code",
      "metadata": {
        "id": "P01lq8i-q3bF"
      },
      "source": [
        "contagem_moa = dados_resultados.drop('id', axis=1).sum().sort_values(ascending=False)\n",
        "dados_resultados.drop('id', axis=1).sum(axis=1)\n",
        "dados_resultados['n_moa'] = dados_resultados.drop('id', axis=1).sum(axis=1)\n",
        "dados_resultados['ativo_moa'] = (dados_resultados['n_moa'] != 0)"
      ],
      "execution_count": 2,
      "outputs": []
    },
    {
      "cell_type": "code",
      "metadata": {
        "id": "KmJsPZ3dqrhn"
      },
      "source": [
        "dados_combinados = pd.merge(dados, dados_resultados[['id','n_moa', 'ativo_moa']], on='id')"
      ],
      "execution_count": null,
      "outputs": []
    },
    {
      "cell_type": "markdown",
      "metadata": {
        "id": "kvvKjjDCsT9a"
      },
      "source": [
        "#Aula 05"
      ]
    },
    {
      "cell_type": "code",
      "metadata": {
        "id": "7wva0XLC3uoc"
      },
      "source": [
        "dados_combinados.head()"
      ],
      "execution_count": null,
      "outputs": []
    },
    {
      "cell_type": "code",
      "metadata": {
        "id": "5Lidjjky3vBd"
      },
      "source": [
        "dados_resultados.head()"
      ],
      "execution_count": null,
      "outputs": []
    },
    {
      "cell_type": "code",
      "metadata": {
        "id": "14mVvxHA3wy0"
      },
      "source": [
        "from sklearn.linear_model import LogisticRegression\n",
        "from sklearn.model_selection import train_test_split\n",
        "\n",
        "x = dados_combinados.select_dtypes('float64')\n",
        "y = dados_combinados['ativo_moa'] \n",
        "x_treino, x_teste, y_treino, y_teste = train_test_split(x, y, test_size = 0.2, stratify=y, random_state=376)\n",
        "\n",
        "modelo_rlogistica = LogisticRegression(max_iter=1000)\n",
        "modelo_rlogistica.fit(x_treino, y_treino)\n",
        "modelo_rlogistica.score(x_teste, y_teste)"
      ],
      "execution_count": null,
      "outputs": []
    },
    {
      "cell_type": "code",
      "metadata": {
        "id": "6TzB6skN4Nws"
      },
      "source": [
        "from sklearn.dummy import DummyClassifier\n",
        "from sklearn.metrics import accuracy_score\n",
        "\n",
        "modelo_dummy = DummyClassifier('most_frequent')\n",
        "modelo_dummy.fit(x_treino, y_treino)\n",
        "previsao_dummy = modelo_dummy.predict(x_teste)\n",
        "accuracy_score(y_teste, previsao_dummy)"
      ],
      "execution_count": null,
      "outputs": []
    },
    {
      "cell_type": "code",
      "metadata": {
        "id": "tzt5B4o_4O8C"
      },
      "source": [
        "dados_combinados['ativo_moa'].value_counts(normalize=True)"
      ],
      "execution_count": null,
      "outputs": []
    },
    {
      "cell_type": "code",
      "metadata": {
        "id": "uuVCFQG34QeS"
      },
      "source": [
        "from sklearn.tree import DecisionTreeClassifier\n",
        "\n",
        "\n",
        "x = dados_combinados.select_dtypes('float64')\n",
        "y = dados_combinados['ativo_moa'] \n",
        "x_treino, x_teste, y_treino, y_teste = train_test_split(x, y, test_size = 0.2, stratify=y, random_state=376)\n",
        "\n",
        "modelo_arvore = DecisionTreeClassifier(max_depth = 3)\n",
        "modelo_arvore.fit(x_treino, y_treino)\n",
        "modelo_arvore.score(x_teste, y_teste)"
      ],
      "execution_count": null,
      "outputs": []
    },
    {
      "cell_type": "code",
      "metadata": {
        "id": "obh7uwmY4R2t"
      },
      "source": [
        "from sklearn import tree\n",
        "\n",
        "fig, ax = plt.subplots(figsize=(15, 10), facecolor='k')\n",
        "tree.plot_tree(modelo_arvore,\n",
        "               ax=ax,\n",
        "               fontsize=10,\n",
        "               rounded=True,\n",
        "               filled=True,\n",
        "               feature_names=x_treino.columns,\n",
        "               class_names=['Não Ativado', 'Ativado'])\n",
        "\n",
        "plt.show()"
      ],
      "execution_count": null,
      "outputs": []
    },
    {
      "cell_type": "code",
      "metadata": {
        "id": "8u7qKjZr4TP5"
      },
      "source": [
        "from sklearn.tree import DecisionTreeClassifier\n",
        "\n",
        "\n",
        "x = dados_combinados.select_dtypes('float64')\n",
        "y = dados_combinados['ativo_moa'] \n",
        "x_treino, x_teste, y_treino, y_teste = train_test_split(x, y, test_size = 0.2, stratify=y, random_state=376)\n",
        "\n",
        "teste=[]\n",
        "treino=[]\n",
        "for i in range(1,15):\n",
        "    modelo_arvore = DecisionTreeClassifier(max_depth = i)\n",
        "    modelo_arvore.fit(x_treino, y_treino)\n",
        "    teste.append(modelo_arvore.score(x_teste, y_teste))\n",
        "    treino.append(modelo_arvore.score(x_treino, y_treino))"
      ],
      "execution_count": null,
      "outputs": []
    },
    {
      "cell_type": "code",
      "metadata": {
        "id": "iaqtOe144Ub-"
      },
      "source": [
        "teste"
      ],
      "execution_count": null,
      "outputs": []
    },
    {
      "cell_type": "code",
      "metadata": {
        "id": "SBFp1A1Z4VVZ"
      },
      "source": [
        "treino"
      ],
      "execution_count": null,
      "outputs": []
    },
    {
      "cell_type": "code",
      "metadata": {
        "id": "UKmLO8Mv4Wkf"
      },
      "source": [
        "sns.lineplot(x=range(1,15), y = teste, label='teste')\n",
        "sns.lineplot(x=range(1,15), y = treino, label='treino')"
      ],
      "execution_count": null,
      "outputs": []
    },
    {
      "cell_type": "code",
      "metadata": {
        "id": "eY-vIrAo4XmD"
      },
      "source": [
        "pd.get_dummies(dados_combinados['tratamento'])"
      ],
      "execution_count": null,
      "outputs": []
    },
    {
      "cell_type": "code",
      "metadata": {
        "id": "wuqSgQ-v4ZR4"
      },
      "source": [
        "pd.get_dummies(dados_combinados, columns=['tratamento', 'dose', 'tempo'])"
      ],
      "execution_count": null,
      "outputs": []
    },
    {
      "cell_type": "code",
      "metadata": {
        "id": "G6XFcM7D4atc"
      },
      "source": [
        "dados_combinados.drop(['id', 'n_moa', 'ativo_moa', 'composto'], axis=1)"
      ],
      "execution_count": null,
      "outputs": []
    },
    {
      "cell_type": "code",
      "metadata": {
        "id": "lAGOEpwB4b_K"
      },
      "source": [
        "from sklearn.ensemble import RandomForestClassifier\n",
        "\n",
        "\n",
        "x = dados_combinados.drop(['id', 'n_moa', 'ativo_moa', 'composto'], axis=1)\n",
        "x = pd.get_dummies(x, columns=['tratamento', 'dose', 'tempo'])\n",
        "y = dados_combinados['ativo_moa'] \n",
        "x_treino, x_teste, y_treino, y_teste = train_test_split(x, y, test_size = 0.2, stratify=y, random_state=376)\n",
        "\n",
        "modelo_randomforest = RandomForestClassifier()\n",
        "modelo_randomforest.fit(x_treino, y_treino)\n",
        "modelo_randomforest.score(x_teste, y_teste)"
      ],
      "execution_count": null,
      "outputs": []
    },
    {
      "cell_type": "markdown",
      "metadata": {
        "id": "ohVDl8vlsU7Q"
      },
      "source": [
        "#Desafios Aula 05"
      ]
    },
    {
      "cell_type": "markdown",
      "metadata": {
        "id": "JIxBHSeWsgEP"
      },
      "source": [
        "## Desafio 01: Tente outros modelos ou mude os parâmetros dos modelos que testamos em aula."
      ]
    },
    {
      "cell_type": "markdown",
      "metadata": {
        "id": "LRrTYWkDsuMw"
      },
      "source": [
        "## Desafio 02: Estude a documentação do Sklearn."
      ]
    },
    {
      "cell_type": "markdown",
      "metadata": {
        "id": "F0LbheSUsxaQ"
      },
      "source": [
        "## Desafio 03: Pesquisar o fluxograma 'Escolhendo o melhor modelo' choosing the right estimator "
      ]
    },
    {
      "cell_type": "markdown",
      "metadata": {
        "id": "ObgRY7EBs0f6"
      },
      "source": [
        "## Desafio 04: Teste outras problemas (perguntas). 0, 1 ou +."
      ]
    },
    {
      "cell_type": "markdown",
      "metadata": {
        "id": "pf4Wu0y_s4Y6"
      },
      "source": [
        "## Desafio 05: Escolha a droga mais utilizada e tente criar um modelo para prever está label. "
      ]
    },
    {
      "cell_type": "markdown",
      "metadata": {
        "id": "5eK4cZ_vs6C7"
      },
      "source": [
        "## Desafio 06: Resumo do que você aprendeu com os dados"
      ]
    }
  ]
}