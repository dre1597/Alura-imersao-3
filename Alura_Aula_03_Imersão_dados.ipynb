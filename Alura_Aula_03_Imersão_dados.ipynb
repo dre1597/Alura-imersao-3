{
  "nbformat": 4,
  "nbformat_minor": 0,
  "metadata": {
    "colab": {
      "name": "Alura - Aula 03 - Imersão dados.ipynb",
      "provenance": [],
      "collapsed_sections": [],
      "authorship_tag": "ABX9TyNIE4KtyGogXvho+igG9zzc",
      "include_colab_link": true
    },
    "kernelspec": {
      "name": "python3",
      "display_name": "Python 3"
    },
    "language_info": {
      "name": "python"
    }
  },
  "cells": [
    {
      "cell_type": "markdown",
      "metadata": {
        "id": "view-in-github",
        "colab_type": "text"
      },
      "source": [
        "<a href=\"https://colab.research.google.com/github/dre1597/Alura-imersao-3/blob/main/Alura_Aula_03_Imers%C3%A3o_dados.ipynb\" target=\"_parent\"><img src=\"https://colab.research.google.com/assets/colab-badge.svg\" alt=\"Open In Colab\"/></a>"
      ]
    },
    {
      "cell_type": "code",
      "metadata": {
        "id": "e8l0rSMXnXUw"
      },
      "source": [
        "import pandas as pd\n",
        "import seaborn as sns\n",
        "import matplotlib.pyplot as plt\n",
        "import numpy as np                                                                                                                                                                                                                                                                                                                                                                                                                                                                                                                                                                 \n",
        "\n",
        "url_dados = 'https://github.com/alura-cursos/imersaodados3/blob/main/dados/dados_experimentos.zip?raw=true'\n",
        "dados = pd.read_csv(url_dados, compression = 'zip')"
      ],
      "execution_count": 1,
      "outputs": []
    },
    {
      "cell_type": "markdown",
      "metadata": {
        "id": "n6zK-2v4f4MF"
      },
      "source": [
        "#Aula 03"
      ]
    },
    {
      "cell_type": "markdown",
      "metadata": {
        "id": "elsfySMMSJCl"
      },
      "source": [
        "Documentação do crosstab: https://pandas.pydata.org/docs/reference/api/pandas.crosstab.html"
      ]
    },
    {
      "cell_type": "code",
      "metadata": {
        "id": "B5WjvEQLf7YS"
      },
      "source": [
        "pd.crosstab(dados['dose'], dados['tempo'])"
      ],
      "execution_count": null,
      "outputs": []
    },
    {
      "cell_type": "code",
      "metadata": {
        "id": "xyhpGGoigEXi"
      },
      "source": [
        "pd.crosstab([dados['dose'], dados['tempo']], dados['tratamento'])"
      ],
      "execution_count": null,
      "outputs": []
    },
    {
      "cell_type": "code",
      "metadata": {
        "id": "LJlAAeeohW0C"
      },
      "source": [
        "pd.crosstab([dados['dose'], dados['tempo']], dados['tratamento'],  normalize='index')"
      ],
      "execution_count": null,
      "outputs": []
    },
    {
      "cell_type": "code",
      "metadata": {
        "id": "vY5LNCpthrG2"
      },
      "source": [
        "pd.crosstab([dados['dose'], dados['tempo']], dados['tratamento'], values=dados['g-0'], aggfunc='mean')"
      ],
      "execution_count": null,
      "outputs": []
    },
    {
      "cell_type": "markdown",
      "metadata": {
        "id": "jOaz66ZTScEK"
      },
      "source": [
        "Para esse tipo de gráfico é mais ideal um scatterplot"
      ]
    },
    {
      "cell_type": "code",
      "metadata": {
        "id": "PocH1W4Vjbqn"
      },
      "source": [
        "sns.scatterplot(x='g-0', y='g-3', data=dados)"
      ],
      "execution_count": null,
      "outputs": []
    },
    {
      "cell_type": "code",
      "metadata": {
        "id": "j3D2FXeonNet"
      },
      "source": [
        "dados[['g-0', 'g-3']]"
      ],
      "execution_count": null,
      "outputs": []
    },
    {
      "cell_type": "code",
      "metadata": {
        "id": "GBoPOdoPn3yv"
      },
      "source": [
        "sns.scatterplot(x='g-0', y='g-8', data=dados)"
      ],
      "execution_count": null,
      "outputs": []
    },
    {
      "cell_type": "code",
      "metadata": {
        "id": "b3hd48kdn90-"
      },
      "source": [
        "sns.lmplot(x='g-0', y='g-8', data=dados, line_kws={'color': 'red'})"
      ],
      "execution_count": null,
      "outputs": []
    },
    {
      "cell_type": "code",
      "metadata": {
        "id": "CESp2zN7oUGB",
        "colab": {
          "base_uri": "https://localhost:8080/",
          "height": 1000
        },
        "outputId": "0c26fbc0-4d28-4eb7-ab59-e516298258c8"
      },
      "source": [
        "sns.lmplot(x='g-0', y='g-8', data=dados, line_kws={'color': 'red'}, col='tratamento', row=\"tempo\")"
      ],
      "execution_count": 2,
      "outputs": [
        {
          "output_type": "execute_result",
          "data": {
            "text/plain": [
              "<seaborn.axisgrid.FacetGrid at 0x7f37e6194e90>"
            ]
          },
          "metadata": {
            "tags": []
          },
          "execution_count": 2
        },
        {
          "output_type": "display_data",
          "data": {
            "image/png": "[encoded data removed]",
            "text/plain": [
              "<Figure size 720x1080 with 6 Axes>"
            ]
          },
          "metadata": {
            "tags": [],
            "needs_background": "light"
          }
        }
      ]
    },
    {
      "cell_type": "markdown",
      "metadata": {
        "id": "wwCOuV8FSvng"
      },
      "source": [
        "Uma outra forma de vermos tendências nos nossos dados é utilizando o método corr()"
      ]
    },
    {
      "cell_type": "code",
      "metadata": {
        "id": "j_i9lHlFpAj5"
      },
      "source": [
        "dados.loc[ : , 'g-0':'g-771'].corr()"
      ],
      "execution_count": null,
      "outputs": []
    },
    {
      "cell_type": "code",
      "metadata": {
        "id": "Dw6_HRekvGIO"
      },
      "source": [
        "corr = dados.loc[ : , 'g-0':'g-50'].corr()"
      ],
      "execution_count": null,
      "outputs": []
    },
    {
      "cell_type": "code",
      "metadata": {
        "id": "lCQwgvbHumte"
      },
      "source": [
        "# Generate a mask for the upper triangle\n",
        "mask = np.triu(np.ones_like(corr, dtype=bool))\n",
        "\n",
        "# Set up the matplotlib figure\n",
        "f, ax = plt.subplots(figsize=(20, 20))\n",
        "\n",
        "# Generate a custom diverging colormap\n",
        "cmap = sns.diverging_palette(230, 20, as_cmap=True)\n",
        "\n",
        "# Draw the heatmap with the mask and correct aspect ratio\n",
        "sns.heatmap(corr, mask=mask, cmap=cmap, center=0,\n",
        "            square=True, linewidths=.5, cbar_kws={\"shrink\": .5})"
      ],
      "execution_count": null,
      "outputs": []
    },
    {
      "cell_type": "code",
      "metadata": {
        "id": "4nV-rVlKv3yf"
      },
      "source": [
        "corr = dados.loc[ : , 'c-0':'c-50'].corr()"
      ],
      "execution_count": null,
      "outputs": []
    },
    {
      "cell_type": "code",
      "metadata": {
        "id": "e8Bhg7Q7v3b8"
      },
      "source": [
        "\n",
        "# Generate a mask for the upper triangle\n",
        "mask = np.triu(np.ones_like(corr, dtype=bool))\n",
        "\n",
        "# Set up the matplotlib figure\n",
        "f, ax = plt.subplots(figsize=(11, 9))\n",
        "\n",
        "# Generate a custom diverging colormap\n",
        "cmap = sns.diverging_palette(230, 20, as_cmap=True)\n",
        "\n",
        "# Draw the heatmap with the mask and correct aspect ratio\n",
        "sns.heatmap(corr, mask=mask, cmap=cmap, center=0,\n",
        "            square=True, linewidths=.5, cbar_kws={\"shrink\": .5})"
      ],
      "execution_count": null,
      "outputs": []
    },
    {
      "cell_type": "markdown",
      "metadata": {
        "id": "bvlyKnBmiCWk"
      },
      "source": [
        "#Desafios Aula 03"
      ]
    },
    {
      "cell_type": "markdown",
      "metadata": {
        "id": "wFIG6y3siEq1"
      },
      "source": [
        "## Desafio 01: Criar tabelas de frequência com pandas.groupby()"
      ]
    },
    {
      "cell_type": "code",
      "metadata": {
        "colab": {
          "base_uri": "https://localhost:8080/",
          "height": 142
        },
        "id": "L74uDOYIBgtS",
        "outputId": "95156463-6252-4c20-8d96-d4bc4a8d3a6a"
      },
      "source": [
        "dados.groupby(['dose', 'tempo']).size()"
      ],
      "execution_count": null,
      "outputs": [
        {
          "output_type": "execute_result",
          "data": {
            "text/html": [
              "<div>\n",
              "<style scoped>\n",
              "    .dataframe tbody tr th:only-of-type {\n",
              "        vertical-align: middle;\n",
              "    }\n",
              "\n",
              "    .dataframe tbody tr th {\n",
              "        vertical-align: top;\n",
              "    }\n",
              "\n",
              "    .dataframe thead th {\n",
              "        text-align: right;\n",
              "    }\n",
              "</style>\n",
              "<table border=\"1\" class=\"dataframe\">\n",
              "  <thead>\n",
              "    <tr style=\"text-align: right;\">\n",
              "      <th>tempo</th>\n",
              "      <th>24</th>\n",
              "      <th>48</th>\n",
              "      <th>72</th>\n",
              "    </tr>\n",
              "    <tr>\n",
              "      <th>dose</th>\n",
              "      <th></th>\n",
              "      <th></th>\n",
              "      <th></th>\n",
              "    </tr>\n",
              "  </thead>\n",
              "  <tbody>\n",
              "    <tr>\n",
              "      <th>D1</th>\n",
              "      <td>3886</td>\n",
              "      <td>4354</td>\n",
              "      <td>3907</td>\n",
              "    </tr>\n",
              "    <tr>\n",
              "      <th>D2</th>\n",
              "      <td>3886</td>\n",
              "      <td>3896</td>\n",
              "      <td>3885</td>\n",
              "    </tr>\n",
              "  </tbody>\n",
              "</table>\n",
              "</div>"
            ],
            "text/plain": [
              "tempo    24    48    72\n",
              "dose                   \n",
              "D1     3886  4354  3907\n",
              "D2     3886  3896  3885"
            ]
          },
          "metadata": {
            "tags": []
          },
          "execution_count": 9
        }
      ]
    },
    {
      "cell_type": "code",
      "metadata": {
        "colab": {
          "base_uri": "https://localhost:8080/",
          "height": 142
        },
        "id": "ecSylfjnRGg8",
        "outputId": "ae58e615-366a-4e92-b430-01294dbcc040"
      },
      "source": [
        "dados.groupby(['dose', 'tempo']).size().unstack(1)"
      ],
      "execution_count": null,
      "outputs": [
        {
          "output_type": "execute_result",
          "data": {
            "text/html": [
              "<div>\n",
              "<style scoped>\n",
              "    .dataframe tbody tr th:only-of-type {\n",
              "        vertical-align: middle;\n",
              "    }\n",
              "\n",
              "    .dataframe tbody tr th {\n",
              "        vertical-align: top;\n",
              "    }\n",
              "\n",
              "    .dataframe thead th {\n",
              "        text-align: right;\n",
              "    }\n",
              "</style>\n",
              "<table border=\"1\" class=\"dataframe\">\n",
              "  <thead>\n",
              "    <tr style=\"text-align: right;\">\n",
              "      <th>tempo</th>\n",
              "      <th>24</th>\n",
              "      <th>48</th>\n",
              "      <th>72</th>\n",
              "    </tr>\n",
              "    <tr>\n",
              "      <th>dose</th>\n",
              "      <th></th>\n",
              "      <th></th>\n",
              "      <th></th>\n",
              "    </tr>\n",
              "  </thead>\n",
              "  <tbody>\n",
              "    <tr>\n",
              "      <th>D1</th>\n",
              "      <td>3886</td>\n",
              "      <td>4354</td>\n",
              "      <td>3907</td>\n",
              "    </tr>\n",
              "    <tr>\n",
              "      <th>D2</th>\n",
              "      <td>3886</td>\n",
              "      <td>3896</td>\n",
              "      <td>3885</td>\n",
              "    </tr>\n",
              "  </tbody>\n",
              "</table>\n",
              "</div>"
            ],
            "text/plain": [
              "tempo    24    48    72\n",
              "dose                   \n",
              "D1     3886  4354  3907\n",
              "D2     3886  3896  3885"
            ]
          },
          "metadata": {
            "tags": []
          },
          "execution_count": 30
        }
      ]
    },
    {
      "cell_type": "markdown",
      "metadata": {
        "id": "861MHqw4iTHH"
      },
      "source": [
        "## Desafio 02: Normalizar o crosstab pela coluna"
      ]
    },
    {
      "cell_type": "code",
      "metadata": {
        "colab": {
          "base_uri": "https://localhost:8080/",
          "height": 266
        },
        "id": "FjcdamCpgWYv",
        "outputId": "2fe61188-232c-404f-c230-b819846125b3"
      },
      "source": [
        "pd.crosstab([dados['dose'], dados['tempo']], dados['tratamento'], normalize='columns')"
      ],
      "execution_count": null,
      "outputs": [
        {
          "output_type": "execute_result",
          "data": {
            "text/html": [
              "<div>\n",
              "<style scoped>\n",
              "    .dataframe tbody tr th:only-of-type {\n",
              "        vertical-align: middle;\n",
              "    }\n",
              "\n",
              "    .dataframe tbody tr th {\n",
              "        vertical-align: top;\n",
              "    }\n",
              "\n",
              "    .dataframe thead th {\n",
              "        text-align: right;\n",
              "    }\n",
              "</style>\n",
              "<table border=\"1\" class=\"dataframe\">\n",
              "  <thead>\n",
              "    <tr style=\"text-align: right;\">\n",
              "      <th></th>\n",
              "      <th>tratamento</th>\n",
              "      <th>com_controle</th>\n",
              "      <th>com_droga</th>\n",
              "    </tr>\n",
              "    <tr>\n",
              "      <th>dose</th>\n",
              "      <th>tempo</th>\n",
              "      <th></th>\n",
              "      <th></th>\n",
              "    </tr>\n",
              "  </thead>\n",
              "  <tbody>\n",
              "    <tr>\n",
              "      <th rowspan=\"3\" valign=\"top\">D1</th>\n",
              "      <th>24</th>\n",
              "      <td>0.161308</td>\n",
              "      <td>0.163341</td>\n",
              "    </tr>\n",
              "    <tr>\n",
              "      <th>48</th>\n",
              "      <td>0.183816</td>\n",
              "      <td>0.182750</td>\n",
              "    </tr>\n",
              "    <tr>\n",
              "      <th>72</th>\n",
              "      <td>0.164523</td>\n",
              "      <td>0.164024</td>\n",
              "    </tr>\n",
              "    <tr>\n",
              "      <th rowspan=\"3\" valign=\"top\">D2</th>\n",
              "      <th>24</th>\n",
              "      <td>0.163451</td>\n",
              "      <td>0.163158</td>\n",
              "    </tr>\n",
              "    <tr>\n",
              "      <th>48</th>\n",
              "      <td>0.163451</td>\n",
              "      <td>0.163614</td>\n",
              "    </tr>\n",
              "    <tr>\n",
              "      <th>72</th>\n",
              "      <td>0.163451</td>\n",
              "      <td>0.163113</td>\n",
              "    </tr>\n",
              "  </tbody>\n",
              "</table>\n",
              "</div>"
            ],
            "text/plain": [
              "tratamento  com_controle  com_droga\n",
              "dose tempo                         \n",
              "D1   24         0.161308   0.163341\n",
              "     48         0.183816   0.182750\n",
              "     72         0.164523   0.164024\n",
              "D2   24         0.163451   0.163158\n",
              "     48         0.163451   0.163614\n",
              "     72         0.163451   0.163113"
            ]
          },
          "metadata": {
            "tags": []
          },
          "execution_count": 31
        }
      ]
    },
    {
      "cell_type": "markdown",
      "metadata": {
        "id": "mNWrfNMgjAIp"
      },
      "source": [
        "## Desafio 03: Explorar outros agregadores"
      ]
    },
    {
      "cell_type": "code",
      "metadata": {
        "id": "zQmfnXka5j7Z"
      },
      "source": [
        "pd.crosstab([dados['dose'], dados['tempo']], dados['tratamento'], values=dados['g-0'], aggfunc='max')"
      ],
      "execution_count": null,
      "outputs": []
    },
    {
      "cell_type": "code",
      "metadata": {
        "colab": {
          "base_uri": "https://localhost:8080/",
          "height": 266
        },
        "id": "Pluela7-5raQ",
        "outputId": "4869e57f-ae4e-4fba-b834-3599317cea39"
      },
      "source": [
        "pd.crosstab([dados['dose'], dados['tempo']], dados['tratamento'], values=dados['g-0'], aggfunc='min')"
      ],
      "execution_count": null,
      "outputs": [
        {
          "output_type": "execute_result",
          "data": {
            "text/html": [
              "<div>\n",
              "<style scoped>\n",
              "    .dataframe tbody tr th:only-of-type {\n",
              "        vertical-align: middle;\n",
              "    }\n",
              "\n",
              "    .dataframe tbody tr th {\n",
              "        vertical-align: top;\n",
              "    }\n",
              "\n",
              "    .dataframe thead th {\n",
              "        text-align: right;\n",
              "    }\n",
              "</style>\n",
              "<table border=\"1\" class=\"dataframe\">\n",
              "  <thead>\n",
              "    <tr style=\"text-align: right;\">\n",
              "      <th></th>\n",
              "      <th>tratamento</th>\n",
              "      <th>com_controle</th>\n",
              "      <th>com_droga</th>\n",
              "    </tr>\n",
              "    <tr>\n",
              "      <th>dose</th>\n",
              "      <th>tempo</th>\n",
              "      <th></th>\n",
              "      <th></th>\n",
              "    </tr>\n",
              "  </thead>\n",
              "  <tbody>\n",
              "    <tr>\n",
              "      <th rowspan=\"3\" valign=\"top\">D1</th>\n",
              "      <th>24</th>\n",
              "      <td>-2.370</td>\n",
              "      <td>-5.183</td>\n",
              "    </tr>\n",
              "    <tr>\n",
              "      <th>48</th>\n",
              "      <td>-3.276</td>\n",
              "      <td>-5.420</td>\n",
              "    </tr>\n",
              "    <tr>\n",
              "      <th>72</th>\n",
              "      <td>-2.086</td>\n",
              "      <td>-5.261</td>\n",
              "    </tr>\n",
              "    <tr>\n",
              "      <th rowspan=\"3\" valign=\"top\">D2</th>\n",
              "      <th>24</th>\n",
              "      <td>-2.135</td>\n",
              "      <td>-5.233</td>\n",
              "    </tr>\n",
              "    <tr>\n",
              "      <th>48</th>\n",
              "      <td>-4.859</td>\n",
              "      <td>-4.567</td>\n",
              "    </tr>\n",
              "    <tr>\n",
              "      <th>72</th>\n",
              "      <td>-1.909</td>\n",
              "      <td>-5.513</td>\n",
              "    </tr>\n",
              "  </tbody>\n",
              "</table>\n",
              "</div>"
            ],
            "text/plain": [
              "tratamento  com_controle  com_droga\n",
              "dose tempo                         \n",
              "D1   24           -2.370     -5.183\n",
              "     48           -3.276     -5.420\n",
              "     72           -2.086     -5.261\n",
              "D2   24           -2.135     -5.233\n",
              "     48           -4.859     -4.567\n",
              "     72           -1.909     -5.513"
            ]
          },
          "metadata": {
            "tags": []
          },
          "execution_count": 42
        }
      ]
    },
    {
      "cell_type": "code",
      "metadata": {
        "colab": {
          "base_uri": "https://localhost:8080/",
          "height": 266
        },
        "id": "KG5qIE4P5wVl",
        "outputId": "27181fb1-14e6-46df-d996-0396e81ed767"
      },
      "source": [
        "pd.crosstab([dados['dose'], dados['tempo']], dados['tratamento'], values=dados['g-0'], aggfunc='std')"
      ],
      "execution_count": null,
      "outputs": [
        {
          "output_type": "execute_result",
          "data": {
            "text/html": [
              "<div>\n",
              "<style scoped>\n",
              "    .dataframe tbody tr th:only-of-type {\n",
              "        vertical-align: middle;\n",
              "    }\n",
              "\n",
              "    .dataframe tbody tr th {\n",
              "        vertical-align: top;\n",
              "    }\n",
              "\n",
              "    .dataframe thead th {\n",
              "        text-align: right;\n",
              "    }\n",
              "</style>\n",
              "<table border=\"1\" class=\"dataframe\">\n",
              "  <thead>\n",
              "    <tr style=\"text-align: right;\">\n",
              "      <th></th>\n",
              "      <th>tratamento</th>\n",
              "      <th>com_controle</th>\n",
              "      <th>com_droga</th>\n",
              "    </tr>\n",
              "    <tr>\n",
              "      <th>dose</th>\n",
              "      <th>tempo</th>\n",
              "      <th></th>\n",
              "      <th></th>\n",
              "    </tr>\n",
              "  </thead>\n",
              "  <tbody>\n",
              "    <tr>\n",
              "      <th rowspan=\"3\" valign=\"top\">D1</th>\n",
              "      <th>24</th>\n",
              "      <td>0.751395</td>\n",
              "      <td>1.461954</td>\n",
              "    </tr>\n",
              "    <tr>\n",
              "      <th>48</th>\n",
              "      <td>0.853396</td>\n",
              "      <td>1.693903</td>\n",
              "    </tr>\n",
              "    <tr>\n",
              "      <th>72</th>\n",
              "      <td>0.769294</td>\n",
              "      <td>1.458600</td>\n",
              "    </tr>\n",
              "    <tr>\n",
              "      <th rowspan=\"3\" valign=\"top\">D2</th>\n",
              "      <th>24</th>\n",
              "      <td>0.836626</td>\n",
              "      <td>1.044999</td>\n",
              "    </tr>\n",
              "    <tr>\n",
              "      <th>48</th>\n",
              "      <td>0.836845</td>\n",
              "      <td>1.315476</td>\n",
              "    </tr>\n",
              "    <tr>\n",
              "      <th>72</th>\n",
              "      <td>0.878041</td>\n",
              "      <td>1.451532</td>\n",
              "    </tr>\n",
              "  </tbody>\n",
              "</table>\n",
              "</div>"
            ],
            "text/plain": [
              "tratamento  com_controle  com_droga\n",
              "dose tempo                         \n",
              "D1   24         0.751395   1.461954\n",
              "     48         0.853396   1.693903\n",
              "     72         0.769294   1.458600\n",
              "D2   24         0.836626   1.044999\n",
              "     48         0.836845   1.315476\n",
              "     72         0.878041   1.451532"
            ]
          },
          "metadata": {
            "tags": []
          },
          "execution_count": 43
        }
      ]
    },
    {
      "cell_type": "code",
      "metadata": {
        "colab": {
          "base_uri": "https://localhost:8080/",
          "height": 266
        },
        "id": "RekNRjM152g_",
        "outputId": "06500df0-f1ae-48f2-dd2c-f6d23d8f8361"
      },
      "source": [
        "pd.crosstab([dados['dose'], dados['tempo']], dados['tratamento'], values=dados['g-0'], aggfunc='count')"
      ],
      "execution_count": null,
      "outputs": [
        {
          "output_type": "execute_result",
          "data": {
            "text/html": [
              "<div>\n",
              "<style scoped>\n",
              "    .dataframe tbody tr th:only-of-type {\n",
              "        vertical-align: middle;\n",
              "    }\n",
              "\n",
              "    .dataframe tbody tr th {\n",
              "        vertical-align: top;\n",
              "    }\n",
              "\n",
              "    .dataframe thead th {\n",
              "        text-align: right;\n",
              "    }\n",
              "</style>\n",
              "<table border=\"1\" class=\"dataframe\">\n",
              "  <thead>\n",
              "    <tr style=\"text-align: right;\">\n",
              "      <th></th>\n",
              "      <th>tratamento</th>\n",
              "      <th>com_controle</th>\n",
              "      <th>com_droga</th>\n",
              "    </tr>\n",
              "    <tr>\n",
              "      <th>dose</th>\n",
              "      <th>tempo</th>\n",
              "      <th></th>\n",
              "      <th></th>\n",
              "    </tr>\n",
              "  </thead>\n",
              "  <tbody>\n",
              "    <tr>\n",
              "      <th rowspan=\"3\" valign=\"top\">D1</th>\n",
              "      <th>24</th>\n",
              "      <td>301</td>\n",
              "      <td>3585</td>\n",
              "    </tr>\n",
              "    <tr>\n",
              "      <th>48</th>\n",
              "      <td>343</td>\n",
              "      <td>4011</td>\n",
              "    </tr>\n",
              "    <tr>\n",
              "      <th>72</th>\n",
              "      <td>307</td>\n",
              "      <td>3600</td>\n",
              "    </tr>\n",
              "    <tr>\n",
              "      <th rowspan=\"3\" valign=\"top\">D2</th>\n",
              "      <th>24</th>\n",
              "      <td>305</td>\n",
              "      <td>3581</td>\n",
              "    </tr>\n",
              "    <tr>\n",
              "      <th>48</th>\n",
              "      <td>305</td>\n",
              "      <td>3591</td>\n",
              "    </tr>\n",
              "    <tr>\n",
              "      <th>72</th>\n",
              "      <td>305</td>\n",
              "      <td>3580</td>\n",
              "    </tr>\n",
              "  </tbody>\n",
              "</table>\n",
              "</div>"
            ],
            "text/plain": [
              "tratamento  com_controle  com_droga\n",
              "dose tempo                         \n",
              "D1   24              301       3585\n",
              "     48              343       4011\n",
              "     72              307       3600\n",
              "D2   24              305       3581\n",
              "     48              305       3591\n",
              "     72              305       3580"
            ]
          },
          "metadata": {
            "tags": []
          },
          "execution_count": 44
        }
      ]
    },
    {
      "cell_type": "markdown",
      "metadata": {
        "id": "vVWzXbByjJvD"
      },
      "source": [
        "## Desafio 04: Explorar o Melt"
      ]
    },
    {
      "cell_type": "markdown",
      "metadata": {
        "id": "2mhWsoeMTAhU"
      },
      "source": [
        "Documentação do melt: https://pandas.pydata.org/docs/reference/api/pandas.melt.html"
      ]
    },
    {
      "cell_type": "code",
      "metadata": {
        "id": "HW_BIUHyUDq5"
      },
      "source": [
        "dados.melt"
      ],
      "execution_count": null,
      "outputs": []
    },
    {
      "cell_type": "code",
      "metadata": {
        "id": "EVjYrXPgUTFv"
      },
      "source": [
        "dados.melt(id_vars='tratamento')"
      ],
      "execution_count": null,
      "outputs": []
    },
    {
      "cell_type": "code",
      "metadata": {
        "id": "aKSl8l4yfl6v"
      },
      "source": [
        "dados.melt(id_vars='tratamento', value_vars='tempo')"
      ],
      "execution_count": null,
      "outputs": []
    },
    {
      "cell_type": "code",
      "metadata": {
        "id": "T96XTJEcfrWw"
      },
      "source": [
        "dados.melt(id_vars='tratamento', value_vars='tempo', var_name='tempo')"
      ],
      "execution_count": null,
      "outputs": []
    },
    {
      "cell_type": "code",
      "metadata": {
        "id": "K0j2wqagfu9d"
      },
      "source": [
        "dados.melt(id_vars='tratamento', value_vars='tempo', var_name='tempo', value_name='em hrs')"
      ],
      "execution_count": null,
      "outputs": []
    },
    {
      "cell_type": "markdown",
      "metadata": {
        "id": "32gXDEKvw9zu"
      },
      "source": [
        "##Desafio 05: Calcular e analisar a correlação entre os gn e cn. Refletir sobre os efeitos biológicos"
      ]
    },
    {
      "cell_type": "markdown",
      "metadata": {
        "id": "bng11vaqCxcV"
      },
      "source": [
        "Verificando essa correlação nos dados do grupo de controle.\n"
      ]
    },
    {
      "cell_type": "code",
      "metadata": {
        "id": "yrKtJSxvIg7k",
        "colab": {
          "base_uri": "https://localhost:8080/"
        },
        "outputId": "dd1697fd-72e7-4f25-d5b4-736a2bf48ee3"
      },
      "source": [
        "dados_controle = dados[dados['droga'] == 'cacb2b860']\n",
        "dados_controle['tratamento'].unique()"
      ],
      "execution_count": 3,
      "outputs": [
        {
          "output_type": "execute_result",
          "data": {
            "text/plain": [
              "array(['com_controle'], dtype=object)"
            ]
          },
          "metadata": {
            "tags": []
          },
          "execution_count": 3
        }
      ]
    },
    {
      "cell_type": "code",
      "metadata": {
        "id": "8GgdIfdK0g0o",
        "colab": {
          "base_uri": "https://localhost:8080/",
          "height": 439
        },
        "outputId": "79a03a62-8b83-4aeb-c749-905b066af505"
      },
      "source": [
        "g_filtrado = dados[dados['droga'] == 'cacb2b860'].loc[:,'g-0':'g-30']\n",
        "c_filtrado = dados[dados['droga'] == 'cacb2b860'].loc[:,'c-0':'c-30']\n",
        "concatenado = pd.concat([g_filtrado, c_filtrado], axis = 1)\n",
        "concatenado"
      ],
      "execution_count": 4,
      "outputs": [
        {
          "output_type": "execute_result",
          "data": {
            "text/html": [
              "<div>\n",
              "<style scoped>\n",
              "    .dataframe tbody tr th:only-of-type {\n",
              "        vertical-align: middle;\n",
              "    }\n",
              "\n",
              "    .dataframe tbody tr th {\n",
              "        vertical-align: top;\n",
              "    }\n",
              "\n",
              "    .dataframe thead th {\n",
              "        text-align: right;\n",
              "    }\n",
              "</style>\n",
              "<table border=\"1\" class=\"dataframe\">\n",
              "  <thead>\n",
              "    <tr style=\"text-align: right;\">\n",
              "      <th></th>\n",
              "      <th>g-0</th>\n",
              "      <th>g-1</th>\n",
              "      <th>g-2</th>\n",
              "      <th>g-3</th>\n",
              "      <th>g-4</th>\n",
              "      <th>g-5</th>\n",
              "      <th>g-6</th>\n",
              "      <th>g-7</th>\n",
              "      <th>g-8</th>\n",
              "      <th>g-9</th>\n",
              "      <th>g-10</th>\n",
              "      <th>g-11</th>\n",
              "      <th>g-12</th>\n",
              "      <th>g-13</th>\n",
              "      <th>g-14</th>\n",
              "      <th>g-15</th>\n",
              "      <th>g-16</th>\n",
              "      <th>g-17</th>\n",
              "      <th>g-18</th>\n",
              "      <th>g-19</th>\n",
              "      <th>g-20</th>\n",
              "      <th>g-21</th>\n",
              "      <th>g-22</th>\n",
              "      <th>g-23</th>\n",
              "      <th>g-24</th>\n",
              "      <th>g-25</th>\n",
              "      <th>g-26</th>\n",
              "      <th>g-27</th>\n",
              "      <th>g-28</th>\n",
              "      <th>g-29</th>\n",
              "      <th>g-30</th>\n",
              "      <th>c-0</th>\n",
              "      <th>c-1</th>\n",
              "      <th>c-2</th>\n",
              "      <th>c-3</th>\n",
              "      <th>c-4</th>\n",
              "      <th>c-5</th>\n",
              "      <th>c-6</th>\n",
              "      <th>c-7</th>\n",
              "      <th>c-8</th>\n",
              "      <th>c-9</th>\n",
              "      <th>c-10</th>\n",
              "      <th>c-11</th>\n",
              "      <th>c-12</th>\n",
              "      <th>c-13</th>\n",
              "      <th>c-14</th>\n",
              "      <th>c-15</th>\n",
              "      <th>c-16</th>\n",
              "      <th>c-17</th>\n",
              "      <th>c-18</th>\n",
              "      <th>c-19</th>\n",
              "      <th>c-20</th>\n",
              "      <th>c-21</th>\n",
              "      <th>c-22</th>\n",
              "      <th>c-23</th>\n",
              "      <th>c-24</th>\n",
              "      <th>c-25</th>\n",
              "      <th>c-26</th>\n",
              "      <th>c-27</th>\n",
              "      <th>c-28</th>\n",
              "      <th>c-29</th>\n",
              "      <th>c-30</th>\n",
              "    </tr>\n",
              "  </thead>\n",
              "  <tbody>\n",
              "    <tr>\n",
              "      <th>25</th>\n",
              "      <td>-0.6696</td>\n",
              "      <td>-0.2718</td>\n",
              "      <td>-1.2230</td>\n",
              "      <td>-0.6226</td>\n",
              "      <td>-0.7220</td>\n",
              "      <td>0.1588</td>\n",
              "      <td>0.7785</td>\n",
              "      <td>0.7062</td>\n",
              "      <td>-0.7951</td>\n",
              "      <td>1.3770</td>\n",
              "      <td>0.2856</td>\n",
              "      <td>-0.8331</td>\n",
              "      <td>0.3879</td>\n",
              "      <td>1.3290</td>\n",
              "      <td>-0.4746</td>\n",
              "      <td>0.0857</td>\n",
              "      <td>-0.2745</td>\n",
              "      <td>-0.1093</td>\n",
              "      <td>0.2603</td>\n",
              "      <td>0.7386</td>\n",
              "      <td>-0.6665</td>\n",
              "      <td>-1.6520</td>\n",
              "      <td>-0.9262</td>\n",
              "      <td>0.0000</td>\n",
              "      <td>1.6310</td>\n",
              "      <td>-0.2933</td>\n",
              "      <td>0.2043</td>\n",
              "      <td>-2.2070</td>\n",
              "      <td>0.1383</td>\n",
              "      <td>-0.4966</td>\n",
              "      <td>0.6922</td>\n",
              "      <td>0.4665</td>\n",
              "      <td>0.2532</td>\n",
              "      <td>0.7212</td>\n",
              "      <td>-0.4467</td>\n",
              "      <td>0.7621</td>\n",
              "      <td>0.2687</td>\n",
              "      <td>-0.1338</td>\n",
              "      <td>0.6366</td>\n",
              "      <td>0.6220</td>\n",
              "      <td>-0.3014</td>\n",
              "      <td>0.7567</td>\n",
              "      <td>1.2480</td>\n",
              "      <td>0.6420</td>\n",
              "      <td>1.5370</td>\n",
              "      <td>0.8386</td>\n",
              "      <td>0.8053</td>\n",
              "      <td>0.1935</td>\n",
              "      <td>1.3500</td>\n",
              "      <td>0.4042</td>\n",
              "      <td>1.5230</td>\n",
              "      <td>0.0741</td>\n",
              "      <td>0.2019</td>\n",
              "      <td>0.3635</td>\n",
              "      <td>0.3103</td>\n",
              "      <td>0.8123</td>\n",
              "      <td>0.4770</td>\n",
              "      <td>0.4972</td>\n",
              "      <td>0.4685</td>\n",
              "      <td>0.4348</td>\n",
              "      <td>0.5421</td>\n",
              "      <td>0.4056</td>\n",
              "    </tr>\n",
              "    <tr>\n",
              "      <th>38</th>\n",
              "      <td>-0.1636</td>\n",
              "      <td>-1.8230</td>\n",
              "      <td>-0.5211</td>\n",
              "      <td>0.3054</td>\n",
              "      <td>-1.1280</td>\n",
              "      <td>0.6041</td>\n",
              "      <td>0.3856</td>\n",
              "      <td>-0.1670</td>\n",
              "      <td>-0.5400</td>\n",
              "      <td>0.2721</td>\n",
              "      <td>-0.2479</td>\n",
              "      <td>0.0761</td>\n",
              "      <td>-0.4054</td>\n",
              "      <td>2.9760</td>\n",
              "      <td>-0.7679</td>\n",
              "      <td>0.6995</td>\n",
              "      <td>0.0752</td>\n",
              "      <td>0.5943</td>\n",
              "      <td>0.4266</td>\n",
              "      <td>0.0000</td>\n",
              "      <td>1.0410</td>\n",
              "      <td>-0.1131</td>\n",
              "      <td>0.6593</td>\n",
              "      <td>-0.6890</td>\n",
              "      <td>0.5115</td>\n",
              "      <td>-0.2512</td>\n",
              "      <td>-0.8775</td>\n",
              "      <td>-1.3810</td>\n",
              "      <td>0.1419</td>\n",
              "      <td>-0.0363</td>\n",
              "      <td>0.2559</td>\n",
              "      <td>0.1431</td>\n",
              "      <td>-0.1254</td>\n",
              "      <td>-0.0740</td>\n",
              "      <td>0.0288</td>\n",
              "      <td>-0.7198</td>\n",
              "      <td>-1.0040</td>\n",
              "      <td>0.3443</td>\n",
              "      <td>-0.6593</td>\n",
              "      <td>0.1020</td>\n",
              "      <td>-0.1742</td>\n",
              "      <td>0.0873</td>\n",
              "      <td>0.0208</td>\n",
              "      <td>0.1540</td>\n",
              "      <td>-0.6229</td>\n",
              "      <td>-0.3923</td>\n",
              "      <td>0.0964</td>\n",
              "      <td>-1.0500</td>\n",
              "      <td>0.9068</td>\n",
              "      <td>-0.0658</td>\n",
              "      <td>-0.1852</td>\n",
              "      <td>0.0576</td>\n",
              "      <td>0.5113</td>\n",
              "      <td>-0.3795</td>\n",
              "      <td>0.1957</td>\n",
              "      <td>-0.3674</td>\n",
              "      <td>0.1904</td>\n",
              "      <td>-0.1540</td>\n",
              "      <td>0.4123</td>\n",
              "      <td>-0.8581</td>\n",
              "      <td>-0.2263</td>\n",
              "      <td>0.7330</td>\n",
              "    </tr>\n",
              "    <tr>\n",
              "      <th>40</th>\n",
              "      <td>-1.3200</td>\n",
              "      <td>-1.7340</td>\n",
              "      <td>-0.0741</td>\n",
              "      <td>1.5440</td>\n",
              "      <td>-1.8290</td>\n",
              "      <td>-0.0951</td>\n",
              "      <td>0.3829</td>\n",
              "      <td>-1.8700</td>\n",
              "      <td>-0.0324</td>\n",
              "      <td>2.7670</td>\n",
              "      <td>-0.0438</td>\n",
              "      <td>-0.0147</td>\n",
              "      <td>0.1276</td>\n",
              "      <td>0.2968</td>\n",
              "      <td>-0.0704</td>\n",
              "      <td>-0.3767</td>\n",
              "      <td>2.5790</td>\n",
              "      <td>0.4069</td>\n",
              "      <td>-0.3868</td>\n",
              "      <td>-0.2782</td>\n",
              "      <td>1.8180</td>\n",
              "      <td>-2.9390</td>\n",
              "      <td>-0.1150</td>\n",
              "      <td>-0.8009</td>\n",
              "      <td>-1.4440</td>\n",
              "      <td>0.5412</td>\n",
              "      <td>-0.0804</td>\n",
              "      <td>-0.4444</td>\n",
              "      <td>2.9230</td>\n",
              "      <td>2.8270</td>\n",
              "      <td>-0.3437</td>\n",
              "      <td>0.8107</td>\n",
              "      <td>0.7110</td>\n",
              "      <td>-0.0797</td>\n",
              "      <td>0.1703</td>\n",
              "      <td>1.7100</td>\n",
              "      <td>-0.0436</td>\n",
              "      <td>-0.2968</td>\n",
              "      <td>0.8906</td>\n",
              "      <td>-0.5218</td>\n",
              "      <td>1.2530</td>\n",
              "      <td>0.8287</td>\n",
              "      <td>0.9787</td>\n",
              "      <td>1.1110</td>\n",
              "      <td>-0.2813</td>\n",
              "      <td>0.3524</td>\n",
              "      <td>0.6322</td>\n",
              "      <td>1.4640</td>\n",
              "      <td>0.4940</td>\n",
              "      <td>0.4516</td>\n",
              "      <td>1.0320</td>\n",
              "      <td>0.8206</td>\n",
              "      <td>-0.0691</td>\n",
              "      <td>1.0970</td>\n",
              "      <td>0.2771</td>\n",
              "      <td>0.4753</td>\n",
              "      <td>0.2259</td>\n",
              "      <td>1.0160</td>\n",
              "      <td>0.4358</td>\n",
              "      <td>0.0752</td>\n",
              "      <td>0.9084</td>\n",
              "      <td>0.7651</td>\n",
              "    </tr>\n",
              "    <tr>\n",
              "      <th>47</th>\n",
              "      <td>0.4860</td>\n",
              "      <td>0.1430</td>\n",
              "      <td>0.5281</td>\n",
              "      <td>-0.0022</td>\n",
              "      <td>-0.2334</td>\n",
              "      <td>-0.6607</td>\n",
              "      <td>0.6459</td>\n",
              "      <td>-0.0109</td>\n",
              "      <td>1.0120</td>\n",
              "      <td>-0.0864</td>\n",
              "      <td>-0.3817</td>\n",
              "      <td>-1.0600</td>\n",
              "      <td>0.9435</td>\n",
              "      <td>0.6296</td>\n",
              "      <td>0.3864</td>\n",
              "      <td>0.1420</td>\n",
              "      <td>0.9834</td>\n",
              "      <td>0.4189</td>\n",
              "      <td>0.7980</td>\n",
              "      <td>-0.2132</td>\n",
              "      <td>0.7651</td>\n",
              "      <td>-1.2410</td>\n",
              "      <td>0.0747</td>\n",
              "      <td>-1.5750</td>\n",
              "      <td>0.1535</td>\n",
              "      <td>-0.0840</td>\n",
              "      <td>0.6705</td>\n",
              "      <td>-0.7517</td>\n",
              "      <td>-0.2756</td>\n",
              "      <td>-1.0920</td>\n",
              "      <td>-0.8683</td>\n",
              "      <td>-0.6666</td>\n",
              "      <td>0.3619</td>\n",
              "      <td>-0.4816</td>\n",
              "      <td>0.3545</td>\n",
              "      <td>0.0480</td>\n",
              "      <td>-0.1306</td>\n",
              "      <td>0.3623</td>\n",
              "      <td>-1.4190</td>\n",
              "      <td>0.1975</td>\n",
              "      <td>-0.2137</td>\n",
              "      <td>-0.3358</td>\n",
              "      <td>-0.9395</td>\n",
              "      <td>-0.1191</td>\n",
              "      <td>0.5055</td>\n",
              "      <td>-0.2079</td>\n",
              "      <td>0.1760</td>\n",
              "      <td>-0.5248</td>\n",
              "      <td>0.0266</td>\n",
              "      <td>-0.1298</td>\n",
              "      <td>-0.5139</td>\n",
              "      <td>-0.4645</td>\n",
              "      <td>-0.5434</td>\n",
              "      <td>-0.7326</td>\n",
              "      <td>-0.3624</td>\n",
              "      <td>-0.1764</td>\n",
              "      <td>-0.4371</td>\n",
              "      <td>-0.6318</td>\n",
              "      <td>0.5859</td>\n",
              "      <td>0.9494</td>\n",
              "      <td>-0.7306</td>\n",
              "      <td>0.2834</td>\n",
              "    </tr>\n",
              "    <tr>\n",
              "      <th>63</th>\n",
              "      <td>0.4471</td>\n",
              "      <td>-0.0839</td>\n",
              "      <td>-0.3864</td>\n",
              "      <td>0.3196</td>\n",
              "      <td>0.2584</td>\n",
              "      <td>-0.3156</td>\n",
              "      <td>-0.1187</td>\n",
              "      <td>1.1610</td>\n",
              "      <td>0.5838</td>\n",
              "      <td>-0.2996</td>\n",
              "      <td>-0.3995</td>\n",
              "      <td>1.0700</td>\n",
              "      <td>0.2969</td>\n",
              "      <td>-0.2785</td>\n",
              "      <td>0.9678</td>\n",
              "      <td>-0.1409</td>\n",
              "      <td>1.0850</td>\n",
              "      <td>-0.0656</td>\n",
              "      <td>-0.6502</td>\n",
              "      <td>0.3527</td>\n",
              "      <td>0.1998</td>\n",
              "      <td>0.0975</td>\n",
              "      <td>0.0563</td>\n",
              "      <td>-0.3578</td>\n",
              "      <td>-0.0657</td>\n",
              "      <td>0.5316</td>\n",
              "      <td>0.6573</td>\n",
              "      <td>-0.5355</td>\n",
              "      <td>1.2380</td>\n",
              "      <td>-0.4994</td>\n",
              "      <td>-0.8140</td>\n",
              "      <td>0.8432</td>\n",
              "      <td>0.4478</td>\n",
              "      <td>-0.8843</td>\n",
              "      <td>-0.6954</td>\n",
              "      <td>0.4762</td>\n",
              "      <td>0.9160</td>\n",
              "      <td>0.1785</td>\n",
              "      <td>0.2807</td>\n",
              "      <td>1.3500</td>\n",
              "      <td>0.1766</td>\n",
              "      <td>-0.1137</td>\n",
              "      <td>1.4910</td>\n",
              "      <td>-0.6229</td>\n",
              "      <td>-0.9833</td>\n",
              "      <td>-0.1895</td>\n",
              "      <td>0.5661</td>\n",
              "      <td>0.6124</td>\n",
              "      <td>-0.1581</td>\n",
              "      <td>0.3927</td>\n",
              "      <td>0.8244</td>\n",
              "      <td>0.5313</td>\n",
              "      <td>0.4941</td>\n",
              "      <td>-0.6869</td>\n",
              "      <td>0.0460</td>\n",
              "      <td>0.4194</td>\n",
              "      <td>0.5550</td>\n",
              "      <td>1.1300</td>\n",
              "      <td>-0.2166</td>\n",
              "      <td>0.6102</td>\n",
              "      <td>0.3593</td>\n",
              "      <td>-0.4806</td>\n",
              "    </tr>\n",
              "    <tr>\n",
              "      <th>...</th>\n",
              "      <td>...</td>\n",
              "      <td>...</td>\n",
              "      <td>...</td>\n",
              "      <td>...</td>\n",
              "      <td>...</td>\n",
              "      <td>...</td>\n",
              "      <td>...</td>\n",
              "      <td>...</td>\n",
              "      <td>...</td>\n",
              "      <td>...</td>\n",
              "      <td>...</td>\n",
              "      <td>...</td>\n",
              "      <td>...</td>\n",
              "      <td>...</td>\n",
              "      <td>...</td>\n",
              "      <td>...</td>\n",
              "      <td>...</td>\n",
              "      <td>...</td>\n",
              "      <td>...</td>\n",
              "      <td>...</td>\n",
              "      <td>...</td>\n",
              "      <td>...</td>\n",
              "      <td>...</td>\n",
              "      <td>...</td>\n",
              "      <td>...</td>\n",
              "      <td>...</td>\n",
              "      <td>...</td>\n",
              "      <td>...</td>\n",
              "      <td>...</td>\n",
              "      <td>...</td>\n",
              "      <td>...</td>\n",
              "      <td>...</td>\n",
              "      <td>...</td>\n",
              "      <td>...</td>\n",
              "      <td>...</td>\n",
              "      <td>...</td>\n",
              "      <td>...</td>\n",
              "      <td>...</td>\n",
              "      <td>...</td>\n",
              "      <td>...</td>\n",
              "      <td>...</td>\n",
              "      <td>...</td>\n",
              "      <td>...</td>\n",
              "      <td>...</td>\n",
              "      <td>...</td>\n",
              "      <td>...</td>\n",
              "      <td>...</td>\n",
              "      <td>...</td>\n",
              "      <td>...</td>\n",
              "      <td>...</td>\n",
              "      <td>...</td>\n",
              "      <td>...</td>\n",
              "      <td>...</td>\n",
              "      <td>...</td>\n",
              "      <td>...</td>\n",
              "      <td>...</td>\n",
              "      <td>...</td>\n",
              "      <td>...</td>\n",
              "      <td>...</td>\n",
              "      <td>...</td>\n",
              "      <td>...</td>\n",
              "      <td>...</td>\n",
              "    </tr>\n",
              "    <tr>\n",
              "      <th>23729</th>\n",
              "      <td>0.0465</td>\n",
              "      <td>0.6430</td>\n",
              "      <td>-0.2453</td>\n",
              "      <td>0.3521</td>\n",
              "      <td>0.6195</td>\n",
              "      <td>-0.6659</td>\n",
              "      <td>0.8263</td>\n",
              "      <td>0.5933</td>\n",
              "      <td>0.1388</td>\n",
              "      <td>-0.2246</td>\n",
              "      <td>-0.6127</td>\n",
              "      <td>-0.1687</td>\n",
              "      <td>1.5170</td>\n",
              "      <td>0.6243</td>\n",
              "      <td>-0.8399</td>\n",
              "      <td>-0.1881</td>\n",
              "      <td>-0.1583</td>\n",
              "      <td>0.0622</td>\n",
              "      <td>-0.1170</td>\n",
              "      <td>0.7722</td>\n",
              "      <td>0.0063</td>\n",
              "      <td>0.7347</td>\n",
              "      <td>-0.4820</td>\n",
              "      <td>0.0000</td>\n",
              "      <td>0.0938</td>\n",
              "      <td>-0.6062</td>\n",
              "      <td>0.6108</td>\n",
              "      <td>-0.4900</td>\n",
              "      <td>0.1075</td>\n",
              "      <td>0.3029</td>\n",
              "      <td>-0.1369</td>\n",
              "      <td>0.6950</td>\n",
              "      <td>0.2731</td>\n",
              "      <td>0.6061</td>\n",
              "      <td>0.2976</td>\n",
              "      <td>0.3948</td>\n",
              "      <td>0.8336</td>\n",
              "      <td>1.1720</td>\n",
              "      <td>0.0790</td>\n",
              "      <td>0.3028</td>\n",
              "      <td>-0.0120</td>\n",
              "      <td>0.0781</td>\n",
              "      <td>0.2334</td>\n",
              "      <td>0.1682</td>\n",
              "      <td>0.3971</td>\n",
              "      <td>0.6605</td>\n",
              "      <td>-0.6505</td>\n",
              "      <td>-0.1283</td>\n",
              "      <td>-0.4924</td>\n",
              "      <td>0.1668</td>\n",
              "      <td>1.2440</td>\n",
              "      <td>-1.6380</td>\n",
              "      <td>0.5628</td>\n",
              "      <td>0.9434</td>\n",
              "      <td>0.9574</td>\n",
              "      <td>0.0359</td>\n",
              "      <td>1.1500</td>\n",
              "      <td>0.8947</td>\n",
              "      <td>-0.9647</td>\n",
              "      <td>-0.6059</td>\n",
              "      <td>0.4703</td>\n",
              "      <td>-0.1513</td>\n",
              "    </tr>\n",
              "    <tr>\n",
              "      <th>23747</th>\n",
              "      <td>-0.6204</td>\n",
              "      <td>-1.3800</td>\n",
              "      <td>-1.1880</td>\n",
              "      <td>-0.6573</td>\n",
              "      <td>-0.8408</td>\n",
              "      <td>-0.2447</td>\n",
              "      <td>1.3490</td>\n",
              "      <td>-0.5155</td>\n",
              "      <td>1.2610</td>\n",
              "      <td>-0.1790</td>\n",
              "      <td>-0.7182</td>\n",
              "      <td>-0.7885</td>\n",
              "      <td>0.3022</td>\n",
              "      <td>2.0140</td>\n",
              "      <td>0.1667</td>\n",
              "      <td>-0.7325</td>\n",
              "      <td>-0.1553</td>\n",
              "      <td>0.8400</td>\n",
              "      <td>-0.1069</td>\n",
              "      <td>-0.7247</td>\n",
              "      <td>1.3430</td>\n",
              "      <td>1.5010</td>\n",
              "      <td>-1.3370</td>\n",
              "      <td>0.7190</td>\n",
              "      <td>-0.0843</td>\n",
              "      <td>0.4841</td>\n",
              "      <td>-0.9104</td>\n",
              "      <td>1.3990</td>\n",
              "      <td>0.7447</td>\n",
              "      <td>-1.2110</td>\n",
              "      <td>0.6562</td>\n",
              "      <td>1.6290</td>\n",
              "      <td>-0.2854</td>\n",
              "      <td>0.2248</td>\n",
              "      <td>-1.4850</td>\n",
              "      <td>0.9749</td>\n",
              "      <td>0.6954</td>\n",
              "      <td>0.9388</td>\n",
              "      <td>0.0511</td>\n",
              "      <td>0.2647</td>\n",
              "      <td>1.0440</td>\n",
              "      <td>0.7449</td>\n",
              "      <td>1.0390</td>\n",
              "      <td>-0.1519</td>\n",
              "      <td>0.6743</td>\n",
              "      <td>1.3460</td>\n",
              "      <td>0.1894</td>\n",
              "      <td>0.7540</td>\n",
              "      <td>0.9674</td>\n",
              "      <td>0.6959</td>\n",
              "      <td>0.2556</td>\n",
              "      <td>1.5190</td>\n",
              "      <td>0.9388</td>\n",
              "      <td>-0.9945</td>\n",
              "      <td>-0.1075</td>\n",
              "      <td>0.9664</td>\n",
              "      <td>0.9317</td>\n",
              "      <td>0.4137</td>\n",
              "      <td>1.3970</td>\n",
              "      <td>-0.5932</td>\n",
              "      <td>0.1369</td>\n",
              "      <td>0.4803</td>\n",
              "    </tr>\n",
              "    <tr>\n",
              "      <th>23768</th>\n",
              "      <td>-0.1051</td>\n",
              "      <td>0.4335</td>\n",
              "      <td>0.3648</td>\n",
              "      <td>-0.0525</td>\n",
              "      <td>-0.3632</td>\n",
              "      <td>-0.3228</td>\n",
              "      <td>-2.3190</td>\n",
              "      <td>-0.5294</td>\n",
              "      <td>0.1878</td>\n",
              "      <td>0.5047</td>\n",
              "      <td>1.3820</td>\n",
              "      <td>0.6107</td>\n",
              "      <td>2.4790</td>\n",
              "      <td>0.4347</td>\n",
              "      <td>0.9422</td>\n",
              "      <td>-0.1042</td>\n",
              "      <td>-0.2611</td>\n",
              "      <td>1.5760</td>\n",
              "      <td>-0.0232</td>\n",
              "      <td>-0.2455</td>\n",
              "      <td>0.8058</td>\n",
              "      <td>-2.4180</td>\n",
              "      <td>-0.5838</td>\n",
              "      <td>-0.1626</td>\n",
              "      <td>-0.8609</td>\n",
              "      <td>-0.2021</td>\n",
              "      <td>0.1494</td>\n",
              "      <td>0.6618</td>\n",
              "      <td>1.3080</td>\n",
              "      <td>-0.7822</td>\n",
              "      <td>0.3923</td>\n",
              "      <td>-0.2068</td>\n",
              "      <td>0.9070</td>\n",
              "      <td>0.7496</td>\n",
              "      <td>0.8065</td>\n",
              "      <td>1.3190</td>\n",
              "      <td>-1.1650</td>\n",
              "      <td>0.4465</td>\n",
              "      <td>1.0640</td>\n",
              "      <td>0.1108</td>\n",
              "      <td>0.4081</td>\n",
              "      <td>-0.1517</td>\n",
              "      <td>0.1468</td>\n",
              "      <td>0.4138</td>\n",
              "      <td>1.2270</td>\n",
              "      <td>0.2365</td>\n",
              "      <td>0.5612</td>\n",
              "      <td>-0.2882</td>\n",
              "      <td>0.2912</td>\n",
              "      <td>0.7443</td>\n",
              "      <td>-0.1137</td>\n",
              "      <td>-1.6780</td>\n",
              "      <td>0.2824</td>\n",
              "      <td>0.7886</td>\n",
              "      <td>0.8374</td>\n",
              "      <td>0.9588</td>\n",
              "      <td>-1.1140</td>\n",
              "      <td>0.9108</td>\n",
              "      <td>0.7460</td>\n",
              "      <td>0.6698</td>\n",
              "      <td>0.4773</td>\n",
              "      <td>-0.9418</td>\n",
              "    </tr>\n",
              "    <tr>\n",
              "      <th>23793</th>\n",
              "      <td>0.6008</td>\n",
              "      <td>0.2781</td>\n",
              "      <td>-0.3319</td>\n",
              "      <td>-0.8782</td>\n",
              "      <td>0.9281</td>\n",
              "      <td>0.7535</td>\n",
              "      <td>0.5971</td>\n",
              "      <td>1.6350</td>\n",
              "      <td>-0.3146</td>\n",
              "      <td>0.4984</td>\n",
              "      <td>-1.1890</td>\n",
              "      <td>0.3772</td>\n",
              "      <td>-0.8196</td>\n",
              "      <td>0.1083</td>\n",
              "      <td>-2.0350</td>\n",
              "      <td>0.4135</td>\n",
              "      <td>0.7586</td>\n",
              "      <td>-0.4024</td>\n",
              "      <td>-0.0449</td>\n",
              "      <td>0.3335</td>\n",
              "      <td>0.2358</td>\n",
              "      <td>0.7919</td>\n",
              "      <td>-0.8775</td>\n",
              "      <td>0.4232</td>\n",
              "      <td>1.8460</td>\n",
              "      <td>-2.0940</td>\n",
              "      <td>0.1438</td>\n",
              "      <td>-0.6604</td>\n",
              "      <td>0.7243</td>\n",
              "      <td>0.0338</td>\n",
              "      <td>-0.0182</td>\n",
              "      <td>-0.1620</td>\n",
              "      <td>-0.2933</td>\n",
              "      <td>0.2926</td>\n",
              "      <td>0.2937</td>\n",
              "      <td>0.6187</td>\n",
              "      <td>-0.2173</td>\n",
              "      <td>-0.3576</td>\n",
              "      <td>1.3070</td>\n",
              "      <td>0.2541</td>\n",
              "      <td>0.1225</td>\n",
              "      <td>0.8766</td>\n",
              "      <td>0.0965</td>\n",
              "      <td>-0.2989</td>\n",
              "      <td>0.8281</td>\n",
              "      <td>1.5280</td>\n",
              "      <td>-0.5219</td>\n",
              "      <td>-0.8771</td>\n",
              "      <td>1.3170</td>\n",
              "      <td>0.7994</td>\n",
              "      <td>1.8880</td>\n",
              "      <td>-0.5529</td>\n",
              "      <td>0.2416</td>\n",
              "      <td>-0.6872</td>\n",
              "      <td>0.1623</td>\n",
              "      <td>0.5389</td>\n",
              "      <td>-0.6451</td>\n",
              "      <td>-0.6476</td>\n",
              "      <td>0.9533</td>\n",
              "      <td>0.0285</td>\n",
              "      <td>0.0211</td>\n",
              "      <td>0.7421</td>\n",
              "    </tr>\n",
              "    <tr>\n",
              "      <th>23811</th>\n",
              "      <td>0.3942</td>\n",
              "      <td>0.3756</td>\n",
              "      <td>0.3109</td>\n",
              "      <td>-0.7389</td>\n",
              "      <td>0.5505</td>\n",
              "      <td>-0.0159</td>\n",
              "      <td>-0.2541</td>\n",
              "      <td>0.1745</td>\n",
              "      <td>-0.0340</td>\n",
              "      <td>0.4865</td>\n",
              "      <td>-0.1854</td>\n",
              "      <td>0.0716</td>\n",
              "      <td>0.1729</td>\n",
              "      <td>-0.0434</td>\n",
              "      <td>0.1542</td>\n",
              "      <td>-0.2192</td>\n",
              "      <td>-0.0302</td>\n",
              "      <td>-0.4218</td>\n",
              "      <td>0.4057</td>\n",
              "      <td>-0.5372</td>\n",
              "      <td>0.1521</td>\n",
              "      <td>-0.2651</td>\n",
              "      <td>0.2310</td>\n",
              "      <td>-0.8101</td>\n",
              "      <td>0.4943</td>\n",
              "      <td>0.6905</td>\n",
              "      <td>-0.3720</td>\n",
              "      <td>-1.4110</td>\n",
              "      <td>0.4516</td>\n",
              "      <td>1.2300</td>\n",
              "      <td>-0.1949</td>\n",
              "      <td>1.0650</td>\n",
              "      <td>0.6329</td>\n",
              "      <td>0.3742</td>\n",
              "      <td>0.1237</td>\n",
              "      <td>0.6147</td>\n",
              "      <td>0.4589</td>\n",
              "      <td>-0.2372</td>\n",
              "      <td>1.1160</td>\n",
              "      <td>0.4623</td>\n",
              "      <td>0.2830</td>\n",
              "      <td>0.6260</td>\n",
              "      <td>-0.2559</td>\n",
              "      <td>0.5093</td>\n",
              "      <td>0.3384</td>\n",
              "      <td>0.8395</td>\n",
              "      <td>0.3992</td>\n",
              "      <td>0.0669</td>\n",
              "      <td>0.9208</td>\n",
              "      <td>-0.1220</td>\n",
              "      <td>-0.1834</td>\n",
              "      <td>0.3320</td>\n",
              "      <td>0.0615</td>\n",
              "      <td>0.6909</td>\n",
              "      <td>0.0788</td>\n",
              "      <td>0.2697</td>\n",
              "      <td>0.6127</td>\n",
              "      <td>0.4435</td>\n",
              "      <td>0.7225</td>\n",
              "      <td>0.8947</td>\n",
              "      <td>0.7414</td>\n",
              "      <td>0.7820</td>\n",
              "    </tr>\n",
              "  </tbody>\n",
              "</table>\n",
              "<p>1866 rows × 62 columns</p>\n",
              "</div>"
            ],
            "text/plain": [
              "          g-0     g-1     g-2     g-3  ...    c-27    c-28    c-29    c-30\n",
              "25    -0.6696 -0.2718 -1.2230 -0.6226  ...  0.4685  0.4348  0.5421  0.4056\n",
              "38    -0.1636 -1.8230 -0.5211  0.3054  ...  0.4123 -0.8581 -0.2263  0.7330\n",
              "40    -1.3200 -1.7340 -0.0741  1.5440  ...  0.4358  0.0752  0.9084  0.7651\n",
              "47     0.4860  0.1430  0.5281 -0.0022  ...  0.5859  0.9494 -0.7306  0.2834\n",
              "63     0.4471 -0.0839 -0.3864  0.3196  ... -0.2166  0.6102  0.3593 -0.4806\n",
              "...       ...     ...     ...     ...  ...     ...     ...     ...     ...\n",
              "23729  0.0465  0.6430 -0.2453  0.3521  ... -0.9647 -0.6059  0.4703 -0.1513\n",
              "23747 -0.6204 -1.3800 -1.1880 -0.6573  ...  1.3970 -0.5932  0.1369  0.4803\n",
              "23768 -0.1051  0.4335  0.3648 -0.0525  ...  0.7460  0.6698  0.4773 -0.9418\n",
              "23793  0.6008  0.2781 -0.3319 -0.8782  ...  0.9533  0.0285  0.0211  0.7421\n",
              "23811  0.3942  0.3756  0.3109 -0.7389  ...  0.7225  0.8947  0.7414  0.7820\n",
              "\n",
              "[1866 rows x 62 columns]"
            ]
          },
          "metadata": {
            "tags": []
          },
          "execution_count": 4
        }
      ]
    },
    {
      "cell_type": "code",
      "metadata": {
        "id": "2Flk_5xJEkFO"
      },
      "source": [
        "concat_corr = concatenado.corr()\n"
      ],
      "execution_count": 5,
      "outputs": []
    },
    {
      "cell_type": "code",
      "metadata": {
        "id": "OEZd_gONEzwZ"
      },
      "source": [
        "mask = np.triu(np.ones_like(concat_corr, dtype=bool))\n",
        "f, ax = plt.subplots(figsize=(20, 20))\n",
        "cmap = sns.diverging_palette(230, 20, as_cmap=True)\n",
        "\n",
        "sns.heatmap(concat_corr, mask=mask, cmap=cmap, center=0,\n",
        "            square=True, linewidths=.5,cbar_kws={\"shrink\": .5})"
      ],
      "execution_count": null,
      "outputs": []
    },
    {
      "cell_type": "markdown",
      "metadata": {
        "id": "2uFx-pddFbPY"
      },
      "source": [
        "Podemos ver que que a coorelação entre as celulas em si é bem mais baixa nesse conjunto de dados(apenas os experimentos do grupo de controle) do que no escolhido anteriormente( as 50 primeiras celulas). Enquanto a coorelação entre  os genes em si é bem mais pontual. Por último a coorelação entre os genes e as celulas ja é quase nula. Imagino que essa seja a ideia do grupo de controle, sendo algo mais neutro."
      ]
    },
    {
      "cell_type": "markdown",
      "metadata": {
        "id": "i4zXJmzVxFlG"
      },
      "source": [
        "##Desafio 06: Estudar o código que plota a matriz de correlação (heatmap)"
      ]
    },
    {
      "cell_type": "code",
      "metadata": {
        "colab": {
          "base_uri": "https://localhost:8080/",
          "height": 566
        },
        "id": "bE0hHJdIrSGA",
        "outputId": "1e29e9ac-c864-49fd-e4cf-ce93132760ce"
      },
      "source": [
        "corr = dados.loc[ : , 'c-0':'c-50'].corr()\n",
        "\n",
        "# np.triu = valores de cima do triangulo\n",
        "# Os valores onde a mascara vale não sao mostrados, valores nulos já fazem parte da mascara automaticamente.\n",
        "\n",
        "mask = np.triu(np.ones_like(corr, dtype=bool))\n",
        "\n",
        "# Seta a figura\n",
        "f, ax = plt.subplots(figsize=(11, 9))\n",
        "\n",
        "# Seta o mapa de cres\n",
        "cmap = sns.diverging_palette(230, 20, as_cmap=True)\n",
        "\n",
        "# mapa de calor\n",
        "sns.heatmap(corr, mask=mask, cmap=cmap, center=0,\n",
        "            square=True, linewidths=.5, cbar_kws={\"shrink\": .5})\n",
        "\n",
        "# corr -> correlação \n",
        "# mask ->  mascara\n",
        "# center -> onde fica o centro do mapa de calor\n",
        "# square -> o formato dos pedaços do mapa\n",
        "# linewidth -> o tamanho das linhas\n",
        "# cbar_kws -> valores mandados pra outra camada do grafico feita pelo figure do matplotlib, no caso shrink seria pro tamanho do mapa de cores"
      ],
      "execution_count": null,
      "outputs": [
        {
          "output_type": "execute_result",
          "data": {
            "text/plain": [
              "<matplotlib.axes._subplots.AxesSubplot at 0x7fd635846650>"
            ]
          },
          "metadata": {
            "tags": []
          },
          "execution_count": 36
        },
        {
          "output_type": "display_data",
          "data": {
            "image/png": "[encoded data removed]",
            "text/plain": [
              "<Figure size 792x648 with 2 Axes>"
            ]
          },
          "metadata": {
            "tags": [],
            "needs_background": "light"
          }
        }
      ]
    },
    {
      "cell_type": "markdown",
      "metadata": {
        "id": "wXSnTINnxQDw"
      },
      "source": [
        "##Desafio 07: Resumo do que você aprendeu com os dados"
      ]
    },
    {
      "cell_type": "markdown",
      "metadata": {
        "id": "nImnHK_hTSd6"
      },
      "source": [
        "Pra essa aula não explorei muito os dados, apenas vi algumas coorelações, mas como sempre coorelações não significam causalidade.\n",
        "\n",
        "Mas aprendi sobre alguns agregadores de dados, tabelas de frequências e uma forma automatizada de gerar coorelações em vez de ficar olhando dado a dado da tabela utilizando um mapa de calor."
      ]
    }
  ]
}