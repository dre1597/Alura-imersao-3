{
  "nbformat": 4,
  "nbformat_minor": 0,
  "metadata": {
    "colab": {
      "name": "Alura - Aula1 - Imersão de dados 3.ipynb",
      "provenance": [],
      "collapsed_sections": [
        "v81KJm1L3QY3",
        "HKl5QxXtCDG4"
      ],
      "toc_visible": true,
      "authorship_tag": "ABX9TyPEoW+gjUa/wMqavbmWYwRZ",
      "include_colab_link": true
    },
    "kernelspec": {
      "name": "python3",
      "display_name": "Python 3"
    },
    "language_info": {
      "name": "python"
    }
  },
  "cells": [
    {
      "cell_type": "markdown",
      "metadata": {
        "id": "view-in-github",
        "colab_type": "text"
      },
      "source": [
        "<a href=\"https://colab.research.google.com/github/dre1597/Alura-imersao-3/blob/main/Alura_Aula1_Imers%C3%A3o_de_dados_3.ipynb\" target=\"_parent\"><img src=\"https://colab.research.google.com/assets/colab-badge.svg\" alt=\"Open In Colab\"/></a>"
      ]
    },
    {
      "cell_type": "markdown",
      "metadata": {
        "id": "T9EGUdT121sY"
      },
      "source": [
        "#Aula 1 - Imersão Alura 3"
      ]
    },
    {
      "cell_type": "markdown",
      "metadata": {
        "id": "44nvjkxQ3Bhw"
      },
      "source": [
        "##Leitura dos dados"
      ]
    },
    {
      "cell_type": "code",
      "metadata": {
        "id": "9juD3hs-ZXRN"
      },
      "source": [
        "import pandas as pd\n",
        "\n",
        "url_dados = 'https://github.com/alura-cursos/imersaodados3/blob/main/dados/dados_experimentos.zip?raw=true'\n",
        "dados = pd.read_csv(url_dados, compression = 'zip')\n",
        "\n",
        "dados"
      ],
      "execution_count": null,
      "outputs": []
    },
    {
      "cell_type": "markdown",
      "metadata": {
        "id": "QhwbtGa73Jye"
      },
      "source": [
        "###Pegando o ínicio do database"
      ]
    },
    {
      "cell_type": "code",
      "metadata": {
        "id": "HTwH7l4IZkB9"
      },
      "source": [
        "dados.head()"
      ],
      "execution_count": null,
      "outputs": []
    },
    {
      "cell_type": "markdown",
      "metadata": {
        "id": "ydOFfnqD3Mi_"
      },
      "source": [
        "##Pegando o número de linhas e colunas"
      ]
    },
    {
      "cell_type": "code",
      "metadata": {
        "colab": {
          "base_uri": "https://localhost:8080/"
        },
        "id": "UyeKmeWFcECN",
        "outputId": "b0cf45ad-bc63-47fa-9a42-7fd9a8cf723d"
      },
      "source": [
        "dados.shape"
      ],
      "execution_count": null,
      "outputs": [
        {
          "output_type": "execute_result",
          "data": {
            "text/plain": [
              "(23814, 877)"
            ]
          },
          "metadata": {
            "tags": []
          },
          "execution_count": 7
        }
      ]
    },
    {
      "cell_type": "markdown",
      "metadata": {
        "id": "v81KJm1L3QY3"
      },
      "source": [
        "##Selecionando as colunas"
      ]
    },
    {
      "cell_type": "code",
      "metadata": {
        "colab": {
          "base_uri": "https://localhost:8080/"
        },
        "id": "B0DayiOx2SEg",
        "outputId": "802184ea-85da-4cf2-85ac-dc5d6bae62d3"
      },
      "source": [
        "dados['tratamento']"
      ],
      "execution_count": 8,
      "outputs": [
        {
          "output_type": "execute_result",
          "data": {
            "text/plain": [
              "0           com_droga\n",
              "1           com_droga\n",
              "2           com_droga\n",
              "3           com_droga\n",
              "4           com_droga\n",
              "             ...     \n",
              "23809       com_droga\n",
              "23810       com_droga\n",
              "23811    com_controle\n",
              "23812       com_droga\n",
              "23813       com_droga\n",
              "Name: tratamento, Length: 23814, dtype: object"
            ]
          },
          "metadata": {
            "tags": []
          },
          "execution_count": 8
        }
      ]
    },
    {
      "cell_type": "code",
      "metadata": {
        "colab": {
          "base_uri": "https://localhost:8080/"
        },
        "id": "vsBxyxFo2Wh4",
        "outputId": "63b81192-055d-4ea9-efaa-dc02616f8956"
      },
      "source": [
        "dados['tratamento'].unique()"
      ],
      "execution_count": 9,
      "outputs": [
        {
          "output_type": "execute_result",
          "data": {
            "text/plain": [
              "array(['com_droga', 'com_controle'], dtype=object)"
            ]
          },
          "metadata": {
            "tags": []
          },
          "execution_count": 9
        }
      ]
    },
    {
      "cell_type": "markdown",
      "metadata": {
        "id": "DnK-qkRf3UEW"
      },
      "source": [
        "Detalhes: Com droga - sobre o efeito do que foi testado // Com Controle - o grupo de controle sem o efeito do que foi testado"
      ]
    },
    {
      "cell_type": "code",
      "metadata": {
        "colab": {
          "base_uri": "https://localhost:8080/"
        },
        "id": "tfZ6ilEN3rbk",
        "outputId": "b77538c4-b9e6-4fd7-aefe-8e93cc657a6f"
      },
      "source": [
        "dados['tempo'].unique()"
      ],
      "execution_count": 12,
      "outputs": [
        {
          "output_type": "execute_result",
          "data": {
            "text/plain": [
              "array([24, 72, 48])"
            ]
          },
          "metadata": {
            "tags": []
          },
          "execution_count": 12
        }
      ]
    },
    {
      "cell_type": "markdown",
      "metadata": {
        "id": "mslv_xKg3ovM"
      },
      "source": [
        "Detalhes: Tempo dado em hrs"
      ]
    },
    {
      "cell_type": "code",
      "metadata": {
        "colab": {
          "base_uri": "https://localhost:8080/"
        },
        "id": "w7CsOvDR38aP",
        "outputId": "4d838eda-aebd-4c95-e436-92bbfd146df9"
      },
      "source": [
        "dados['dose'].unique()"
      ],
      "execution_count": 13,
      "outputs": [
        {
          "output_type": "execute_result",
          "data": {
            "text/plain": [
              "array(['D1', 'D2'], dtype=object)"
            ]
          },
          "metadata": {
            "tags": []
          },
          "execution_count": 13
        }
      ]
    },
    {
      "cell_type": "markdown",
      "metadata": {
        "id": "jyLs68P44UJk"
      },
      "source": [
        "Detalhes: Duas doses diferentes D1 e D2\n",
        "\n",
        "\n"
      ]
    },
    {
      "cell_type": "code",
      "metadata": {
        "colab": {
          "base_uri": "https://localhost:8080/"
        },
        "id": "4C7P6T0y4Nuy",
        "outputId": "87078294-2629-4250-ccf4-508dd3557994"
      },
      "source": [
        "dados['droga'].unique()"
      ],
      "execution_count": 14,
      "outputs": [
        {
          "output_type": "execute_result",
          "data": {
            "text/plain": [
              "array(['b68db1d53', 'df89a8e5a', '18bb41b2c', ..., '573c787a2',\n",
              "       'b2fe3eca7', 'dd4a96d16'], dtype=object)"
            ]
          },
          "metadata": {
            "tags": []
          },
          "execution_count": 14
        }
      ]
    },
    {
      "cell_type": "markdown",
      "metadata": {
        "id": "63Vli5cX4aYJ"
      },
      "source": [
        "Detalhes: Provavelmente o nome das drogas usadas ou algo do tipo ( criptografado )"
      ]
    },
    {
      "cell_type": "code",
      "metadata": {
        "colab": {
          "base_uri": "https://localhost:8080/"
        },
        "id": "cAYi0UGn4ZGM",
        "outputId": "87f76d57-6993-4f72-9fe6-51255ab6ef2d"
      },
      "source": [
        "dados['g-0'].unique()"
      ],
      "execution_count": 15,
      "outputs": [
        {
          "output_type": "execute_result",
          "data": {
            "text/plain": [
              "array([ 1.062 ,  0.0743,  0.628 , ...,  0.3942,  0.666 , -0.8598])"
            ]
          },
          "metadata": {
            "tags": []
          },
          "execution_count": 15
        }
      ]
    },
    {
      "cell_type": "markdown",
      "metadata": {
        "id": "i2Dk9m1G6bFS"
      },
      "source": [
        "Detalhes: Provavelmente uma classificação para os genes identificados ou esperados ( normalizado ) "
      ]
    },
    {
      "cell_type": "markdown",
      "metadata": {
        "id": "ts2xbbKF6oZr"
      },
      "source": [
        "##Contando os valores"
      ]
    },
    {
      "cell_type": "code",
      "metadata": {
        "colab": {
          "base_uri": "https://localhost:8080/"
        },
        "id": "2iODQtXb6Viw",
        "outputId": "140c2a1e-a782-4735-c891-26d6afc1c6dd"
      },
      "source": [
        "dados['tratamento'].value_counts()"
      ],
      "execution_count": 16,
      "outputs": [
        {
          "output_type": "execute_result",
          "data": {
            "text/plain": [
              "com_droga       21948\n",
              "com_controle     1866\n",
              "Name: tratamento, dtype: int64"
            ]
          },
          "metadata": {
            "tags": []
          },
          "execution_count": 16
        }
      ]
    },
    {
      "cell_type": "code",
      "metadata": {
        "colab": {
          "base_uri": "https://localhost:8080/"
        },
        "id": "-S4e5Kx4Eo6q",
        "outputId": "e4924a05-efa9-406c-f46c-cd693958c0b7"
      },
      "source": [
        "dados['tratamento'].value_counts(normalize=True)"
      ],
      "execution_count": 32,
      "outputs": [
        {
          "output_type": "execute_result",
          "data": {
            "text/plain": [
              "com_droga       0.921643\n",
              "com_controle    0.078357\n",
              "Name: tratamento, dtype: float64"
            ]
          },
          "metadata": {
            "tags": []
          },
          "execution_count": 32
        }
      ]
    },
    {
      "cell_type": "markdown",
      "metadata": {
        "id": "zsMq-su4cnrp"
      },
      "source": [
        "Detalhes: Valores normalizados"
      ]
    },
    {
      "cell_type": "markdown",
      "metadata": {
        "id": "eywsiTVk8Bms"
      },
      "source": [
        "##Gráficos"
      ]
    },
    {
      "cell_type": "code",
      "metadata": {
        "id": "lHOy1h6SEvAH"
      },
      "source": [
        "dados['tratamento'].value_counts().plot.pie()"
      ],
      "execution_count": null,
      "outputs": []
    },
    {
      "cell_type": "code",
      "metadata": {
        "id": "5t6f67GKFIY3"
      },
      "source": [
        "dados['tratamento'].value_counts().plot.bar()"
      ],
      "execution_count": null,
      "outputs": []
    },
    {
      "cell_type": "code",
      "metadata": {
        "id": "IehWfqmzFNt2"
      },
      "source": [
        "dados['tempo'].value_counts().plot.bar()"
      ],
      "execution_count": null,
      "outputs": []
    },
    {
      "cell_type": "code",
      "metadata": {
        "id": "JHf1z7BdF6Ef"
      },
      "source": [
        "dados_filtrados = dados[dados['g-0'] > 0]\n",
        "dados_filtrados.head()"
      ],
      "execution_count": null,
      "outputs": []
    },
    {
      "cell_type": "markdown",
      "metadata": {
        "id": "fipJM8oT8-5r"
      },
      "source": [
        "#Desafios"
      ]
    },
    {
      "cell_type": "markdown",
      "metadata": {
        "id": "IRTdfIen7Kp5"
      },
      "source": [
        "Documentação do pandas: \n",
        "https://pandas.pydata.org/docs/reference/index.html#api\n",
        "\n",
        "Documentação do matplotlib:\n",
        "https://matplotlib.org/stable/api/_as_gen/matplotlib.pyplot.html"
      ]
    },
    {
      "cell_type": "markdown",
      "metadata": {
        "id": "UuAW1Jk4do7_"
      },
      "source": [
        "##Desafio 01: Investigar por que a classe tratamento é tão desbalanceada"
      ]
    },
    {
      "cell_type": "code",
      "metadata": {
        "id": "193sNzCFpOkQ"
      },
      "source": [
        "#Coluna tratamento:\n",
        "dados['tratamento']"
      ],
      "execution_count": null,
      "outputs": []
    },
    {
      "cell_type": "code",
      "metadata": {
        "id": "GBLuoHJspPu2"
      },
      "source": [
        "#Elementos únicos da coluna tratamento:\n",
        "dados['tratamento'].unique()"
      ],
      "execution_count": null,
      "outputs": []
    },
    {
      "cell_type": "code",
      "metadata": {
        "id": "z9QHqRd0pRQH"
      },
      "source": [
        "#Contagem dos valores de cada elemento único da coluna tratamento:\n",
        "dados['tratamento'].value_counts()"
      ],
      "execution_count": null,
      "outputs": []
    },
    {
      "cell_type": "code",
      "metadata": {
        "id": "xQkkF8xdJLh5"
      },
      "source": [
        "#Normalização da quantidade de valores onde podemos verificar que que temos 92.2% de tratamentos com a droga e 0.08% de tratamentos com controle.\n",
        "dados['tratamento'].value_counts(normalize=True)"
      ],
      "execution_count": null,
      "outputs": []
    },
    {
      "cell_type": "code",
      "metadata": {
        "id": "qXeGbvLy9KqM"
      },
      "source": [
        "#Podemos plotar um grafico para vermos essa diferença também.\n",
        "import matplotlib.pyplot as plt\n",
        "\n",
        "plt.bar(dados['tratamento'].unique(), list(dados['tratamento'].value_counts()))\n",
        "plt.title('Tipos de tratamento utilizados')\n",
        "plt.ylabel('Número de observações')\n",
        "plt.xlabel('Tratamentos')\n",
        "plt.show()\n"
      ],
      "execution_count": null,
      "outputs": []
    },
    {
      "cell_type": "code",
      "metadata": {
        "colab": {
          "base_uri": "https://localhost:8080/",
          "height": 439
        },
        "id": "VDGU7dkdKAUG",
        "outputId": "0a5fc145-af54-4a0a-bcdb-5d9a9110b336"
      },
      "source": [
        "#Vamos observar apenas os experimentos com o tratamento de controle\n",
        "tratamento_com_controle = dados.query('tratamento == \"com_controle\"')\n",
        "tratamento_com_controle"
      ],
      "execution_count": 108,
      "outputs": [
        {
          "output_type": "execute_result",
          "data": {
            "text/html": [
              "<div>\n",
              "<style scoped>\n",
              "    .dataframe tbody tr th:only-of-type {\n",
              "        vertical-align: middle;\n",
              "    }\n",
              "\n",
              "    .dataframe tbody tr th {\n",
              "        vertical-align: top;\n",
              "    }\n",
              "\n",
              "    .dataframe thead th {\n",
              "        text-align: right;\n",
              "    }\n",
              "</style>\n",
              "<table border=\"1\" class=\"dataframe\">\n",
              "  <thead>\n",
              "    <tr style=\"text-align: right;\">\n",
              "      <th></th>\n",
              "      <th>id</th>\n",
              "      <th>tratamento</th>\n",
              "      <th>tempo</th>\n",
              "      <th>dose</th>\n",
              "      <th>droga</th>\n",
              "      <th>g-0</th>\n",
              "      <th>g-1</th>\n",
              "      <th>g-2</th>\n",
              "      <th>g-3</th>\n",
              "      <th>g-4</th>\n",
              "      <th>g-5</th>\n",
              "      <th>g-6</th>\n",
              "      <th>g-7</th>\n",
              "      <th>g-8</th>\n",
              "      <th>g-9</th>\n",
              "      <th>g-10</th>\n",
              "      <th>g-11</th>\n",
              "      <th>g-12</th>\n",
              "      <th>g-13</th>\n",
              "      <th>g-14</th>\n",
              "      <th>g-15</th>\n",
              "      <th>g-16</th>\n",
              "      <th>g-17</th>\n",
              "      <th>g-18</th>\n",
              "      <th>g-19</th>\n",
              "      <th>g-20</th>\n",
              "      <th>g-21</th>\n",
              "      <th>g-22</th>\n",
              "      <th>g-23</th>\n",
              "      <th>g-24</th>\n",
              "      <th>g-25</th>\n",
              "      <th>g-26</th>\n",
              "      <th>g-27</th>\n",
              "      <th>g-28</th>\n",
              "      <th>g-29</th>\n",
              "      <th>g-30</th>\n",
              "      <th>g-31</th>\n",
              "      <th>g-32</th>\n",
              "      <th>g-33</th>\n",
              "      <th>g-34</th>\n",
              "      <th>...</th>\n",
              "      <th>c-60</th>\n",
              "      <th>c-61</th>\n",
              "      <th>c-62</th>\n",
              "      <th>c-63</th>\n",
              "      <th>c-64</th>\n",
              "      <th>c-65</th>\n",
              "      <th>c-66</th>\n",
              "      <th>c-67</th>\n",
              "      <th>c-68</th>\n",
              "      <th>c-69</th>\n",
              "      <th>c-70</th>\n",
              "      <th>c-71</th>\n",
              "      <th>c-72</th>\n",
              "      <th>c-73</th>\n",
              "      <th>c-74</th>\n",
              "      <th>c-75</th>\n",
              "      <th>c-76</th>\n",
              "      <th>c-77</th>\n",
              "      <th>c-78</th>\n",
              "      <th>c-79</th>\n",
              "      <th>c-80</th>\n",
              "      <th>c-81</th>\n",
              "      <th>c-82</th>\n",
              "      <th>c-83</th>\n",
              "      <th>c-84</th>\n",
              "      <th>c-85</th>\n",
              "      <th>c-86</th>\n",
              "      <th>c-87</th>\n",
              "      <th>c-88</th>\n",
              "      <th>c-89</th>\n",
              "      <th>c-90</th>\n",
              "      <th>c-91</th>\n",
              "      <th>c-92</th>\n",
              "      <th>c-93</th>\n",
              "      <th>c-94</th>\n",
              "      <th>c-95</th>\n",
              "      <th>c-96</th>\n",
              "      <th>c-97</th>\n",
              "      <th>c-98</th>\n",
              "      <th>c-99</th>\n",
              "    </tr>\n",
              "  </thead>\n",
              "  <tbody>\n",
              "    <tr>\n",
              "      <th>25</th>\n",
              "      <td>id_0054388ec</td>\n",
              "      <td>com_controle</td>\n",
              "      <td>48</td>\n",
              "      <td>D1</td>\n",
              "      <td>cacb2b860</td>\n",
              "      <td>-0.6696</td>\n",
              "      <td>-0.2718</td>\n",
              "      <td>-1.2230</td>\n",
              "      <td>-0.6226</td>\n",
              "      <td>-0.7220</td>\n",
              "      <td>0.1588</td>\n",
              "      <td>0.7785</td>\n",
              "      <td>0.7062</td>\n",
              "      <td>-0.7951</td>\n",
              "      <td>1.3770</td>\n",
              "      <td>0.2856</td>\n",
              "      <td>-0.8331</td>\n",
              "      <td>0.3879</td>\n",
              "      <td>1.3290</td>\n",
              "      <td>-0.4746</td>\n",
              "      <td>0.0857</td>\n",
              "      <td>-0.2745</td>\n",
              "      <td>-0.1093</td>\n",
              "      <td>0.2603</td>\n",
              "      <td>0.7386</td>\n",
              "      <td>-0.6665</td>\n",
              "      <td>-1.6520</td>\n",
              "      <td>-0.9262</td>\n",
              "      <td>0.0000</td>\n",
              "      <td>1.6310</td>\n",
              "      <td>-0.2933</td>\n",
              "      <td>0.2043</td>\n",
              "      <td>-2.2070</td>\n",
              "      <td>0.1383</td>\n",
              "      <td>-0.4966</td>\n",
              "      <td>0.6922</td>\n",
              "      <td>-0.4077</td>\n",
              "      <td>0.2303</td>\n",
              "      <td>-0.0456</td>\n",
              "      <td>-0.7447</td>\n",
              "      <td>...</td>\n",
              "      <td>0.6976</td>\n",
              "      <td>-0.0178</td>\n",
              "      <td>0.3768</td>\n",
              "      <td>0.4318</td>\n",
              "      <td>-0.1051</td>\n",
              "      <td>0.3933</td>\n",
              "      <td>-0.3189</td>\n",
              "      <td>0.4128</td>\n",
              "      <td>-0.2116</td>\n",
              "      <td>-1.0410</td>\n",
              "      <td>0.7798</td>\n",
              "      <td>0.1579</td>\n",
              "      <td>1.7250</td>\n",
              "      <td>1.4490</td>\n",
              "      <td>0.9117</td>\n",
              "      <td>-0.0754</td>\n",
              "      <td>-0.8396</td>\n",
              "      <td>0.7640</td>\n",
              "      <td>1.2080</td>\n",
              "      <td>1.1890</td>\n",
              "      <td>0.2114</td>\n",
              "      <td>0.6335</td>\n",
              "      <td>0.3265</td>\n",
              "      <td>-0.1056</td>\n",
              "      <td>0.5478</td>\n",
              "      <td>0.7477</td>\n",
              "      <td>1.2340</td>\n",
              "      <td>0.5035</td>\n",
              "      <td>-0.6591</td>\n",
              "      <td>0.3023</td>\n",
              "      <td>0.6171</td>\n",
              "      <td>0.6405</td>\n",
              "      <td>0.5429</td>\n",
              "      <td>0.3562</td>\n",
              "      <td>1.3290</td>\n",
              "      <td>0.5573</td>\n",
              "      <td>0.8837</td>\n",
              "      <td>0.5534</td>\n",
              "      <td>0.8976</td>\n",
              "      <td>1.0050</td>\n",
              "    </tr>\n",
              "    <tr>\n",
              "      <th>38</th>\n",
              "      <td>id_0079af0fb</td>\n",
              "      <td>com_controle</td>\n",
              "      <td>24</td>\n",
              "      <td>D1</td>\n",
              "      <td>cacb2b860</td>\n",
              "      <td>-0.1636</td>\n",
              "      <td>-1.8230</td>\n",
              "      <td>-0.5211</td>\n",
              "      <td>0.3054</td>\n",
              "      <td>-1.1280</td>\n",
              "      <td>0.6041</td>\n",
              "      <td>0.3856</td>\n",
              "      <td>-0.1670</td>\n",
              "      <td>-0.5400</td>\n",
              "      <td>0.2721</td>\n",
              "      <td>-0.2479</td>\n",
              "      <td>0.0761</td>\n",
              "      <td>-0.4054</td>\n",
              "      <td>2.9760</td>\n",
              "      <td>-0.7679</td>\n",
              "      <td>0.6995</td>\n",
              "      <td>0.0752</td>\n",
              "      <td>0.5943</td>\n",
              "      <td>0.4266</td>\n",
              "      <td>0.0000</td>\n",
              "      <td>1.0410</td>\n",
              "      <td>-0.1131</td>\n",
              "      <td>0.6593</td>\n",
              "      <td>-0.6890</td>\n",
              "      <td>0.5115</td>\n",
              "      <td>-0.2512</td>\n",
              "      <td>-0.8775</td>\n",
              "      <td>-1.3810</td>\n",
              "      <td>0.1419</td>\n",
              "      <td>-0.0363</td>\n",
              "      <td>0.2559</td>\n",
              "      <td>2.5290</td>\n",
              "      <td>0.2853</td>\n",
              "      <td>1.4690</td>\n",
              "      <td>-0.3626</td>\n",
              "      <td>...</td>\n",
              "      <td>-0.3420</td>\n",
              "      <td>0.2815</td>\n",
              "      <td>-0.7493</td>\n",
              "      <td>-0.2701</td>\n",
              "      <td>0.1205</td>\n",
              "      <td>0.2396</td>\n",
              "      <td>0.3506</td>\n",
              "      <td>-0.9233</td>\n",
              "      <td>0.2490</td>\n",
              "      <td>-0.0824</td>\n",
              "      <td>0.4841</td>\n",
              "      <td>1.1940</td>\n",
              "      <td>-1.1650</td>\n",
              "      <td>-0.4853</td>\n",
              "      <td>1.1080</td>\n",
              "      <td>-0.5979</td>\n",
              "      <td>0.7438</td>\n",
              "      <td>0.2050</td>\n",
              "      <td>-0.2761</td>\n",
              "      <td>-0.1748</td>\n",
              "      <td>0.3385</td>\n",
              "      <td>-0.3500</td>\n",
              "      <td>-0.0309</td>\n",
              "      <td>-0.0409</td>\n",
              "      <td>-0.0735</td>\n",
              "      <td>0.2732</td>\n",
              "      <td>-1.2100</td>\n",
              "      <td>0.0089</td>\n",
              "      <td>0.0317</td>\n",
              "      <td>0.4721</td>\n",
              "      <td>-0.3880</td>\n",
              "      <td>-0.6828</td>\n",
              "      <td>-0.6594</td>\n",
              "      <td>-0.2043</td>\n",
              "      <td>0.3571</td>\n",
              "      <td>-0.1319</td>\n",
              "      <td>0.2187</td>\n",
              "      <td>0.0737</td>\n",
              "      <td>0.6498</td>\n",
              "      <td>-1.4820</td>\n",
              "    </tr>\n",
              "    <tr>\n",
              "      <th>40</th>\n",
              "      <td>id_007bfbb91</td>\n",
              "      <td>com_controle</td>\n",
              "      <td>24</td>\n",
              "      <td>D2</td>\n",
              "      <td>cacb2b860</td>\n",
              "      <td>-1.3200</td>\n",
              "      <td>-1.7340</td>\n",
              "      <td>-0.0741</td>\n",
              "      <td>1.5440</td>\n",
              "      <td>-1.8290</td>\n",
              "      <td>-0.0951</td>\n",
              "      <td>0.3829</td>\n",
              "      <td>-1.8700</td>\n",
              "      <td>-0.0324</td>\n",
              "      <td>2.7670</td>\n",
              "      <td>-0.0438</td>\n",
              "      <td>-0.0147</td>\n",
              "      <td>0.1276</td>\n",
              "      <td>0.2968</td>\n",
              "      <td>-0.0704</td>\n",
              "      <td>-0.3767</td>\n",
              "      <td>2.5790</td>\n",
              "      <td>0.4069</td>\n",
              "      <td>-0.3868</td>\n",
              "      <td>-0.2782</td>\n",
              "      <td>1.8180</td>\n",
              "      <td>-2.9390</td>\n",
              "      <td>-0.1150</td>\n",
              "      <td>-0.8009</td>\n",
              "      <td>-1.4440</td>\n",
              "      <td>0.5412</td>\n",
              "      <td>-0.0804</td>\n",
              "      <td>-0.4444</td>\n",
              "      <td>2.9230</td>\n",
              "      <td>2.8270</td>\n",
              "      <td>-0.3437</td>\n",
              "      <td>1.6570</td>\n",
              "      <td>-1.9200</td>\n",
              "      <td>0.3442</td>\n",
              "      <td>1.7160</td>\n",
              "      <td>...</td>\n",
              "      <td>0.4009</td>\n",
              "      <td>0.7649</td>\n",
              "      <td>0.2789</td>\n",
              "      <td>0.4465</td>\n",
              "      <td>0.9492</td>\n",
              "      <td>0.6385</td>\n",
              "      <td>1.5510</td>\n",
              "      <td>-0.1220</td>\n",
              "      <td>0.6688</td>\n",
              "      <td>0.4396</td>\n",
              "      <td>0.6947</td>\n",
              "      <td>0.9761</td>\n",
              "      <td>1.2430</td>\n",
              "      <td>1.4770</td>\n",
              "      <td>-0.0081</td>\n",
              "      <td>1.0040</td>\n",
              "      <td>1.4420</td>\n",
              "      <td>-0.3482</td>\n",
              "      <td>0.3297</td>\n",
              "      <td>1.2070</td>\n",
              "      <td>0.0524</td>\n",
              "      <td>0.5346</td>\n",
              "      <td>0.7643</td>\n",
              "      <td>0.4067</td>\n",
              "      <td>0.3817</td>\n",
              "      <td>0.4566</td>\n",
              "      <td>0.7736</td>\n",
              "      <td>0.5316</td>\n",
              "      <td>0.2790</td>\n",
              "      <td>0.9735</td>\n",
              "      <td>0.7412</td>\n",
              "      <td>1.0340</td>\n",
              "      <td>0.7393</td>\n",
              "      <td>1.1020</td>\n",
              "      <td>0.3786</td>\n",
              "      <td>0.2636</td>\n",
              "      <td>-0.5751</td>\n",
              "      <td>0.3362</td>\n",
              "      <td>0.8543</td>\n",
              "      <td>0.9180</td>\n",
              "    </tr>\n",
              "    <tr>\n",
              "      <th>47</th>\n",
              "      <td>id_008a986b7</td>\n",
              "      <td>com_controle</td>\n",
              "      <td>48</td>\n",
              "      <td>D2</td>\n",
              "      <td>cacb2b860</td>\n",
              "      <td>0.4860</td>\n",
              "      <td>0.1430</td>\n",
              "      <td>0.5281</td>\n",
              "      <td>-0.0022</td>\n",
              "      <td>-0.2334</td>\n",
              "      <td>-0.6607</td>\n",
              "      <td>0.6459</td>\n",
              "      <td>-0.0109</td>\n",
              "      <td>1.0120</td>\n",
              "      <td>-0.0864</td>\n",
              "      <td>-0.3817</td>\n",
              "      <td>-1.0600</td>\n",
              "      <td>0.9435</td>\n",
              "      <td>0.6296</td>\n",
              "      <td>0.3864</td>\n",
              "      <td>0.1420</td>\n",
              "      <td>0.9834</td>\n",
              "      <td>0.4189</td>\n",
              "      <td>0.7980</td>\n",
              "      <td>-0.2132</td>\n",
              "      <td>0.7651</td>\n",
              "      <td>-1.2410</td>\n",
              "      <td>0.0747</td>\n",
              "      <td>-1.5750</td>\n",
              "      <td>0.1535</td>\n",
              "      <td>-0.0840</td>\n",
              "      <td>0.6705</td>\n",
              "      <td>-0.7517</td>\n",
              "      <td>-0.2756</td>\n",
              "      <td>-1.0920</td>\n",
              "      <td>-0.8683</td>\n",
              "      <td>0.3021</td>\n",
              "      <td>-0.3164</td>\n",
              "      <td>-0.2074</td>\n",
              "      <td>0.4587</td>\n",
              "      <td>...</td>\n",
              "      <td>-0.2189</td>\n",
              "      <td>-0.5262</td>\n",
              "      <td>-0.2982</td>\n",
              "      <td>-0.2491</td>\n",
              "      <td>-0.6373</td>\n",
              "      <td>-1.0040</td>\n",
              "      <td>-0.6726</td>\n",
              "      <td>-0.0321</td>\n",
              "      <td>-0.5398</td>\n",
              "      <td>-0.7518</td>\n",
              "      <td>0.0370</td>\n",
              "      <td>0.7213</td>\n",
              "      <td>-0.3466</td>\n",
              "      <td>0.2354</td>\n",
              "      <td>-0.4432</td>\n",
              "      <td>-0.1020</td>\n",
              "      <td>-0.9391</td>\n",
              "      <td>-1.1970</td>\n",
              "      <td>0.1365</td>\n",
              "      <td>-0.9264</td>\n",
              "      <td>0.5828</td>\n",
              "      <td>-0.7379</td>\n",
              "      <td>-0.4354</td>\n",
              "      <td>0.6077</td>\n",
              "      <td>-0.3771</td>\n",
              "      <td>-0.6525</td>\n",
              "      <td>-0.4169</td>\n",
              "      <td>-1.0640</td>\n",
              "      <td>-0.3331</td>\n",
              "      <td>-0.5761</td>\n",
              "      <td>-0.3085</td>\n",
              "      <td>-0.1866</td>\n",
              "      <td>0.7629</td>\n",
              "      <td>0.3288</td>\n",
              "      <td>-0.9915</td>\n",
              "      <td>-0.3694</td>\n",
              "      <td>-0.4979</td>\n",
              "      <td>0.5281</td>\n",
              "      <td>-0.9245</td>\n",
              "      <td>-0.9367</td>\n",
              "    </tr>\n",
              "    <tr>\n",
              "      <th>63</th>\n",
              "      <td>id_009d8340f</td>\n",
              "      <td>com_controle</td>\n",
              "      <td>24</td>\n",
              "      <td>D2</td>\n",
              "      <td>cacb2b860</td>\n",
              "      <td>0.4471</td>\n",
              "      <td>-0.0839</td>\n",
              "      <td>-0.3864</td>\n",
              "      <td>0.3196</td>\n",
              "      <td>0.2584</td>\n",
              "      <td>-0.3156</td>\n",
              "      <td>-0.1187</td>\n",
              "      <td>1.1610</td>\n",
              "      <td>0.5838</td>\n",
              "      <td>-0.2996</td>\n",
              "      <td>-0.3995</td>\n",
              "      <td>1.0700</td>\n",
              "      <td>0.2969</td>\n",
              "      <td>-0.2785</td>\n",
              "      <td>0.9678</td>\n",
              "      <td>-0.1409</td>\n",
              "      <td>1.0850</td>\n",
              "      <td>-0.0656</td>\n",
              "      <td>-0.6502</td>\n",
              "      <td>0.3527</td>\n",
              "      <td>0.1998</td>\n",
              "      <td>0.0975</td>\n",
              "      <td>0.0563</td>\n",
              "      <td>-0.3578</td>\n",
              "      <td>-0.0657</td>\n",
              "      <td>0.5316</td>\n",
              "      <td>0.6573</td>\n",
              "      <td>-0.5355</td>\n",
              "      <td>1.2380</td>\n",
              "      <td>-0.4994</td>\n",
              "      <td>-0.8140</td>\n",
              "      <td>0.2567</td>\n",
              "      <td>-0.8155</td>\n",
              "      <td>1.1180</td>\n",
              "      <td>-0.2501</td>\n",
              "      <td>...</td>\n",
              "      <td>0.2427</td>\n",
              "      <td>0.5214</td>\n",
              "      <td>0.0587</td>\n",
              "      <td>-0.5903</td>\n",
              "      <td>0.1332</td>\n",
              "      <td>-0.3517</td>\n",
              "      <td>-0.3276</td>\n",
              "      <td>-0.4955</td>\n",
              "      <td>0.1359</td>\n",
              "      <td>-0.3010</td>\n",
              "      <td>0.5725</td>\n",
              "      <td>-0.1126</td>\n",
              "      <td>-0.0874</td>\n",
              "      <td>1.2220</td>\n",
              "      <td>-0.0641</td>\n",
              "      <td>0.0246</td>\n",
              "      <td>-0.5659</td>\n",
              "      <td>-0.7402</td>\n",
              "      <td>1.1170</td>\n",
              "      <td>-0.0612</td>\n",
              "      <td>-1.3040</td>\n",
              "      <td>-0.4025</td>\n",
              "      <td>0.3760</td>\n",
              "      <td>-0.0873</td>\n",
              "      <td>0.8064</td>\n",
              "      <td>-0.0170</td>\n",
              "      <td>0.3092</td>\n",
              "      <td>0.2671</td>\n",
              "      <td>0.3311</td>\n",
              "      <td>-0.4572</td>\n",
              "      <td>0.4795</td>\n",
              "      <td>0.3939</td>\n",
              "      <td>0.7665</td>\n",
              "      <td>0.7932</td>\n",
              "      <td>-0.6804</td>\n",
              "      <td>-0.0435</td>\n",
              "      <td>0.0949</td>\n",
              "      <td>0.2000</td>\n",
              "      <td>-0.4326</td>\n",
              "      <td>0.9364</td>\n",
              "    </tr>\n",
              "    <tr>\n",
              "      <th>...</th>\n",
              "      <td>...</td>\n",
              "      <td>...</td>\n",
              "      <td>...</td>\n",
              "      <td>...</td>\n",
              "      <td>...</td>\n",
              "      <td>...</td>\n",
              "      <td>...</td>\n",
              "      <td>...</td>\n",
              "      <td>...</td>\n",
              "      <td>...</td>\n",
              "      <td>...</td>\n",
              "      <td>...</td>\n",
              "      <td>...</td>\n",
              "      <td>...</td>\n",
              "      <td>...</td>\n",
              "      <td>...</td>\n",
              "      <td>...</td>\n",
              "      <td>...</td>\n",
              "      <td>...</td>\n",
              "      <td>...</td>\n",
              "      <td>...</td>\n",
              "      <td>...</td>\n",
              "      <td>...</td>\n",
              "      <td>...</td>\n",
              "      <td>...</td>\n",
              "      <td>...</td>\n",
              "      <td>...</td>\n",
              "      <td>...</td>\n",
              "      <td>...</td>\n",
              "      <td>...</td>\n",
              "      <td>...</td>\n",
              "      <td>...</td>\n",
              "      <td>...</td>\n",
              "      <td>...</td>\n",
              "      <td>...</td>\n",
              "      <td>...</td>\n",
              "      <td>...</td>\n",
              "      <td>...</td>\n",
              "      <td>...</td>\n",
              "      <td>...</td>\n",
              "      <td>...</td>\n",
              "      <td>...</td>\n",
              "      <td>...</td>\n",
              "      <td>...</td>\n",
              "      <td>...</td>\n",
              "      <td>...</td>\n",
              "      <td>...</td>\n",
              "      <td>...</td>\n",
              "      <td>...</td>\n",
              "      <td>...</td>\n",
              "      <td>...</td>\n",
              "      <td>...</td>\n",
              "      <td>...</td>\n",
              "      <td>...</td>\n",
              "      <td>...</td>\n",
              "      <td>...</td>\n",
              "      <td>...</td>\n",
              "      <td>...</td>\n",
              "      <td>...</td>\n",
              "      <td>...</td>\n",
              "      <td>...</td>\n",
              "      <td>...</td>\n",
              "      <td>...</td>\n",
              "      <td>...</td>\n",
              "      <td>...</td>\n",
              "      <td>...</td>\n",
              "      <td>...</td>\n",
              "      <td>...</td>\n",
              "      <td>...</td>\n",
              "      <td>...</td>\n",
              "      <td>...</td>\n",
              "      <td>...</td>\n",
              "      <td>...</td>\n",
              "      <td>...</td>\n",
              "      <td>...</td>\n",
              "      <td>...</td>\n",
              "      <td>...</td>\n",
              "      <td>...</td>\n",
              "      <td>...</td>\n",
              "      <td>...</td>\n",
              "      <td>...</td>\n",
              "    </tr>\n",
              "    <tr>\n",
              "      <th>23729</th>\n",
              "      <td>id_ff1f9e5fc</td>\n",
              "      <td>com_controle</td>\n",
              "      <td>24</td>\n",
              "      <td>D1</td>\n",
              "      <td>cacb2b860</td>\n",
              "      <td>0.0465</td>\n",
              "      <td>0.6430</td>\n",
              "      <td>-0.2453</td>\n",
              "      <td>0.3521</td>\n",
              "      <td>0.6195</td>\n",
              "      <td>-0.6659</td>\n",
              "      <td>0.8263</td>\n",
              "      <td>0.5933</td>\n",
              "      <td>0.1388</td>\n",
              "      <td>-0.2246</td>\n",
              "      <td>-0.6127</td>\n",
              "      <td>-0.1687</td>\n",
              "      <td>1.5170</td>\n",
              "      <td>0.6243</td>\n",
              "      <td>-0.8399</td>\n",
              "      <td>-0.1881</td>\n",
              "      <td>-0.1583</td>\n",
              "      <td>0.0622</td>\n",
              "      <td>-0.1170</td>\n",
              "      <td>0.7722</td>\n",
              "      <td>0.0063</td>\n",
              "      <td>0.7347</td>\n",
              "      <td>-0.4820</td>\n",
              "      <td>0.0000</td>\n",
              "      <td>0.0938</td>\n",
              "      <td>-0.6062</td>\n",
              "      <td>0.6108</td>\n",
              "      <td>-0.4900</td>\n",
              "      <td>0.1075</td>\n",
              "      <td>0.3029</td>\n",
              "      <td>-0.1369</td>\n",
              "      <td>0.1946</td>\n",
              "      <td>0.1745</td>\n",
              "      <td>1.1030</td>\n",
              "      <td>0.3444</td>\n",
              "      <td>...</td>\n",
              "      <td>-0.4342</td>\n",
              "      <td>0.0541</td>\n",
              "      <td>0.9346</td>\n",
              "      <td>0.7595</td>\n",
              "      <td>-0.0139</td>\n",
              "      <td>0.2990</td>\n",
              "      <td>-0.7176</td>\n",
              "      <td>0.8572</td>\n",
              "      <td>0.2990</td>\n",
              "      <td>-0.2060</td>\n",
              "      <td>0.9029</td>\n",
              "      <td>0.4144</td>\n",
              "      <td>0.0802</td>\n",
              "      <td>0.0686</td>\n",
              "      <td>-0.3934</td>\n",
              "      <td>0.2344</td>\n",
              "      <td>1.0940</td>\n",
              "      <td>0.0144</td>\n",
              "      <td>-1.0080</td>\n",
              "      <td>0.8748</td>\n",
              "      <td>1.2900</td>\n",
              "      <td>0.5188</td>\n",
              "      <td>0.5824</td>\n",
              "      <td>0.0182</td>\n",
              "      <td>0.7578</td>\n",
              "      <td>1.1910</td>\n",
              "      <td>-0.3264</td>\n",
              "      <td>0.6882</td>\n",
              "      <td>0.7486</td>\n",
              "      <td>0.6438</td>\n",
              "      <td>0.6085</td>\n",
              "      <td>0.1621</td>\n",
              "      <td>-0.2065</td>\n",
              "      <td>0.8314</td>\n",
              "      <td>-0.1891</td>\n",
              "      <td>-0.0074</td>\n",
              "      <td>0.2131</td>\n",
              "      <td>-0.1419</td>\n",
              "      <td>-0.2422</td>\n",
              "      <td>0.0457</td>\n",
              "    </tr>\n",
              "    <tr>\n",
              "      <th>23747</th>\n",
              "      <td>id_ff469c482</td>\n",
              "      <td>com_controle</td>\n",
              "      <td>72</td>\n",
              "      <td>D1</td>\n",
              "      <td>cacb2b860</td>\n",
              "      <td>-0.6204</td>\n",
              "      <td>-1.3800</td>\n",
              "      <td>-1.1880</td>\n",
              "      <td>-0.6573</td>\n",
              "      <td>-0.8408</td>\n",
              "      <td>-0.2447</td>\n",
              "      <td>1.3490</td>\n",
              "      <td>-0.5155</td>\n",
              "      <td>1.2610</td>\n",
              "      <td>-0.1790</td>\n",
              "      <td>-0.7182</td>\n",
              "      <td>-0.7885</td>\n",
              "      <td>0.3022</td>\n",
              "      <td>2.0140</td>\n",
              "      <td>0.1667</td>\n",
              "      <td>-0.7325</td>\n",
              "      <td>-0.1553</td>\n",
              "      <td>0.8400</td>\n",
              "      <td>-0.1069</td>\n",
              "      <td>-0.7247</td>\n",
              "      <td>1.3430</td>\n",
              "      <td>1.5010</td>\n",
              "      <td>-1.3370</td>\n",
              "      <td>0.7190</td>\n",
              "      <td>-0.0843</td>\n",
              "      <td>0.4841</td>\n",
              "      <td>-0.9104</td>\n",
              "      <td>1.3990</td>\n",
              "      <td>0.7447</td>\n",
              "      <td>-1.2110</td>\n",
              "      <td>0.6562</td>\n",
              "      <td>0.1265</td>\n",
              "      <td>0.3036</td>\n",
              "      <td>2.2600</td>\n",
              "      <td>-1.3770</td>\n",
              "      <td>...</td>\n",
              "      <td>0.9633</td>\n",
              "      <td>-0.4057</td>\n",
              "      <td>-0.2206</td>\n",
              "      <td>0.5111</td>\n",
              "      <td>-0.8666</td>\n",
              "      <td>0.4692</td>\n",
              "      <td>0.8903</td>\n",
              "      <td>0.6648</td>\n",
              "      <td>0.2922</td>\n",
              "      <td>0.2440</td>\n",
              "      <td>1.0960</td>\n",
              "      <td>1.2420</td>\n",
              "      <td>1.0430</td>\n",
              "      <td>1.4310</td>\n",
              "      <td>1.0040</td>\n",
              "      <td>1.0320</td>\n",
              "      <td>0.7345</td>\n",
              "      <td>0.8025</td>\n",
              "      <td>0.7174</td>\n",
              "      <td>0.1932</td>\n",
              "      <td>-0.2609</td>\n",
              "      <td>0.3501</td>\n",
              "      <td>0.5916</td>\n",
              "      <td>0.9193</td>\n",
              "      <td>0.1398</td>\n",
              "      <td>0.0243</td>\n",
              "      <td>0.4820</td>\n",
              "      <td>-0.4428</td>\n",
              "      <td>-0.1235</td>\n",
              "      <td>0.4166</td>\n",
              "      <td>0.8209</td>\n",
              "      <td>0.7366</td>\n",
              "      <td>0.5468</td>\n",
              "      <td>1.1450</td>\n",
              "      <td>0.5254</td>\n",
              "      <td>0.6224</td>\n",
              "      <td>-0.9630</td>\n",
              "      <td>0.8872</td>\n",
              "      <td>-0.0742</td>\n",
              "      <td>-0.6777</td>\n",
              "    </tr>\n",
              "    <tr>\n",
              "      <th>23768</th>\n",
              "      <td>id_ff89331ca</td>\n",
              "      <td>com_controle</td>\n",
              "      <td>72</td>\n",
              "      <td>D2</td>\n",
              "      <td>cacb2b860</td>\n",
              "      <td>-0.1051</td>\n",
              "      <td>0.4335</td>\n",
              "      <td>0.3648</td>\n",
              "      <td>-0.0525</td>\n",
              "      <td>-0.3632</td>\n",
              "      <td>-0.3228</td>\n",
              "      <td>-2.3190</td>\n",
              "      <td>-0.5294</td>\n",
              "      <td>0.1878</td>\n",
              "      <td>0.5047</td>\n",
              "      <td>1.3820</td>\n",
              "      <td>0.6107</td>\n",
              "      <td>2.4790</td>\n",
              "      <td>0.4347</td>\n",
              "      <td>0.9422</td>\n",
              "      <td>-0.1042</td>\n",
              "      <td>-0.2611</td>\n",
              "      <td>1.5760</td>\n",
              "      <td>-0.0232</td>\n",
              "      <td>-0.2455</td>\n",
              "      <td>0.8058</td>\n",
              "      <td>-2.4180</td>\n",
              "      <td>-0.5838</td>\n",
              "      <td>-0.1626</td>\n",
              "      <td>-0.8609</td>\n",
              "      <td>-0.2021</td>\n",
              "      <td>0.1494</td>\n",
              "      <td>0.6618</td>\n",
              "      <td>1.3080</td>\n",
              "      <td>-0.7822</td>\n",
              "      <td>0.3923</td>\n",
              "      <td>-0.4608</td>\n",
              "      <td>-1.7090</td>\n",
              "      <td>0.3173</td>\n",
              "      <td>0.7622</td>\n",
              "      <td>...</td>\n",
              "      <td>1.2340</td>\n",
              "      <td>-0.1665</td>\n",
              "      <td>-0.0318</td>\n",
              "      <td>0.8694</td>\n",
              "      <td>0.4048</td>\n",
              "      <td>0.1281</td>\n",
              "      <td>0.0164</td>\n",
              "      <td>1.0670</td>\n",
              "      <td>1.5790</td>\n",
              "      <td>0.2428</td>\n",
              "      <td>1.1330</td>\n",
              "      <td>-1.2310</td>\n",
              "      <td>0.3626</td>\n",
              "      <td>-0.4737</td>\n",
              "      <td>0.2937</td>\n",
              "      <td>0.1638</td>\n",
              "      <td>-0.1554</td>\n",
              "      <td>0.9236</td>\n",
              "      <td>0.0937</td>\n",
              "      <td>0.9598</td>\n",
              "      <td>0.4738</td>\n",
              "      <td>-0.2608</td>\n",
              "      <td>0.3577</td>\n",
              "      <td>-1.2040</td>\n",
              "      <td>0.8125</td>\n",
              "      <td>1.4260</td>\n",
              "      <td>0.2223</td>\n",
              "      <td>0.3079</td>\n",
              "      <td>1.1490</td>\n",
              "      <td>1.7320</td>\n",
              "      <td>-0.1219</td>\n",
              "      <td>0.4885</td>\n",
              "      <td>0.4963</td>\n",
              "      <td>0.9434</td>\n",
              "      <td>-0.4779</td>\n",
              "      <td>0.6951</td>\n",
              "      <td>0.9517</td>\n",
              "      <td>-0.8110</td>\n",
              "      <td>-0.1748</td>\n",
              "      <td>-0.3626</td>\n",
              "    </tr>\n",
              "    <tr>\n",
              "      <th>23793</th>\n",
              "      <td>id_ffd26f361</td>\n",
              "      <td>com_controle</td>\n",
              "      <td>48</td>\n",
              "      <td>D2</td>\n",
              "      <td>cacb2b860</td>\n",
              "      <td>0.6008</td>\n",
              "      <td>0.2781</td>\n",
              "      <td>-0.3319</td>\n",
              "      <td>-0.8782</td>\n",
              "      <td>0.9281</td>\n",
              "      <td>0.7535</td>\n",
              "      <td>0.5971</td>\n",
              "      <td>1.6350</td>\n",
              "      <td>-0.3146</td>\n",
              "      <td>0.4984</td>\n",
              "      <td>-1.1890</td>\n",
              "      <td>0.3772</td>\n",
              "      <td>-0.8196</td>\n",
              "      <td>0.1083</td>\n",
              "      <td>-2.0350</td>\n",
              "      <td>0.4135</td>\n",
              "      <td>0.7586</td>\n",
              "      <td>-0.4024</td>\n",
              "      <td>-0.0449</td>\n",
              "      <td>0.3335</td>\n",
              "      <td>0.2358</td>\n",
              "      <td>0.7919</td>\n",
              "      <td>-0.8775</td>\n",
              "      <td>0.4232</td>\n",
              "      <td>1.8460</td>\n",
              "      <td>-2.0940</td>\n",
              "      <td>0.1438</td>\n",
              "      <td>-0.6604</td>\n",
              "      <td>0.7243</td>\n",
              "      <td>0.0338</td>\n",
              "      <td>-0.0182</td>\n",
              "      <td>-0.2022</td>\n",
              "      <td>0.8827</td>\n",
              "      <td>0.3147</td>\n",
              "      <td>-0.9263</td>\n",
              "      <td>...</td>\n",
              "      <td>0.1934</td>\n",
              "      <td>1.2240</td>\n",
              "      <td>-0.1178</td>\n",
              "      <td>0.1459</td>\n",
              "      <td>-0.1242</td>\n",
              "      <td>0.3106</td>\n",
              "      <td>-0.7959</td>\n",
              "      <td>0.5681</td>\n",
              "      <td>0.3663</td>\n",
              "      <td>0.4874</td>\n",
              "      <td>-0.0548</td>\n",
              "      <td>0.1810</td>\n",
              "      <td>1.3470</td>\n",
              "      <td>1.6210</td>\n",
              "      <td>-0.8260</td>\n",
              "      <td>0.3377</td>\n",
              "      <td>0.3264</td>\n",
              "      <td>0.9241</td>\n",
              "      <td>0.3012</td>\n",
              "      <td>1.2980</td>\n",
              "      <td>-0.2789</td>\n",
              "      <td>0.7019</td>\n",
              "      <td>-0.3528</td>\n",
              "      <td>0.7383</td>\n",
              "      <td>1.0300</td>\n",
              "      <td>0.6527</td>\n",
              "      <td>1.6750</td>\n",
              "      <td>-0.5046</td>\n",
              "      <td>0.2942</td>\n",
              "      <td>0.2950</td>\n",
              "      <td>1.2470</td>\n",
              "      <td>0.9569</td>\n",
              "      <td>-0.2065</td>\n",
              "      <td>-0.4918</td>\n",
              "      <td>0.7863</td>\n",
              "      <td>0.0504</td>\n",
              "      <td>0.8813</td>\n",
              "      <td>0.7757</td>\n",
              "      <td>-0.5272</td>\n",
              "      <td>0.7082</td>\n",
              "    </tr>\n",
              "    <tr>\n",
              "      <th>23811</th>\n",
              "      <td>id_fffc1c3f4</td>\n",
              "      <td>com_controle</td>\n",
              "      <td>48</td>\n",
              "      <td>D2</td>\n",
              "      <td>cacb2b860</td>\n",
              "      <td>0.3942</td>\n",
              "      <td>0.3756</td>\n",
              "      <td>0.3109</td>\n",
              "      <td>-0.7389</td>\n",
              "      <td>0.5505</td>\n",
              "      <td>-0.0159</td>\n",
              "      <td>-0.2541</td>\n",
              "      <td>0.1745</td>\n",
              "      <td>-0.0340</td>\n",
              "      <td>0.4865</td>\n",
              "      <td>-0.1854</td>\n",
              "      <td>0.0716</td>\n",
              "      <td>0.1729</td>\n",
              "      <td>-0.0434</td>\n",
              "      <td>0.1542</td>\n",
              "      <td>-0.2192</td>\n",
              "      <td>-0.0302</td>\n",
              "      <td>-0.4218</td>\n",
              "      <td>0.4057</td>\n",
              "      <td>-0.5372</td>\n",
              "      <td>0.1521</td>\n",
              "      <td>-0.2651</td>\n",
              "      <td>0.2310</td>\n",
              "      <td>-0.8101</td>\n",
              "      <td>0.4943</td>\n",
              "      <td>0.6905</td>\n",
              "      <td>-0.3720</td>\n",
              "      <td>-1.4110</td>\n",
              "      <td>0.4516</td>\n",
              "      <td>1.2300</td>\n",
              "      <td>-0.1949</td>\n",
              "      <td>-1.3280</td>\n",
              "      <td>-0.4276</td>\n",
              "      <td>-0.0040</td>\n",
              "      <td>-0.3086</td>\n",
              "      <td>...</td>\n",
              "      <td>0.6845</td>\n",
              "      <td>0.7127</td>\n",
              "      <td>0.7294</td>\n",
              "      <td>0.4718</td>\n",
              "      <td>-0.2020</td>\n",
              "      <td>0.2783</td>\n",
              "      <td>0.4934</td>\n",
              "      <td>0.4144</td>\n",
              "      <td>0.5449</td>\n",
              "      <td>1.4690</td>\n",
              "      <td>-0.6142</td>\n",
              "      <td>0.6068</td>\n",
              "      <td>0.3434</td>\n",
              "      <td>0.9880</td>\n",
              "      <td>-0.0468</td>\n",
              "      <td>-0.1882</td>\n",
              "      <td>-0.0087</td>\n",
              "      <td>-0.0356</td>\n",
              "      <td>0.5718</td>\n",
              "      <td>0.4971</td>\n",
              "      <td>0.1057</td>\n",
              "      <td>0.2111</td>\n",
              "      <td>0.6992</td>\n",
              "      <td>0.0708</td>\n",
              "      <td>0.6169</td>\n",
              "      <td>0.2248</td>\n",
              "      <td>0.5994</td>\n",
              "      <td>0.2689</td>\n",
              "      <td>0.0305</td>\n",
              "      <td>1.2320</td>\n",
              "      <td>0.5409</td>\n",
              "      <td>0.3755</td>\n",
              "      <td>0.7343</td>\n",
              "      <td>0.2807</td>\n",
              "      <td>0.4116</td>\n",
              "      <td>0.6422</td>\n",
              "      <td>0.2256</td>\n",
              "      <td>0.7592</td>\n",
              "      <td>0.6656</td>\n",
              "      <td>0.3808</td>\n",
              "    </tr>\n",
              "  </tbody>\n",
              "</table>\n",
              "<p>1866 rows × 877 columns</p>\n",
              "</div>"
            ],
            "text/plain": [
              "                 id    tratamento  tempo dose  ...    c-96    c-97    c-98    c-99\n",
              "25     id_0054388ec  com_controle     48   D1  ...  0.8837  0.5534  0.8976  1.0050\n",
              "38     id_0079af0fb  com_controle     24   D1  ...  0.2187  0.0737  0.6498 -1.4820\n",
              "40     id_007bfbb91  com_controle     24   D2  ... -0.5751  0.3362  0.8543  0.9180\n",
              "47     id_008a986b7  com_controle     48   D2  ... -0.4979  0.5281 -0.9245 -0.9367\n",
              "63     id_009d8340f  com_controle     24   D2  ...  0.0949  0.2000 -0.4326  0.9364\n",
              "...             ...           ...    ...  ...  ...     ...     ...     ...     ...\n",
              "23729  id_ff1f9e5fc  com_controle     24   D1  ...  0.2131 -0.1419 -0.2422  0.0457\n",
              "23747  id_ff469c482  com_controle     72   D1  ... -0.9630  0.8872 -0.0742 -0.6777\n",
              "23768  id_ff89331ca  com_controle     72   D2  ...  0.9517 -0.8110 -0.1748 -0.3626\n",
              "23793  id_ffd26f361  com_controle     48   D2  ...  0.8813  0.7757 -0.5272  0.7082\n",
              "23811  id_fffc1c3f4  com_controle     48   D2  ...  0.2256  0.7592  0.6656  0.3808\n",
              "\n",
              "[1866 rows x 877 columns]"
            ]
          },
          "metadata": {
            "tags": []
          },
          "execution_count": 108
        }
      ]
    },
    {
      "cell_type": "code",
      "metadata": {
        "id": "PJr0yKvuKNa9"
      },
      "source": [
        "#Aparentemente temos apenas uma droga no grupo de controle, ao menos pelas que aparecem na parte mostrada acima. Podemos verificar isso com o método unique().\n",
        "tratamento_com_controle['droga'].unique()"
      ],
      "execution_count": null,
      "outputs": []
    },
    {
      "cell_type": "code",
      "metadata": {
        "id": "t9bRZVJ0zqhh"
      },
      "source": [
        "#Observando que temos 3289 drogas únicas, podemos dizer que é esse é um dos motivos para esse desbalanceamento na coluna 'tratamentos'.\n",
        "len(dados['droga'].unique())"
      ],
      "execution_count": null,
      "outputs": []
    },
    {
      "cell_type": "markdown",
      "metadata": {
        "id": "HKl5QxXtCDG4"
      },
      "source": [
        "##Desafio 02: Plotar as 5 últimas linhas da tabela"
      ]
    },
    {
      "cell_type": "code",
      "metadata": {
        "id": "xUEcdquDCFG_"
      },
      "source": [
        "#Basta utilizar o método:\n",
        "dados.tail()"
      ],
      "execution_count": null,
      "outputs": []
    },
    {
      "cell_type": "markdown",
      "metadata": {
        "id": "2oUZ-cMhCJkR"
      },
      "source": [
        "##Desafio 03: Verificar a proporção dos dados da coluna tratamento"
      ]
    },
    {
      "cell_type": "code",
      "metadata": {
        "id": "K0gzBzXPCG85"
      },
      "source": [
        "#Basta setar o atributo normalize como True, no método value_counts\n",
        "dados['tratamento'].value_counts(normalize=True)"
      ],
      "execution_count": null,
      "outputs": []
    },
    {
      "cell_type": "markdown",
      "metadata": {
        "id": "WKnv9Ox4CInV"
      },
      "source": [
        "##Desafio 04: Buscar quantas tipos de drogas foram investigadas"
      ]
    },
    {
      "cell_type": "code",
      "metadata": {
        "id": "86Qb1Vh1D1Zl"
      },
      "source": [
        "#Basta calcular o lenght do método unique() usado na coluna 'droga'\n",
        "len(dados['droga'].unique())"
      ],
      "execution_count": null,
      "outputs": []
    },
    {
      "cell_type": "markdown",
      "metadata": {
        "id": "WmA3j9UbHGsf"
      },
      "source": [
        "##Desafio 05: Procurar na documentação o método query(pandas)."
      ]
    },
    {
      "cell_type": "markdown",
      "metadata": {
        "id": "oPz3Kzvn7cMi"
      },
      "source": [
        "Documentação do método query: https://pandas.pydata.org/docs/reference/api/pandas.DataFrame.query.html\n"
      ]
    },
    {
      "cell_type": "code",
      "metadata": {
        "id": "7UXeZ6I5HQa3"
      },
      "source": [
        "#Exemplo 1:\n",
        "\n",
        "dados.query('dose == \"D1\"')\n"
      ],
      "execution_count": null,
      "outputs": []
    },
    {
      "cell_type": "code",
      "metadata": {
        "id": "zliFe2yt7iRE"
      },
      "source": [
        "#Exemplo 2:\n",
        "\n",
        "dados.query('tempo == 24')"
      ],
      "execution_count": null,
      "outputs": []
    },
    {
      "cell_type": "code",
      "metadata": {
        "id": "aVZC8ZCq7o77"
      },
      "source": [
        "#Exemplo 3:\n",
        "\n",
        "dados.query('droga == \"b68db1d53\"')"
      ],
      "execution_count": null,
      "outputs": []
    },
    {
      "cell_type": "markdown",
      "metadata": {
        "id": "1Xmbbs-kHLdb"
      },
      "source": [
        "##Desafio 06: Adicionar titulos e labels no gráficos.(matplotlib.pyplot)"
      ]
    },
    {
      "cell_type": "code",
      "metadata": {
        "colab": {
          "base_uri": "https://localhost:8080/",
          "height": 295
        },
        "id": "lbg2wNyBHQ6m",
        "outputId": "3e456a4d-aaa3-4133-de58-70104440b180"
      },
      "source": [
        "import matplotlib.pyplot as plt\n",
        "\n",
        "dados['tempo'].value_counts().plot.bar()\n",
        "plt.title('Tempo - em horas')\n",
        "plt.xlabel('Tempo')\n",
        "plt.ylabel('Quantidade de experimentos')\n",
        "plt.xticks(rotation = 0)\n",
        "plt.show()\n"
      ],
      "execution_count": 67,
      "outputs": [
        {
          "output_type": "display_data",
          "data": {
            "image/png": "[encoded data removed]",
            "text/plain": [
              "<Figure size 432x288 with 1 Axes>"
            ]
          },
          "metadata": {
            "tags": [],
            "needs_background": "light"
          }
        }
      ]
    },
    {
      "cell_type": "markdown",
      "metadata": {
        "id": "p2ww7gE4HM7k"
      },
      "source": [
        "##Desafio 07: Renomear as colunas tirando o hífen."
      ]
    },
    {
      "cell_type": "code",
      "metadata": {
        "id": "HhHiFdB8HRXV"
      },
      "source": [
        "def rename_columns(dados):\n",
        "    for i, elem in enumerate(dados.columns.values):\n",
        "        if '-' in elem:\n",
        "            novo_nome = elem.replace('-','')\n",
        "            dados.columns.values[i] = novo_nome"
      ],
      "execution_count": 141,
      "outputs": []
    },
    {
      "cell_type": "code",
      "metadata": {
        "id": "wnmAwudUBUbJ"
      },
      "source": [
        "rename_columns(dados)\n",
        "dados.head()"
      ],
      "execution_count": null,
      "outputs": []
    },
    {
      "cell_type": "markdown",
      "metadata": {
        "id": "DE3zKnJyHOQm"
      },
      "source": [
        "##Desafio 08: Resumo do que foi aprendido com os dados."
      ]
    },
    {
      "cell_type": "code",
      "metadata": {
        "colab": {
          "base_uri": "https://localhost:8080/",
          "height": 253
        },
        "id": "-8A2_6ITHRzc",
        "outputId": "6d8aef17-9bc7-45c8-9989-7fd1451d1b6f"
      },
      "source": [
        "dados.head()"
      ],
      "execution_count": 72,
      "outputs": [
        {
          "output_type": "execute_result",
          "data": {
            "text/html": [
              "<div>\n",
              "<style scoped>\n",
              "    .dataframe tbody tr th:only-of-type {\n",
              "        vertical-align: middle;\n",
              "    }\n",
              "\n",
              "    .dataframe tbody tr th {\n",
              "        vertical-align: top;\n",
              "    }\n",
              "\n",
              "    .dataframe thead th {\n",
              "        text-align: right;\n",
              "    }\n",
              "</style>\n",
              "<table border=\"1\" class=\"dataframe\">\n",
              "  <thead>\n",
              "    <tr style=\"text-align: right;\">\n",
              "      <th></th>\n",
              "      <th>id</th>\n",
              "      <th>tratamento</th>\n",
              "      <th>tempo</th>\n",
              "      <th>dose</th>\n",
              "      <th>droga</th>\n",
              "      <th>g-0</th>\n",
              "      <th>g-1</th>\n",
              "      <th>g-2</th>\n",
              "      <th>g-3</th>\n",
              "      <th>g-4</th>\n",
              "      <th>g-5</th>\n",
              "      <th>g-6</th>\n",
              "      <th>g-7</th>\n",
              "      <th>g-8</th>\n",
              "      <th>g-9</th>\n",
              "      <th>g-10</th>\n",
              "      <th>g-11</th>\n",
              "      <th>g-12</th>\n",
              "      <th>g-13</th>\n",
              "      <th>g-14</th>\n",
              "      <th>g-15</th>\n",
              "      <th>g-16</th>\n",
              "      <th>g-17</th>\n",
              "      <th>g-18</th>\n",
              "      <th>g-19</th>\n",
              "      <th>g-20</th>\n",
              "      <th>g-21</th>\n",
              "      <th>g-22</th>\n",
              "      <th>g-23</th>\n",
              "      <th>g-24</th>\n",
              "      <th>g-25</th>\n",
              "      <th>g-26</th>\n",
              "      <th>g-27</th>\n",
              "      <th>g-28</th>\n",
              "      <th>g-29</th>\n",
              "      <th>g-30</th>\n",
              "      <th>g-31</th>\n",
              "      <th>g-32</th>\n",
              "      <th>g-33</th>\n",
              "      <th>g-34</th>\n",
              "      <th>...</th>\n",
              "      <th>c-60</th>\n",
              "      <th>c-61</th>\n",
              "      <th>c-62</th>\n",
              "      <th>c-63</th>\n",
              "      <th>c-64</th>\n",
              "      <th>c-65</th>\n",
              "      <th>c-66</th>\n",
              "      <th>c-67</th>\n",
              "      <th>c-68</th>\n",
              "      <th>c-69</th>\n",
              "      <th>c-70</th>\n",
              "      <th>c-71</th>\n",
              "      <th>c-72</th>\n",
              "      <th>c-73</th>\n",
              "      <th>c-74</th>\n",
              "      <th>c-75</th>\n",
              "      <th>c-76</th>\n",
              "      <th>c-77</th>\n",
              "      <th>c-78</th>\n",
              "      <th>c-79</th>\n",
              "      <th>c-80</th>\n",
              "      <th>c-81</th>\n",
              "      <th>c-82</th>\n",
              "      <th>c-83</th>\n",
              "      <th>c-84</th>\n",
              "      <th>c-85</th>\n",
              "      <th>c-86</th>\n",
              "      <th>c-87</th>\n",
              "      <th>c-88</th>\n",
              "      <th>c-89</th>\n",
              "      <th>c-90</th>\n",
              "      <th>c-91</th>\n",
              "      <th>c-92</th>\n",
              "      <th>c-93</th>\n",
              "      <th>c-94</th>\n",
              "      <th>c-95</th>\n",
              "      <th>c-96</th>\n",
              "      <th>c-97</th>\n",
              "      <th>c-98</th>\n",
              "      <th>c-99</th>\n",
              "    </tr>\n",
              "  </thead>\n",
              "  <tbody>\n",
              "    <tr>\n",
              "      <th>0</th>\n",
              "      <td>id_000644bb2</td>\n",
              "      <td>com_droga</td>\n",
              "      <td>24</td>\n",
              "      <td>D1</td>\n",
              "      <td>b68db1d53</td>\n",
              "      <td>1.0620</td>\n",
              "      <td>0.5577</td>\n",
              "      <td>-0.2479</td>\n",
              "      <td>-0.6208</td>\n",
              "      <td>-0.1944</td>\n",
              "      <td>-1.0120</td>\n",
              "      <td>-1.0220</td>\n",
              "      <td>-0.0326</td>\n",
              "      <td>0.5548</td>\n",
              "      <td>-0.0921</td>\n",
              "      <td>1.1830</td>\n",
              "      <td>0.1530</td>\n",
              "      <td>0.5574</td>\n",
              "      <td>-0.4015</td>\n",
              "      <td>0.1789</td>\n",
              "      <td>-0.6528</td>\n",
              "      <td>-0.7969</td>\n",
              "      <td>0.6342</td>\n",
              "      <td>0.1778</td>\n",
              "      <td>-0.3694</td>\n",
              "      <td>-0.5688</td>\n",
              "      <td>-1.1360</td>\n",
              "      <td>-1.1880</td>\n",
              "      <td>0.6940</td>\n",
              "      <td>0.4393</td>\n",
              "      <td>0.2664</td>\n",
              "      <td>0.1907</td>\n",
              "      <td>0.1628</td>\n",
              "      <td>-0.2853</td>\n",
              "      <td>0.5819</td>\n",
              "      <td>0.2934</td>\n",
              "      <td>-0.5584</td>\n",
              "      <td>-0.0916</td>\n",
              "      <td>-0.3010</td>\n",
              "      <td>-0.1537</td>\n",
              "      <td>...</td>\n",
              "      <td>0.4805</td>\n",
              "      <td>0.4965</td>\n",
              "      <td>0.3680</td>\n",
              "      <td>0.8427</td>\n",
              "      <td>0.1042</td>\n",
              "      <td>0.1403</td>\n",
              "      <td>0.1758</td>\n",
              "      <td>1.2570</td>\n",
              "      <td>-0.5979</td>\n",
              "      <td>1.2250</td>\n",
              "      <td>-0.0553</td>\n",
              "      <td>0.7351</td>\n",
              "      <td>0.5810</td>\n",
              "      <td>0.9590</td>\n",
              "      <td>0.2427</td>\n",
              "      <td>0.0495</td>\n",
              "      <td>0.4141</td>\n",
              "      <td>0.8432</td>\n",
              "      <td>0.6162</td>\n",
              "      <td>-0.7318</td>\n",
              "      <td>1.2120</td>\n",
              "      <td>0.6362</td>\n",
              "      <td>-0.4427</td>\n",
              "      <td>0.1288</td>\n",
              "      <td>1.4840</td>\n",
              "      <td>0.1799</td>\n",
              "      <td>0.5367</td>\n",
              "      <td>-0.1111</td>\n",
              "      <td>-1.0120</td>\n",
              "      <td>0.6685</td>\n",
              "      <td>0.2862</td>\n",
              "      <td>0.2584</td>\n",
              "      <td>0.8076</td>\n",
              "      <td>0.5523</td>\n",
              "      <td>-0.1912</td>\n",
              "      <td>0.6584</td>\n",
              "      <td>-0.3981</td>\n",
              "      <td>0.2139</td>\n",
              "      <td>0.3801</td>\n",
              "      <td>0.4176</td>\n",
              "    </tr>\n",
              "    <tr>\n",
              "      <th>1</th>\n",
              "      <td>id_000779bfc</td>\n",
              "      <td>com_droga</td>\n",
              "      <td>72</td>\n",
              "      <td>D1</td>\n",
              "      <td>df89a8e5a</td>\n",
              "      <td>0.0743</td>\n",
              "      <td>0.4087</td>\n",
              "      <td>0.2991</td>\n",
              "      <td>0.0604</td>\n",
              "      <td>1.0190</td>\n",
              "      <td>0.5207</td>\n",
              "      <td>0.2341</td>\n",
              "      <td>0.3372</td>\n",
              "      <td>-0.4047</td>\n",
              "      <td>0.8507</td>\n",
              "      <td>-1.1520</td>\n",
              "      <td>-0.4201</td>\n",
              "      <td>-0.0958</td>\n",
              "      <td>0.4590</td>\n",
              "      <td>0.0803</td>\n",
              "      <td>0.2250</td>\n",
              "      <td>0.5293</td>\n",
              "      <td>0.2839</td>\n",
              "      <td>-0.3494</td>\n",
              "      <td>0.2883</td>\n",
              "      <td>0.9449</td>\n",
              "      <td>-0.1646</td>\n",
              "      <td>-0.2657</td>\n",
              "      <td>-0.3372</td>\n",
              "      <td>0.3135</td>\n",
              "      <td>-0.4316</td>\n",
              "      <td>0.4773</td>\n",
              "      <td>0.2075</td>\n",
              "      <td>-0.4216</td>\n",
              "      <td>-0.1161</td>\n",
              "      <td>-0.0499</td>\n",
              "      <td>-0.2627</td>\n",
              "      <td>0.9959</td>\n",
              "      <td>-0.2483</td>\n",
              "      <td>0.2655</td>\n",
              "      <td>...</td>\n",
              "      <td>0.4083</td>\n",
              "      <td>0.0319</td>\n",
              "      <td>0.3905</td>\n",
              "      <td>0.7099</td>\n",
              "      <td>0.2912</td>\n",
              "      <td>0.4151</td>\n",
              "      <td>-0.2840</td>\n",
              "      <td>-0.3104</td>\n",
              "      <td>-0.6373</td>\n",
              "      <td>0.2887</td>\n",
              "      <td>-0.0765</td>\n",
              "      <td>0.2539</td>\n",
              "      <td>0.4443</td>\n",
              "      <td>0.5932</td>\n",
              "      <td>0.2031</td>\n",
              "      <td>0.7639</td>\n",
              "      <td>0.5499</td>\n",
              "      <td>-0.3322</td>\n",
              "      <td>-0.0977</td>\n",
              "      <td>0.4329</td>\n",
              "      <td>-0.2782</td>\n",
              "      <td>0.7827</td>\n",
              "      <td>0.5934</td>\n",
              "      <td>0.3402</td>\n",
              "      <td>0.1499</td>\n",
              "      <td>0.4420</td>\n",
              "      <td>0.9366</td>\n",
              "      <td>0.8193</td>\n",
              "      <td>-0.4236</td>\n",
              "      <td>0.3192</td>\n",
              "      <td>-0.4265</td>\n",
              "      <td>0.7543</td>\n",
              "      <td>0.4708</td>\n",
              "      <td>0.0230</td>\n",
              "      <td>0.2957</td>\n",
              "      <td>0.4899</td>\n",
              "      <td>0.1522</td>\n",
              "      <td>0.1241</td>\n",
              "      <td>0.6077</td>\n",
              "      <td>0.7371</td>\n",
              "    </tr>\n",
              "    <tr>\n",
              "      <th>2</th>\n",
              "      <td>id_000a6266a</td>\n",
              "      <td>com_droga</td>\n",
              "      <td>48</td>\n",
              "      <td>D1</td>\n",
              "      <td>18bb41b2c</td>\n",
              "      <td>0.6280</td>\n",
              "      <td>0.5817</td>\n",
              "      <td>1.5540</td>\n",
              "      <td>-0.0764</td>\n",
              "      <td>-0.0323</td>\n",
              "      <td>1.2390</td>\n",
              "      <td>0.1715</td>\n",
              "      <td>0.2155</td>\n",
              "      <td>0.0065</td>\n",
              "      <td>1.2300</td>\n",
              "      <td>-0.4797</td>\n",
              "      <td>-0.5631</td>\n",
              "      <td>-0.0366</td>\n",
              "      <td>-1.8300</td>\n",
              "      <td>0.6057</td>\n",
              "      <td>-0.3278</td>\n",
              "      <td>0.6042</td>\n",
              "      <td>-0.3075</td>\n",
              "      <td>-0.1147</td>\n",
              "      <td>-0.0570</td>\n",
              "      <td>-0.0799</td>\n",
              "      <td>-0.8181</td>\n",
              "      <td>-1.5320</td>\n",
              "      <td>0.2307</td>\n",
              "      <td>0.4901</td>\n",
              "      <td>0.4780</td>\n",
              "      <td>-1.3970</td>\n",
              "      <td>4.6240</td>\n",
              "      <td>-0.0437</td>\n",
              "      <td>1.2870</td>\n",
              "      <td>-1.8530</td>\n",
              "      <td>0.6069</td>\n",
              "      <td>0.4290</td>\n",
              "      <td>0.1783</td>\n",
              "      <td>0.0018</td>\n",
              "      <td>...</td>\n",
              "      <td>-0.5477</td>\n",
              "      <td>-0.7576</td>\n",
              "      <td>-0.0444</td>\n",
              "      <td>0.1894</td>\n",
              "      <td>-0.0014</td>\n",
              "      <td>-2.3640</td>\n",
              "      <td>-0.4682</td>\n",
              "      <td>0.1210</td>\n",
              "      <td>-0.5177</td>\n",
              "      <td>-0.0604</td>\n",
              "      <td>0.1682</td>\n",
              "      <td>-0.4436</td>\n",
              "      <td>0.4963</td>\n",
              "      <td>0.1363</td>\n",
              "      <td>0.3335</td>\n",
              "      <td>0.9760</td>\n",
              "      <td>-0.0427</td>\n",
              "      <td>-0.1235</td>\n",
              "      <td>0.0959</td>\n",
              "      <td>0.0690</td>\n",
              "      <td>-0.9416</td>\n",
              "      <td>-0.7548</td>\n",
              "      <td>-0.1109</td>\n",
              "      <td>-0.6272</td>\n",
              "      <td>0.3019</td>\n",
              "      <td>0.1172</td>\n",
              "      <td>0.1093</td>\n",
              "      <td>-0.3113</td>\n",
              "      <td>0.3019</td>\n",
              "      <td>-0.0873</td>\n",
              "      <td>-0.7250</td>\n",
              "      <td>-0.6297</td>\n",
              "      <td>0.6103</td>\n",
              "      <td>0.0223</td>\n",
              "      <td>-1.3240</td>\n",
              "      <td>-0.3174</td>\n",
              "      <td>-0.6417</td>\n",
              "      <td>-0.2187</td>\n",
              "      <td>-1.4080</td>\n",
              "      <td>0.6931</td>\n",
              "    </tr>\n",
              "    <tr>\n",
              "      <th>3</th>\n",
              "      <td>id_0015fd391</td>\n",
              "      <td>com_droga</td>\n",
              "      <td>48</td>\n",
              "      <td>D1</td>\n",
              "      <td>8c7f86626</td>\n",
              "      <td>-0.5138</td>\n",
              "      <td>-0.2491</td>\n",
              "      <td>-0.2656</td>\n",
              "      <td>0.5288</td>\n",
              "      <td>4.0620</td>\n",
              "      <td>-0.8095</td>\n",
              "      <td>-1.9590</td>\n",
              "      <td>0.1792</td>\n",
              "      <td>-0.1321</td>\n",
              "      <td>-1.0600</td>\n",
              "      <td>-0.8269</td>\n",
              "      <td>-0.3584</td>\n",
              "      <td>-0.8511</td>\n",
              "      <td>-0.5844</td>\n",
              "      <td>-2.5690</td>\n",
              "      <td>0.8183</td>\n",
              "      <td>-0.0532</td>\n",
              "      <td>-0.8554</td>\n",
              "      <td>0.1160</td>\n",
              "      <td>-2.3520</td>\n",
              "      <td>2.1200</td>\n",
              "      <td>-1.1580</td>\n",
              "      <td>-0.7191</td>\n",
              "      <td>-0.8004</td>\n",
              "      <td>-1.4670</td>\n",
              "      <td>-0.0107</td>\n",
              "      <td>-0.8995</td>\n",
              "      <td>0.2406</td>\n",
              "      <td>-0.2479</td>\n",
              "      <td>-1.0890</td>\n",
              "      <td>-0.7575</td>\n",
              "      <td>0.0881</td>\n",
              "      <td>-2.7370</td>\n",
              "      <td>0.8745</td>\n",
              "      <td>0.5787</td>\n",
              "      <td>...</td>\n",
              "      <td>-2.1220</td>\n",
              "      <td>-0.3752</td>\n",
              "      <td>-2.3820</td>\n",
              "      <td>-3.7350</td>\n",
              "      <td>-2.9740</td>\n",
              "      <td>-1.4930</td>\n",
              "      <td>-1.6600</td>\n",
              "      <td>-3.1660</td>\n",
              "      <td>0.2816</td>\n",
              "      <td>-0.2990</td>\n",
              "      <td>-1.1870</td>\n",
              "      <td>-0.5044</td>\n",
              "      <td>-1.7750</td>\n",
              "      <td>-1.6120</td>\n",
              "      <td>-0.9215</td>\n",
              "      <td>-1.0810</td>\n",
              "      <td>-3.0520</td>\n",
              "      <td>-3.4470</td>\n",
              "      <td>-2.7740</td>\n",
              "      <td>-1.8460</td>\n",
              "      <td>-0.5568</td>\n",
              "      <td>-3.3960</td>\n",
              "      <td>-2.9510</td>\n",
              "      <td>-1.1550</td>\n",
              "      <td>-3.2620</td>\n",
              "      <td>-1.5390</td>\n",
              "      <td>-2.4600</td>\n",
              "      <td>-0.9417</td>\n",
              "      <td>-1.5550</td>\n",
              "      <td>0.2431</td>\n",
              "      <td>-2.0990</td>\n",
              "      <td>-0.6441</td>\n",
              "      <td>-5.6300</td>\n",
              "      <td>-1.3780</td>\n",
              "      <td>-0.8632</td>\n",
              "      <td>-1.2880</td>\n",
              "      <td>-1.6210</td>\n",
              "      <td>-0.8784</td>\n",
              "      <td>-0.3876</td>\n",
              "      <td>-0.8154</td>\n",
              "    </tr>\n",
              "    <tr>\n",
              "      <th>4</th>\n",
              "      <td>id_001626bd3</td>\n",
              "      <td>com_droga</td>\n",
              "      <td>72</td>\n",
              "      <td>D2</td>\n",
              "      <td>7cbed3131</td>\n",
              "      <td>-0.3254</td>\n",
              "      <td>-0.4009</td>\n",
              "      <td>0.9700</td>\n",
              "      <td>0.6919</td>\n",
              "      <td>1.4180</td>\n",
              "      <td>-0.8244</td>\n",
              "      <td>-0.2800</td>\n",
              "      <td>-0.1498</td>\n",
              "      <td>-0.8789</td>\n",
              "      <td>0.8630</td>\n",
              "      <td>-0.2219</td>\n",
              "      <td>-0.5121</td>\n",
              "      <td>-0.9577</td>\n",
              "      <td>1.1750</td>\n",
              "      <td>0.2042</td>\n",
              "      <td>0.1970</td>\n",
              "      <td>0.1244</td>\n",
              "      <td>-1.7090</td>\n",
              "      <td>-0.3543</td>\n",
              "      <td>-0.5160</td>\n",
              "      <td>-0.3330</td>\n",
              "      <td>-0.2685</td>\n",
              "      <td>0.7649</td>\n",
              "      <td>0.2057</td>\n",
              "      <td>1.3720</td>\n",
              "      <td>0.6835</td>\n",
              "      <td>0.8056</td>\n",
              "      <td>-0.3754</td>\n",
              "      <td>-1.2090</td>\n",
              "      <td>0.2965</td>\n",
              "      <td>-0.0712</td>\n",
              "      <td>0.6389</td>\n",
              "      <td>0.6674</td>\n",
              "      <td>-0.0783</td>\n",
              "      <td>1.1740</td>\n",
              "      <td>...</td>\n",
              "      <td>-0.2274</td>\n",
              "      <td>0.3215</td>\n",
              "      <td>0.1535</td>\n",
              "      <td>-0.4640</td>\n",
              "      <td>-0.5943</td>\n",
              "      <td>0.3973</td>\n",
              "      <td>0.1500</td>\n",
              "      <td>0.5178</td>\n",
              "      <td>0.5159</td>\n",
              "      <td>0.6091</td>\n",
              "      <td>0.1813</td>\n",
              "      <td>-0.4249</td>\n",
              "      <td>0.7832</td>\n",
              "      <td>0.6529</td>\n",
              "      <td>0.5648</td>\n",
              "      <td>0.4817</td>\n",
              "      <td>0.0587</td>\n",
              "      <td>0.5303</td>\n",
              "      <td>0.6376</td>\n",
              "      <td>-0.3966</td>\n",
              "      <td>-1.4950</td>\n",
              "      <td>-0.9625</td>\n",
              "      <td>-0.0541</td>\n",
              "      <td>0.6273</td>\n",
              "      <td>0.4563</td>\n",
              "      <td>0.0698</td>\n",
              "      <td>0.8134</td>\n",
              "      <td>0.1924</td>\n",
              "      <td>0.6054</td>\n",
              "      <td>-0.1824</td>\n",
              "      <td>0.0042</td>\n",
              "      <td>0.0048</td>\n",
              "      <td>0.6670</td>\n",
              "      <td>1.0690</td>\n",
              "      <td>0.5523</td>\n",
              "      <td>-0.3031</td>\n",
              "      <td>0.1094</td>\n",
              "      <td>0.2885</td>\n",
              "      <td>-0.3786</td>\n",
              "      <td>0.7125</td>\n",
              "    </tr>\n",
              "  </tbody>\n",
              "</table>\n",
              "<p>5 rows × 877 columns</p>\n",
              "</div>"
            ],
            "text/plain": [
              "             id tratamento  tempo dose  ...    c-96    c-97    c-98    c-99\n",
              "0  id_000644bb2  com_droga     24   D1  ... -0.3981  0.2139  0.3801  0.4176\n",
              "1  id_000779bfc  com_droga     72   D1  ...  0.1522  0.1241  0.6077  0.7371\n",
              "2  id_000a6266a  com_droga     48   D1  ... -0.6417 -0.2187 -1.4080  0.6931\n",
              "3  id_0015fd391  com_droga     48   D1  ... -1.6210 -0.8784 -0.3876 -0.8154\n",
              "4  id_001626bd3  com_droga     72   D2  ...  0.1094  0.2885 -0.3786  0.7125\n",
              "\n",
              "[5 rows x 877 columns]"
            ]
          },
          "metadata": {
            "tags": []
          },
          "execution_count": 72
        }
      ]
    },
    {
      "cell_type": "markdown",
      "metadata": {
        "id": "95hQhNcMg2yb"
      },
      "source": [
        "###Lista das observações"
      ]
    },
    {
      "cell_type": "markdown",
      "metadata": {
        "id": "6XhzTErAfNFo"
      },
      "source": [
        "1.  Temos uma coluna descrita como \"id\", que contém identificadores únicos para cada experimento(linha do database).\n",
        "2.   Temos uma coluna descrita como \"tratamento\", que indica se o experimento fazia parte do grupo que recebeu o tratamento com a droga ou do grupo de controle, que recebeu tudo que o grupo com a droga recebeu, menos a droga em si.\n",
        "3.   Temos uma coluna descrita como \"tempo\", com o tempo que durou cada experimento, medido em horas.\n",
        "4.  Temos uma coluna descrita como \"dose\", que provavalmente indica 2 tipos de doses diferentes classificadas como D1 e D2(podendo aqui serem doses com métodos de aplicações diferentes, quantidades diferentes, etc)\n",
        "5.  Temos uma coluna descrita como \"droga\", que provavelmente indica os nomes das drogas utilizadas, mas criptografadas, possivelmente para que nem mesmo quem aplica as doses saiba qual está aplicando, como uma forma de diminuir a interferencia das ações e conclusões que poderiam já ocorrer só de saber o nome da droga aplicada.\n",
        "6.  Temos colunas com nomes do tipo \"g-n\" e \"c-n\", onde n são numeros inteiros e ainda não temos muitas informações sobre.\n",
        "\n",
        "\n",
        "\n"
      ]
    },
    {
      "cell_type": "markdown",
      "metadata": {
        "id": "TREbFLjSmOEI"
      },
      "source": [
        "###Detalhes das observações"
      ]
    },
    {
      "cell_type": "markdown",
      "metadata": {
        "id": "XMXRmDQamTXC"
      },
      "source": [
        "####1 - Coluna 'id'"
      ]
    },
    {
      "cell_type": "code",
      "metadata": {
        "id": "dqTbAqi0ok9l"
      },
      "source": [
        "dados.shape"
      ],
      "execution_count": null,
      "outputs": []
    },
    {
      "cell_type": "code",
      "metadata": {
        "id": "bRYvRnM-5NJI"
      },
      "source": [
        "dados['id']"
      ],
      "execution_count": null,
      "outputs": []
    },
    {
      "cell_type": "code",
      "metadata": {
        "id": "WXFpj04ZorSV"
      },
      "source": [
        "dados['id'].shape"
      ],
      "execution_count": null,
      "outputs": []
    },
    {
      "cell_type": "code",
      "metadata": {
        "id": "o5pHRWPDfOLh"
      },
      "source": [
        "dados.shape[0] == dados['id'].shape[0]"
      ],
      "execution_count": null,
      "outputs": []
    },
    {
      "cell_type": "markdown",
      "metadata": {
        "id": "uKfZrg7kmz3X"
      },
      "source": [
        "Podemos verificar que os ids sao únicos comparando o numero de linhas do dataframe geral de dados com o numero de linhas da série gerada pela coluna id"
      ]
    },
    {
      "cell_type": "markdown",
      "metadata": {
        "id": "2Wo_bi1ln2Xx"
      },
      "source": [
        "####2 - Coluna 'tratamento'"
      ]
    },
    {
      "cell_type": "code",
      "metadata": {
        "id": "D03c_sHqmgvu"
      },
      "source": [
        "dados['tratamento']"
      ],
      "execution_count": null,
      "outputs": []
    },
    {
      "cell_type": "code",
      "metadata": {
        "id": "VZ3XA2TT5L4V"
      },
      "source": [
        "dados['tratamento'].unique()"
      ],
      "execution_count": null,
      "outputs": []
    },
    {
      "cell_type": "markdown",
      "metadata": {
        "id": "ezdIah3y5eay"
      },
      "source": [
        "Temos 2 tipos de tratamento, com droga e com controle, sendo com o controle com as mesmas condições do tratamento com droga, exceto a droga em si."
      ]
    },
    {
      "cell_type": "code",
      "metadata": {
        "id": "LRz2qwHA5eI7"
      },
      "source": [
        "dados['tratamento'].value_counts(normalize=True)"
      ],
      "execution_count": null,
      "outputs": []
    },
    {
      "cell_type": "markdown",
      "metadata": {
        "id": "Z7yIGray57SM"
      },
      "source": [
        "Além disso podemos verificar que a proporção entre esses 2 tipos é desbalanceada, como vimos no Desafio 1."
      ]
    },
    {
      "cell_type": "markdown",
      "metadata": {
        "id": "83O3Q75s6Mlk"
      },
      "source": [
        "####3 - Coluna 'tempo'"
      ]
    },
    {
      "cell_type": "code",
      "metadata": {
        "id": "DBqee2ys6Red"
      },
      "source": [
        "dados['tempo']"
      ],
      "execution_count": null,
      "outputs": []
    },
    {
      "cell_type": "code",
      "metadata": {
        "colab": {
          "base_uri": "https://localhost:8080/"
        },
        "id": "EM56SdwT6YvL",
        "outputId": "0cf9c6e0-493f-4739-9049-7667091ab2f3"
      },
      "source": [
        "dados['tempo'].unique()"
      ],
      "execution_count": 100,
      "outputs": [
        {
          "output_type": "execute_result",
          "data": {
            "text/plain": [
              "array([24, 72, 48])"
            ]
          },
          "metadata": {
            "tags": []
          },
          "execution_count": 100
        }
      ]
    },
    {
      "cell_type": "markdown",
      "metadata": {
        "id": "9tZLQqrQ6gAM"
      },
      "source": [
        "Temos 3 valores para o tempo de experimento, 24, 48 e 72, dados em horas."
      ]
    },
    {
      "cell_type": "code",
      "metadata": {
        "colab": {
          "base_uri": "https://localhost:8080/"
        },
        "id": "hxqzO_6k6aw4",
        "outputId": "83bd3f4b-14b3-4b78-dd0d-99cb288c0aa5"
      },
      "source": [
        "dados['tempo'].value_counts(normalize=True)"
      ],
      "execution_count": 101,
      "outputs": [
        {
          "output_type": "execute_result",
          "data": {
            "text/plain": [
              "48    0.346435\n",
              "72    0.327202\n",
              "24    0.326363\n",
              "Name: tempo, dtype: float64"
            ]
          },
          "metadata": {
            "tags": []
          },
          "execution_count": 101
        }
      ]
    },
    {
      "cell_type": "markdown",
      "metadata": {
        "id": "pOyn4Aq861b0"
      },
      "source": [
        "E podemos ver que que a proporção desses valores foi bem distribuída."
      ]
    },
    {
      "cell_type": "markdown",
      "metadata": {
        "id": "rvMrXGuj7F8d"
      },
      "source": [
        "####4 - Coluna 'dose'"
      ]
    },
    {
      "cell_type": "code",
      "metadata": {
        "id": "e9w4OHeL60PR"
      },
      "source": [
        "dados['dose']"
      ],
      "execution_count": null,
      "outputs": []
    },
    {
      "cell_type": "code",
      "metadata": {
        "colab": {
          "base_uri": "https://localhost:8080/"
        },
        "id": "EYb5n_yY7O_e",
        "outputId": "d597b6dc-815c-470e-d3a9-e94d2969aa16"
      },
      "source": [
        "dados['dose'].unique()"
      ],
      "execution_count": 103,
      "outputs": [
        {
          "output_type": "execute_result",
          "data": {
            "text/plain": [
              "array(['D1', 'D2'], dtype=object)"
            ]
          },
          "metadata": {
            "tags": []
          },
          "execution_count": 103
        }
      ]
    },
    {
      "cell_type": "markdown",
      "metadata": {
        "id": "Q8EfnXX47Utp"
      },
      "source": [
        "Temos 2 valores para as doses, provavelmente 2 doses diferentes, sejam em quantidade, aplicação, etc"
      ]
    },
    {
      "cell_type": "code",
      "metadata": {
        "colab": {
          "base_uri": "https://localhost:8080/"
        },
        "id": "QCXTEbXY7RuX",
        "outputId": "6bcb04f5-7d07-4839-bb88-001836e26eeb"
      },
      "source": [
        "dados['dose'].value_counts(normalize=True)"
      ],
      "execution_count": 104,
      "outputs": [
        {
          "output_type": "execute_result",
          "data": {
            "text/plain": [
              "D1    0.510078\n",
              "D2    0.489922\n",
              "Name: dose, dtype: float64"
            ]
          },
          "metadata": {
            "tags": []
          },
          "execution_count": 104
        }
      ]
    },
    {
      "cell_type": "markdown",
      "metadata": {
        "id": "Fw_urkuk7nIj"
      },
      "source": [
        "Vemos novamente uma proporção bem distruída."
      ]
    },
    {
      "cell_type": "markdown",
      "metadata": {
        "id": "TBXnk48u7v-f"
      },
      "source": [
        "####5 - Coluna 'droga'"
      ]
    },
    {
      "cell_type": "code",
      "metadata": {
        "id": "C-JE4dAg7l9i"
      },
      "source": [
        "dados['droga']"
      ],
      "execution_count": null,
      "outputs": []
    },
    {
      "cell_type": "code",
      "metadata": {
        "id": "W0yLtbTD8Gok"
      },
      "source": [
        "dados['droga'].value_counts(normalize=True)"
      ],
      "execution_count": null,
      "outputs": []
    },
    {
      "cell_type": "markdown",
      "metadata": {
        "id": "wvsqYTii8PMb"
      },
      "source": [
        "Podemos ver que a droga 'cacb2b860' aparece numa proporção maior que as outras, basicamente pois é a droga que está nos dois tipos de tratamento."
      ]
    },
    {
      "cell_type": "markdown",
      "metadata": {
        "id": "yBRk0BqC_gu2"
      },
      "source": [
        "E temos 3229 drogas diferentes nos experimentos."
      ]
    },
    {
      "cell_type": "markdown",
      "metadata": {
        "id": "mbiePyQB_xLQ"
      },
      "source": [
        "####6 - Outras colunas"
      ]
    },
    {
      "cell_type": "markdown",
      "metadata": {
        "id": "POUjCo0QCd5-"
      },
      "source": [
        "Sobre as outras colunas ainda não temos muitas informações, apenas que provavelmente são informações sobre alguma medição referente aos genes ou outros objetivos dos experimentos. Além disso esses dados estão normalizados."
      ]
    }
  ]
}